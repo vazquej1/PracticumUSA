{
 "cells": [
  {
   "cell_type": "markdown",
   "id": "979543e7",
   "metadata": {},
   "source": [
    "## Intro: \n",
    "\n",
    "Rusty Bargain used car sales service is developing an app to attract new customers. In that app, you can quickly find out the market value of your car. You have access to historical data: technical specifications, trim versions, and prices. You need to build the model to determine the value.\n",
    "\n",
    "Rusty Bargain is interested in:\n",
    "    the quality of the prediction,\n",
    "    the speed of the prediction,\n",
    "    the time required for training\n",
    "\n",
    "Use the RMSE metric to evaluate the models.\n"
   ]
  },
  {
   "cell_type": "markdown",
   "id": "b88cbcd6",
   "metadata": {},
   "source": [
    "Data Description:\n",
    "\n",
    "    Features:\n",
    "    DateCrawled — date profile was downloaded from the database\n",
    "    VehicleType — vehicle body type\n",
    "    RegistrationYear — vehicle registration year\n",
    "    Gearbox — gearbox type\n",
    "    Power — power (hp)\n",
    "    Model — vehicle model\n",
    "    Mileage — mileage (measured in km due to dataset's regional specifics)\n",
    "    RegistrationMonth — vehicle registration month\n",
    "    FuelType — fuel type\n",
    "    Brand — vehicle brand\n",
    "    NotRepaired — vehicle repaired or not\n",
    "    DateCreated — date of profile creation\n",
    "    NumberOfPictures — number of vehicle pictures\n",
    "    PostalCode — postal code of profile owner (user)\n",
    "    LastSeen — date of the last activity of the user\n",
    "    \n",
    "    \n",
    "    Target:\n",
    "    Price — price (Euro)\n"
   ]
  },
  {
   "cell_type": "code",
   "execution_count": 1,
   "id": "c80f4940",
   "metadata": {},
   "outputs": [],
   "source": [
    "import numpy as np\n",
    "import pandas as pd\n",
    "import matplotlib.pyplot as plt\n",
    "from sklearn.model_selection import train_test_split\n",
    "import sklearn.linear_model\n",
    "import sklearn.metrics\n",
    "import sklearn.preprocessing \n",
    "#import models\n",
    "from sklearn.linear_model import LinearRegression\n",
    "import lightgbm\n",
    "import sklearn.model_selection \n",
    "from sklearn.model_selection import cross_val_score\n",
    "from sklearn.dummy import DummyRegressor\n",
    "from sklearn.tree import *\n",
    "from sklearn.model_selection import *\n",
    "from sklearn.ensemble import *\n",
    "\n",
    "from sklearn.metrics import make_scorer\n",
    "from catboost import CatBoostRegressor\n",
    "from sklearn.metrics import mean_squared_error\n",
    "\n"
   ]
  },
  {
   "cell_type": "code",
   "execution_count": 2,
   "id": "ca4575db",
   "metadata": {},
   "outputs": [],
   "source": [
    "try:\n",
    "    df_car = pd.read_csv('datasets/car_data.csv') #read csv file stored locally on my laptop\n",
    "except:\n",
    "    df_car = pd.read_csv('/datasets/car_data.csv') #make an exception for when I upload the project to Practicum\n"
   ]
  },
  {
   "cell_type": "code",
   "execution_count": 3,
   "id": "11da083d",
   "metadata": {},
   "outputs": [
    {
     "name": "stdout",
     "output_type": "stream",
     "text": [
      "Requirement already satisfied: catboost in ./opt/anaconda3/lib/python3.9/site-packages (0.26.1)\n",
      "Requirement already satisfied: numpy>=1.16.0 in ./opt/anaconda3/lib/python3.9/site-packages (from catboost) (1.21.5)\n",
      "Requirement already satisfied: graphviz in ./opt/anaconda3/lib/python3.9/site-packages (from catboost) (0.20.1)\n",
      "Requirement already satisfied: scipy in ./opt/anaconda3/lib/python3.9/site-packages (from catboost) (1.7.3)\n",
      "Requirement already satisfied: pandas>=0.24.0 in ./opt/anaconda3/lib/python3.9/site-packages (from catboost) (1.4.2)\n",
      "Requirement already satisfied: plotly in ./opt/anaconda3/lib/python3.9/site-packages (from catboost) (4.5.4)\n",
      "Requirement already satisfied: six in ./opt/anaconda3/lib/python3.9/site-packages (from catboost) (1.16.0)\n",
      "Requirement already satisfied: matplotlib in ./opt/anaconda3/lib/python3.9/site-packages (from catboost) (3.5.1)\n",
      "Requirement already satisfied: python-dateutil>=2.8.1 in ./opt/anaconda3/lib/python3.9/site-packages (from pandas>=0.24.0->catboost) (2.8.2)\n",
      "Requirement already satisfied: pytz>=2020.1 in ./opt/anaconda3/lib/python3.9/site-packages (from pandas>=0.24.0->catboost) (2021.3)\n",
      "Requirement already satisfied: pyparsing>=2.2.1 in ./opt/anaconda3/lib/python3.9/site-packages (from matplotlib->catboost) (3.0.4)\n",
      "Requirement already satisfied: fonttools>=4.22.0 in ./opt/anaconda3/lib/python3.9/site-packages (from matplotlib->catboost) (4.25.0)\n",
      "Requirement already satisfied: pillow>=6.2.0 in ./opt/anaconda3/lib/python3.9/site-packages (from matplotlib->catboost) (9.0.1)\n",
      "Requirement already satisfied: cycler>=0.10 in ./opt/anaconda3/lib/python3.9/site-packages (from matplotlib->catboost) (0.11.0)\n",
      "Requirement already satisfied: kiwisolver>=1.0.1 in ./opt/anaconda3/lib/python3.9/site-packages (from matplotlib->catboost) (1.3.2)\n",
      "Requirement already satisfied: packaging>=20.0 in ./opt/anaconda3/lib/python3.9/site-packages (from matplotlib->catboost) (21.3)\n",
      "Requirement already satisfied: retrying>=1.3.3 in ./opt/anaconda3/lib/python3.9/site-packages (from plotly->catboost) (1.3.4)\n"
     ]
    }
   ],
   "source": [
    "!pip install catboost"
   ]
  },
  {
   "cell_type": "code",
   "execution_count": 4,
   "id": "209c23f6",
   "metadata": {},
   "outputs": [
    {
     "data": {
      "text/html": [
       "<div>\n",
       "<style scoped>\n",
       "    .dataframe tbody tr th:only-of-type {\n",
       "        vertical-align: middle;\n",
       "    }\n",
       "\n",
       "    .dataframe tbody tr th {\n",
       "        vertical-align: top;\n",
       "    }\n",
       "\n",
       "    .dataframe thead th {\n",
       "        text-align: right;\n",
       "    }\n",
       "</style>\n",
       "<table border=\"1\" class=\"dataframe\">\n",
       "  <thead>\n",
       "    <tr style=\"text-align: right;\">\n",
       "      <th></th>\n",
       "      <th>DateCrawled</th>\n",
       "      <th>Price</th>\n",
       "      <th>VehicleType</th>\n",
       "      <th>RegistrationYear</th>\n",
       "      <th>Gearbox</th>\n",
       "      <th>Power</th>\n",
       "      <th>Model</th>\n",
       "      <th>Mileage</th>\n",
       "      <th>RegistrationMonth</th>\n",
       "      <th>FuelType</th>\n",
       "      <th>Brand</th>\n",
       "      <th>NotRepaired</th>\n",
       "      <th>DateCreated</th>\n",
       "      <th>NumberOfPictures</th>\n",
       "      <th>PostalCode</th>\n",
       "      <th>LastSeen</th>\n",
       "    </tr>\n",
       "  </thead>\n",
       "  <tbody>\n",
       "    <tr>\n",
       "      <th>0</th>\n",
       "      <td>24/03/2016 11:52</td>\n",
       "      <td>480</td>\n",
       "      <td>NaN</td>\n",
       "      <td>1993</td>\n",
       "      <td>manual</td>\n",
       "      <td>0</td>\n",
       "      <td>golf</td>\n",
       "      <td>150000</td>\n",
       "      <td>0</td>\n",
       "      <td>petrol</td>\n",
       "      <td>volkswagen</td>\n",
       "      <td>NaN</td>\n",
       "      <td>24/03/2016 00:00</td>\n",
       "      <td>0</td>\n",
       "      <td>70435</td>\n",
       "      <td>07/04/2016 03:16</td>\n",
       "    </tr>\n",
       "    <tr>\n",
       "      <th>1</th>\n",
       "      <td>24/03/2016 10:58</td>\n",
       "      <td>18300</td>\n",
       "      <td>coupe</td>\n",
       "      <td>2011</td>\n",
       "      <td>manual</td>\n",
       "      <td>190</td>\n",
       "      <td>NaN</td>\n",
       "      <td>125000</td>\n",
       "      <td>5</td>\n",
       "      <td>gasoline</td>\n",
       "      <td>audi</td>\n",
       "      <td>yes</td>\n",
       "      <td>24/03/2016 00:00</td>\n",
       "      <td>0</td>\n",
       "      <td>66954</td>\n",
       "      <td>07/04/2016 01:46</td>\n",
       "    </tr>\n",
       "    <tr>\n",
       "      <th>2</th>\n",
       "      <td>14/03/2016 12:52</td>\n",
       "      <td>9800</td>\n",
       "      <td>suv</td>\n",
       "      <td>2004</td>\n",
       "      <td>auto</td>\n",
       "      <td>163</td>\n",
       "      <td>grand</td>\n",
       "      <td>125000</td>\n",
       "      <td>8</td>\n",
       "      <td>gasoline</td>\n",
       "      <td>jeep</td>\n",
       "      <td>NaN</td>\n",
       "      <td>14/03/2016 00:00</td>\n",
       "      <td>0</td>\n",
       "      <td>90480</td>\n",
       "      <td>05/04/2016 12:47</td>\n",
       "    </tr>\n",
       "    <tr>\n",
       "      <th>3</th>\n",
       "      <td>17/03/2016 16:54</td>\n",
       "      <td>1500</td>\n",
       "      <td>small</td>\n",
       "      <td>2001</td>\n",
       "      <td>manual</td>\n",
       "      <td>75</td>\n",
       "      <td>golf</td>\n",
       "      <td>150000</td>\n",
       "      <td>6</td>\n",
       "      <td>petrol</td>\n",
       "      <td>volkswagen</td>\n",
       "      <td>no</td>\n",
       "      <td>17/03/2016 00:00</td>\n",
       "      <td>0</td>\n",
       "      <td>91074</td>\n",
       "      <td>17/03/2016 17:40</td>\n",
       "    </tr>\n",
       "    <tr>\n",
       "      <th>4</th>\n",
       "      <td>31/03/2016 17:25</td>\n",
       "      <td>3600</td>\n",
       "      <td>small</td>\n",
       "      <td>2008</td>\n",
       "      <td>manual</td>\n",
       "      <td>69</td>\n",
       "      <td>fabia</td>\n",
       "      <td>90000</td>\n",
       "      <td>7</td>\n",
       "      <td>gasoline</td>\n",
       "      <td>skoda</td>\n",
       "      <td>no</td>\n",
       "      <td>31/03/2016 00:00</td>\n",
       "      <td>0</td>\n",
       "      <td>60437</td>\n",
       "      <td>06/04/2016 10:17</td>\n",
       "    </tr>\n",
       "  </tbody>\n",
       "</table>\n",
       "</div>"
      ],
      "text/plain": [
       "        DateCrawled  Price VehicleType  RegistrationYear Gearbox  Power  \\\n",
       "0  24/03/2016 11:52    480         NaN              1993  manual      0   \n",
       "1  24/03/2016 10:58  18300       coupe              2011  manual    190   \n",
       "2  14/03/2016 12:52   9800         suv              2004    auto    163   \n",
       "3  17/03/2016 16:54   1500       small              2001  manual     75   \n",
       "4  31/03/2016 17:25   3600       small              2008  manual     69   \n",
       "\n",
       "   Model  Mileage  RegistrationMonth  FuelType       Brand NotRepaired  \\\n",
       "0   golf   150000                  0    petrol  volkswagen         NaN   \n",
       "1    NaN   125000                  5  gasoline        audi         yes   \n",
       "2  grand   125000                  8  gasoline        jeep         NaN   \n",
       "3   golf   150000                  6    petrol  volkswagen          no   \n",
       "4  fabia    90000                  7  gasoline       skoda          no   \n",
       "\n",
       "        DateCreated  NumberOfPictures  PostalCode          LastSeen  \n",
       "0  24/03/2016 00:00                 0       70435  07/04/2016 03:16  \n",
       "1  24/03/2016 00:00                 0       66954  07/04/2016 01:46  \n",
       "2  14/03/2016 00:00                 0       90480  05/04/2016 12:47  \n",
       "3  17/03/2016 00:00                 0       91074  17/03/2016 17:40  \n",
       "4  31/03/2016 00:00                 0       60437  06/04/2016 10:17  "
      ]
     },
     "execution_count": 4,
     "metadata": {},
     "output_type": "execute_result"
    }
   ],
   "source": [
    "df_car.head()"
   ]
  },
  {
   "cell_type": "code",
   "execution_count": 5,
   "id": "64344cc1",
   "metadata": {},
   "outputs": [
    {
     "data": {
      "text/plain": [
       "354369"
      ]
     },
     "execution_count": 5,
     "metadata": {},
     "output_type": "execute_result"
    }
   ],
   "source": [
    "len(df_car)"
   ]
  },
  {
   "cell_type": "code",
   "execution_count": 6,
   "id": "d4e80915",
   "metadata": {},
   "outputs": [
    {
     "name": "stdout",
     "output_type": "stream",
     "text": [
      "<class 'pandas.core.frame.DataFrame'>\n",
      "RangeIndex: 354369 entries, 0 to 354368\n",
      "Data columns (total 16 columns):\n",
      " #   Column             Non-Null Count   Dtype \n",
      "---  ------             --------------   ----- \n",
      " 0   DateCrawled        354369 non-null  object\n",
      " 1   Price              354369 non-null  int64 \n",
      " 2   VehicleType        316879 non-null  object\n",
      " 3   RegistrationYear   354369 non-null  int64 \n",
      " 4   Gearbox            334536 non-null  object\n",
      " 5   Power              354369 non-null  int64 \n",
      " 6   Model              334664 non-null  object\n",
      " 7   Mileage            354369 non-null  int64 \n",
      " 8   RegistrationMonth  354369 non-null  int64 \n",
      " 9   FuelType           321474 non-null  object\n",
      " 10  Brand              354369 non-null  object\n",
      " 11  NotRepaired        283215 non-null  object\n",
      " 12  DateCreated        354369 non-null  object\n",
      " 13  NumberOfPictures   354369 non-null  int64 \n",
      " 14  PostalCode         354369 non-null  int64 \n",
      " 15  LastSeen           354369 non-null  object\n",
      "dtypes: int64(7), object(9)\n",
      "memory usage: 43.3+ MB\n"
     ]
    }
   ],
   "source": [
    "df_car.info()"
   ]
  },
  {
   "cell_type": "markdown",
   "id": "152ca414",
   "metadata": {},
   "source": [
    "We can see some data types are not correct. For example DateCrawled should be a data and time feature. We ultimately want and need features to be in numerical terms for gradient boosting to work properly so we may need to drop these columns if we can't encode them with something like OHE for example. I won't worry about changing them to type datetime since I will probably drop all date features because of their high cardinality when doing OHE."
   ]
  },
  {
   "cell_type": "code",
   "execution_count": 7,
   "id": "a9622239",
   "metadata": {},
   "outputs": [
    {
     "data": {
      "text/html": [
       "<div>\n",
       "<style scoped>\n",
       "    .dataframe tbody tr th:only-of-type {\n",
       "        vertical-align: middle;\n",
       "    }\n",
       "\n",
       "    .dataframe tbody tr th {\n",
       "        vertical-align: top;\n",
       "    }\n",
       "\n",
       "    .dataframe thead th {\n",
       "        text-align: right;\n",
       "    }\n",
       "</style>\n",
       "<table border=\"1\" class=\"dataframe\">\n",
       "  <thead>\n",
       "    <tr style=\"text-align: right;\">\n",
       "      <th></th>\n",
       "      <th>Price</th>\n",
       "      <th>RegistrationYear</th>\n",
       "      <th>Power</th>\n",
       "      <th>Mileage</th>\n",
       "      <th>RegistrationMonth</th>\n",
       "      <th>NumberOfPictures</th>\n",
       "      <th>PostalCode</th>\n",
       "    </tr>\n",
       "  </thead>\n",
       "  <tbody>\n",
       "    <tr>\n",
       "      <th>count</th>\n",
       "      <td>354369.000000</td>\n",
       "      <td>354369.000000</td>\n",
       "      <td>354369.000000</td>\n",
       "      <td>354369.000000</td>\n",
       "      <td>354369.000000</td>\n",
       "      <td>354369.0</td>\n",
       "      <td>354369.000000</td>\n",
       "    </tr>\n",
       "    <tr>\n",
       "      <th>mean</th>\n",
       "      <td>4416.656776</td>\n",
       "      <td>2004.234448</td>\n",
       "      <td>110.094337</td>\n",
       "      <td>128211.172535</td>\n",
       "      <td>5.714645</td>\n",
       "      <td>0.0</td>\n",
       "      <td>50508.689087</td>\n",
       "    </tr>\n",
       "    <tr>\n",
       "      <th>std</th>\n",
       "      <td>4514.158514</td>\n",
       "      <td>90.227958</td>\n",
       "      <td>189.850405</td>\n",
       "      <td>37905.341530</td>\n",
       "      <td>3.726421</td>\n",
       "      <td>0.0</td>\n",
       "      <td>25783.096248</td>\n",
       "    </tr>\n",
       "    <tr>\n",
       "      <th>min</th>\n",
       "      <td>0.000000</td>\n",
       "      <td>1000.000000</td>\n",
       "      <td>0.000000</td>\n",
       "      <td>5000.000000</td>\n",
       "      <td>0.000000</td>\n",
       "      <td>0.0</td>\n",
       "      <td>1067.000000</td>\n",
       "    </tr>\n",
       "    <tr>\n",
       "      <th>25%</th>\n",
       "      <td>1050.000000</td>\n",
       "      <td>1999.000000</td>\n",
       "      <td>69.000000</td>\n",
       "      <td>125000.000000</td>\n",
       "      <td>3.000000</td>\n",
       "      <td>0.0</td>\n",
       "      <td>30165.000000</td>\n",
       "    </tr>\n",
       "    <tr>\n",
       "      <th>50%</th>\n",
       "      <td>2700.000000</td>\n",
       "      <td>2003.000000</td>\n",
       "      <td>105.000000</td>\n",
       "      <td>150000.000000</td>\n",
       "      <td>6.000000</td>\n",
       "      <td>0.0</td>\n",
       "      <td>49413.000000</td>\n",
       "    </tr>\n",
       "    <tr>\n",
       "      <th>75%</th>\n",
       "      <td>6400.000000</td>\n",
       "      <td>2008.000000</td>\n",
       "      <td>143.000000</td>\n",
       "      <td>150000.000000</td>\n",
       "      <td>9.000000</td>\n",
       "      <td>0.0</td>\n",
       "      <td>71083.000000</td>\n",
       "    </tr>\n",
       "    <tr>\n",
       "      <th>max</th>\n",
       "      <td>20000.000000</td>\n",
       "      <td>9999.000000</td>\n",
       "      <td>20000.000000</td>\n",
       "      <td>150000.000000</td>\n",
       "      <td>12.000000</td>\n",
       "      <td>0.0</td>\n",
       "      <td>99998.000000</td>\n",
       "    </tr>\n",
       "  </tbody>\n",
       "</table>\n",
       "</div>"
      ],
      "text/plain": [
       "               Price  RegistrationYear          Power        Mileage  \\\n",
       "count  354369.000000     354369.000000  354369.000000  354369.000000   \n",
       "mean     4416.656776       2004.234448     110.094337  128211.172535   \n",
       "std      4514.158514         90.227958     189.850405   37905.341530   \n",
       "min         0.000000       1000.000000       0.000000    5000.000000   \n",
       "25%      1050.000000       1999.000000      69.000000  125000.000000   \n",
       "50%      2700.000000       2003.000000     105.000000  150000.000000   \n",
       "75%      6400.000000       2008.000000     143.000000  150000.000000   \n",
       "max     20000.000000       9999.000000   20000.000000  150000.000000   \n",
       "\n",
       "       RegistrationMonth  NumberOfPictures     PostalCode  \n",
       "count      354369.000000          354369.0  354369.000000  \n",
       "mean            5.714645               0.0   50508.689087  \n",
       "std             3.726421               0.0   25783.096248  \n",
       "min             0.000000               0.0    1067.000000  \n",
       "25%             3.000000               0.0   30165.000000  \n",
       "50%             6.000000               0.0   49413.000000  \n",
       "75%             9.000000               0.0   71083.000000  \n",
       "max            12.000000               0.0   99998.000000  "
      ]
     },
     "execution_count": 7,
     "metadata": {},
     "output_type": "execute_result"
    }
   ],
   "source": [
    "df_car.describe()"
   ]
  },
  {
   "cell_type": "markdown",
   "id": "e517b5da",
   "metadata": {},
   "source": [
    "Registration year has so strange values like year 9999 lets see how many rows have strange very high or very small RegistrationYear."
   ]
  },
  {
   "cell_type": "code",
   "execution_count": 8,
   "id": "8f9bdc1a",
   "metadata": {},
   "outputs": [
    {
     "data": {
      "text/html": [
       "<div>\n",
       "<style scoped>\n",
       "    .dataframe tbody tr th:only-of-type {\n",
       "        vertical-align: middle;\n",
       "    }\n",
       "\n",
       "    .dataframe tbody tr th {\n",
       "        vertical-align: top;\n",
       "    }\n",
       "\n",
       "    .dataframe thead th {\n",
       "        text-align: right;\n",
       "    }\n",
       "</style>\n",
       "<table border=\"1\" class=\"dataframe\">\n",
       "  <thead>\n",
       "    <tr style=\"text-align: right;\">\n",
       "      <th></th>\n",
       "      <th>DateCrawled</th>\n",
       "      <th>Price</th>\n",
       "      <th>VehicleType</th>\n",
       "      <th>RegistrationYear</th>\n",
       "      <th>Gearbox</th>\n",
       "      <th>Power</th>\n",
       "      <th>Model</th>\n",
       "      <th>Mileage</th>\n",
       "      <th>RegistrationMonth</th>\n",
       "      <th>FuelType</th>\n",
       "      <th>Brand</th>\n",
       "      <th>NotRepaired</th>\n",
       "      <th>DateCreated</th>\n",
       "      <th>NumberOfPictures</th>\n",
       "      <th>PostalCode</th>\n",
       "      <th>LastSeen</th>\n",
       "    </tr>\n",
       "  </thead>\n",
       "  <tbody>\n",
       "    <tr>\n",
       "      <th>12946</th>\n",
       "      <td>29/03/2016 18:39</td>\n",
       "      <td>49</td>\n",
       "      <td>NaN</td>\n",
       "      <td>5000</td>\n",
       "      <td>NaN</td>\n",
       "      <td>0</td>\n",
       "      <td>golf</td>\n",
       "      <td>5000</td>\n",
       "      <td>12</td>\n",
       "      <td>NaN</td>\n",
       "      <td>volkswagen</td>\n",
       "      <td>NaN</td>\n",
       "      <td>29/03/2016 00:00</td>\n",
       "      <td>0</td>\n",
       "      <td>74523</td>\n",
       "      <td>06/04/2016 04:16</td>\n",
       "    </tr>\n",
       "    <tr>\n",
       "      <th>15147</th>\n",
       "      <td>14/03/2016 00:52</td>\n",
       "      <td>0</td>\n",
       "      <td>NaN</td>\n",
       "      <td>9999</td>\n",
       "      <td>NaN</td>\n",
       "      <td>0</td>\n",
       "      <td>NaN</td>\n",
       "      <td>10000</td>\n",
       "      <td>0</td>\n",
       "      <td>NaN</td>\n",
       "      <td>sonstige_autos</td>\n",
       "      <td>NaN</td>\n",
       "      <td>13/03/2016 00:00</td>\n",
       "      <td>0</td>\n",
       "      <td>32689</td>\n",
       "      <td>21/03/2016 23:46</td>\n",
       "    </tr>\n",
       "    <tr>\n",
       "      <th>15870</th>\n",
       "      <td>02/04/2016 11:55</td>\n",
       "      <td>1700</td>\n",
       "      <td>NaN</td>\n",
       "      <td>3200</td>\n",
       "      <td>NaN</td>\n",
       "      <td>0</td>\n",
       "      <td>NaN</td>\n",
       "      <td>5000</td>\n",
       "      <td>0</td>\n",
       "      <td>NaN</td>\n",
       "      <td>sonstige_autos</td>\n",
       "      <td>NaN</td>\n",
       "      <td>02/04/2016 00:00</td>\n",
       "      <td>0</td>\n",
       "      <td>33649</td>\n",
       "      <td>06/04/2016 09:46</td>\n",
       "    </tr>\n",
       "    <tr>\n",
       "      <th>17271</th>\n",
       "      <td>23/03/2016 16:43</td>\n",
       "      <td>700</td>\n",
       "      <td>NaN</td>\n",
       "      <td>9999</td>\n",
       "      <td>NaN</td>\n",
       "      <td>0</td>\n",
       "      <td>other</td>\n",
       "      <td>10000</td>\n",
       "      <td>0</td>\n",
       "      <td>NaN</td>\n",
       "      <td>opel</td>\n",
       "      <td>NaN</td>\n",
       "      <td>23/03/2016 00:00</td>\n",
       "      <td>0</td>\n",
       "      <td>21769</td>\n",
       "      <td>05/04/2016 20:16</td>\n",
       "    </tr>\n",
       "    <tr>\n",
       "      <th>17346</th>\n",
       "      <td>06/03/2016 16:06</td>\n",
       "      <td>6500</td>\n",
       "      <td>NaN</td>\n",
       "      <td>8888</td>\n",
       "      <td>NaN</td>\n",
       "      <td>0</td>\n",
       "      <td>NaN</td>\n",
       "      <td>10000</td>\n",
       "      <td>0</td>\n",
       "      <td>NaN</td>\n",
       "      <td>sonstige_autos</td>\n",
       "      <td>NaN</td>\n",
       "      <td>06/03/2016 00:00</td>\n",
       "      <td>0</td>\n",
       "      <td>55262</td>\n",
       "      <td>30/03/2016 20:46</td>\n",
       "    </tr>\n",
       "    <tr>\n",
       "      <th>...</th>\n",
       "      <td>...</td>\n",
       "      <td>...</td>\n",
       "      <td>...</td>\n",
       "      <td>...</td>\n",
       "      <td>...</td>\n",
       "      <td>...</td>\n",
       "      <td>...</td>\n",
       "      <td>...</td>\n",
       "      <td>...</td>\n",
       "      <td>...</td>\n",
       "      <td>...</td>\n",
       "      <td>...</td>\n",
       "      <td>...</td>\n",
       "      <td>...</td>\n",
       "      <td>...</td>\n",
       "      <td>...</td>\n",
       "    </tr>\n",
       "    <tr>\n",
       "      <th>334967</th>\n",
       "      <td>20/03/2016 17:53</td>\n",
       "      <td>12000</td>\n",
       "      <td>NaN</td>\n",
       "      <td>4000</td>\n",
       "      <td>NaN</td>\n",
       "      <td>500</td>\n",
       "      <td>golf</td>\n",
       "      <td>5000</td>\n",
       "      <td>0</td>\n",
       "      <td>NaN</td>\n",
       "      <td>volkswagen</td>\n",
       "      <td>no</td>\n",
       "      <td>20/03/2016 00:00</td>\n",
       "      <td>0</td>\n",
       "      <td>57392</td>\n",
       "      <td>07/04/2016 00:46</td>\n",
       "    </tr>\n",
       "    <tr>\n",
       "      <th>335727</th>\n",
       "      <td>09/03/2016 07:01</td>\n",
       "      <td>0</td>\n",
       "      <td>NaN</td>\n",
       "      <td>7500</td>\n",
       "      <td>manual</td>\n",
       "      <td>0</td>\n",
       "      <td>other</td>\n",
       "      <td>10000</td>\n",
       "      <td>0</td>\n",
       "      <td>petrol</td>\n",
       "      <td>mini</td>\n",
       "      <td>no</td>\n",
       "      <td>09/03/2016 00:00</td>\n",
       "      <td>0</td>\n",
       "      <td>9669</td>\n",
       "      <td>19/03/2016 19:44</td>\n",
       "    </tr>\n",
       "    <tr>\n",
       "      <th>338829</th>\n",
       "      <td>24/03/2016 19:49</td>\n",
       "      <td>50</td>\n",
       "      <td>NaN</td>\n",
       "      <td>3000</td>\n",
       "      <td>NaN</td>\n",
       "      <td>3000</td>\n",
       "      <td>golf</td>\n",
       "      <td>100000</td>\n",
       "      <td>6</td>\n",
       "      <td>NaN</td>\n",
       "      <td>volkswagen</td>\n",
       "      <td>yes</td>\n",
       "      <td>24/03/2016 00:00</td>\n",
       "      <td>0</td>\n",
       "      <td>23992</td>\n",
       "      <td>03/04/2016 13:17</td>\n",
       "    </tr>\n",
       "    <tr>\n",
       "      <th>340548</th>\n",
       "      <td>02/04/2016 17:44</td>\n",
       "      <td>0</td>\n",
       "      <td>NaN</td>\n",
       "      <td>3500</td>\n",
       "      <td>manual</td>\n",
       "      <td>75</td>\n",
       "      <td>NaN</td>\n",
       "      <td>5000</td>\n",
       "      <td>3</td>\n",
       "      <td>petrol</td>\n",
       "      <td>sonstige_autos</td>\n",
       "      <td>NaN</td>\n",
       "      <td>02/04/2016 00:00</td>\n",
       "      <td>0</td>\n",
       "      <td>96465</td>\n",
       "      <td>04/04/2016 15:17</td>\n",
       "    </tr>\n",
       "    <tr>\n",
       "      <th>341791</th>\n",
       "      <td>28/03/2016 17:37</td>\n",
       "      <td>1</td>\n",
       "      <td>NaN</td>\n",
       "      <td>3000</td>\n",
       "      <td>NaN</td>\n",
       "      <td>0</td>\n",
       "      <td>zafira</td>\n",
       "      <td>5000</td>\n",
       "      <td>0</td>\n",
       "      <td>NaN</td>\n",
       "      <td>opel</td>\n",
       "      <td>NaN</td>\n",
       "      <td>28/03/2016 00:00</td>\n",
       "      <td>0</td>\n",
       "      <td>26624</td>\n",
       "      <td>02/04/2016 22:17</td>\n",
       "    </tr>\n",
       "  </tbody>\n",
       "</table>\n",
       "<p>105 rows × 16 columns</p>\n",
       "</div>"
      ],
      "text/plain": [
       "             DateCrawled  Price VehicleType  RegistrationYear Gearbox  Power  \\\n",
       "12946   29/03/2016 18:39     49         NaN              5000     NaN      0   \n",
       "15147   14/03/2016 00:52      0         NaN              9999     NaN      0   \n",
       "15870   02/04/2016 11:55   1700         NaN              3200     NaN      0   \n",
       "17271   23/03/2016 16:43    700         NaN              9999     NaN      0   \n",
       "17346   06/03/2016 16:06   6500         NaN              8888     NaN      0   \n",
       "...                  ...    ...         ...               ...     ...    ...   \n",
       "334967  20/03/2016 17:53  12000         NaN              4000     NaN    500   \n",
       "335727  09/03/2016 07:01      0         NaN              7500  manual      0   \n",
       "338829  24/03/2016 19:49     50         NaN              3000     NaN   3000   \n",
       "340548  02/04/2016 17:44      0         NaN              3500  manual     75   \n",
       "341791  28/03/2016 17:37      1         NaN              3000     NaN      0   \n",
       "\n",
       "         Model  Mileage  RegistrationMonth FuelType           Brand  \\\n",
       "12946     golf     5000                 12      NaN      volkswagen   \n",
       "15147      NaN    10000                  0      NaN  sonstige_autos   \n",
       "15870      NaN     5000                  0      NaN  sonstige_autos   \n",
       "17271    other    10000                  0      NaN            opel   \n",
       "17346      NaN    10000                  0      NaN  sonstige_autos   \n",
       "...        ...      ...                ...      ...             ...   \n",
       "334967    golf     5000                  0      NaN      volkswagen   \n",
       "335727   other    10000                  0   petrol            mini   \n",
       "338829    golf   100000                  6      NaN      volkswagen   \n",
       "340548     NaN     5000                  3   petrol  sonstige_autos   \n",
       "341791  zafira     5000                  0      NaN            opel   \n",
       "\n",
       "       NotRepaired       DateCreated  NumberOfPictures  PostalCode  \\\n",
       "12946          NaN  29/03/2016 00:00                 0       74523   \n",
       "15147          NaN  13/03/2016 00:00                 0       32689   \n",
       "15870          NaN  02/04/2016 00:00                 0       33649   \n",
       "17271          NaN  23/03/2016 00:00                 0       21769   \n",
       "17346          NaN  06/03/2016 00:00                 0       55262   \n",
       "...            ...               ...               ...         ...   \n",
       "334967          no  20/03/2016 00:00                 0       57392   \n",
       "335727          no  09/03/2016 00:00                 0        9669   \n",
       "338829         yes  24/03/2016 00:00                 0       23992   \n",
       "340548         NaN  02/04/2016 00:00                 0       96465   \n",
       "341791         NaN  28/03/2016 00:00                 0       26624   \n",
       "\n",
       "                LastSeen  \n",
       "12946   06/04/2016 04:16  \n",
       "15147   21/03/2016 23:46  \n",
       "15870   06/04/2016 09:46  \n",
       "17271   05/04/2016 20:16  \n",
       "17346   30/03/2016 20:46  \n",
       "...                  ...  \n",
       "334967  07/04/2016 00:46  \n",
       "335727  19/03/2016 19:44  \n",
       "338829  03/04/2016 13:17  \n",
       "340548  04/04/2016 15:17  \n",
       "341791  02/04/2016 22:17  \n",
       "\n",
       "[105 rows x 16 columns]"
      ]
     },
     "execution_count": 8,
     "metadata": {},
     "output_type": "execute_result"
    }
   ],
   "source": [
    "df_car.query('RegistrationYear>2023')"
   ]
  },
  {
   "cell_type": "code",
   "execution_count": 9,
   "id": "fac381e8",
   "metadata": {},
   "outputs": [
    {
     "data": {
      "text/html": [
       "<div>\n",
       "<style scoped>\n",
       "    .dataframe tbody tr th:only-of-type {\n",
       "        vertical-align: middle;\n",
       "    }\n",
       "\n",
       "    .dataframe tbody tr th {\n",
       "        vertical-align: top;\n",
       "    }\n",
       "\n",
       "    .dataframe thead th {\n",
       "        text-align: right;\n",
       "    }\n",
       "</style>\n",
       "<table border=\"1\" class=\"dataframe\">\n",
       "  <thead>\n",
       "    <tr style=\"text-align: right;\">\n",
       "      <th></th>\n",
       "      <th>DateCrawled</th>\n",
       "      <th>Price</th>\n",
       "      <th>VehicleType</th>\n",
       "      <th>RegistrationYear</th>\n",
       "      <th>Gearbox</th>\n",
       "      <th>Power</th>\n",
       "      <th>Model</th>\n",
       "      <th>Mileage</th>\n",
       "      <th>RegistrationMonth</th>\n",
       "      <th>FuelType</th>\n",
       "      <th>Brand</th>\n",
       "      <th>NotRepaired</th>\n",
       "      <th>DateCreated</th>\n",
       "      <th>NumberOfPictures</th>\n",
       "      <th>PostalCode</th>\n",
       "      <th>LastSeen</th>\n",
       "    </tr>\n",
       "  </thead>\n",
       "  <tbody>\n",
       "    <tr>\n",
       "      <th>622</th>\n",
       "      <td>16/03/2016 16:55</td>\n",
       "      <td>0</td>\n",
       "      <td>NaN</td>\n",
       "      <td>1111</td>\n",
       "      <td>NaN</td>\n",
       "      <td>0</td>\n",
       "      <td>NaN</td>\n",
       "      <td>5000</td>\n",
       "      <td>0</td>\n",
       "      <td>NaN</td>\n",
       "      <td>opel</td>\n",
       "      <td>NaN</td>\n",
       "      <td>16/03/2016 00:00</td>\n",
       "      <td>0</td>\n",
       "      <td>44628</td>\n",
       "      <td>20/03/2016 16:44</td>\n",
       "    </tr>\n",
       "    <tr>\n",
       "      <th>16062</th>\n",
       "      <td>29/03/2016 23:42</td>\n",
       "      <td>190</td>\n",
       "      <td>NaN</td>\n",
       "      <td>1000</td>\n",
       "      <td>NaN</td>\n",
       "      <td>0</td>\n",
       "      <td>mondeo</td>\n",
       "      <td>5000</td>\n",
       "      <td>0</td>\n",
       "      <td>NaN</td>\n",
       "      <td>ford</td>\n",
       "      <td>NaN</td>\n",
       "      <td>29/03/2016 00:00</td>\n",
       "      <td>0</td>\n",
       "      <td>47166</td>\n",
       "      <td>06/04/2016 10:44</td>\n",
       "    </tr>\n",
       "    <tr>\n",
       "      <th>18224</th>\n",
       "      <td>09/03/2016 17:49</td>\n",
       "      <td>7999</td>\n",
       "      <td>NaN</td>\n",
       "      <td>1500</td>\n",
       "      <td>manual</td>\n",
       "      <td>224</td>\n",
       "      <td>impreza</td>\n",
       "      <td>5000</td>\n",
       "      <td>3</td>\n",
       "      <td>NaN</td>\n",
       "      <td>subaru</td>\n",
       "      <td>NaN</td>\n",
       "      <td>09/03/2016 00:00</td>\n",
       "      <td>0</td>\n",
       "      <td>53577</td>\n",
       "      <td>15/03/2016 05:15</td>\n",
       "    </tr>\n",
       "    <tr>\n",
       "      <th>34332</th>\n",
       "      <td>01/04/2016 06:02</td>\n",
       "      <td>450</td>\n",
       "      <td>NaN</td>\n",
       "      <td>1800</td>\n",
       "      <td>NaN</td>\n",
       "      <td>1800</td>\n",
       "      <td>NaN</td>\n",
       "      <td>5000</td>\n",
       "      <td>2</td>\n",
       "      <td>NaN</td>\n",
       "      <td>mitsubishi</td>\n",
       "      <td>no</td>\n",
       "      <td>01/04/2016 00:00</td>\n",
       "      <td>0</td>\n",
       "      <td>63322</td>\n",
       "      <td>01/04/2016 09:42</td>\n",
       "    </tr>\n",
       "    <tr>\n",
       "      <th>38875</th>\n",
       "      <td>19/03/2016 23:54</td>\n",
       "      <td>1234</td>\n",
       "      <td>NaN</td>\n",
       "      <td>1234</td>\n",
       "      <td>NaN</td>\n",
       "      <td>26</td>\n",
       "      <td>NaN</td>\n",
       "      <td>5000</td>\n",
       "      <td>1</td>\n",
       "      <td>NaN</td>\n",
       "      <td>trabant</td>\n",
       "      <td>NaN</td>\n",
       "      <td>19/03/2016 00:00</td>\n",
       "      <td>0</td>\n",
       "      <td>38518</td>\n",
       "      <td>06/04/2016 03:15</td>\n",
       "    </tr>\n",
       "    <tr>\n",
       "      <th>...</th>\n",
       "      <td>...</td>\n",
       "      <td>...</td>\n",
       "      <td>...</td>\n",
       "      <td>...</td>\n",
       "      <td>...</td>\n",
       "      <td>...</td>\n",
       "      <td>...</td>\n",
       "      <td>...</td>\n",
       "      <td>...</td>\n",
       "      <td>...</td>\n",
       "      <td>...</td>\n",
       "      <td>...</td>\n",
       "      <td>...</td>\n",
       "      <td>...</td>\n",
       "      <td>...</td>\n",
       "      <td>...</td>\n",
       "    </tr>\n",
       "    <tr>\n",
       "      <th>323443</th>\n",
       "      <td>26/03/2016 20:58</td>\n",
       "      <td>30</td>\n",
       "      <td>NaN</td>\n",
       "      <td>1000</td>\n",
       "      <td>NaN</td>\n",
       "      <td>0</td>\n",
       "      <td>NaN</td>\n",
       "      <td>5000</td>\n",
       "      <td>0</td>\n",
       "      <td>NaN</td>\n",
       "      <td>audi</td>\n",
       "      <td>NaN</td>\n",
       "      <td>26/03/2016 00:00</td>\n",
       "      <td>0</td>\n",
       "      <td>37574</td>\n",
       "      <td>06/04/2016 12:17</td>\n",
       "    </tr>\n",
       "    <tr>\n",
       "      <th>325739</th>\n",
       "      <td>30/03/2016 11:36</td>\n",
       "      <td>400</td>\n",
       "      <td>NaN</td>\n",
       "      <td>1000</td>\n",
       "      <td>NaN</td>\n",
       "      <td>0</td>\n",
       "      <td>NaN</td>\n",
       "      <td>5000</td>\n",
       "      <td>0</td>\n",
       "      <td>NaN</td>\n",
       "      <td>mercedes_benz</td>\n",
       "      <td>NaN</td>\n",
       "      <td>30/03/2016 00:00</td>\n",
       "      <td>0</td>\n",
       "      <td>8060</td>\n",
       "      <td>01/04/2016 06:16</td>\n",
       "    </tr>\n",
       "    <tr>\n",
       "      <th>340759</th>\n",
       "      <td>04/04/2016 23:55</td>\n",
       "      <td>700</td>\n",
       "      <td>NaN</td>\n",
       "      <td>1600</td>\n",
       "      <td>manual</td>\n",
       "      <td>1600</td>\n",
       "      <td>a3</td>\n",
       "      <td>150000</td>\n",
       "      <td>4</td>\n",
       "      <td>petrol</td>\n",
       "      <td>audi</td>\n",
       "      <td>no</td>\n",
       "      <td>04/04/2016 00:00</td>\n",
       "      <td>0</td>\n",
       "      <td>86343</td>\n",
       "      <td>05/04/2016 06:44</td>\n",
       "    </tr>\n",
       "    <tr>\n",
       "      <th>348830</th>\n",
       "      <td>22/03/2016 00:38</td>\n",
       "      <td>1</td>\n",
       "      <td>NaN</td>\n",
       "      <td>1000</td>\n",
       "      <td>NaN</td>\n",
       "      <td>1000</td>\n",
       "      <td>NaN</td>\n",
       "      <td>150000</td>\n",
       "      <td>0</td>\n",
       "      <td>NaN</td>\n",
       "      <td>sonstige_autos</td>\n",
       "      <td>NaN</td>\n",
       "      <td>21/03/2016 00:00</td>\n",
       "      <td>0</td>\n",
       "      <td>41472</td>\n",
       "      <td>05/04/2016 14:18</td>\n",
       "    </tr>\n",
       "    <tr>\n",
       "      <th>351682</th>\n",
       "      <td>12/03/2016 00:57</td>\n",
       "      <td>11500</td>\n",
       "      <td>NaN</td>\n",
       "      <td>1800</td>\n",
       "      <td>NaN</td>\n",
       "      <td>16</td>\n",
       "      <td>other</td>\n",
       "      <td>5000</td>\n",
       "      <td>6</td>\n",
       "      <td>petrol</td>\n",
       "      <td>fiat</td>\n",
       "      <td>NaN</td>\n",
       "      <td>11/03/2016 00:00</td>\n",
       "      <td>0</td>\n",
       "      <td>16515</td>\n",
       "      <td>05/04/2016 19:47</td>\n",
       "    </tr>\n",
       "  </tbody>\n",
       "</table>\n",
       "<p>66 rows × 16 columns</p>\n",
       "</div>"
      ],
      "text/plain": [
       "             DateCrawled  Price VehicleType  RegistrationYear Gearbox  Power  \\\n",
       "622     16/03/2016 16:55      0         NaN              1111     NaN      0   \n",
       "16062   29/03/2016 23:42    190         NaN              1000     NaN      0   \n",
       "18224   09/03/2016 17:49   7999         NaN              1500  manual    224   \n",
       "34332   01/04/2016 06:02    450         NaN              1800     NaN   1800   \n",
       "38875   19/03/2016 23:54   1234         NaN              1234     NaN     26   \n",
       "...                  ...    ...         ...               ...     ...    ...   \n",
       "323443  26/03/2016 20:58     30         NaN              1000     NaN      0   \n",
       "325739  30/03/2016 11:36    400         NaN              1000     NaN      0   \n",
       "340759  04/04/2016 23:55    700         NaN              1600  manual   1600   \n",
       "348830  22/03/2016 00:38      1         NaN              1000     NaN   1000   \n",
       "351682  12/03/2016 00:57  11500         NaN              1800     NaN     16   \n",
       "\n",
       "          Model  Mileage  RegistrationMonth FuelType           Brand  \\\n",
       "622         NaN     5000                  0      NaN            opel   \n",
       "16062    mondeo     5000                  0      NaN            ford   \n",
       "18224   impreza     5000                  3      NaN          subaru   \n",
       "34332       NaN     5000                  2      NaN      mitsubishi   \n",
       "38875       NaN     5000                  1      NaN         trabant   \n",
       "...         ...      ...                ...      ...             ...   \n",
       "323443      NaN     5000                  0      NaN            audi   \n",
       "325739      NaN     5000                  0      NaN   mercedes_benz   \n",
       "340759       a3   150000                  4   petrol            audi   \n",
       "348830      NaN   150000                  0      NaN  sonstige_autos   \n",
       "351682    other     5000                  6   petrol            fiat   \n",
       "\n",
       "       NotRepaired       DateCreated  NumberOfPictures  PostalCode  \\\n",
       "622            NaN  16/03/2016 00:00                 0       44628   \n",
       "16062          NaN  29/03/2016 00:00                 0       47166   \n",
       "18224          NaN  09/03/2016 00:00                 0       53577   \n",
       "34332           no  01/04/2016 00:00                 0       63322   \n",
       "38875          NaN  19/03/2016 00:00                 0       38518   \n",
       "...            ...               ...               ...         ...   \n",
       "323443         NaN  26/03/2016 00:00                 0       37574   \n",
       "325739         NaN  30/03/2016 00:00                 0        8060   \n",
       "340759          no  04/04/2016 00:00                 0       86343   \n",
       "348830         NaN  21/03/2016 00:00                 0       41472   \n",
       "351682         NaN  11/03/2016 00:00                 0       16515   \n",
       "\n",
       "                LastSeen  \n",
       "622     20/03/2016 16:44  \n",
       "16062   06/04/2016 10:44  \n",
       "18224   15/03/2016 05:15  \n",
       "34332   01/04/2016 09:42  \n",
       "38875   06/04/2016 03:15  \n",
       "...                  ...  \n",
       "323443  06/04/2016 12:17  \n",
       "325739  01/04/2016 06:16  \n",
       "340759  05/04/2016 06:44  \n",
       "348830  05/04/2016 14:18  \n",
       "351682  05/04/2016 19:47  \n",
       "\n",
       "[66 rows x 16 columns]"
      ]
     },
     "execution_count": 9,
     "metadata": {},
     "output_type": "execute_result"
    }
   ],
   "source": [
    "df_car.query('RegistrationYear<1900')"
   ]
  },
  {
   "cell_type": "markdown",
   "id": "9811f637",
   "metadata": {},
   "source": [
    "As we can see above there are very few rows that have RegistrationYear greater than 2023 or less than 1900 so we will drop them since they are so few. "
   ]
  },
  {
   "cell_type": "code",
   "execution_count": 10,
   "id": "6c3417af",
   "metadata": {},
   "outputs": [],
   "source": [
    "df_car = df_car.query('RegistrationYear>1900 and RegistrationYear<2023')"
   ]
  },
  {
   "cell_type": "code",
   "execution_count": 11,
   "id": "8a2fb36e",
   "metadata": {},
   "outputs": [
    {
     "data": {
      "text/html": [
       "<div>\n",
       "<style scoped>\n",
       "    .dataframe tbody tr th:only-of-type {\n",
       "        vertical-align: middle;\n",
       "    }\n",
       "\n",
       "    .dataframe tbody tr th {\n",
       "        vertical-align: top;\n",
       "    }\n",
       "\n",
       "    .dataframe thead th {\n",
       "        text-align: right;\n",
       "    }\n",
       "</style>\n",
       "<table border=\"1\" class=\"dataframe\">\n",
       "  <thead>\n",
       "    <tr style=\"text-align: right;\">\n",
       "      <th></th>\n",
       "      <th>DateCrawled</th>\n",
       "      <th>Price</th>\n",
       "      <th>VehicleType</th>\n",
       "      <th>RegistrationYear</th>\n",
       "      <th>Gearbox</th>\n",
       "      <th>Power</th>\n",
       "      <th>Model</th>\n",
       "      <th>Mileage</th>\n",
       "      <th>RegistrationMonth</th>\n",
       "      <th>FuelType</th>\n",
       "      <th>Brand</th>\n",
       "      <th>NotRepaired</th>\n",
       "      <th>DateCreated</th>\n",
       "      <th>NumberOfPictures</th>\n",
       "      <th>PostalCode</th>\n",
       "      <th>LastSeen</th>\n",
       "    </tr>\n",
       "  </thead>\n",
       "  <tbody>\n",
       "  </tbody>\n",
       "</table>\n",
       "</div>"
      ],
      "text/plain": [
       "Empty DataFrame\n",
       "Columns: [DateCrawled, Price, VehicleType, RegistrationYear, Gearbox, Power, Model, Mileage, RegistrationMonth, FuelType, Brand, NotRepaired, DateCreated, NumberOfPictures, PostalCode, LastSeen]\n",
       "Index: []"
      ]
     },
     "execution_count": 11,
     "metadata": {},
     "output_type": "execute_result"
    }
   ],
   "source": [
    "df_car.query('RegistrationYear<1900')"
   ]
  },
  {
   "cell_type": "code",
   "execution_count": 12,
   "id": "01913db3",
   "metadata": {},
   "outputs": [
    {
     "data": {
      "text/html": [
       "<div>\n",
       "<style scoped>\n",
       "    .dataframe tbody tr th:only-of-type {\n",
       "        vertical-align: middle;\n",
       "    }\n",
       "\n",
       "    .dataframe tbody tr th {\n",
       "        vertical-align: top;\n",
       "    }\n",
       "\n",
       "    .dataframe thead th {\n",
       "        text-align: right;\n",
       "    }\n",
       "</style>\n",
       "<table border=\"1\" class=\"dataframe\">\n",
       "  <thead>\n",
       "    <tr style=\"text-align: right;\">\n",
       "      <th></th>\n",
       "      <th>DateCrawled</th>\n",
       "      <th>Price</th>\n",
       "      <th>VehicleType</th>\n",
       "      <th>RegistrationYear</th>\n",
       "      <th>Gearbox</th>\n",
       "      <th>Power</th>\n",
       "      <th>Model</th>\n",
       "      <th>Mileage</th>\n",
       "      <th>RegistrationMonth</th>\n",
       "      <th>FuelType</th>\n",
       "      <th>Brand</th>\n",
       "      <th>NotRepaired</th>\n",
       "      <th>DateCreated</th>\n",
       "      <th>NumberOfPictures</th>\n",
       "      <th>PostalCode</th>\n",
       "      <th>LastSeen</th>\n",
       "    </tr>\n",
       "  </thead>\n",
       "  <tbody>\n",
       "  </tbody>\n",
       "</table>\n",
       "</div>"
      ],
      "text/plain": [
       "Empty DataFrame\n",
       "Columns: [DateCrawled, Price, VehicleType, RegistrationYear, Gearbox, Power, Model, Mileage, RegistrationMonth, FuelType, Brand, NotRepaired, DateCreated, NumberOfPictures, PostalCode, LastSeen]\n",
       "Index: []"
      ]
     },
     "execution_count": 12,
     "metadata": {},
     "output_type": "execute_result"
    }
   ],
   "source": [
    "df_car.query('RegistrationYear>2023')"
   ]
  },
  {
   "cell_type": "markdown",
   "id": "70a98a3a",
   "metadata": {},
   "source": [
    "\n",
    "Number of pictures seems to always be zero lets double check."
   ]
  },
  {
   "cell_type": "code",
   "execution_count": 13,
   "id": "f5db72a4",
   "metadata": {},
   "outputs": [
    {
     "data": {
      "text/plain": [
       "0"
      ]
     },
     "execution_count": 13,
     "metadata": {},
     "output_type": "execute_result"
    }
   ],
   "source": [
    "df_car['NumberOfPictures'].sum()"
   ]
  },
  {
   "cell_type": "code",
   "execution_count": 14,
   "id": "ef7a6465",
   "metadata": {},
   "outputs": [],
   "source": [
    "#We can safely drop this column since it does not ever change and won't help any models predict price."
   ]
  },
  {
   "cell_type": "code",
   "execution_count": 15,
   "id": "becb47ec",
   "metadata": {},
   "outputs": [],
   "source": [
    "df_car.drop(labels=['NumberOfPictures'], axis=1, inplace=True)"
   ]
  },
  {
   "cell_type": "code",
   "execution_count": 16,
   "id": "908402b2",
   "metadata": {},
   "outputs": [
    {
     "data": {
      "text/html": [
       "<div>\n",
       "<style scoped>\n",
       "    .dataframe tbody tr th:only-of-type {\n",
       "        vertical-align: middle;\n",
       "    }\n",
       "\n",
       "    .dataframe tbody tr th {\n",
       "        vertical-align: top;\n",
       "    }\n",
       "\n",
       "    .dataframe thead th {\n",
       "        text-align: right;\n",
       "    }\n",
       "</style>\n",
       "<table border=\"1\" class=\"dataframe\">\n",
       "  <thead>\n",
       "    <tr style=\"text-align: right;\">\n",
       "      <th></th>\n",
       "      <th>DateCrawled</th>\n",
       "      <th>Price</th>\n",
       "      <th>VehicleType</th>\n",
       "      <th>RegistrationYear</th>\n",
       "      <th>Gearbox</th>\n",
       "      <th>Power</th>\n",
       "      <th>Model</th>\n",
       "      <th>Mileage</th>\n",
       "      <th>RegistrationMonth</th>\n",
       "      <th>FuelType</th>\n",
       "      <th>Brand</th>\n",
       "      <th>NotRepaired</th>\n",
       "      <th>DateCreated</th>\n",
       "      <th>PostalCode</th>\n",
       "      <th>LastSeen</th>\n",
       "    </tr>\n",
       "  </thead>\n",
       "  <tbody>\n",
       "    <tr>\n",
       "      <th>0</th>\n",
       "      <td>24/03/2016 11:52</td>\n",
       "      <td>480</td>\n",
       "      <td>NaN</td>\n",
       "      <td>1993</td>\n",
       "      <td>manual</td>\n",
       "      <td>0</td>\n",
       "      <td>golf</td>\n",
       "      <td>150000</td>\n",
       "      <td>0</td>\n",
       "      <td>petrol</td>\n",
       "      <td>volkswagen</td>\n",
       "      <td>NaN</td>\n",
       "      <td>24/03/2016 00:00</td>\n",
       "      <td>70435</td>\n",
       "      <td>07/04/2016 03:16</td>\n",
       "    </tr>\n",
       "    <tr>\n",
       "      <th>1</th>\n",
       "      <td>24/03/2016 10:58</td>\n",
       "      <td>18300</td>\n",
       "      <td>coupe</td>\n",
       "      <td>2011</td>\n",
       "      <td>manual</td>\n",
       "      <td>190</td>\n",
       "      <td>NaN</td>\n",
       "      <td>125000</td>\n",
       "      <td>5</td>\n",
       "      <td>gasoline</td>\n",
       "      <td>audi</td>\n",
       "      <td>yes</td>\n",
       "      <td>24/03/2016 00:00</td>\n",
       "      <td>66954</td>\n",
       "      <td>07/04/2016 01:46</td>\n",
       "    </tr>\n",
       "    <tr>\n",
       "      <th>2</th>\n",
       "      <td>14/03/2016 12:52</td>\n",
       "      <td>9800</td>\n",
       "      <td>suv</td>\n",
       "      <td>2004</td>\n",
       "      <td>auto</td>\n",
       "      <td>163</td>\n",
       "      <td>grand</td>\n",
       "      <td>125000</td>\n",
       "      <td>8</td>\n",
       "      <td>gasoline</td>\n",
       "      <td>jeep</td>\n",
       "      <td>NaN</td>\n",
       "      <td>14/03/2016 00:00</td>\n",
       "      <td>90480</td>\n",
       "      <td>05/04/2016 12:47</td>\n",
       "    </tr>\n",
       "    <tr>\n",
       "      <th>3</th>\n",
       "      <td>17/03/2016 16:54</td>\n",
       "      <td>1500</td>\n",
       "      <td>small</td>\n",
       "      <td>2001</td>\n",
       "      <td>manual</td>\n",
       "      <td>75</td>\n",
       "      <td>golf</td>\n",
       "      <td>150000</td>\n",
       "      <td>6</td>\n",
       "      <td>petrol</td>\n",
       "      <td>volkswagen</td>\n",
       "      <td>no</td>\n",
       "      <td>17/03/2016 00:00</td>\n",
       "      <td>91074</td>\n",
       "      <td>17/03/2016 17:40</td>\n",
       "    </tr>\n",
       "    <tr>\n",
       "      <th>4</th>\n",
       "      <td>31/03/2016 17:25</td>\n",
       "      <td>3600</td>\n",
       "      <td>small</td>\n",
       "      <td>2008</td>\n",
       "      <td>manual</td>\n",
       "      <td>69</td>\n",
       "      <td>fabia</td>\n",
       "      <td>90000</td>\n",
       "      <td>7</td>\n",
       "      <td>gasoline</td>\n",
       "      <td>skoda</td>\n",
       "      <td>no</td>\n",
       "      <td>31/03/2016 00:00</td>\n",
       "      <td>60437</td>\n",
       "      <td>06/04/2016 10:17</td>\n",
       "    </tr>\n",
       "  </tbody>\n",
       "</table>\n",
       "</div>"
      ],
      "text/plain": [
       "        DateCrawled  Price VehicleType  RegistrationYear Gearbox  Power  \\\n",
       "0  24/03/2016 11:52    480         NaN              1993  manual      0   \n",
       "1  24/03/2016 10:58  18300       coupe              2011  manual    190   \n",
       "2  14/03/2016 12:52   9800         suv              2004    auto    163   \n",
       "3  17/03/2016 16:54   1500       small              2001  manual     75   \n",
       "4  31/03/2016 17:25   3600       small              2008  manual     69   \n",
       "\n",
       "   Model  Mileage  RegistrationMonth  FuelType       Brand NotRepaired  \\\n",
       "0   golf   150000                  0    petrol  volkswagen         NaN   \n",
       "1    NaN   125000                  5  gasoline        audi         yes   \n",
       "2  grand   125000                  8  gasoline        jeep         NaN   \n",
       "3   golf   150000                  6    petrol  volkswagen          no   \n",
       "4  fabia    90000                  7  gasoline       skoda          no   \n",
       "\n",
       "        DateCreated  PostalCode          LastSeen  \n",
       "0  24/03/2016 00:00       70435  07/04/2016 03:16  \n",
       "1  24/03/2016 00:00       66954  07/04/2016 01:46  \n",
       "2  14/03/2016 00:00       90480  05/04/2016 12:47  \n",
       "3  17/03/2016 00:00       91074  17/03/2016 17:40  \n",
       "4  31/03/2016 00:00       60437  06/04/2016 10:17  "
      ]
     },
     "execution_count": 16,
     "metadata": {},
     "output_type": "execute_result"
    }
   ],
   "source": [
    "df_car.head()"
   ]
  },
  {
   "cell_type": "code",
   "execution_count": 17,
   "id": "eec26028",
   "metadata": {
    "scrolled": false
   },
   "outputs": [
    {
     "data": {
      "text/plain": [
       "DateCrawled              0\n",
       "Price                    0\n",
       "RegistrationYear         0\n",
       "Power                    0\n",
       "Mileage                  0\n",
       "RegistrationMonth        0\n",
       "Brand                    0\n",
       "DateCreated              0\n",
       "PostalCode               0\n",
       "LastSeen                 0\n",
       "Model                19630\n",
       "Gearbox              19695\n",
       "FuelType             32767\n",
       "VehicleType          37319\n",
       "NotRepaired          71007\n",
       "dtype: int64"
      ]
     },
     "execution_count": 17,
     "metadata": {},
     "output_type": "execute_result"
    }
   ],
   "source": [
    "df_car.isna().sum().sort_values()"
   ]
  },
  {
   "cell_type": "markdown",
   "id": "75a4bf1e",
   "metadata": {},
   "source": []
  },
  {
   "cell_type": "code",
   "execution_count": 18,
   "id": "127a3227",
   "metadata": {},
   "outputs": [],
   "source": [
    "df_car_toyota_1 = df_car[df_car['Brand']=='toyota'].pivot_table(values='Price',index='Brand',columns='Model', aggfunc='count')"
   ]
  },
  {
   "cell_type": "code",
   "execution_count": 19,
   "id": "2460876b",
   "metadata": {},
   "outputs": [
    {
     "data": {
      "text/html": [
       "<div>\n",
       "<style scoped>\n",
       "    .dataframe tbody tr th:only-of-type {\n",
       "        vertical-align: middle;\n",
       "    }\n",
       "\n",
       "    .dataframe tbody tr th {\n",
       "        vertical-align: top;\n",
       "    }\n",
       "\n",
       "    .dataframe thead th {\n",
       "        text-align: right;\n",
       "    }\n",
       "</style>\n",
       "<table border=\"1\" class=\"dataframe\">\n",
       "  <thead>\n",
       "    <tr style=\"text-align: right;\">\n",
       "      <th>Model</th>\n",
       "      <th>auris</th>\n",
       "      <th>avensis</th>\n",
       "      <th>aygo</th>\n",
       "      <th>corolla</th>\n",
       "      <th>other</th>\n",
       "      <th>rav</th>\n",
       "      <th>verso</th>\n",
       "      <th>yaris</th>\n",
       "    </tr>\n",
       "    <tr>\n",
       "      <th>Brand</th>\n",
       "      <th></th>\n",
       "      <th></th>\n",
       "      <th></th>\n",
       "      <th></th>\n",
       "      <th></th>\n",
       "      <th></th>\n",
       "      <th></th>\n",
       "      <th></th>\n",
       "    </tr>\n",
       "  </thead>\n",
       "  <tbody>\n",
       "    <tr>\n",
       "      <th>toyota</th>\n",
       "      <td>234</td>\n",
       "      <td>565</td>\n",
       "      <td>430</td>\n",
       "      <td>684</td>\n",
       "      <td>844</td>\n",
       "      <td>350</td>\n",
       "      <td>309</td>\n",
       "      <td>1033</td>\n",
       "    </tr>\n",
       "  </tbody>\n",
       "</table>\n",
       "</div>"
      ],
      "text/plain": [
       "Model   auris  avensis  aygo  corolla  other  rav  verso  yaris\n",
       "Brand                                                          \n",
       "toyota    234      565   430      684    844  350    309   1033"
      ]
     },
     "execution_count": 19,
     "metadata": {},
     "output_type": "execute_result"
    }
   ],
   "source": [
    "df_car_toyota_1"
   ]
  },
  {
   "cell_type": "markdown",
   "id": "bef920e0",
   "metadata": {},
   "source": [
    "We can see that yaris is the most common model followed by other so I wanted to keep the distribution."
   ]
  },
  {
   "cell_type": "code",
   "execution_count": 20,
   "id": "9d4a5c2d",
   "metadata": {},
   "outputs": [],
   "source": [
    "df_car['Model'] = df_car.groupby('Brand')['Model'].ffill()"
   ]
  },
  {
   "cell_type": "code",
   "execution_count": 21,
   "id": "780aefa4",
   "metadata": {},
   "outputs": [],
   "source": [
    "df_car['VehicleType'] = df_car.groupby('Model')['VehicleType'].ffill()"
   ]
  },
  {
   "cell_type": "code",
   "execution_count": 22,
   "id": "215e305d",
   "metadata": {},
   "outputs": [
    {
     "data": {
      "text/html": [
       "<div>\n",
       "<style scoped>\n",
       "    .dataframe tbody tr th:only-of-type {\n",
       "        vertical-align: middle;\n",
       "    }\n",
       "\n",
       "    .dataframe tbody tr th {\n",
       "        vertical-align: top;\n",
       "    }\n",
       "\n",
       "    .dataframe thead th {\n",
       "        text-align: right;\n",
       "    }\n",
       "</style>\n",
       "<table border=\"1\" class=\"dataframe\">\n",
       "  <thead>\n",
       "    <tr style=\"text-align: right;\">\n",
       "      <th>Model</th>\n",
       "      <th>auris</th>\n",
       "      <th>avensis</th>\n",
       "      <th>aygo</th>\n",
       "      <th>corolla</th>\n",
       "      <th>other</th>\n",
       "      <th>rav</th>\n",
       "      <th>verso</th>\n",
       "      <th>yaris</th>\n",
       "    </tr>\n",
       "    <tr>\n",
       "      <th>Brand</th>\n",
       "      <th></th>\n",
       "      <th></th>\n",
       "      <th></th>\n",
       "      <th></th>\n",
       "      <th></th>\n",
       "      <th></th>\n",
       "      <th></th>\n",
       "      <th></th>\n",
       "    </tr>\n",
       "  </thead>\n",
       "  <tbody>\n",
       "    <tr>\n",
       "      <th>toyota</th>\n",
       "      <td>241</td>\n",
       "      <td>581</td>\n",
       "      <td>450</td>\n",
       "      <td>699</td>\n",
       "      <td>881</td>\n",
       "      <td>364</td>\n",
       "      <td>324</td>\n",
       "      <td>1066</td>\n",
       "    </tr>\n",
       "  </tbody>\n",
       "</table>\n",
       "</div>"
      ],
      "text/plain": [
       "Model   auris  avensis  aygo  corolla  other  rav  verso  yaris\n",
       "Brand                                                          \n",
       "toyota    241      581   450      699    881  364    324   1066"
      ]
     },
     "execution_count": 22,
     "metadata": {},
     "output_type": "execute_result"
    }
   ],
   "source": [
    "df_car[df_car['Brand']=='toyota'].pivot_table(values='Price',index='Brand',columns='Model', aggfunc='count')\n"
   ]
  },
  {
   "cell_type": "code",
   "execution_count": 23,
   "id": "09195e5c",
   "metadata": {},
   "outputs": [
    {
     "data": {
      "text/plain": [
       "DateCrawled              0\n",
       "Price                    0\n",
       "RegistrationYear         0\n",
       "Power                    0\n",
       "Mileage                  0\n",
       "RegistrationMonth        0\n",
       "Brand                    0\n",
       "DateCreated              0\n",
       "PostalCode               0\n",
       "LastSeen                 0\n",
       "Model                 3342\n",
       "VehicleType           3381\n",
       "Gearbox              19695\n",
       "FuelType             32767\n",
       "NotRepaired          71007\n",
       "dtype: int64"
      ]
     },
     "execution_count": 23,
     "metadata": {},
     "output_type": "execute_result"
    }
   ],
   "source": [
    "df_car.isna().sum().sort_values()"
   ]
  },
  {
   "cell_type": "code",
   "execution_count": 24,
   "id": "b582293c",
   "metadata": {},
   "outputs": [],
   "source": [
    "df_car['Gearbox'] = df_car.groupby('Model')['Gearbox'].ffill()"
   ]
  },
  {
   "cell_type": "code",
   "execution_count": 25,
   "id": "dd7a079f",
   "metadata": {},
   "outputs": [
    {
     "data": {
      "text/plain": [
       "DateCrawled              0\n",
       "Price                    0\n",
       "RegistrationYear         0\n",
       "Power                    0\n",
       "Mileage                  0\n",
       "RegistrationMonth        0\n",
       "Brand                    0\n",
       "DateCreated              0\n",
       "PostalCode               0\n",
       "LastSeen                 0\n",
       "Model                 3342\n",
       "Gearbox               3362\n",
       "VehicleType           3381\n",
       "FuelType             32767\n",
       "NotRepaired          71007\n",
       "dtype: int64"
      ]
     },
     "execution_count": 25,
     "metadata": {},
     "output_type": "execute_result"
    }
   ],
   "source": [
    "df_car.isna().sum().sort_values()"
   ]
  },
  {
   "cell_type": "code",
   "execution_count": 26,
   "id": "dc82fd95",
   "metadata": {},
   "outputs": [],
   "source": [
    "df_car['FuelType'] = df_car.groupby('Model')['FuelType'].ffill()"
   ]
  },
  {
   "cell_type": "code",
   "execution_count": 27,
   "id": "29b5762c",
   "metadata": {
    "scrolled": true
   },
   "outputs": [
    {
     "data": {
      "text/plain": [
       "DateCrawled              0\n",
       "Price                    0\n",
       "RegistrationYear         0\n",
       "Power                    0\n",
       "Mileage                  0\n",
       "RegistrationMonth        0\n",
       "Brand                    0\n",
       "DateCreated              0\n",
       "PostalCode               0\n",
       "LastSeen                 0\n",
       "Model                 3342\n",
       "Gearbox               3362\n",
       "FuelType              3366\n",
       "VehicleType           3381\n",
       "NotRepaired          71007\n",
       "dtype: int64"
      ]
     },
     "execution_count": 27,
     "metadata": {},
     "output_type": "execute_result"
    }
   ],
   "source": [
    "df_car.isna().sum().sort_values()"
   ]
  },
  {
   "cell_type": "markdown",
   "id": "088d9621",
   "metadata": {},
   "source": [
    "Now let us look at NotRepaired feature since it has the largest number of NaN values. I can't find a good way to fill this one other than just replacing it with \"unknown\" to keep all of them as type object. My intuition tells me that the person listing probably omits this answer if they think it will harm the price point of their car. For example a double negative NO - the car is NotRepaired means the car has had a major repair so I wouldn't be surprised if most of these mission values were of value NO. I will just place it an \"unknown\" since it doesn't add much cardinality for OHE and the models should be able to correctly price it in. "
   ]
  },
  {
   "cell_type": "code",
   "execution_count": 28,
   "id": "78c9a729",
   "metadata": {
    "scrolled": false
   },
   "outputs": [],
   "source": [
    "df_car['NotRepaired'].fillna(value='unknown', inplace=True)"
   ]
  },
  {
   "cell_type": "code",
   "execution_count": 29,
   "id": "410489e4",
   "metadata": {},
   "outputs": [
    {
     "data": {
      "text/plain": [
       "0"
      ]
     },
     "execution_count": 29,
     "metadata": {},
     "output_type": "execute_result"
    }
   ],
   "source": [
    "df_car['NotRepaired'].isna().sum()"
   ]
  },
  {
   "cell_type": "markdown",
   "id": "1a1c140a",
   "metadata": {},
   "source": [
    "We now can drop the remaining NaN values since they are minimal."
   ]
  },
  {
   "cell_type": "code",
   "execution_count": 30,
   "id": "cdb64f28",
   "metadata": {},
   "outputs": [],
   "source": [
    "df_car.dropna(inplace=True)"
   ]
  },
  {
   "cell_type": "code",
   "execution_count": 31,
   "id": "3d8f32eb",
   "metadata": {},
   "outputs": [
    {
     "data": {
      "text/plain": [
       "DateCrawled          0\n",
       "Price                0\n",
       "VehicleType          0\n",
       "RegistrationYear     0\n",
       "Gearbox              0\n",
       "Power                0\n",
       "Model                0\n",
       "Mileage              0\n",
       "RegistrationMonth    0\n",
       "FuelType             0\n",
       "Brand                0\n",
       "NotRepaired          0\n",
       "DateCreated          0\n",
       "PostalCode           0\n",
       "LastSeen             0\n",
       "dtype: int64"
      ]
     },
     "execution_count": 31,
     "metadata": {},
     "output_type": "execute_result"
    }
   ],
   "source": [
    "df_car.isna().sum().sort_values()"
   ]
  },
  {
   "cell_type": "markdown",
   "id": "b348a232",
   "metadata": {},
   "source": [
    "***NO MORE missing values.***"
   ]
  },
  {
   "cell_type": "code",
   "execution_count": 32,
   "id": "e7ba4638",
   "metadata": {},
   "outputs": [
    {
     "data": {
      "text/plain": [
       "350795"
      ]
     },
     "execution_count": 32,
     "metadata": {},
     "output_type": "execute_result"
    }
   ],
   "source": [
    "len(df_car) #We lost very few observations while dealing with missing values and outliers as a percentage."
   ]
  },
  {
   "cell_type": "code",
   "execution_count": 33,
   "id": "fbc03b44",
   "metadata": {},
   "outputs": [
    {
     "data": {
      "text/html": [
       "<div>\n",
       "<style scoped>\n",
       "    .dataframe tbody tr th:only-of-type {\n",
       "        vertical-align: middle;\n",
       "    }\n",
       "\n",
       "    .dataframe tbody tr th {\n",
       "        vertical-align: top;\n",
       "    }\n",
       "\n",
       "    .dataframe thead th {\n",
       "        text-align: right;\n",
       "    }\n",
       "</style>\n",
       "<table border=\"1\" class=\"dataframe\">\n",
       "  <thead>\n",
       "    <tr style=\"text-align: right;\">\n",
       "      <th></th>\n",
       "      <th>Price</th>\n",
       "      <th>RegistrationYear</th>\n",
       "      <th>Power</th>\n",
       "      <th>Mileage</th>\n",
       "      <th>RegistrationMonth</th>\n",
       "      <th>PostalCode</th>\n",
       "    </tr>\n",
       "  </thead>\n",
       "  <tbody>\n",
       "    <tr>\n",
       "      <th>count</th>\n",
       "      <td>350795.000000</td>\n",
       "      <td>350795.000000</td>\n",
       "      <td>350795.000000</td>\n",
       "      <td>350795.000000</td>\n",
       "      <td>350795.000000</td>\n",
       "      <td>350795.000000</td>\n",
       "    </tr>\n",
       "    <tr>\n",
       "      <th>mean</th>\n",
       "      <td>4411.778882</td>\n",
       "      <td>2003.170450</td>\n",
       "      <td>110.251905</td>\n",
       "      <td>128621.189014</td>\n",
       "      <td>5.730230</td>\n",
       "      <td>50541.830870</td>\n",
       "    </tr>\n",
       "    <tr>\n",
       "      <th>std</th>\n",
       "      <td>4503.255934</td>\n",
       "      <td>7.301001</td>\n",
       "      <td>188.775743</td>\n",
       "      <td>37401.495099</td>\n",
       "      <td>3.720952</td>\n",
       "      <td>25764.134087</td>\n",
       "    </tr>\n",
       "    <tr>\n",
       "      <th>min</th>\n",
       "      <td>0.000000</td>\n",
       "      <td>1910.000000</td>\n",
       "      <td>0.000000</td>\n",
       "      <td>5000.000000</td>\n",
       "      <td>0.000000</td>\n",
       "      <td>1067.000000</td>\n",
       "    </tr>\n",
       "    <tr>\n",
       "      <th>25%</th>\n",
       "      <td>1099.000000</td>\n",
       "      <td>1999.000000</td>\n",
       "      <td>69.000000</td>\n",
       "      <td>125000.000000</td>\n",
       "      <td>3.000000</td>\n",
       "      <td>30169.000000</td>\n",
       "    </tr>\n",
       "    <tr>\n",
       "      <th>50%</th>\n",
       "      <td>2700.000000</td>\n",
       "      <td>2003.000000</td>\n",
       "      <td>105.000000</td>\n",
       "      <td>150000.000000</td>\n",
       "      <td>6.000000</td>\n",
       "      <td>49429.000000</td>\n",
       "    </tr>\n",
       "    <tr>\n",
       "      <th>75%</th>\n",
       "      <td>6399.000000</td>\n",
       "      <td>2008.000000</td>\n",
       "      <td>143.000000</td>\n",
       "      <td>150000.000000</td>\n",
       "      <td>9.000000</td>\n",
       "      <td>71088.000000</td>\n",
       "    </tr>\n",
       "    <tr>\n",
       "      <th>max</th>\n",
       "      <td>20000.000000</td>\n",
       "      <td>2019.000000</td>\n",
       "      <td>20000.000000</td>\n",
       "      <td>150000.000000</td>\n",
       "      <td>12.000000</td>\n",
       "      <td>99998.000000</td>\n",
       "    </tr>\n",
       "  </tbody>\n",
       "</table>\n",
       "</div>"
      ],
      "text/plain": [
       "               Price  RegistrationYear          Power        Mileage  \\\n",
       "count  350795.000000     350795.000000  350795.000000  350795.000000   \n",
       "mean     4411.778882       2003.170450     110.251905  128621.189014   \n",
       "std      4503.255934          7.301001     188.775743   37401.495099   \n",
       "min         0.000000       1910.000000       0.000000    5000.000000   \n",
       "25%      1099.000000       1999.000000      69.000000  125000.000000   \n",
       "50%      2700.000000       2003.000000     105.000000  150000.000000   \n",
       "75%      6399.000000       2008.000000     143.000000  150000.000000   \n",
       "max     20000.000000       2019.000000   20000.000000  150000.000000   \n",
       "\n",
       "       RegistrationMonth     PostalCode  \n",
       "count      350795.000000  350795.000000  \n",
       "mean            5.730230   50541.830870  \n",
       "std             3.720952   25764.134087  \n",
       "min             0.000000    1067.000000  \n",
       "25%             3.000000   30169.000000  \n",
       "50%             6.000000   49429.000000  \n",
       "75%             9.000000   71088.000000  \n",
       "max            12.000000   99998.000000  "
      ]
     },
     "execution_count": 33,
     "metadata": {},
     "output_type": "execute_result"
    }
   ],
   "source": [
    "df_car.describe()"
   ]
  },
  {
   "cell_type": "markdown",
   "id": "df2aa532",
   "metadata": {},
   "source": [
    "Lets look at the amount of unique categories in each categorical feature."
   ]
  },
  {
   "cell_type": "code",
   "execution_count": 101,
   "id": "57c78ae9",
   "metadata": {},
   "outputs": [
    {
     "data": {
      "image/png": "[encoded data removed]",
      "text/plain": [
       "<Figure size 1080x576 with 1 Axes>"
      ]
     },
     "metadata": {
      "needs_background": "light"
     },
     "output_type": "display_data"
    }
   ],
   "source": [
    "plt.figure(figsize=(15,8))\n",
    "df_car.nunique().sort_values().plot(kind='bar');\n",
    "plt.title('Unique rows by categorical distinct features',fontsize=20)\n",
    "plt.show()"
   ]
  },
  {
   "cell_type": "code",
   "execution_count": 35,
   "id": "7a80d600",
   "metadata": {},
   "outputs": [
    {
     "data": {
      "text/plain": [
       "Gearbox                  2\n",
       "NotRepaired              3\n",
       "FuelType                 7\n",
       "VehicleType              8\n",
       "Mileage                 13\n",
       "RegistrationMonth       13\n",
       "Brand                   39\n",
       "RegistrationYear        93\n",
       "DateCreated            109\n",
       "Model                  250\n",
       "Power                  707\n",
       "Price                 3712\n",
       "PostalCode            8142\n",
       "DateCrawled          15454\n",
       "LastSeen             18544\n",
       "dtype: int64"
      ]
     },
     "execution_count": 35,
     "metadata": {},
     "output_type": "execute_result"
    }
   ],
   "source": [
    "df_car.nunique().sort_values()"
   ]
  },
  {
   "cell_type": "markdown",
   "id": "82d0b18a",
   "metadata": {},
   "source": [
    "First I will drop the dates from the db since they should have no bearing on our target prediction. There are too many different dates in these features to try to encode categorically.  "
   ]
  },
  {
   "cell_type": "markdown",
   "id": "ed98423f",
   "metadata": {},
   "source": [
    "I am dropping 4 features with high cardinality which should have little if no bearing to the prediction of the target."
   ]
  },
  {
   "cell_type": "code",
   "execution_count": 36,
   "id": "bcf146cf",
   "metadata": {},
   "outputs": [],
   "source": [
    "df_car.drop(labels=['LastSeen','PostalCode'], axis=1, inplace=True)"
   ]
  },
  {
   "cell_type": "code",
   "execution_count": 37,
   "id": "ff4a36ef",
   "metadata": {},
   "outputs": [],
   "source": [
    "df_car.drop(labels=['DateCreated'], axis=1, inplace=True)"
   ]
  },
  {
   "cell_type": "code",
   "execution_count": 38,
   "id": "067c2306",
   "metadata": {},
   "outputs": [],
   "source": [
    "df_car.drop(labels='DateCrawled', axis=1, inplace=True)"
   ]
  },
  {
   "cell_type": "code",
   "execution_count": 39,
   "id": "280c407d",
   "metadata": {},
   "outputs": [
    {
     "data": {
      "text/html": [
       "<div>\n",
       "<style scoped>\n",
       "    .dataframe tbody tr th:only-of-type {\n",
       "        vertical-align: middle;\n",
       "    }\n",
       "\n",
       "    .dataframe tbody tr th {\n",
       "        vertical-align: top;\n",
       "    }\n",
       "\n",
       "    .dataframe thead th {\n",
       "        text-align: right;\n",
       "    }\n",
       "</style>\n",
       "<table border=\"1\" class=\"dataframe\">\n",
       "  <thead>\n",
       "    <tr style=\"text-align: right;\">\n",
       "      <th></th>\n",
       "      <th>Price</th>\n",
       "      <th>VehicleType</th>\n",
       "      <th>RegistrationYear</th>\n",
       "      <th>Gearbox</th>\n",
       "      <th>Power</th>\n",
       "      <th>Model</th>\n",
       "      <th>Mileage</th>\n",
       "      <th>RegistrationMonth</th>\n",
       "      <th>FuelType</th>\n",
       "      <th>Brand</th>\n",
       "      <th>NotRepaired</th>\n",
       "    </tr>\n",
       "  </thead>\n",
       "  <tbody>\n",
       "    <tr>\n",
       "      <th>2</th>\n",
       "      <td>9800</td>\n",
       "      <td>suv</td>\n",
       "      <td>2004</td>\n",
       "      <td>auto</td>\n",
       "      <td>163</td>\n",
       "      <td>grand</td>\n",
       "      <td>125000</td>\n",
       "      <td>8</td>\n",
       "      <td>gasoline</td>\n",
       "      <td>jeep</td>\n",
       "      <td>unknown</td>\n",
       "    </tr>\n",
       "    <tr>\n",
       "      <th>3</th>\n",
       "      <td>1500</td>\n",
       "      <td>small</td>\n",
       "      <td>2001</td>\n",
       "      <td>manual</td>\n",
       "      <td>75</td>\n",
       "      <td>golf</td>\n",
       "      <td>150000</td>\n",
       "      <td>6</td>\n",
       "      <td>petrol</td>\n",
       "      <td>volkswagen</td>\n",
       "      <td>no</td>\n",
       "    </tr>\n",
       "    <tr>\n",
       "      <th>4</th>\n",
       "      <td>3600</td>\n",
       "      <td>small</td>\n",
       "      <td>2008</td>\n",
       "      <td>manual</td>\n",
       "      <td>69</td>\n",
       "      <td>fabia</td>\n",
       "      <td>90000</td>\n",
       "      <td>7</td>\n",
       "      <td>gasoline</td>\n",
       "      <td>skoda</td>\n",
       "      <td>no</td>\n",
       "    </tr>\n",
       "    <tr>\n",
       "      <th>5</th>\n",
       "      <td>650</td>\n",
       "      <td>sedan</td>\n",
       "      <td>1995</td>\n",
       "      <td>manual</td>\n",
       "      <td>102</td>\n",
       "      <td>3er</td>\n",
       "      <td>150000</td>\n",
       "      <td>10</td>\n",
       "      <td>petrol</td>\n",
       "      <td>bmw</td>\n",
       "      <td>yes</td>\n",
       "    </tr>\n",
       "    <tr>\n",
       "      <th>6</th>\n",
       "      <td>2200</td>\n",
       "      <td>convertible</td>\n",
       "      <td>2004</td>\n",
       "      <td>manual</td>\n",
       "      <td>109</td>\n",
       "      <td>2_reihe</td>\n",
       "      <td>150000</td>\n",
       "      <td>8</td>\n",
       "      <td>petrol</td>\n",
       "      <td>peugeot</td>\n",
       "      <td>no</td>\n",
       "    </tr>\n",
       "  </tbody>\n",
       "</table>\n",
       "</div>"
      ],
      "text/plain": [
       "   Price  VehicleType  RegistrationYear Gearbox  Power    Model  Mileage  \\\n",
       "2   9800          suv              2004    auto    163    grand   125000   \n",
       "3   1500        small              2001  manual     75     golf   150000   \n",
       "4   3600        small              2008  manual     69    fabia    90000   \n",
       "5    650        sedan              1995  manual    102      3er   150000   \n",
       "6   2200  convertible              2004  manual    109  2_reihe   150000   \n",
       "\n",
       "   RegistrationMonth  FuelType       Brand NotRepaired  \n",
       "2                  8  gasoline        jeep     unknown  \n",
       "3                  6    petrol  volkswagen          no  \n",
       "4                  7  gasoline       skoda          no  \n",
       "5                 10    petrol         bmw         yes  \n",
       "6                  8    petrol     peugeot          no  "
      ]
     },
     "execution_count": 39,
     "metadata": {},
     "output_type": "execute_result"
    }
   ],
   "source": [
    "df_car.head()"
   ]
  },
  {
   "cell_type": "code",
   "execution_count": 102,
   "id": "795e3fb8",
   "metadata": {},
   "outputs": [
    {
     "data": {
      "image/png": "[encoded data removed]",
      "text/plain": [
       "<Figure size 432x288 with 1 Axes>"
      ]
     },
     "metadata": {
      "needs_background": "light"
     },
     "output_type": "display_data"
    }
   ],
   "source": [
    "df_car['Price'].hist();\n",
    "plt.title('Histogram by Price',fontsize=20)\n",
    "plt.show()"
   ]
  },
  {
   "cell_type": "code",
   "execution_count": 41,
   "id": "5f66ae32",
   "metadata": {},
   "outputs": [
    {
     "data": {
      "text/plain": [
       "10219"
      ]
     },
     "execution_count": 41,
     "metadata": {},
     "output_type": "execute_result"
    }
   ],
   "source": [
    "df_car.Price[df_car['Price']==0].count()"
   ]
  },
  {
   "cell_type": "code",
   "execution_count": 42,
   "id": "552b2dbc",
   "metadata": {},
   "outputs": [],
   "source": [
    "df_car = df_car[df_car['Price']>0]"
   ]
  },
  {
   "cell_type": "code",
   "execution_count": 43,
   "id": "db88b2b4",
   "metadata": {},
   "outputs": [
    {
     "data": {
      "text/plain": [
       "340576"
      ]
     },
     "execution_count": 43,
     "metadata": {},
     "output_type": "execute_result"
    }
   ],
   "source": [
    "len(df_car) # removing Price of zero since no car should be worth zero otherwise why try to sell it."
   ]
  },
  {
   "cell_type": "markdown",
   "id": "e61f53e6",
   "metadata": {},
   "source": [
    "***Lets check CatBoostRegressor***"
   ]
  },
  {
   "cell_type": "markdown",
   "id": "3cde8e8d",
   "metadata": {},
   "source": [
    "I first just want to see the magic of CatBoostRegressor since it doesn't need to encode categorical features and it can even handle NaN values internally. "
   ]
  },
  {
   "cell_type": "code",
   "execution_count": 44,
   "id": "6db546ee",
   "metadata": {},
   "outputs": [],
   "source": [
    "categorical_features = ['VehicleType','Gearbox','Model','FuelType','Brand','NotRepaired']"
   ]
  },
  {
   "cell_type": "code",
   "execution_count": 45,
   "id": "7ec1649c",
   "metadata": {},
   "outputs": [
    {
     "data": {
      "text/plain": [
       "['VehicleType', 'Gearbox', 'Model', 'FuelType', 'Brand', 'NotRepaired']"
      ]
     },
     "execution_count": 45,
     "metadata": {},
     "output_type": "execute_result"
    }
   ],
   "source": [
    "categorical_features"
   ]
  },
  {
   "cell_type": "code",
   "execution_count": 46,
   "id": "d6ffb650",
   "metadata": {},
   "outputs": [
    {
     "data": {
      "text/plain": [
       "VehicleType    0\n",
       "Gearbox        0\n",
       "Model          0\n",
       "FuelType       0\n",
       "Brand          0\n",
       "NotRepaired    0\n",
       "dtype: int64"
      ]
     },
     "execution_count": 46,
     "metadata": {},
     "output_type": "execute_result"
    }
   ],
   "source": [
    "df_car[categorical_features].isna().sum()"
   ]
  },
  {
   "cell_type": "code",
   "execution_count": 47,
   "id": "e45cde86",
   "metadata": {
    "scrolled": true
   },
   "outputs": [
    {
     "data": {
      "text/html": [
       "<div>\n",
       "<style scoped>\n",
       "    .dataframe tbody tr th:only-of-type {\n",
       "        vertical-align: middle;\n",
       "    }\n",
       "\n",
       "    .dataframe tbody tr th {\n",
       "        vertical-align: top;\n",
       "    }\n",
       "\n",
       "    .dataframe thead th {\n",
       "        text-align: right;\n",
       "    }\n",
       "</style>\n",
       "<table border=\"1\" class=\"dataframe\">\n",
       "  <thead>\n",
       "    <tr style=\"text-align: right;\">\n",
       "      <th></th>\n",
       "      <th>VehicleType</th>\n",
       "      <th>Gearbox</th>\n",
       "      <th>Model</th>\n",
       "      <th>FuelType</th>\n",
       "      <th>Brand</th>\n",
       "      <th>NotRepaired</th>\n",
       "    </tr>\n",
       "  </thead>\n",
       "  <tbody>\n",
       "    <tr>\n",
       "      <th>2</th>\n",
       "      <td>suv</td>\n",
       "      <td>auto</td>\n",
       "      <td>grand</td>\n",
       "      <td>gasoline</td>\n",
       "      <td>jeep</td>\n",
       "      <td>unknown</td>\n",
       "    </tr>\n",
       "    <tr>\n",
       "      <th>3</th>\n",
       "      <td>small</td>\n",
       "      <td>manual</td>\n",
       "      <td>golf</td>\n",
       "      <td>petrol</td>\n",
       "      <td>volkswagen</td>\n",
       "      <td>no</td>\n",
       "    </tr>\n",
       "    <tr>\n",
       "      <th>4</th>\n",
       "      <td>small</td>\n",
       "      <td>manual</td>\n",
       "      <td>fabia</td>\n",
       "      <td>gasoline</td>\n",
       "      <td>skoda</td>\n",
       "      <td>no</td>\n",
       "    </tr>\n",
       "    <tr>\n",
       "      <th>5</th>\n",
       "      <td>sedan</td>\n",
       "      <td>manual</td>\n",
       "      <td>3er</td>\n",
       "      <td>petrol</td>\n",
       "      <td>bmw</td>\n",
       "      <td>yes</td>\n",
       "    </tr>\n",
       "    <tr>\n",
       "      <th>6</th>\n",
       "      <td>convertible</td>\n",
       "      <td>manual</td>\n",
       "      <td>2_reihe</td>\n",
       "      <td>petrol</td>\n",
       "      <td>peugeot</td>\n",
       "      <td>no</td>\n",
       "    </tr>\n",
       "    <tr>\n",
       "      <th>...</th>\n",
       "      <td>...</td>\n",
       "      <td>...</td>\n",
       "      <td>...</td>\n",
       "      <td>...</td>\n",
       "      <td>...</td>\n",
       "      <td>...</td>\n",
       "    </tr>\n",
       "    <tr>\n",
       "      <th>354362</th>\n",
       "      <td>sedan</td>\n",
       "      <td>manual</td>\n",
       "      <td>leon</td>\n",
       "      <td>petrol</td>\n",
       "      <td>seat</td>\n",
       "      <td>yes</td>\n",
       "    </tr>\n",
       "    <tr>\n",
       "      <th>354363</th>\n",
       "      <td>bus</td>\n",
       "      <td>manual</td>\n",
       "      <td>zafira</td>\n",
       "      <td>petrol</td>\n",
       "      <td>opel</td>\n",
       "      <td>no</td>\n",
       "    </tr>\n",
       "    <tr>\n",
       "      <th>354366</th>\n",
       "      <td>convertible</td>\n",
       "      <td>auto</td>\n",
       "      <td>fortwo</td>\n",
       "      <td>petrol</td>\n",
       "      <td>smart</td>\n",
       "      <td>no</td>\n",
       "    </tr>\n",
       "    <tr>\n",
       "      <th>354367</th>\n",
       "      <td>bus</td>\n",
       "      <td>manual</td>\n",
       "      <td>transporter</td>\n",
       "      <td>gasoline</td>\n",
       "      <td>volkswagen</td>\n",
       "      <td>no</td>\n",
       "    </tr>\n",
       "    <tr>\n",
       "      <th>354368</th>\n",
       "      <td>wagon</td>\n",
       "      <td>manual</td>\n",
       "      <td>golf</td>\n",
       "      <td>gasoline</td>\n",
       "      <td>volkswagen</td>\n",
       "      <td>unknown</td>\n",
       "    </tr>\n",
       "  </tbody>\n",
       "</table>\n",
       "<p>340576 rows × 6 columns</p>\n",
       "</div>"
      ],
      "text/plain": [
       "        VehicleType Gearbox        Model  FuelType       Brand NotRepaired\n",
       "2               suv    auto        grand  gasoline        jeep     unknown\n",
       "3             small  manual         golf    petrol  volkswagen          no\n",
       "4             small  manual        fabia  gasoline       skoda          no\n",
       "5             sedan  manual          3er    petrol         bmw         yes\n",
       "6       convertible  manual      2_reihe    petrol     peugeot          no\n",
       "...             ...     ...          ...       ...         ...         ...\n",
       "354362        sedan  manual         leon    petrol        seat         yes\n",
       "354363          bus  manual       zafira    petrol        opel          no\n",
       "354366  convertible    auto       fortwo    petrol       smart          no\n",
       "354367          bus  manual  transporter  gasoline  volkswagen          no\n",
       "354368        wagon  manual         golf  gasoline  volkswagen     unknown\n",
       "\n",
       "[340576 rows x 6 columns]"
      ]
     },
     "execution_count": 47,
     "metadata": {},
     "output_type": "execute_result"
    }
   ],
   "source": [
    "df_car[categorical_features]"
   ]
  },
  {
   "cell_type": "code",
   "execution_count": 48,
   "id": "57aa189a",
   "metadata": {},
   "outputs": [
    {
     "data": {
      "text/plain": [
       "340576"
      ]
     },
     "execution_count": 48,
     "metadata": {},
     "output_type": "execute_result"
    }
   ],
   "source": [
    "len(df_car)"
   ]
  },
  {
   "cell_type": "code",
   "execution_count": 49,
   "id": "723aa7a7",
   "metadata": {},
   "outputs": [],
   "source": [
    "df_train, df_test = train_test_split(df_car, test_size=0.4, random_state=77) #unsing random state of 2023 I will change it below"
   ]
  },
  {
   "cell_type": "code",
   "execution_count": 50,
   "id": "1e568146",
   "metadata": {},
   "outputs": [],
   "source": [
    "X_train = df_train.drop(['Price'], axis=1)"
   ]
  },
  {
   "cell_type": "code",
   "execution_count": 51,
   "id": "267dfd36",
   "metadata": {},
   "outputs": [],
   "source": [
    "y_train = df_train['Price']"
   ]
  },
  {
   "cell_type": "code",
   "execution_count": 52,
   "id": "b0ceca13",
   "metadata": {},
   "outputs": [
    {
     "data": {
      "text/plain": [
       "204345"
      ]
     },
     "execution_count": 52,
     "metadata": {},
     "output_type": "execute_result"
    }
   ],
   "source": [
    "len(df_train)"
   ]
  },
  {
   "cell_type": "code",
   "execution_count": 53,
   "id": "5549d6ed",
   "metadata": {},
   "outputs": [
    {
     "data": {
      "text/html": [
       "<div>\n",
       "<style scoped>\n",
       "    .dataframe tbody tr th:only-of-type {\n",
       "        vertical-align: middle;\n",
       "    }\n",
       "\n",
       "    .dataframe tbody tr th {\n",
       "        vertical-align: top;\n",
       "    }\n",
       "\n",
       "    .dataframe thead th {\n",
       "        text-align: right;\n",
       "    }\n",
       "</style>\n",
       "<table border=\"1\" class=\"dataframe\">\n",
       "  <thead>\n",
       "    <tr style=\"text-align: right;\">\n",
       "      <th></th>\n",
       "      <th>VehicleType</th>\n",
       "      <th>RegistrationYear</th>\n",
       "      <th>Gearbox</th>\n",
       "      <th>Power</th>\n",
       "      <th>Model</th>\n",
       "      <th>Mileage</th>\n",
       "      <th>RegistrationMonth</th>\n",
       "      <th>FuelType</th>\n",
       "      <th>Brand</th>\n",
       "      <th>NotRepaired</th>\n",
       "    </tr>\n",
       "  </thead>\n",
       "  <tbody>\n",
       "    <tr>\n",
       "      <th>206350</th>\n",
       "      <td>coupe</td>\n",
       "      <td>2008</td>\n",
       "      <td>manual</td>\n",
       "      <td>177</td>\n",
       "      <td>1er</td>\n",
       "      <td>150000</td>\n",
       "      <td>7</td>\n",
       "      <td>gasoline</td>\n",
       "      <td>bmw</td>\n",
       "      <td>no</td>\n",
       "    </tr>\n",
       "    <tr>\n",
       "      <th>8097</th>\n",
       "      <td>sedan</td>\n",
       "      <td>1997</td>\n",
       "      <td>manual</td>\n",
       "      <td>150</td>\n",
       "      <td>5er</td>\n",
       "      <td>150000</td>\n",
       "      <td>7</td>\n",
       "      <td>petrol</td>\n",
       "      <td>bmw</td>\n",
       "      <td>no</td>\n",
       "    </tr>\n",
       "    <tr>\n",
       "      <th>35355</th>\n",
       "      <td>bus</td>\n",
       "      <td>2009</td>\n",
       "      <td>manual</td>\n",
       "      <td>86</td>\n",
       "      <td>roomster</td>\n",
       "      <td>70000</td>\n",
       "      <td>3</td>\n",
       "      <td>petrol</td>\n",
       "      <td>skoda</td>\n",
       "      <td>no</td>\n",
       "    </tr>\n",
       "    <tr>\n",
       "      <th>6597</th>\n",
       "      <td>small</td>\n",
       "      <td>1995</td>\n",
       "      <td>auto</td>\n",
       "      <td>116</td>\n",
       "      <td>colt</td>\n",
       "      <td>150000</td>\n",
       "      <td>9</td>\n",
       "      <td>petrol</td>\n",
       "      <td>mitsubishi</td>\n",
       "      <td>unknown</td>\n",
       "    </tr>\n",
       "    <tr>\n",
       "      <th>94893</th>\n",
       "      <td>wagon</td>\n",
       "      <td>2006</td>\n",
       "      <td>auto</td>\n",
       "      <td>0</td>\n",
       "      <td>passat</td>\n",
       "      <td>150000</td>\n",
       "      <td>0</td>\n",
       "      <td>petrol</td>\n",
       "      <td>volkswagen</td>\n",
       "      <td>unknown</td>\n",
       "    </tr>\n",
       "  </tbody>\n",
       "</table>\n",
       "</div>"
      ],
      "text/plain": [
       "       VehicleType  RegistrationYear Gearbox  Power     Model  Mileage  \\\n",
       "206350       coupe              2008  manual    177       1er   150000   \n",
       "8097         sedan              1997  manual    150       5er   150000   \n",
       "35355          bus              2009  manual     86  roomster    70000   \n",
       "6597         small              1995    auto    116      colt   150000   \n",
       "94893        wagon              2006    auto      0    passat   150000   \n",
       "\n",
       "        RegistrationMonth  FuelType       Brand NotRepaired  \n",
       "206350                  7  gasoline         bmw          no  \n",
       "8097                    7    petrol         bmw          no  \n",
       "35355                   3    petrol       skoda          no  \n",
       "6597                    9    petrol  mitsubishi     unknown  \n",
       "94893                   0    petrol  volkswagen     unknown  "
      ]
     },
     "execution_count": 53,
     "metadata": {},
     "output_type": "execute_result"
    }
   ],
   "source": [
    "X_train.head()"
   ]
  },
  {
   "cell_type": "code",
   "execution_count": 54,
   "id": "42a92205",
   "metadata": {},
   "outputs": [
    {
     "data": {
      "text/plain": [
       "136231"
      ]
     },
     "execution_count": 54,
     "metadata": {},
     "output_type": "execute_result"
    }
   ],
   "source": [
    "len(df_test)"
   ]
  },
  {
   "cell_type": "code",
   "execution_count": 55,
   "id": "77ba60f9",
   "metadata": {},
   "outputs": [],
   "source": [
    "df_valid, df_test_2 = train_test_split(df_test, test_size=0.5, random_state=77)"
   ]
  },
  {
   "cell_type": "code",
   "execution_count": 56,
   "id": "2d0a2b48",
   "metadata": {},
   "outputs": [],
   "source": [
    "X_test = df_test_2.drop(['Price'], axis=1)"
   ]
  },
  {
   "cell_type": "code",
   "execution_count": 57,
   "id": "cb61e54f",
   "metadata": {},
   "outputs": [
    {
     "data": {
      "text/plain": [
       "68116"
      ]
     },
     "execution_count": 57,
     "metadata": {},
     "output_type": "execute_result"
    }
   ],
   "source": [
    "len(df_test_2)"
   ]
  },
  {
   "cell_type": "code",
   "execution_count": 58,
   "id": "53ce5ea4",
   "metadata": {},
   "outputs": [],
   "source": [
    "y_test = df_test_2['Price'] "
   ]
  },
  {
   "cell_type": "code",
   "execution_count": 59,
   "id": "00249dc8",
   "metadata": {},
   "outputs": [],
   "source": [
    "X_valid = df_valid.drop(['Price'], axis=1)"
   ]
  },
  {
   "cell_type": "code",
   "execution_count": 60,
   "id": "28af7547",
   "metadata": {},
   "outputs": [
    {
     "data": {
      "text/html": [
       "<div>\n",
       "<style scoped>\n",
       "    .dataframe tbody tr th:only-of-type {\n",
       "        vertical-align: middle;\n",
       "    }\n",
       "\n",
       "    .dataframe tbody tr th {\n",
       "        vertical-align: top;\n",
       "    }\n",
       "\n",
       "    .dataframe thead th {\n",
       "        text-align: right;\n",
       "    }\n",
       "</style>\n",
       "<table border=\"1\" class=\"dataframe\">\n",
       "  <thead>\n",
       "    <tr style=\"text-align: right;\">\n",
       "      <th></th>\n",
       "      <th>VehicleType</th>\n",
       "      <th>RegistrationYear</th>\n",
       "      <th>Gearbox</th>\n",
       "      <th>Power</th>\n",
       "      <th>Model</th>\n",
       "      <th>Mileage</th>\n",
       "      <th>RegistrationMonth</th>\n",
       "      <th>FuelType</th>\n",
       "      <th>Brand</th>\n",
       "      <th>NotRepaired</th>\n",
       "    </tr>\n",
       "  </thead>\n",
       "  <tbody>\n",
       "    <tr>\n",
       "      <th>237555</th>\n",
       "      <td>small</td>\n",
       "      <td>1995</td>\n",
       "      <td>manual</td>\n",
       "      <td>0</td>\n",
       "      <td>golf</td>\n",
       "      <td>150000</td>\n",
       "      <td>0</td>\n",
       "      <td>petrol</td>\n",
       "      <td>volkswagen</td>\n",
       "      <td>unknown</td>\n",
       "    </tr>\n",
       "    <tr>\n",
       "      <th>241036</th>\n",
       "      <td>bus</td>\n",
       "      <td>1999</td>\n",
       "      <td>manual</td>\n",
       "      <td>88</td>\n",
       "      <td>transporter</td>\n",
       "      <td>150000</td>\n",
       "      <td>7</td>\n",
       "      <td>gasoline</td>\n",
       "      <td>volkswagen</td>\n",
       "      <td>no</td>\n",
       "    </tr>\n",
       "    <tr>\n",
       "      <th>317981</th>\n",
       "      <td>wagon</td>\n",
       "      <td>2018</td>\n",
       "      <td>manual</td>\n",
       "      <td>0</td>\n",
       "      <td>a4</td>\n",
       "      <td>150000</td>\n",
       "      <td>2</td>\n",
       "      <td>petrol</td>\n",
       "      <td>audi</td>\n",
       "      <td>unknown</td>\n",
       "    </tr>\n",
       "    <tr>\n",
       "      <th>262046</th>\n",
       "      <td>sedan</td>\n",
       "      <td>2008</td>\n",
       "      <td>auto</td>\n",
       "      <td>190</td>\n",
       "      <td>e_klasse</td>\n",
       "      <td>150000</td>\n",
       "      <td>6</td>\n",
       "      <td>gasoline</td>\n",
       "      <td>mercedes_benz</td>\n",
       "      <td>no</td>\n",
       "    </tr>\n",
       "    <tr>\n",
       "      <th>93957</th>\n",
       "      <td>wagon</td>\n",
       "      <td>2012</td>\n",
       "      <td>auto</td>\n",
       "      <td>204</td>\n",
       "      <td>a6</td>\n",
       "      <td>150000</td>\n",
       "      <td>9</td>\n",
       "      <td>gasoline</td>\n",
       "      <td>audi</td>\n",
       "      <td>yes</td>\n",
       "    </tr>\n",
       "  </tbody>\n",
       "</table>\n",
       "</div>"
      ],
      "text/plain": [
       "       VehicleType  RegistrationYear Gearbox  Power        Model  Mileage  \\\n",
       "237555       small              1995  manual      0         golf   150000   \n",
       "241036         bus              1999  manual     88  transporter   150000   \n",
       "317981       wagon              2018  manual      0           a4   150000   \n",
       "262046       sedan              2008    auto    190     e_klasse   150000   \n",
       "93957        wagon              2012    auto    204           a6   150000   \n",
       "\n",
       "        RegistrationMonth  FuelType          Brand NotRepaired  \n",
       "237555                  0    petrol     volkswagen     unknown  \n",
       "241036                  7  gasoline     volkswagen          no  \n",
       "317981                  2    petrol           audi     unknown  \n",
       "262046                  6  gasoline  mercedes_benz          no  \n",
       "93957                   9  gasoline           audi         yes  "
      ]
     },
     "execution_count": 60,
     "metadata": {},
     "output_type": "execute_result"
    }
   ],
   "source": [
    "X_test.head()"
   ]
  },
  {
   "cell_type": "code",
   "execution_count": 61,
   "id": "078e3c2b",
   "metadata": {},
   "outputs": [],
   "source": [
    "y_valid = df_valid['Price'] "
   ]
  },
  {
   "cell_type": "code",
   "execution_count": 62,
   "id": "e2b9b3cb",
   "metadata": {},
   "outputs": [
    {
     "data": {
      "text/plain": [
       "['VehicleType', 'Gearbox', 'Model', 'FuelType', 'Brand', 'NotRepaired']"
      ]
     },
     "execution_count": 62,
     "metadata": {},
     "output_type": "execute_result"
    }
   ],
   "source": [
    "categorical_features"
   ]
  },
  {
   "cell_type": "code",
   "execution_count": 63,
   "id": "c83f2ea3",
   "metadata": {},
   "outputs": [
    {
     "data": {
      "text/html": [
       "<div>\n",
       "<style scoped>\n",
       "    .dataframe tbody tr th:only-of-type {\n",
       "        vertical-align: middle;\n",
       "    }\n",
       "\n",
       "    .dataframe tbody tr th {\n",
       "        vertical-align: top;\n",
       "    }\n",
       "\n",
       "    .dataframe thead th {\n",
       "        text-align: right;\n",
       "    }\n",
       "</style>\n",
       "<table border=\"1\" class=\"dataframe\">\n",
       "  <thead>\n",
       "    <tr style=\"text-align: right;\">\n",
       "      <th></th>\n",
       "      <th>VehicleType</th>\n",
       "      <th>Gearbox</th>\n",
       "      <th>Model</th>\n",
       "      <th>FuelType</th>\n",
       "      <th>Brand</th>\n",
       "      <th>NotRepaired</th>\n",
       "    </tr>\n",
       "  </thead>\n",
       "  <tbody>\n",
       "    <tr>\n",
       "      <th>2</th>\n",
       "      <td>suv</td>\n",
       "      <td>auto</td>\n",
       "      <td>grand</td>\n",
       "      <td>gasoline</td>\n",
       "      <td>jeep</td>\n",
       "      <td>unknown</td>\n",
       "    </tr>\n",
       "    <tr>\n",
       "      <th>3</th>\n",
       "      <td>small</td>\n",
       "      <td>manual</td>\n",
       "      <td>golf</td>\n",
       "      <td>petrol</td>\n",
       "      <td>volkswagen</td>\n",
       "      <td>no</td>\n",
       "    </tr>\n",
       "    <tr>\n",
       "      <th>4</th>\n",
       "      <td>small</td>\n",
       "      <td>manual</td>\n",
       "      <td>fabia</td>\n",
       "      <td>gasoline</td>\n",
       "      <td>skoda</td>\n",
       "      <td>no</td>\n",
       "    </tr>\n",
       "    <tr>\n",
       "      <th>5</th>\n",
       "      <td>sedan</td>\n",
       "      <td>manual</td>\n",
       "      <td>3er</td>\n",
       "      <td>petrol</td>\n",
       "      <td>bmw</td>\n",
       "      <td>yes</td>\n",
       "    </tr>\n",
       "    <tr>\n",
       "      <th>6</th>\n",
       "      <td>convertible</td>\n",
       "      <td>manual</td>\n",
       "      <td>2_reihe</td>\n",
       "      <td>petrol</td>\n",
       "      <td>peugeot</td>\n",
       "      <td>no</td>\n",
       "    </tr>\n",
       "    <tr>\n",
       "      <th>...</th>\n",
       "      <td>...</td>\n",
       "      <td>...</td>\n",
       "      <td>...</td>\n",
       "      <td>...</td>\n",
       "      <td>...</td>\n",
       "      <td>...</td>\n",
       "    </tr>\n",
       "    <tr>\n",
       "      <th>354362</th>\n",
       "      <td>sedan</td>\n",
       "      <td>manual</td>\n",
       "      <td>leon</td>\n",
       "      <td>petrol</td>\n",
       "      <td>seat</td>\n",
       "      <td>yes</td>\n",
       "    </tr>\n",
       "    <tr>\n",
       "      <th>354363</th>\n",
       "      <td>bus</td>\n",
       "      <td>manual</td>\n",
       "      <td>zafira</td>\n",
       "      <td>petrol</td>\n",
       "      <td>opel</td>\n",
       "      <td>no</td>\n",
       "    </tr>\n",
       "    <tr>\n",
       "      <th>354366</th>\n",
       "      <td>convertible</td>\n",
       "      <td>auto</td>\n",
       "      <td>fortwo</td>\n",
       "      <td>petrol</td>\n",
       "      <td>smart</td>\n",
       "      <td>no</td>\n",
       "    </tr>\n",
       "    <tr>\n",
       "      <th>354367</th>\n",
       "      <td>bus</td>\n",
       "      <td>manual</td>\n",
       "      <td>transporter</td>\n",
       "      <td>gasoline</td>\n",
       "      <td>volkswagen</td>\n",
       "      <td>no</td>\n",
       "    </tr>\n",
       "    <tr>\n",
       "      <th>354368</th>\n",
       "      <td>wagon</td>\n",
       "      <td>manual</td>\n",
       "      <td>golf</td>\n",
       "      <td>gasoline</td>\n",
       "      <td>volkswagen</td>\n",
       "      <td>unknown</td>\n",
       "    </tr>\n",
       "  </tbody>\n",
       "</table>\n",
       "<p>340576 rows × 6 columns</p>\n",
       "</div>"
      ],
      "text/plain": [
       "        VehicleType Gearbox        Model  FuelType       Brand NotRepaired\n",
       "2               suv    auto        grand  gasoline        jeep     unknown\n",
       "3             small  manual         golf    petrol  volkswagen          no\n",
       "4             small  manual        fabia  gasoline       skoda          no\n",
       "5             sedan  manual          3er    petrol         bmw         yes\n",
       "6       convertible  manual      2_reihe    petrol     peugeot          no\n",
       "...             ...     ...          ...       ...         ...         ...\n",
       "354362        sedan  manual         leon    petrol        seat         yes\n",
       "354363          bus  manual       zafira    petrol        opel          no\n",
       "354366  convertible    auto       fortwo    petrol       smart          no\n",
       "354367          bus  manual  transporter  gasoline  volkswagen          no\n",
       "354368        wagon  manual         golf  gasoline  volkswagen     unknown\n",
       "\n",
       "[340576 rows x 6 columns]"
      ]
     },
     "execution_count": 63,
     "metadata": {},
     "output_type": "execute_result"
    }
   ],
   "source": [
    "df_car[categorical_features]"
   ]
  },
  {
   "cell_type": "code",
   "execution_count": 64,
   "id": "a94ce44e",
   "metadata": {},
   "outputs": [
    {
     "data": {
      "text/html": [
       "<div>\n",
       "<style scoped>\n",
       "    .dataframe tbody tr th:only-of-type {\n",
       "        vertical-align: middle;\n",
       "    }\n",
       "\n",
       "    .dataframe tbody tr th {\n",
       "        vertical-align: top;\n",
       "    }\n",
       "\n",
       "    .dataframe thead th {\n",
       "        text-align: right;\n",
       "    }\n",
       "</style>\n",
       "<table border=\"1\" class=\"dataframe\">\n",
       "  <thead>\n",
       "    <tr style=\"text-align: right;\">\n",
       "      <th></th>\n",
       "      <th>VehicleType</th>\n",
       "      <th>RegistrationYear</th>\n",
       "      <th>Gearbox</th>\n",
       "      <th>Power</th>\n",
       "      <th>Model</th>\n",
       "      <th>Mileage</th>\n",
       "      <th>RegistrationMonth</th>\n",
       "      <th>FuelType</th>\n",
       "      <th>Brand</th>\n",
       "      <th>NotRepaired</th>\n",
       "    </tr>\n",
       "  </thead>\n",
       "  <tbody>\n",
       "    <tr>\n",
       "      <th>206350</th>\n",
       "      <td>coupe</td>\n",
       "      <td>2008</td>\n",
       "      <td>manual</td>\n",
       "      <td>177</td>\n",
       "      <td>1er</td>\n",
       "      <td>150000</td>\n",
       "      <td>7</td>\n",
       "      <td>gasoline</td>\n",
       "      <td>bmw</td>\n",
       "      <td>no</td>\n",
       "    </tr>\n",
       "    <tr>\n",
       "      <th>8097</th>\n",
       "      <td>sedan</td>\n",
       "      <td>1997</td>\n",
       "      <td>manual</td>\n",
       "      <td>150</td>\n",
       "      <td>5er</td>\n",
       "      <td>150000</td>\n",
       "      <td>7</td>\n",
       "      <td>petrol</td>\n",
       "      <td>bmw</td>\n",
       "      <td>no</td>\n",
       "    </tr>\n",
       "    <tr>\n",
       "      <th>35355</th>\n",
       "      <td>bus</td>\n",
       "      <td>2009</td>\n",
       "      <td>manual</td>\n",
       "      <td>86</td>\n",
       "      <td>roomster</td>\n",
       "      <td>70000</td>\n",
       "      <td>3</td>\n",
       "      <td>petrol</td>\n",
       "      <td>skoda</td>\n",
       "      <td>no</td>\n",
       "    </tr>\n",
       "    <tr>\n",
       "      <th>6597</th>\n",
       "      <td>small</td>\n",
       "      <td>1995</td>\n",
       "      <td>auto</td>\n",
       "      <td>116</td>\n",
       "      <td>colt</td>\n",
       "      <td>150000</td>\n",
       "      <td>9</td>\n",
       "      <td>petrol</td>\n",
       "      <td>mitsubishi</td>\n",
       "      <td>unknown</td>\n",
       "    </tr>\n",
       "    <tr>\n",
       "      <th>94893</th>\n",
       "      <td>wagon</td>\n",
       "      <td>2006</td>\n",
       "      <td>auto</td>\n",
       "      <td>0</td>\n",
       "      <td>passat</td>\n",
       "      <td>150000</td>\n",
       "      <td>0</td>\n",
       "      <td>petrol</td>\n",
       "      <td>volkswagen</td>\n",
       "      <td>unknown</td>\n",
       "    </tr>\n",
       "  </tbody>\n",
       "</table>\n",
       "</div>"
      ],
      "text/plain": [
       "       VehicleType  RegistrationYear Gearbox  Power     Model  Mileage  \\\n",
       "206350       coupe              2008  manual    177       1er   150000   \n",
       "8097         sedan              1997  manual    150       5er   150000   \n",
       "35355          bus              2009  manual     86  roomster    70000   \n",
       "6597         small              1995    auto    116      colt   150000   \n",
       "94893        wagon              2006    auto      0    passat   150000   \n",
       "\n",
       "        RegistrationMonth  FuelType       Brand NotRepaired  \n",
       "206350                  7  gasoline         bmw          no  \n",
       "8097                    7    petrol         bmw          no  \n",
       "35355                   3    petrol       skoda          no  \n",
       "6597                    9    petrol  mitsubishi     unknown  \n",
       "94893                   0    petrol  volkswagen     unknown  "
      ]
     },
     "execution_count": 64,
     "metadata": {},
     "output_type": "execute_result"
    }
   ],
   "source": [
    "X_train.head()"
   ]
  },
  {
   "cell_type": "code",
   "execution_count": 65,
   "id": "993f4797",
   "metadata": {
    "scrolled": true
   },
   "outputs": [
    {
     "data": {
      "text/plain": [
       "VehicleType    0\n",
       "Gearbox        0\n",
       "Model          0\n",
       "FuelType       0\n",
       "Brand          0\n",
       "NotRepaired    0\n",
       "dtype: int64"
      ]
     },
     "execution_count": 65,
     "metadata": {},
     "output_type": "execute_result"
    }
   ],
   "source": [
    "df_car[categorical_features].isna().sum()"
   ]
  },
  {
   "cell_type": "code",
   "execution_count": 66,
   "id": "c0493563",
   "metadata": {},
   "outputs": [
    {
     "name": "stdout",
     "output_type": "stream",
     "text": [
      "CPU times: user 221 µs, sys: 779 µs, total: 1e+03 µs\n",
      "Wall time: 7.42 ms\n"
     ]
    }
   ],
   "source": [
    "%%time\n",
    "model_cat = CatBoostRegressor(iterations = 100,\n",
    "                          cat_features=categorical_features,\n",
    "                          metric_period =50,\n",
    "                          random_state=77\n",
    "                          )\n",
    "\n"
   ]
  },
  {
   "cell_type": "code",
   "execution_count": 67,
   "id": "eebec360",
   "metadata": {},
   "outputs": [
    {
     "data": {
      "text/plain": [
       "237555       60\n",
       "241036     5300\n",
       "317981     1599\n",
       "262046    11000\n",
       "93957     17400\n",
       "          ...  \n",
       "334860     2500\n",
       "183084     6500\n",
       "274767      750\n",
       "76298      7000\n",
       "127863      300\n",
       "Name: Price, Length: 100, dtype: int64"
      ]
     },
     "execution_count": 67,
     "metadata": {},
     "output_type": "execute_result"
    }
   ],
   "source": [
    "y_test.head(100)"
   ]
  },
  {
   "cell_type": "code",
   "execution_count": 68,
   "id": "78544fcf",
   "metadata": {
    "scrolled": true
   },
   "outputs": [
    {
     "name": "stdout",
     "output_type": "stream",
     "text": [
      "Learning rate set to 0.5\n",
      "0:\tlearn: 3254.2123586\ttest: 3247.6370644\tbest: 3247.6370644 (0)\ttotal: 90ms\tremaining: 8.91s\n",
      "50:\tlearn: 1745.2955011\ttest: 1779.5893496\tbest: 1779.5893496 (50)\ttotal: 958ms\tremaining: 921ms\n",
      "99:\tlearn: 1675.4742117\ttest: 1733.2207409\tbest: 1733.2207409 (99)\ttotal: 1.81s\tremaining: 0us\n",
      "\n",
      "bestTest = 1733.220741\n",
      "bestIteration = 99\n",
      "\n"
     ]
    },
    {
     "data": {
      "text/plain": [
       "<catboost.core.CatBoostRegressor at 0x7fc982237970>"
      ]
     },
     "execution_count": 68,
     "metadata": {},
     "output_type": "execute_result"
    }
   ],
   "source": [
    "\n",
    "model_cat.fit(X_train, y_train, eval_set=(X_valid, y_valid), cat_features=categorical_features)"
   ]
  },
  {
   "cell_type": "code",
   "execution_count": 69,
   "id": "6d434acd",
   "metadata": {},
   "outputs": [
    {
     "name": "stdout",
     "output_type": "stream",
     "text": [
      "CPU times: user 84.3 ms, sys: 8.81 ms, total: 93.1 ms\n",
      "Wall time: 72.2 ms\n"
     ]
    },
    {
     "data": {
      "text/plain": [
       "array([10446.3170504 ,  1548.19725453,  8011.21079268, ...,\n",
       "       15629.4650663 ,  2030.15594038,  2728.07414504])"
      ]
     },
     "execution_count": 69,
     "metadata": {},
     "output_type": "execute_result"
    }
   ],
   "source": [
    "%%time\n",
    " model_cat.predict(X_valid) "
   ]
  },
  {
   "cell_type": "markdown",
   "id": "c099fed5",
   "metadata": {},
   "source": [
    "***Creating an RMSE function for scoring***"
   ]
  },
  {
   "cell_type": "code",
   "execution_count": 70,
   "id": "02832a29",
   "metadata": {},
   "outputs": [],
   "source": [
    "def rmse (y, a):\n",
    "    return mean_squared_error(y, a)**0.5 #creating an rmse function which is just the squared root of mse"
   ]
  },
  {
   "cell_type": "markdown",
   "id": "87f24fc0",
   "metadata": {},
   "source": [
    "***Linear Regression***"
   ]
  },
  {
   "cell_type": "code",
   "execution_count": 71,
   "id": "9dd0bea8",
   "metadata": {},
   "outputs": [
    {
     "data": {
      "text/plain": [
       "11"
      ]
     },
     "execution_count": 71,
     "metadata": {},
     "output_type": "execute_result"
    }
   ],
   "source": [
    "len(df_car.columns)"
   ]
  },
  {
   "cell_type": "code",
   "execution_count": 72,
   "id": "18e12687",
   "metadata": {},
   "outputs": [],
   "source": [
    "df_car_ohe = pd.get_dummies(df_car,columns =categorical_features, drop_first=True)"
   ]
  },
  {
   "cell_type": "code",
   "execution_count": 73,
   "id": "ebd10deb",
   "metadata": {},
   "outputs": [],
   "source": [
    "X_ohe = df_car_ohe.drop(['Price'], axis = 1) \n",
    "y_ohe = df_car_ohe['Price']"
   ]
  },
  {
   "cell_type": "code",
   "execution_count": 74,
   "id": "588c696a",
   "metadata": {},
   "outputs": [],
   "source": [
    "X_train_ohe, X_test_ohe_1, y_train_ohe, y_test_ohe_1 = train_test_split(X_ohe, y_ohe , test_size=0.4, random_state=77)"
   ]
  },
  {
   "cell_type": "code",
   "execution_count": 75,
   "id": "4162dac3",
   "metadata": {},
   "outputs": [],
   "source": [
    "X_valid_ohe, X_test_ohe, y_valid_ohe, y_test_ohe = train_test_split(X_test_ohe_1, y_test_ohe_1, test_size=0.5, random_state=77)"
   ]
  },
  {
   "cell_type": "code",
   "execution_count": 76,
   "id": "19501339",
   "metadata": {},
   "outputs": [
    {
     "data": {
      "text/plain": [
       "204345"
      ]
     },
     "execution_count": 76,
     "metadata": {},
     "output_type": "execute_result"
    }
   ],
   "source": [
    "len(X_train_ohe)"
   ]
  },
  {
   "cell_type": "code",
   "execution_count": 77,
   "id": "0712ce21",
   "metadata": {},
   "outputs": [
    {
     "data": {
      "text/html": [
       "<div>\n",
       "<style scoped>\n",
       "    .dataframe tbody tr th:only-of-type {\n",
       "        vertical-align: middle;\n",
       "    }\n",
       "\n",
       "    .dataframe tbody tr th {\n",
       "        vertical-align: top;\n",
       "    }\n",
       "\n",
       "    .dataframe thead th {\n",
       "        text-align: right;\n",
       "    }\n",
       "</style>\n",
       "<table border=\"1\" class=\"dataframe\">\n",
       "  <thead>\n",
       "    <tr style=\"text-align: right;\">\n",
       "      <th></th>\n",
       "      <th>RegistrationYear</th>\n",
       "      <th>Power</th>\n",
       "      <th>Mileage</th>\n",
       "      <th>RegistrationMonth</th>\n",
       "      <th>VehicleType_convertible</th>\n",
       "      <th>VehicleType_coupe</th>\n",
       "      <th>VehicleType_other</th>\n",
       "      <th>VehicleType_sedan</th>\n",
       "      <th>VehicleType_small</th>\n",
       "      <th>VehicleType_suv</th>\n",
       "      <th>...</th>\n",
       "      <th>Brand_skoda</th>\n",
       "      <th>Brand_smart</th>\n",
       "      <th>Brand_subaru</th>\n",
       "      <th>Brand_suzuki</th>\n",
       "      <th>Brand_toyota</th>\n",
       "      <th>Brand_trabant</th>\n",
       "      <th>Brand_volkswagen</th>\n",
       "      <th>Brand_volvo</th>\n",
       "      <th>NotRepaired_unknown</th>\n",
       "      <th>NotRepaired_yes</th>\n",
       "    </tr>\n",
       "  </thead>\n",
       "  <tbody>\n",
       "    <tr>\n",
       "      <th>206350</th>\n",
       "      <td>2008</td>\n",
       "      <td>177</td>\n",
       "      <td>150000</td>\n",
       "      <td>7</td>\n",
       "      <td>0</td>\n",
       "      <td>1</td>\n",
       "      <td>0</td>\n",
       "      <td>0</td>\n",
       "      <td>0</td>\n",
       "      <td>0</td>\n",
       "      <td>...</td>\n",
       "      <td>0</td>\n",
       "      <td>0</td>\n",
       "      <td>0</td>\n",
       "      <td>0</td>\n",
       "      <td>0</td>\n",
       "      <td>0</td>\n",
       "      <td>0</td>\n",
       "      <td>0</td>\n",
       "      <td>0</td>\n",
       "      <td>0</td>\n",
       "    </tr>\n",
       "    <tr>\n",
       "      <th>8097</th>\n",
       "      <td>1997</td>\n",
       "      <td>150</td>\n",
       "      <td>150000</td>\n",
       "      <td>7</td>\n",
       "      <td>0</td>\n",
       "      <td>0</td>\n",
       "      <td>0</td>\n",
       "      <td>1</td>\n",
       "      <td>0</td>\n",
       "      <td>0</td>\n",
       "      <td>...</td>\n",
       "      <td>0</td>\n",
       "      <td>0</td>\n",
       "      <td>0</td>\n",
       "      <td>0</td>\n",
       "      <td>0</td>\n",
       "      <td>0</td>\n",
       "      <td>0</td>\n",
       "      <td>0</td>\n",
       "      <td>0</td>\n",
       "      <td>0</td>\n",
       "    </tr>\n",
       "    <tr>\n",
       "      <th>35355</th>\n",
       "      <td>2009</td>\n",
       "      <td>86</td>\n",
       "      <td>70000</td>\n",
       "      <td>3</td>\n",
       "      <td>0</td>\n",
       "      <td>0</td>\n",
       "      <td>0</td>\n",
       "      <td>0</td>\n",
       "      <td>0</td>\n",
       "      <td>0</td>\n",
       "      <td>...</td>\n",
       "      <td>1</td>\n",
       "      <td>0</td>\n",
       "      <td>0</td>\n",
       "      <td>0</td>\n",
       "      <td>0</td>\n",
       "      <td>0</td>\n",
       "      <td>0</td>\n",
       "      <td>0</td>\n",
       "      <td>0</td>\n",
       "      <td>0</td>\n",
       "    </tr>\n",
       "    <tr>\n",
       "      <th>6597</th>\n",
       "      <td>1995</td>\n",
       "      <td>116</td>\n",
       "      <td>150000</td>\n",
       "      <td>9</td>\n",
       "      <td>0</td>\n",
       "      <td>0</td>\n",
       "      <td>0</td>\n",
       "      <td>0</td>\n",
       "      <td>1</td>\n",
       "      <td>0</td>\n",
       "      <td>...</td>\n",
       "      <td>0</td>\n",
       "      <td>0</td>\n",
       "      <td>0</td>\n",
       "      <td>0</td>\n",
       "      <td>0</td>\n",
       "      <td>0</td>\n",
       "      <td>0</td>\n",
       "      <td>0</td>\n",
       "      <td>1</td>\n",
       "      <td>0</td>\n",
       "    </tr>\n",
       "    <tr>\n",
       "      <th>94893</th>\n",
       "      <td>2006</td>\n",
       "      <td>0</td>\n",
       "      <td>150000</td>\n",
       "      <td>0</td>\n",
       "      <td>0</td>\n",
       "      <td>0</td>\n",
       "      <td>0</td>\n",
       "      <td>0</td>\n",
       "      <td>0</td>\n",
       "      <td>0</td>\n",
       "      <td>...</td>\n",
       "      <td>0</td>\n",
       "      <td>0</td>\n",
       "      <td>0</td>\n",
       "      <td>0</td>\n",
       "      <td>0</td>\n",
       "      <td>0</td>\n",
       "      <td>1</td>\n",
       "      <td>0</td>\n",
       "      <td>1</td>\n",
       "      <td>0</td>\n",
       "    </tr>\n",
       "  </tbody>\n",
       "</table>\n",
       "<p>5 rows × 307 columns</p>\n",
       "</div>"
      ],
      "text/plain": [
       "        RegistrationYear  Power  Mileage  RegistrationMonth  \\\n",
       "206350              2008    177   150000                  7   \n",
       "8097                1997    150   150000                  7   \n",
       "35355               2009     86    70000                  3   \n",
       "6597                1995    116   150000                  9   \n",
       "94893               2006      0   150000                  0   \n",
       "\n",
       "        VehicleType_convertible  VehicleType_coupe  VehicleType_other  \\\n",
       "206350                        0                  1                  0   \n",
       "8097                          0                  0                  0   \n",
       "35355                         0                  0                  0   \n",
       "6597                          0                  0                  0   \n",
       "94893                         0                  0                  0   \n",
       "\n",
       "        VehicleType_sedan  VehicleType_small  VehicleType_suv  ...  \\\n",
       "206350                  0                  0                0  ...   \n",
       "8097                    1                  0                0  ...   \n",
       "35355                   0                  0                0  ...   \n",
       "6597                    0                  1                0  ...   \n",
       "94893                   0                  0                0  ...   \n",
       "\n",
       "        Brand_skoda  Brand_smart  Brand_subaru  Brand_suzuki  Brand_toyota  \\\n",
       "206350            0            0             0             0             0   \n",
       "8097              0            0             0             0             0   \n",
       "35355             1            0             0             0             0   \n",
       "6597              0            0             0             0             0   \n",
       "94893             0            0             0             0             0   \n",
       "\n",
       "        Brand_trabant  Brand_volkswagen  Brand_volvo  NotRepaired_unknown  \\\n",
       "206350              0                 0            0                    0   \n",
       "8097                0                 0            0                    0   \n",
       "35355               0                 0            0                    0   \n",
       "6597                0                 0            0                    1   \n",
       "94893               0                 1            0                    1   \n",
       "\n",
       "        NotRepaired_yes  \n",
       "206350                0  \n",
       "8097                  0  \n",
       "35355                 0  \n",
       "6597                  0  \n",
       "94893                 0  \n",
       "\n",
       "[5 rows x 307 columns]"
      ]
     },
     "execution_count": 77,
     "metadata": {},
     "output_type": "execute_result"
    }
   ],
   "source": [
    "X_train_ohe.head()"
   ]
  },
  {
   "cell_type": "code",
   "execution_count": 78,
   "id": "f54bb831",
   "metadata": {},
   "outputs": [
    {
     "data": {
      "text/plain": [
       "68116"
      ]
     },
     "execution_count": 78,
     "metadata": {},
     "output_type": "execute_result"
    }
   ],
   "source": [
    "len(X_test_ohe)"
   ]
  },
  {
   "cell_type": "code",
   "execution_count": 79,
   "id": "bd3695f3",
   "metadata": {},
   "outputs": [
    {
     "data": {
      "text/plain": [
       "68115"
      ]
     },
     "execution_count": 79,
     "metadata": {},
     "output_type": "execute_result"
    }
   ],
   "source": [
    "len(X_valid_ohe) #double checking lengths"
   ]
  },
  {
   "cell_type": "code",
   "execution_count": 80,
   "id": "c9fe413d",
   "metadata": {},
   "outputs": [
    {
     "data": {
      "text/html": [
       "<div>\n",
       "<style scoped>\n",
       "    .dataframe tbody tr th:only-of-type {\n",
       "        vertical-align: middle;\n",
       "    }\n",
       "\n",
       "    .dataframe tbody tr th {\n",
       "        vertical-align: top;\n",
       "    }\n",
       "\n",
       "    .dataframe thead th {\n",
       "        text-align: right;\n",
       "    }\n",
       "</style>\n",
       "<table border=\"1\" class=\"dataframe\">\n",
       "  <thead>\n",
       "    <tr style=\"text-align: right;\">\n",
       "      <th></th>\n",
       "      <th>RegistrationYear</th>\n",
       "      <th>Power</th>\n",
       "      <th>Mileage</th>\n",
       "      <th>RegistrationMonth</th>\n",
       "      <th>VehicleType_convertible</th>\n",
       "      <th>VehicleType_coupe</th>\n",
       "      <th>VehicleType_other</th>\n",
       "      <th>VehicleType_sedan</th>\n",
       "      <th>VehicleType_small</th>\n",
       "      <th>VehicleType_suv</th>\n",
       "      <th>...</th>\n",
       "      <th>Brand_skoda</th>\n",
       "      <th>Brand_smart</th>\n",
       "      <th>Brand_subaru</th>\n",
       "      <th>Brand_suzuki</th>\n",
       "      <th>Brand_toyota</th>\n",
       "      <th>Brand_trabant</th>\n",
       "      <th>Brand_volkswagen</th>\n",
       "      <th>Brand_volvo</th>\n",
       "      <th>NotRepaired_unknown</th>\n",
       "      <th>NotRepaired_yes</th>\n",
       "    </tr>\n",
       "  </thead>\n",
       "  <tbody>\n",
       "    <tr>\n",
       "      <th>187995</th>\n",
       "      <td>2006</td>\n",
       "      <td>131</td>\n",
       "      <td>150000</td>\n",
       "      <td>3</td>\n",
       "      <td>0</td>\n",
       "      <td>0</td>\n",
       "      <td>0</td>\n",
       "      <td>0</td>\n",
       "      <td>0</td>\n",
       "      <td>0</td>\n",
       "      <td>...</td>\n",
       "      <td>0</td>\n",
       "      <td>0</td>\n",
       "      <td>0</td>\n",
       "      <td>0</td>\n",
       "      <td>0</td>\n",
       "      <td>0</td>\n",
       "      <td>1</td>\n",
       "      <td>0</td>\n",
       "      <td>0</td>\n",
       "      <td>0</td>\n",
       "    </tr>\n",
       "    <tr>\n",
       "      <th>243921</th>\n",
       "      <td>2003</td>\n",
       "      <td>58</td>\n",
       "      <td>100000</td>\n",
       "      <td>6</td>\n",
       "      <td>0</td>\n",
       "      <td>0</td>\n",
       "      <td>0</td>\n",
       "      <td>0</td>\n",
       "      <td>1</td>\n",
       "      <td>0</td>\n",
       "      <td>...</td>\n",
       "      <td>0</td>\n",
       "      <td>0</td>\n",
       "      <td>0</td>\n",
       "      <td>0</td>\n",
       "      <td>0</td>\n",
       "      <td>0</td>\n",
       "      <td>0</td>\n",
       "      <td>0</td>\n",
       "      <td>0</td>\n",
       "      <td>0</td>\n",
       "    </tr>\n",
       "    <tr>\n",
       "      <th>318348</th>\n",
       "      <td>2013</td>\n",
       "      <td>101</td>\n",
       "      <td>30000</td>\n",
       "      <td>0</td>\n",
       "      <td>0</td>\n",
       "      <td>0</td>\n",
       "      <td>0</td>\n",
       "      <td>0</td>\n",
       "      <td>1</td>\n",
       "      <td>0</td>\n",
       "      <td>...</td>\n",
       "      <td>0</td>\n",
       "      <td>0</td>\n",
       "      <td>0</td>\n",
       "      <td>0</td>\n",
       "      <td>0</td>\n",
       "      <td>0</td>\n",
       "      <td>0</td>\n",
       "      <td>0</td>\n",
       "      <td>1</td>\n",
       "      <td>0</td>\n",
       "    </tr>\n",
       "    <tr>\n",
       "      <th>238801</th>\n",
       "      <td>1999</td>\n",
       "      <td>75</td>\n",
       "      <td>150000</td>\n",
       "      <td>1</td>\n",
       "      <td>0</td>\n",
       "      <td>0</td>\n",
       "      <td>0</td>\n",
       "      <td>0</td>\n",
       "      <td>1</td>\n",
       "      <td>0</td>\n",
       "      <td>...</td>\n",
       "      <td>0</td>\n",
       "      <td>0</td>\n",
       "      <td>0</td>\n",
       "      <td>0</td>\n",
       "      <td>0</td>\n",
       "      <td>0</td>\n",
       "      <td>0</td>\n",
       "      <td>0</td>\n",
       "      <td>1</td>\n",
       "      <td>0</td>\n",
       "    </tr>\n",
       "    <tr>\n",
       "      <th>270845</th>\n",
       "      <td>2002</td>\n",
       "      <td>131</td>\n",
       "      <td>125000</td>\n",
       "      <td>7</td>\n",
       "      <td>0</td>\n",
       "      <td>0</td>\n",
       "      <td>0</td>\n",
       "      <td>0</td>\n",
       "      <td>0</td>\n",
       "      <td>0</td>\n",
       "      <td>...</td>\n",
       "      <td>0</td>\n",
       "      <td>0</td>\n",
       "      <td>0</td>\n",
       "      <td>0</td>\n",
       "      <td>0</td>\n",
       "      <td>0</td>\n",
       "      <td>0</td>\n",
       "      <td>0</td>\n",
       "      <td>0</td>\n",
       "      <td>0</td>\n",
       "    </tr>\n",
       "  </tbody>\n",
       "</table>\n",
       "<p>5 rows × 307 columns</p>\n",
       "</div>"
      ],
      "text/plain": [
       "        RegistrationYear  Power  Mileage  RegistrationMonth  \\\n",
       "187995              2006    131   150000                  3   \n",
       "243921              2003     58   100000                  6   \n",
       "318348              2013    101    30000                  0   \n",
       "238801              1999     75   150000                  1   \n",
       "270845              2002    131   125000                  7   \n",
       "\n",
       "        VehicleType_convertible  VehicleType_coupe  VehicleType_other  \\\n",
       "187995                        0                  0                  0   \n",
       "243921                        0                  0                  0   \n",
       "318348                        0                  0                  0   \n",
       "238801                        0                  0                  0   \n",
       "270845                        0                  0                  0   \n",
       "\n",
       "        VehicleType_sedan  VehicleType_small  VehicleType_suv  ...  \\\n",
       "187995                  0                  0                0  ...   \n",
       "243921                  0                  1                0  ...   \n",
       "318348                  0                  1                0  ...   \n",
       "238801                  0                  1                0  ...   \n",
       "270845                  0                  0                0  ...   \n",
       "\n",
       "        Brand_skoda  Brand_smart  Brand_subaru  Brand_suzuki  Brand_toyota  \\\n",
       "187995            0            0             0             0             0   \n",
       "243921            0            0             0             0             0   \n",
       "318348            0            0             0             0             0   \n",
       "238801            0            0             0             0             0   \n",
       "270845            0            0             0             0             0   \n",
       "\n",
       "        Brand_trabant  Brand_volkswagen  Brand_volvo  NotRepaired_unknown  \\\n",
       "187995              0                 1            0                    0   \n",
       "243921              0                 0            0                    0   \n",
       "318348              0                 0            0                    1   \n",
       "238801              0                 0            0                    1   \n",
       "270845              0                 0            0                    0   \n",
       "\n",
       "        NotRepaired_yes  \n",
       "187995                0  \n",
       "243921                0  \n",
       "318348                0  \n",
       "238801                0  \n",
       "270845                0  \n",
       "\n",
       "[5 rows x 307 columns]"
      ]
     },
     "execution_count": 80,
     "metadata": {},
     "output_type": "execute_result"
    }
   ],
   "source": [
    "X_valid_ohe.head()"
   ]
  },
  {
   "cell_type": "code",
   "execution_count": 81,
   "id": "f2290ccf",
   "metadata": {},
   "outputs": [
    {
     "data": {
      "text/plain": [
       "308"
      ]
     },
     "execution_count": 81,
     "metadata": {},
     "output_type": "execute_result"
    }
   ],
   "source": [
    "len(df_car_ohe.columns) # OHE converted 11 features into 306 wide df so I'm glad we dropped high cardinality features"
   ]
  },
  {
   "cell_type": "code",
   "execution_count": 82,
   "id": "82093fe4",
   "metadata": {},
   "outputs": [
    {
     "data": {
      "text/html": [
       "<div>\n",
       "<style scoped>\n",
       "    .dataframe tbody tr th:only-of-type {\n",
       "        vertical-align: middle;\n",
       "    }\n",
       "\n",
       "    .dataframe tbody tr th {\n",
       "        vertical-align: top;\n",
       "    }\n",
       "\n",
       "    .dataframe thead th {\n",
       "        text-align: right;\n",
       "    }\n",
       "</style>\n",
       "<table border=\"1\" class=\"dataframe\">\n",
       "  <thead>\n",
       "    <tr style=\"text-align: right;\">\n",
       "      <th></th>\n",
       "      <th>Price</th>\n",
       "      <th>RegistrationYear</th>\n",
       "      <th>Power</th>\n",
       "      <th>Mileage</th>\n",
       "      <th>RegistrationMonth</th>\n",
       "      <th>VehicleType_convertible</th>\n",
       "      <th>VehicleType_coupe</th>\n",
       "      <th>VehicleType_other</th>\n",
       "      <th>VehicleType_sedan</th>\n",
       "      <th>VehicleType_small</th>\n",
       "      <th>...</th>\n",
       "      <th>Brand_skoda</th>\n",
       "      <th>Brand_smart</th>\n",
       "      <th>Brand_subaru</th>\n",
       "      <th>Brand_suzuki</th>\n",
       "      <th>Brand_toyota</th>\n",
       "      <th>Brand_trabant</th>\n",
       "      <th>Brand_volkswagen</th>\n",
       "      <th>Brand_volvo</th>\n",
       "      <th>NotRepaired_unknown</th>\n",
       "      <th>NotRepaired_yes</th>\n",
       "    </tr>\n",
       "  </thead>\n",
       "  <tbody>\n",
       "    <tr>\n",
       "      <th>2</th>\n",
       "      <td>9800</td>\n",
       "      <td>2004</td>\n",
       "      <td>163</td>\n",
       "      <td>125000</td>\n",
       "      <td>8</td>\n",
       "      <td>0</td>\n",
       "      <td>0</td>\n",
       "      <td>0</td>\n",
       "      <td>0</td>\n",
       "      <td>0</td>\n",
       "      <td>...</td>\n",
       "      <td>0</td>\n",
       "      <td>0</td>\n",
       "      <td>0</td>\n",
       "      <td>0</td>\n",
       "      <td>0</td>\n",
       "      <td>0</td>\n",
       "      <td>0</td>\n",
       "      <td>0</td>\n",
       "      <td>1</td>\n",
       "      <td>0</td>\n",
       "    </tr>\n",
       "    <tr>\n",
       "      <th>3</th>\n",
       "      <td>1500</td>\n",
       "      <td>2001</td>\n",
       "      <td>75</td>\n",
       "      <td>150000</td>\n",
       "      <td>6</td>\n",
       "      <td>0</td>\n",
       "      <td>0</td>\n",
       "      <td>0</td>\n",
       "      <td>0</td>\n",
       "      <td>1</td>\n",
       "      <td>...</td>\n",
       "      <td>0</td>\n",
       "      <td>0</td>\n",
       "      <td>0</td>\n",
       "      <td>0</td>\n",
       "      <td>0</td>\n",
       "      <td>0</td>\n",
       "      <td>1</td>\n",
       "      <td>0</td>\n",
       "      <td>0</td>\n",
       "      <td>0</td>\n",
       "    </tr>\n",
       "    <tr>\n",
       "      <th>4</th>\n",
       "      <td>3600</td>\n",
       "      <td>2008</td>\n",
       "      <td>69</td>\n",
       "      <td>90000</td>\n",
       "      <td>7</td>\n",
       "      <td>0</td>\n",
       "      <td>0</td>\n",
       "      <td>0</td>\n",
       "      <td>0</td>\n",
       "      <td>1</td>\n",
       "      <td>...</td>\n",
       "      <td>1</td>\n",
       "      <td>0</td>\n",
       "      <td>0</td>\n",
       "      <td>0</td>\n",
       "      <td>0</td>\n",
       "      <td>0</td>\n",
       "      <td>0</td>\n",
       "      <td>0</td>\n",
       "      <td>0</td>\n",
       "      <td>0</td>\n",
       "    </tr>\n",
       "    <tr>\n",
       "      <th>5</th>\n",
       "      <td>650</td>\n",
       "      <td>1995</td>\n",
       "      <td>102</td>\n",
       "      <td>150000</td>\n",
       "      <td>10</td>\n",
       "      <td>0</td>\n",
       "      <td>0</td>\n",
       "      <td>0</td>\n",
       "      <td>1</td>\n",
       "      <td>0</td>\n",
       "      <td>...</td>\n",
       "      <td>0</td>\n",
       "      <td>0</td>\n",
       "      <td>0</td>\n",
       "      <td>0</td>\n",
       "      <td>0</td>\n",
       "      <td>0</td>\n",
       "      <td>0</td>\n",
       "      <td>0</td>\n",
       "      <td>0</td>\n",
       "      <td>1</td>\n",
       "    </tr>\n",
       "    <tr>\n",
       "      <th>6</th>\n",
       "      <td>2200</td>\n",
       "      <td>2004</td>\n",
       "      <td>109</td>\n",
       "      <td>150000</td>\n",
       "      <td>8</td>\n",
       "      <td>1</td>\n",
       "      <td>0</td>\n",
       "      <td>0</td>\n",
       "      <td>0</td>\n",
       "      <td>0</td>\n",
       "      <td>...</td>\n",
       "      <td>0</td>\n",
       "      <td>0</td>\n",
       "      <td>0</td>\n",
       "      <td>0</td>\n",
       "      <td>0</td>\n",
       "      <td>0</td>\n",
       "      <td>0</td>\n",
       "      <td>0</td>\n",
       "      <td>0</td>\n",
       "      <td>0</td>\n",
       "    </tr>\n",
       "  </tbody>\n",
       "</table>\n",
       "<p>5 rows × 308 columns</p>\n",
       "</div>"
      ],
      "text/plain": [
       "   Price  RegistrationYear  Power  Mileage  RegistrationMonth  \\\n",
       "2   9800              2004    163   125000                  8   \n",
       "3   1500              2001     75   150000                  6   \n",
       "4   3600              2008     69    90000                  7   \n",
       "5    650              1995    102   150000                 10   \n",
       "6   2200              2004    109   150000                  8   \n",
       "\n",
       "   VehicleType_convertible  VehicleType_coupe  VehicleType_other  \\\n",
       "2                        0                  0                  0   \n",
       "3                        0                  0                  0   \n",
       "4                        0                  0                  0   \n",
       "5                        0                  0                  0   \n",
       "6                        1                  0                  0   \n",
       "\n",
       "   VehicleType_sedan  VehicleType_small  ...  Brand_skoda  Brand_smart  \\\n",
       "2                  0                  0  ...            0            0   \n",
       "3                  0                  1  ...            0            0   \n",
       "4                  0                  1  ...            1            0   \n",
       "5                  1                  0  ...            0            0   \n",
       "6                  0                  0  ...            0            0   \n",
       "\n",
       "   Brand_subaru  Brand_suzuki  Brand_toyota  Brand_trabant  Brand_volkswagen  \\\n",
       "2             0             0             0              0                 0   \n",
       "3             0             0             0              0                 1   \n",
       "4             0             0             0              0                 0   \n",
       "5             0             0             0              0                 0   \n",
       "6             0             0             0              0                 0   \n",
       "\n",
       "   Brand_volvo  NotRepaired_unknown  NotRepaired_yes  \n",
       "2            0                    1                0  \n",
       "3            0                    0                0  \n",
       "4            0                    0                0  \n",
       "5            0                    0                1  \n",
       "6            0                    0                0  \n",
       "\n",
       "[5 rows x 308 columns]"
      ]
     },
     "execution_count": 82,
     "metadata": {},
     "output_type": "execute_result"
    }
   ],
   "source": [
    "df_car_ohe.head()"
   ]
  },
  {
   "cell_type": "code",
   "execution_count": 83,
   "id": "3384f428",
   "metadata": {},
   "outputs": [
    {
     "name": "stdout",
     "output_type": "stream",
     "text": [
      "CPU times: user 7.25 s, sys: 2.15 s, total: 9.4 s\n",
      "Wall time: 2.39 s\n"
     ]
    }
   ],
   "source": [
    "%%time\n",
    "lr = LinearRegression().fit(X_train_ohe, y_train)"
   ]
  },
  {
   "cell_type": "code",
   "execution_count": 84,
   "id": "27be096f",
   "metadata": {},
   "outputs": [
    {
     "name": "stdout",
     "output_type": "stream",
     "text": [
      "CPU times: user 578 ms, sys: 251 ms, total: 829 ms\n",
      "Wall time: 121 ms\n"
     ]
    }
   ],
   "source": [
    "%%time\n",
    "y_pred_ohe = lr.predict(X_valid_ohe) #CHANGING to validation not using test here"
   ]
  },
  {
   "cell_type": "code",
   "execution_count": 85,
   "id": "ff68d376",
   "metadata": {},
   "outputs": [
    {
     "name": "stdout",
     "output_type": "stream",
     "text": [
      "Linear Regression rmse score: 2967.941\n"
     ]
    }
   ],
   "source": [
    "print('Linear Regression rmse score:', rmse(y_valid, y_pred_ohe).round(3)) #This is our sanity check!"
   ]
  },
  {
   "cell_type": "markdown",
   "id": "97229946",
   "metadata": {},
   "source": [
    "As we can see our catboost model did quite a bit better in terms of rmse above and it also ran almost as fast for 100 iterations. "
   ]
  },
  {
   "cell_type": "markdown",
   "id": "daec919b",
   "metadata": {},
   "source": [
    "**Random Forest**"
   ]
  },
  {
   "cell_type": "code",
   "execution_count": 86,
   "id": "fdf14ebb",
   "metadata": {},
   "outputs": [],
   "source": [
    "#Do the same for RandomForestRegressor\n",
    "rfr_model = RandomForestRegressor(random_state = 2023)\n",
    "\n",
    "search_space_rfr = {'n_estimators': (3,5),\"max_depth\" : [3,7,12]\n",
    "                    } #This will be used to try differnet depths and estimators in the randomforest"
   ]
  },
  {
   "cell_type": "code",
   "execution_count": 87,
   "id": "3b7b0931",
   "metadata": {},
   "outputs": [],
   "source": [
    "rmse_score = make_scorer(rmse, greater_is_better=False)"
   ]
  },
  {
   "cell_type": "code",
   "execution_count": 88,
   "id": "dfee30af",
   "metadata": {},
   "outputs": [],
   "source": [
    "G_S_rfr = GridSearchCV(estimator = rfr_model, #RandomForrestRegressor\n",
    "                  param_grid = search_space_rfr, #change the search_space variable for rfr\n",
    "                  cv = 3, #cross validation set to 3\n",
    "                  #scoring = rmse_score,\n",
    "                  scoring='neg_root_mean_squared_error', #Trying both methods to make sure the results are the same\n",
    "                  verbose = 3) "
   ]
  },
  {
   "cell_type": "code",
   "execution_count": 89,
   "id": "1f153a43",
   "metadata": {},
   "outputs": [
    {
     "name": "stdout",
     "output_type": "stream",
     "text": [
      "Fitting 3 folds for each of 6 candidates, totalling 18 fits\n",
      "[CV 1/3] END ...max_depth=3, n_estimators=3;, score=-2947.429 total time=   1.2s\n",
      "[CV 2/3] END ...max_depth=3, n_estimators=3;, score=-2926.499 total time=   1.1s\n",
      "[CV 3/3] END ...max_depth=3, n_estimators=3;, score=-2964.670 total time=   1.2s\n",
      "[CV 1/3] END ...max_depth=3, n_estimators=5;, score=-2947.405 total time=   1.6s\n",
      "[CV 2/3] END ...max_depth=3, n_estimators=5;, score=-2922.348 total time=   1.6s\n",
      "[CV 3/3] END ...max_depth=3, n_estimators=5;, score=-2953.894 total time=   1.7s\n",
      "[CV 1/3] END ...max_depth=7, n_estimators=3;, score=-2199.939 total time=   2.2s\n",
      "[CV 2/3] END ...max_depth=7, n_estimators=3;, score=-2188.739 total time=   2.3s\n",
      "[CV 3/3] END ...max_depth=7, n_estimators=3;, score=-2205.331 total time=   2.3s\n",
      "[CV 1/3] END ...max_depth=7, n_estimators=5;, score=-2187.760 total time=   3.4s\n",
      "[CV 2/3] END ...max_depth=7, n_estimators=5;, score=-2175.530 total time=   3.5s\n",
      "[CV 3/3] END ...max_depth=7, n_estimators=5;, score=-2194.724 total time=   3.4s\n",
      "[CV 1/3] END ..max_depth=12, n_estimators=3;, score=-1936.016 total time=   3.2s\n",
      "[CV 2/3] END ..max_depth=12, n_estimators=3;, score=-1916.862 total time=   3.1s\n",
      "[CV 3/3] END ..max_depth=12, n_estimators=3;, score=-1918.148 total time=   3.0s\n",
      "[CV 1/3] END ..max_depth=12, n_estimators=5;, score=-1899.418 total time=   4.8s\n",
      "[CV 2/3] END ..max_depth=12, n_estimators=5;, score=-1885.284 total time=   4.8s\n",
      "[CV 3/3] END ..max_depth=12, n_estimators=5;, score=-1894.049 total time=   4.8s\n"
     ]
    },
    {
     "data": {
      "text/plain": [
       "GridSearchCV(cv=3, estimator=RandomForestRegressor(random_state=2023),\n",
       "             param_grid={'max_depth': [3, 7, 12], 'n_estimators': (3, 5)},\n",
       "             scoring='neg_root_mean_squared_error', verbose=3)"
      ]
     },
     "execution_count": 89,
     "metadata": {},
     "output_type": "execute_result"
    }
   ],
   "source": [
    "G_S_rfr.fit(X_train_ohe, y_train_ohe)"
   ]
  },
  {
   "cell_type": "code",
   "execution_count": 90,
   "id": "14c98634",
   "metadata": {},
   "outputs": [
    {
     "data": {
      "text/plain": [
       "RandomForestRegressor(max_depth=12, n_estimators=5, random_state=2023)"
      ]
     },
     "execution_count": 90,
     "metadata": {},
     "output_type": "execute_result"
    }
   ],
   "source": [
    "G_S_rfr.best_estimator_"
   ]
  },
  {
   "cell_type": "code",
   "execution_count": 91,
   "id": "bbfa8707",
   "metadata": {},
   "outputs": [
    {
     "data": {
      "text/plain": [
       "{'max_depth': 12, 'n_estimators': 5}"
      ]
     },
     "execution_count": 91,
     "metadata": {},
     "output_type": "execute_result"
    }
   ],
   "source": [
    "G_S_rfr.best_params_"
   ]
  },
  {
   "cell_type": "code",
   "execution_count": 92,
   "id": "4cb88b74",
   "metadata": {},
   "outputs": [
    {
     "data": {
      "text/plain": [
       "-1892.916933573023"
      ]
     },
     "execution_count": 92,
     "metadata": {},
     "output_type": "execute_result"
    }
   ],
   "source": [
    "G_S_rfr.best_score_"
   ]
  },
  {
   "cell_type": "markdown",
   "id": "7313eecc",
   "metadata": {},
   "source": [
    "I don't know why it is not giving me best parameters and best score when we can see above the best score goes to max depth 12 and n_estimators = 3. It gets a tiny better for n_estimators = 5 but takes almost double the time.  This is what I will use in my model to fit then predict with test set."
   ]
  },
  {
   "cell_type": "code",
   "execution_count": 93,
   "id": "4ca7ada6",
   "metadata": {},
   "outputs": [],
   "source": [
    "rfr_model_final = RandomForestRegressor(max_depth=12, n_estimators=5, random_state = 2023) #Best params"
   ]
  },
  {
   "cell_type": "code",
   "execution_count": 94,
   "id": "6b998fe6",
   "metadata": {},
   "outputs": [
    {
     "name": "stdout",
     "output_type": "stream",
     "text": [
      "CPU times: user 6.83 s, sys: 281 ms, total: 7.11 s\n",
      "Wall time: 7.23 s\n"
     ]
    },
    {
     "data": {
      "text/plain": [
       "RandomForestRegressor(max_depth=12, n_estimators=5, random_state=2023)"
      ]
     },
     "execution_count": 94,
     "metadata": {},
     "output_type": "execute_result"
    }
   ],
   "source": [
    "%%time\n",
    "rfr_model_final.fit(X_train_ohe, y_train_ohe)"
   ]
  },
  {
   "cell_type": "code",
   "execution_count": 95,
   "id": "98158ad9",
   "metadata": {},
   "outputs": [
    {
     "name": "stdout",
     "output_type": "stream",
     "text": [
      "CPU times: user 64.5 ms, sys: 53.7 ms, total: 118 ms\n",
      "Wall time: 118 ms\n"
     ]
    }
   ],
   "source": [
    "%%time\n",
    "y_pred_rfr = rfr_model_final.predict(X_valid_ohe)"
   ]
  },
  {
   "cell_type": "code",
   "execution_count": 96,
   "id": "317bfe8a",
   "metadata": {},
   "outputs": [
    {
     "name": "stdout",
     "output_type": "stream",
     "text": [
      "RandomForest rmse: 1904.924\n"
     ]
    }
   ],
   "source": [
    "print('RandomForest rmse:', rmse(y_valid_ohe, y_pred_rfr).round(3)) # We get a better rmse the LR but not better than catboost"
   ]
  },
  {
   "cell_type": "markdown",
   "id": "83d79cca",
   "metadata": {},
   "source": [
    "***Selecting and running Catboost on test since this is model I chose based on validation set performance***"
   ]
  },
  {
   "cell_type": "code",
   "execution_count": 97,
   "id": "b62fae25",
   "metadata": {},
   "outputs": [
    {
     "name": "stdout",
     "output_type": "stream",
     "text": [
      "CPU times: user 87.8 ms, sys: 14.3 ms, total: 102 ms\n",
      "Wall time: 74.8 ms\n"
     ]
    }
   ],
   "source": [
    "%%time\n",
    "y_pred_test_cat = model_cat.predict(X_test) #Using Test set only once!"
   ]
  },
  {
   "cell_type": "code",
   "execution_count": 98,
   "id": "21705373",
   "metadata": {},
   "outputs": [
    {
     "name": "stdout",
     "output_type": "stream",
     "text": [
      "CatboostRegressor rmse score: 1736.866\n"
     ]
    }
   ],
   "source": [
    "print('CatboostRegressor rmse score:', rmse(y_test, y_pred_test_cat ).round(3))"
   ]
  },
  {
   "cell_type": "markdown",
   "id": "3fe2cc48",
   "metadata": {},
   "source": [
    "## Conclusions: "
   ]
  },
  {
   "cell_type": "markdown",
   "id": "6e8b4959",
   "metadata": {},
   "source": [
    "1. Quality of the prediction: The catboost model performed the best in terms of rmse score after tunning the hyper-parameters a bit. In second place we have our RandomForest and they both performed better than our LinearRegressor baseline. "
   ]
  },
  {
   "cell_type": "markdown",
   "id": "11b0a1da",
   "metadata": {},
   "source": [
    "2. Speed of the prediction: In terms of speed of the prediction in wall time we also have catboost model in first place with just over 100 ms to predict, when comparing models on validation set times to predict. They are all in ms so really the customer should not see much of difference betweeing 200 ms and 100ms for example."
   ]
  },
  {
   "cell_type": "markdown",
   "id": "014340ec",
   "metadata": {},
   "source": [
    "3. Time required for training: see below."
   ]
  },
  {
   "cell_type": "markdown",
   "id": "038feb39",
   "metadata": {},
   "source": [
    "***Extra observations: As far as training time catboost takes a little longer than the other 2 at 15 seconds for 100 iterations. If we wanted to speed it up we could do just 50 iterations. Then it would be almost as fast as RandomForest but with much better predictions. We only train the model once so waiting 15 seconds should not be a problem. The prediction is more important since it's probably the time the customer will have to wait to get an answer on the app. At 100ms for predictions for catboost I beleive customers will be happy with the speed. CatBoost is the best model for Rusty Bargain to use in their app to get best results in the quickest way possible. ***"
   ]
  }
 ],
 "metadata": {
  "kernelspec": {
   "display_name": "Python 3 (ipykernel)",
   "language": "python",
   "name": "python3"
  },
  "language_info": {
   "codemirror_mode": {
    "name": "ipython",
    "version": 3
   },
   "file_extension": ".py",
   "mimetype": "text/x-python",
   "name": "python",
   "nbconvert_exporter": "python",
   "pygments_lexer": "ipython3",
   "version": "3.9.12"
  },
  "toc": {
   "base_numbering": 1,
   "nav_menu": {},
   "number_sections": true,
   "sideBar": true,
   "skip_h1_title": true,
   "title_cell": "Table of Contents",
   "title_sidebar": "Contents",
   "toc_cell": false,
   "toc_position": {},
   "toc_section_display": true,
   "toc_window_display": false
  }
 },
 "nbformat": 4,
 "nbformat_minor": 5
}
