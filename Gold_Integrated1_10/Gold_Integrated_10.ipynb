{
 "cells": [
  {
   "cell_type": "markdown",
   "id": "550e4661",
   "metadata": {},
   "source": [
    "# Contents <a id='back'></a>\n",
    "\n",
    "* [Introduction and Data Description](#intro)\n",
    "* [Stage 1. 1. Prepare the data](#data_prep)\n",
    "     * [1.2 Check that recovery is calculated correctly](#recovery)\n",
    "     * [1.3 Analyze the features not available in the test set. ](#test_features)\n",
    "     * [1.4 Data Preprocessing ](#1.4)\n",
    "* [Stage 2. Analyze the data](#2.0)\n",
    "    * [2.1 Take note of how the concentrations of metals (Au, Ag, Pb) ](#2.1)\n",
    "    * [2.2 Compare the feed particle size distributions ](#2.2)\n",
    "    * [2.3 Consider the total concentrations of all substances](#2.3)\n",
    "    \n",
    "    \n",
    "    \n",
    "    \n",
    "* [Stage 3 Build the model](#3.0)\n",
    "    * [3.1 Write a function to calculate sMAPE for scoring](#3.1)\n",
    "    * [3.2 DummyRegressor baseline and sanity check](#3.2)\n",
    "    * [3.3 LinearRegresion model](#3.3)\n",
    "    * [3.4 RandomForestRegressor model](#3.4)\n",
    "    \n",
    "   \n",
    "* [Final Conclusions](#end)"
   ]
  },
  {
   "cell_type": "markdown",
   "id": "a5ff58f5",
   "metadata": {},
   "source": [
    "## Introduction:  <a id='intro'></a>\n",
    "\n",
    "I am putting together a prototype for a gold miner named Zyfra that predicts the amount of gold recovered from gold ore. I am given data on extraction and purification.\n",
    "The model will help to optimize the production and eliminate unprofitable parameters.\n",
    "\n",
    "\n",
    "We need to predict two values:\n",
    "\n",
    "    rougher concentrate recovery: * rougher.output.recovery\n",
    "\n",
    "    final concentrate recovery: * final.output.recovery\n",
    "\n",
    "The final metric includes the two values:\n",
    "\n",
    "sMAPE\n"
   ]
  },
  {
   "cell_type": "markdown",
   "id": "39237513",
   "metadata": {},
   "source": [
    "#### Data description:\n",
    "##### Feature naming\n",
    "Here's how you name the features:\n",
    "\n",
    "[stage].[parameter_type].[parameter_name]\n",
    "Example: \n",
    "\n",
    "    rougher.input.feed_ag\n",
    "Possible values for [stage]:\n",
    "\n",
    "    rougher — flotation\n",
    "    primary_cleaner — primary purification\n",
    "    secondary_cleaner — secondary purification\n",
    "    final — final characteristics\n",
    "Possible values for [parameter_type]:\n",
    "\n",
    "    input — raw material parameters\n",
    "    output — product parameters\n",
    "    state — parameters characterizing the current state of the stage\n",
    "    calculation — calculation characteristics\n",
    "    \n",
    " [Back to Contents](#back)\n",
    "    "
   ]
  },
  {
   "cell_type": "code",
   "execution_count": 1,
   "id": "a3a14150",
   "metadata": {},
   "outputs": [],
   "source": [
    "import pandas as pd\n",
    "import numpy as np\n",
    "import matplotlib.pyplot as plt\n",
    "from sklearn.model_selection import train_test_split\n",
    "from scipy import stats as st\n",
    "import seaborn as sb\n",
    "from sklearn.metrics import mean_squared_error\n",
    "from sklearn.linear_model import LinearRegression\n",
    "\n",
    "from sklearn.metrics import mean_absolute_error #mae\n",
    "from sklearn.metrics import make_scorer\n",
    "from sklearn.model_selection import cross_val_score\n",
    "from sklearn.dummy import DummyRegressor\n",
    "from sklearn.tree import *\n",
    "from sklearn.model_selection import *\n",
    "from sklearn.ensemble import *"
   ]
  },
  {
   "cell_type": "markdown",
   "id": "7bd569e8",
   "metadata": {},
   "source": [
    "## 1. Prepare the data: <a id='data_prep'></a>"
   ]
  },
  {
   "cell_type": "markdown",
   "id": "945b7b8c",
   "metadata": {},
   "source": [
    "## 1.1. Open the files and look into the data."
   ]
  },
  {
   "cell_type": "code",
   "execution_count": 2,
   "id": "22eee474",
   "metadata": {},
   "outputs": [],
   "source": [
    "try:\n",
    "    gold_train = pd.read_csv('gold_recovery_train.csv') #read csv file stored locally on my laptop\n",
    "except:\n",
    "    gold_train = pd.read_csv('/datasets/gold_recovery_train.csv') #make an exception for when I upload the project to Practicum\n",
    "try:\n",
    "    gold_test = pd.read_csv('gold_recovery_test.csv') #read csv file stored locally on my laptop\n",
    "except:\n",
    "    gold_test = pd.read_csv('/datasets/gold_recovery_test.csv')\n",
    "try:\n",
    "    gold_full = pd.read_csv('gold_recovery_full.csv') #read csv file stored locally on my laptop\n",
    "except:\n",
    "    gold_full = pd.read_csv('/datasets/gold_recovery_full.csv')\n"
   ]
  },
  {
   "cell_type": "code",
   "execution_count": 3,
   "id": "164ffe04",
   "metadata": {},
   "outputs": [
    {
     "data": {
      "text/html": [
       "<div>\n",
       "<style scoped>\n",
       "    .dataframe tbody tr th:only-of-type {\n",
       "        vertical-align: middle;\n",
       "    }\n",
       "\n",
       "    .dataframe tbody tr th {\n",
       "        vertical-align: top;\n",
       "    }\n",
       "\n",
       "    .dataframe thead th {\n",
       "        text-align: right;\n",
       "    }\n",
       "</style>\n",
       "<table border=\"1\" class=\"dataframe\">\n",
       "  <thead>\n",
       "    <tr style=\"text-align: right;\">\n",
       "      <th></th>\n",
       "      <th>date</th>\n",
       "      <th>final.output.concentrate_ag</th>\n",
       "      <th>final.output.concentrate_pb</th>\n",
       "      <th>final.output.concentrate_sol</th>\n",
       "      <th>final.output.concentrate_au</th>\n",
       "      <th>final.output.recovery</th>\n",
       "      <th>final.output.tail_ag</th>\n",
       "      <th>final.output.tail_pb</th>\n",
       "      <th>final.output.tail_sol</th>\n",
       "      <th>final.output.tail_au</th>\n",
       "      <th>...</th>\n",
       "      <th>secondary_cleaner.state.floatbank4_a_air</th>\n",
       "      <th>secondary_cleaner.state.floatbank4_a_level</th>\n",
       "      <th>secondary_cleaner.state.floatbank4_b_air</th>\n",
       "      <th>secondary_cleaner.state.floatbank4_b_level</th>\n",
       "      <th>secondary_cleaner.state.floatbank5_a_air</th>\n",
       "      <th>secondary_cleaner.state.floatbank5_a_level</th>\n",
       "      <th>secondary_cleaner.state.floatbank5_b_air</th>\n",
       "      <th>secondary_cleaner.state.floatbank5_b_level</th>\n",
       "      <th>secondary_cleaner.state.floatbank6_a_air</th>\n",
       "      <th>secondary_cleaner.state.floatbank6_a_level</th>\n",
       "    </tr>\n",
       "  </thead>\n",
       "  <tbody>\n",
       "    <tr>\n",
       "      <th>0</th>\n",
       "      <td>2016-01-15 00:00:00</td>\n",
       "      <td>6.055403</td>\n",
       "      <td>9.889648</td>\n",
       "      <td>5.507324</td>\n",
       "      <td>42.192020</td>\n",
       "      <td>70.541216</td>\n",
       "      <td>10.411962</td>\n",
       "      <td>0.895447</td>\n",
       "      <td>16.904297</td>\n",
       "      <td>2.143149</td>\n",
       "      <td>...</td>\n",
       "      <td>14.016835</td>\n",
       "      <td>-502.488007</td>\n",
       "      <td>12.099931</td>\n",
       "      <td>-504.715942</td>\n",
       "      <td>9.925633</td>\n",
       "      <td>-498.310211</td>\n",
       "      <td>8.079666</td>\n",
       "      <td>-500.470978</td>\n",
       "      <td>14.151341</td>\n",
       "      <td>-605.841980</td>\n",
       "    </tr>\n",
       "    <tr>\n",
       "      <th>1</th>\n",
       "      <td>2016-01-15 01:00:00</td>\n",
       "      <td>6.029369</td>\n",
       "      <td>9.968944</td>\n",
       "      <td>5.257781</td>\n",
       "      <td>42.701629</td>\n",
       "      <td>69.266198</td>\n",
       "      <td>10.462676</td>\n",
       "      <td>0.927452</td>\n",
       "      <td>16.634514</td>\n",
       "      <td>2.224930</td>\n",
       "      <td>...</td>\n",
       "      <td>13.992281</td>\n",
       "      <td>-505.503262</td>\n",
       "      <td>11.950531</td>\n",
       "      <td>-501.331529</td>\n",
       "      <td>10.039245</td>\n",
       "      <td>-500.169983</td>\n",
       "      <td>7.984757</td>\n",
       "      <td>-500.582168</td>\n",
       "      <td>13.998353</td>\n",
       "      <td>-599.787184</td>\n",
       "    </tr>\n",
       "    <tr>\n",
       "      <th>2</th>\n",
       "      <td>2016-01-15 02:00:00</td>\n",
       "      <td>6.055926</td>\n",
       "      <td>10.213995</td>\n",
       "      <td>5.383759</td>\n",
       "      <td>42.657501</td>\n",
       "      <td>68.116445</td>\n",
       "      <td>10.507046</td>\n",
       "      <td>0.953716</td>\n",
       "      <td>16.208849</td>\n",
       "      <td>2.257889</td>\n",
       "      <td>...</td>\n",
       "      <td>14.015015</td>\n",
       "      <td>-502.520901</td>\n",
       "      <td>11.912783</td>\n",
       "      <td>-501.133383</td>\n",
       "      <td>10.070913</td>\n",
       "      <td>-500.129135</td>\n",
       "      <td>8.013877</td>\n",
       "      <td>-500.517572</td>\n",
       "      <td>14.028663</td>\n",
       "      <td>-601.427363</td>\n",
       "    </tr>\n",
       "    <tr>\n",
       "      <th>3</th>\n",
       "      <td>2016-01-15 03:00:00</td>\n",
       "      <td>6.047977</td>\n",
       "      <td>9.977019</td>\n",
       "      <td>4.858634</td>\n",
       "      <td>42.689819</td>\n",
       "      <td>68.347543</td>\n",
       "      <td>10.422762</td>\n",
       "      <td>0.883763</td>\n",
       "      <td>16.532835</td>\n",
       "      <td>2.146849</td>\n",
       "      <td>...</td>\n",
       "      <td>14.036510</td>\n",
       "      <td>-500.857308</td>\n",
       "      <td>11.999550</td>\n",
       "      <td>-501.193686</td>\n",
       "      <td>9.970366</td>\n",
       "      <td>-499.201640</td>\n",
       "      <td>7.977324</td>\n",
       "      <td>-500.255908</td>\n",
       "      <td>14.005551</td>\n",
       "      <td>-599.996129</td>\n",
       "    </tr>\n",
       "    <tr>\n",
       "      <th>4</th>\n",
       "      <td>2016-01-15 04:00:00</td>\n",
       "      <td>6.148599</td>\n",
       "      <td>10.142511</td>\n",
       "      <td>4.939416</td>\n",
       "      <td>42.774141</td>\n",
       "      <td>66.927016</td>\n",
       "      <td>10.360302</td>\n",
       "      <td>0.792826</td>\n",
       "      <td>16.525686</td>\n",
       "      <td>2.055292</td>\n",
       "      <td>...</td>\n",
       "      <td>14.027298</td>\n",
       "      <td>-499.838632</td>\n",
       "      <td>11.953070</td>\n",
       "      <td>-501.053894</td>\n",
       "      <td>9.925709</td>\n",
       "      <td>-501.686727</td>\n",
       "      <td>7.894242</td>\n",
       "      <td>-500.356035</td>\n",
       "      <td>13.996647</td>\n",
       "      <td>-601.496691</td>\n",
       "    </tr>\n",
       "    <tr>\n",
       "      <th>5</th>\n",
       "      <td>2016-01-15 05:00:00</td>\n",
       "      <td>6.482968</td>\n",
       "      <td>10.049416</td>\n",
       "      <td>5.480257</td>\n",
       "      <td>41.633678</td>\n",
       "      <td>69.465816</td>\n",
       "      <td>10.182708</td>\n",
       "      <td>0.664118</td>\n",
       "      <td>16.999638</td>\n",
       "      <td>1.918586</td>\n",
       "      <td>...</td>\n",
       "      <td>13.938497</td>\n",
       "      <td>-500.970168</td>\n",
       "      <td>11.883350</td>\n",
       "      <td>-500.395298</td>\n",
       "      <td>10.054147</td>\n",
       "      <td>-496.374715</td>\n",
       "      <td>7.965083</td>\n",
       "      <td>-499.364752</td>\n",
       "      <td>14.017067</td>\n",
       "      <td>-599.707915</td>\n",
       "    </tr>\n",
       "    <tr>\n",
       "      <th>6</th>\n",
       "      <td>2016-01-15 06:00:00</td>\n",
       "      <td>6.533849</td>\n",
       "      <td>10.058141</td>\n",
       "      <td>4.569100</td>\n",
       "      <td>41.995316</td>\n",
       "      <td>69.300835</td>\n",
       "      <td>10.304598</td>\n",
       "      <td>0.807342</td>\n",
       "      <td>16.723575</td>\n",
       "      <td>2.058913</td>\n",
       "      <td>...</td>\n",
       "      <td>14.046819</td>\n",
       "      <td>-500.971133</td>\n",
       "      <td>12.091543</td>\n",
       "      <td>-500.501426</td>\n",
       "      <td>10.003247</td>\n",
       "      <td>-497.083180</td>\n",
       "      <td>8.010890</td>\n",
       "      <td>-500.002423</td>\n",
       "      <td>14.029649</td>\n",
       "      <td>-600.905470</td>\n",
       "    </tr>\n",
       "    <tr>\n",
       "      <th>7</th>\n",
       "      <td>2016-01-15 07:00:00</td>\n",
       "      <td>6.130823</td>\n",
       "      <td>9.935481</td>\n",
       "      <td>4.389813</td>\n",
       "      <td>42.452727</td>\n",
       "      <td>70.230976</td>\n",
       "      <td>10.443288</td>\n",
       "      <td>0.949346</td>\n",
       "      <td>16.689959</td>\n",
       "      <td>2.143437</td>\n",
       "      <td>...</td>\n",
       "      <td>13.974691</td>\n",
       "      <td>-501.819696</td>\n",
       "      <td>12.101324</td>\n",
       "      <td>-500.583446</td>\n",
       "      <td>9.873169</td>\n",
       "      <td>-499.171928</td>\n",
       "      <td>7.993381</td>\n",
       "      <td>-499.794518</td>\n",
       "      <td>13.984498</td>\n",
       "      <td>-600.411070</td>\n",
       "    </tr>\n",
       "    <tr>\n",
       "      <th>8</th>\n",
       "      <td>2016-01-15 08:00:00</td>\n",
       "      <td>5.834140</td>\n",
       "      <td>10.071156</td>\n",
       "      <td>4.876389</td>\n",
       "      <td>43.404078</td>\n",
       "      <td>69.688595</td>\n",
       "      <td>10.420140</td>\n",
       "      <td>1.065453</td>\n",
       "      <td>17.201948</td>\n",
       "      <td>2.209881</td>\n",
       "      <td>...</td>\n",
       "      <td>13.964030</td>\n",
       "      <td>-504.252450</td>\n",
       "      <td>12.060738</td>\n",
       "      <td>-501.174549</td>\n",
       "      <td>10.033838</td>\n",
       "      <td>-501.178133</td>\n",
       "      <td>7.881604</td>\n",
       "      <td>-499.729434</td>\n",
       "      <td>13.967135</td>\n",
       "      <td>-599.061188</td>\n",
       "    </tr>\n",
       "    <tr>\n",
       "      <th>9</th>\n",
       "      <td>2016-01-15 09:00:00</td>\n",
       "      <td>5.687063</td>\n",
       "      <td>9.980404</td>\n",
       "      <td>5.282514</td>\n",
       "      <td>43.235220</td>\n",
       "      <td>70.279619</td>\n",
       "      <td>10.487013</td>\n",
       "      <td>1.159805</td>\n",
       "      <td>17.483979</td>\n",
       "      <td>2.209593</td>\n",
       "      <td>...</td>\n",
       "      <td>13.989632</td>\n",
       "      <td>-503.195299</td>\n",
       "      <td>12.052233</td>\n",
       "      <td>-500.928547</td>\n",
       "      <td>9.962574</td>\n",
       "      <td>-502.986357</td>\n",
       "      <td>7.979219</td>\n",
       "      <td>-500.146835</td>\n",
       "      <td>13.981614</td>\n",
       "      <td>-598.070855</td>\n",
       "    </tr>\n",
       "  </tbody>\n",
       "</table>\n",
       "<p>10 rows × 87 columns</p>\n",
       "</div>"
      ],
      "text/plain": [
       "                  date  final.output.concentrate_ag  \\\n",
       "0  2016-01-15 00:00:00                     6.055403   \n",
       "1  2016-01-15 01:00:00                     6.029369   \n",
       "2  2016-01-15 02:00:00                     6.055926   \n",
       "3  2016-01-15 03:00:00                     6.047977   \n",
       "4  2016-01-15 04:00:00                     6.148599   \n",
       "5  2016-01-15 05:00:00                     6.482968   \n",
       "6  2016-01-15 06:00:00                     6.533849   \n",
       "7  2016-01-15 07:00:00                     6.130823   \n",
       "8  2016-01-15 08:00:00                     5.834140   \n",
       "9  2016-01-15 09:00:00                     5.687063   \n",
       "\n",
       "   final.output.concentrate_pb  final.output.concentrate_sol  \\\n",
       "0                     9.889648                      5.507324   \n",
       "1                     9.968944                      5.257781   \n",
       "2                    10.213995                      5.383759   \n",
       "3                     9.977019                      4.858634   \n",
       "4                    10.142511                      4.939416   \n",
       "5                    10.049416                      5.480257   \n",
       "6                    10.058141                      4.569100   \n",
       "7                     9.935481                      4.389813   \n",
       "8                    10.071156                      4.876389   \n",
       "9                     9.980404                      5.282514   \n",
       "\n",
       "   final.output.concentrate_au  final.output.recovery  final.output.tail_ag  \\\n",
       "0                    42.192020              70.541216             10.411962   \n",
       "1                    42.701629              69.266198             10.462676   \n",
       "2                    42.657501              68.116445             10.507046   \n",
       "3                    42.689819              68.347543             10.422762   \n",
       "4                    42.774141              66.927016             10.360302   \n",
       "5                    41.633678              69.465816             10.182708   \n",
       "6                    41.995316              69.300835             10.304598   \n",
       "7                    42.452727              70.230976             10.443288   \n",
       "8                    43.404078              69.688595             10.420140   \n",
       "9                    43.235220              70.279619             10.487013   \n",
       "\n",
       "   final.output.tail_pb  final.output.tail_sol  final.output.tail_au  ...  \\\n",
       "0              0.895447              16.904297              2.143149  ...   \n",
       "1              0.927452              16.634514              2.224930  ...   \n",
       "2              0.953716              16.208849              2.257889  ...   \n",
       "3              0.883763              16.532835              2.146849  ...   \n",
       "4              0.792826              16.525686              2.055292  ...   \n",
       "5              0.664118              16.999638              1.918586  ...   \n",
       "6              0.807342              16.723575              2.058913  ...   \n",
       "7              0.949346              16.689959              2.143437  ...   \n",
       "8              1.065453              17.201948              2.209881  ...   \n",
       "9              1.159805              17.483979              2.209593  ...   \n",
       "\n",
       "   secondary_cleaner.state.floatbank4_a_air  \\\n",
       "0                                 14.016835   \n",
       "1                                 13.992281   \n",
       "2                                 14.015015   \n",
       "3                                 14.036510   \n",
       "4                                 14.027298   \n",
       "5                                 13.938497   \n",
       "6                                 14.046819   \n",
       "7                                 13.974691   \n",
       "8                                 13.964030   \n",
       "9                                 13.989632   \n",
       "\n",
       "   secondary_cleaner.state.floatbank4_a_level  \\\n",
       "0                                 -502.488007   \n",
       "1                                 -505.503262   \n",
       "2                                 -502.520901   \n",
       "3                                 -500.857308   \n",
       "4                                 -499.838632   \n",
       "5                                 -500.970168   \n",
       "6                                 -500.971133   \n",
       "7                                 -501.819696   \n",
       "8                                 -504.252450   \n",
       "9                                 -503.195299   \n",
       "\n",
       "   secondary_cleaner.state.floatbank4_b_air  \\\n",
       "0                                 12.099931   \n",
       "1                                 11.950531   \n",
       "2                                 11.912783   \n",
       "3                                 11.999550   \n",
       "4                                 11.953070   \n",
       "5                                 11.883350   \n",
       "6                                 12.091543   \n",
       "7                                 12.101324   \n",
       "8                                 12.060738   \n",
       "9                                 12.052233   \n",
       "\n",
       "   secondary_cleaner.state.floatbank4_b_level  \\\n",
       "0                                 -504.715942   \n",
       "1                                 -501.331529   \n",
       "2                                 -501.133383   \n",
       "3                                 -501.193686   \n",
       "4                                 -501.053894   \n",
       "5                                 -500.395298   \n",
       "6                                 -500.501426   \n",
       "7                                 -500.583446   \n",
       "8                                 -501.174549   \n",
       "9                                 -500.928547   \n",
       "\n",
       "   secondary_cleaner.state.floatbank5_a_air  \\\n",
       "0                                  9.925633   \n",
       "1                                 10.039245   \n",
       "2                                 10.070913   \n",
       "3                                  9.970366   \n",
       "4                                  9.925709   \n",
       "5                                 10.054147   \n",
       "6                                 10.003247   \n",
       "7                                  9.873169   \n",
       "8                                 10.033838   \n",
       "9                                  9.962574   \n",
       "\n",
       "   secondary_cleaner.state.floatbank5_a_level  \\\n",
       "0                                 -498.310211   \n",
       "1                                 -500.169983   \n",
       "2                                 -500.129135   \n",
       "3                                 -499.201640   \n",
       "4                                 -501.686727   \n",
       "5                                 -496.374715   \n",
       "6                                 -497.083180   \n",
       "7                                 -499.171928   \n",
       "8                                 -501.178133   \n",
       "9                                 -502.986357   \n",
       "\n",
       "   secondary_cleaner.state.floatbank5_b_air  \\\n",
       "0                                  8.079666   \n",
       "1                                  7.984757   \n",
       "2                                  8.013877   \n",
       "3                                  7.977324   \n",
       "4                                  7.894242   \n",
       "5                                  7.965083   \n",
       "6                                  8.010890   \n",
       "7                                  7.993381   \n",
       "8                                  7.881604   \n",
       "9                                  7.979219   \n",
       "\n",
       "   secondary_cleaner.state.floatbank5_b_level  \\\n",
       "0                                 -500.470978   \n",
       "1                                 -500.582168   \n",
       "2                                 -500.517572   \n",
       "3                                 -500.255908   \n",
       "4                                 -500.356035   \n",
       "5                                 -499.364752   \n",
       "6                                 -500.002423   \n",
       "7                                 -499.794518   \n",
       "8                                 -499.729434   \n",
       "9                                 -500.146835   \n",
       "\n",
       "   secondary_cleaner.state.floatbank6_a_air  \\\n",
       "0                                 14.151341   \n",
       "1                                 13.998353   \n",
       "2                                 14.028663   \n",
       "3                                 14.005551   \n",
       "4                                 13.996647   \n",
       "5                                 14.017067   \n",
       "6                                 14.029649   \n",
       "7                                 13.984498   \n",
       "8                                 13.967135   \n",
       "9                                 13.981614   \n",
       "\n",
       "   secondary_cleaner.state.floatbank6_a_level  \n",
       "0                                 -605.841980  \n",
       "1                                 -599.787184  \n",
       "2                                 -601.427363  \n",
       "3                                 -599.996129  \n",
       "4                                 -601.496691  \n",
       "5                                 -599.707915  \n",
       "6                                 -600.905470  \n",
       "7                                 -600.411070  \n",
       "8                                 -599.061188  \n",
       "9                                 -598.070855  \n",
       "\n",
       "[10 rows x 87 columns]"
      ]
     },
     "metadata": {},
     "output_type": "display_data"
    },
    {
     "data": {
      "text/plain": [
       "(16860, 87)"
      ]
     },
     "execution_count": 3,
     "metadata": {},
     "output_type": "execute_result"
    }
   ],
   "source": [
    "display(gold_train.head(10)) #Lets look at the data\n",
    "gold_train.shape"
   ]
  },
  {
   "cell_type": "code",
   "execution_count": 4,
   "id": "9ff90868",
   "metadata": {},
   "outputs": [
    {
     "data": {
      "text/plain": [
       "(16860, 87)"
      ]
     },
     "execution_count": 4,
     "metadata": {},
     "output_type": "execute_result"
    }
   ],
   "source": [
    "gold_train.shape"
   ]
  },
  {
   "cell_type": "code",
   "execution_count": 5,
   "id": "e5f4648c",
   "metadata": {},
   "outputs": [
    {
     "data": {
      "text/plain": [
       "(22716, 87)"
      ]
     },
     "execution_count": 5,
     "metadata": {},
     "output_type": "execute_result"
    }
   ],
   "source": [
    "gold_full.shape"
   ]
  },
  {
   "cell_type": "code",
   "execution_count": 6,
   "id": "9a82d64e",
   "metadata": {},
   "outputs": [
    {
     "data": {
      "text/plain": [
       "(5856, 53)"
      ]
     },
     "execution_count": 6,
     "metadata": {},
     "output_type": "execute_result"
    }
   ],
   "source": [
    "gold_test.shape"
   ]
  },
  {
   "cell_type": "markdown",
   "id": "959436c9",
   "metadata": {},
   "source": [
    "Looking at the shapes of the 3 datasets and I can see columns are missing from the test set that we will need to populate before testing our model. The full set contains both the test set and the training set and we can see both add up to number of rows in the full set. "
   ]
  },
  {
   "cell_type": "code",
   "execution_count": 7,
   "id": "7b0d3046",
   "metadata": {
    "scrolled": true
   },
   "outputs": [
    {
     "data": {
      "text/plain": [
       "0    87.107763\n",
       "1    86.843261\n",
       "2    86.842308\n",
       "3    87.226430\n",
       "4    86.688794\n",
       "Name: rougher.output.recovery, dtype: float64"
      ]
     },
     "execution_count": 7,
     "metadata": {},
     "output_type": "execute_result"
    }
   ],
   "source": [
    "gold_full['rougher.output.recovery'].head() #Taking a quick look at targets"
   ]
  },
  {
   "cell_type": "code",
   "execution_count": 8,
   "id": "8e68a0e1",
   "metadata": {},
   "outputs": [
    {
     "data": {
      "text/plain": [
       "0    70.541216\n",
       "1    69.266198\n",
       "2    68.116445\n",
       "3    68.347543\n",
       "4    66.927016\n",
       "Name: final.output.recovery, dtype: float64"
      ]
     },
     "execution_count": 8,
     "metadata": {},
     "output_type": "execute_result"
    }
   ],
   "source": [
    "gold_full['final.output.recovery'].head() #Looking at targets"
   ]
  },
  {
   "cell_type": "markdown",
   "id": "c19dbfcf",
   "metadata": {},
   "source": [
    "## 1.3. Analyze the features not available in the test set. What are these parameters? What is their type?  <a id='test_features'></a>\n",
    "\n",
    "[Back to Contents](#back)"
   ]
  },
  {
   "cell_type": "code",
   "execution_count": 9,
   "id": "06c2bdf3",
   "metadata": {},
   "outputs": [],
   "source": [
    "full_columns = list(gold_full.columns) "
   ]
  },
  {
   "cell_type": "code",
   "execution_count": 10,
   "id": "c94bda64",
   "metadata": {},
   "outputs": [],
   "source": [
    "test_columns = list(gold_test.columns)"
   ]
  },
  {
   "cell_type": "code",
   "execution_count": 11,
   "id": "c63ba381",
   "metadata": {
    "scrolled": true
   },
   "outputs": [
    {
     "name": "stdout",
     "output_type": "stream",
     "text": [
      "Missing values in test_columns:\n",
      "{'primary_cleaner.output.concentrate_au', 'primary_cleaner.output.tail_pb', 'primary_cleaner.output.concentrate_sol', 'final.output.concentrate_ag', 'final.output.concentrate_pb', 'rougher.output.recovery', 'secondary_cleaner.output.tail_pb', 'rougher.output.concentrate_sol', 'rougher.calculation.floatbank10_sulfate_to_au_feed', 'primary_cleaner.output.tail_sol', 'rougher.output.tail_sol', 'final.output.tail_pb', 'rougher.output.tail_ag', 'rougher.output.concentrate_ag', 'final.output.recovery', 'final.output.tail_au', 'primary_cleaner.output.tail_au', 'final.output.concentrate_au', 'secondary_cleaner.output.tail_au', 'rougher.calculation.floatbank11_sulfate_to_au_feed', 'rougher.output.tail_pb', 'primary_cleaner.output.concentrate_pb', 'rougher.output.concentrate_pb', 'rougher.output.tail_au', 'primary_cleaner.output.concentrate_ag', 'final.output.tail_sol', 'rougher.calculation.sulfate_to_au_concentrate', 'final.output.tail_ag', 'secondary_cleaner.output.tail_ag', 'secondary_cleaner.output.tail_sol', 'rougher.calculation.au_pb_ratio', 'final.output.concentrate_sol', 'primary_cleaner.output.tail_ag', 'rougher.output.concentrate_au'}\n",
      "\n",
      "Number of Missing columns:\n",
      "34\n"
     ]
    }
   ],
   "source": [
    "# find the missing and additional elements in the 2 lists of columns\n",
    "print(\"Missing values in test_columns:\")\n",
    "print((set(full_columns).difference(test_columns)))\n",
    "print()\n",
    "print(\"Number of Missing columns:\")\n",
    "print(len(set(full_columns).difference(test_columns)))"
   ]
  },
  {
   "cell_type": "markdown",
   "id": "8a0aaa18",
   "metadata": {},
   "source": [
    "##### After analyzing the 34 features missing in the test set I can see that none of the the \"final\" stage features are included. Also none of the parameter types of \"output\" are included in the test set. The targets rougher.output.recovery and final.output.recovery are not included in the test data-frame either. All missing values are of type float64."
   ]
  },
  {
   "cell_type": "code",
   "execution_count": 12,
   "id": "55eef7f0",
   "metadata": {
    "scrolled": true
   },
   "outputs": [
    {
     "data": {
      "text/html": [
       "<div>\n",
       "<style scoped>\n",
       "    .dataframe tbody tr th:only-of-type {\n",
       "        vertical-align: middle;\n",
       "    }\n",
       "\n",
       "    .dataframe tbody tr th {\n",
       "        vertical-align: top;\n",
       "    }\n",
       "\n",
       "    .dataframe thead th {\n",
       "        text-align: right;\n",
       "    }\n",
       "</style>\n",
       "<table border=\"1\" class=\"dataframe\">\n",
       "  <thead>\n",
       "    <tr style=\"text-align: right;\">\n",
       "      <th></th>\n",
       "      <th>date</th>\n",
       "      <th>primary_cleaner.input.sulfate</th>\n",
       "      <th>primary_cleaner.input.depressant</th>\n",
       "      <th>primary_cleaner.input.feed_size</th>\n",
       "      <th>primary_cleaner.input.xanthate</th>\n",
       "      <th>primary_cleaner.state.floatbank8_a_air</th>\n",
       "      <th>primary_cleaner.state.floatbank8_a_level</th>\n",
       "      <th>primary_cleaner.state.floatbank8_b_air</th>\n",
       "      <th>primary_cleaner.state.floatbank8_b_level</th>\n",
       "      <th>primary_cleaner.state.floatbank8_c_air</th>\n",
       "      <th>...</th>\n",
       "      <th>secondary_cleaner.state.floatbank4_a_air</th>\n",
       "      <th>secondary_cleaner.state.floatbank4_a_level</th>\n",
       "      <th>secondary_cleaner.state.floatbank4_b_air</th>\n",
       "      <th>secondary_cleaner.state.floatbank4_b_level</th>\n",
       "      <th>secondary_cleaner.state.floatbank5_a_air</th>\n",
       "      <th>secondary_cleaner.state.floatbank5_a_level</th>\n",
       "      <th>secondary_cleaner.state.floatbank5_b_air</th>\n",
       "      <th>secondary_cleaner.state.floatbank5_b_level</th>\n",
       "      <th>secondary_cleaner.state.floatbank6_a_air</th>\n",
       "      <th>secondary_cleaner.state.floatbank6_a_level</th>\n",
       "    </tr>\n",
       "  </thead>\n",
       "  <tbody>\n",
       "    <tr>\n",
       "      <th>0</th>\n",
       "      <td>2016-09-01 00:59:59</td>\n",
       "      <td>210.800909</td>\n",
       "      <td>14.993118</td>\n",
       "      <td>8.080000</td>\n",
       "      <td>1.005021</td>\n",
       "      <td>1398.981301</td>\n",
       "      <td>-500.225577</td>\n",
       "      <td>1399.144926</td>\n",
       "      <td>-499.919735</td>\n",
       "      <td>1400.102998</td>\n",
       "      <td>...</td>\n",
       "      <td>12.023554</td>\n",
       "      <td>-497.795834</td>\n",
       "      <td>8.016656</td>\n",
       "      <td>-501.289139</td>\n",
       "      <td>7.946562</td>\n",
       "      <td>-432.317850</td>\n",
       "      <td>4.872511</td>\n",
       "      <td>-500.037437</td>\n",
       "      <td>26.705889</td>\n",
       "      <td>-499.709414</td>\n",
       "    </tr>\n",
       "    <tr>\n",
       "      <th>1</th>\n",
       "      <td>2016-09-01 01:59:59</td>\n",
       "      <td>215.392455</td>\n",
       "      <td>14.987471</td>\n",
       "      <td>8.080000</td>\n",
       "      <td>0.990469</td>\n",
       "      <td>1398.777912</td>\n",
       "      <td>-500.057435</td>\n",
       "      <td>1398.055362</td>\n",
       "      <td>-499.778182</td>\n",
       "      <td>1396.151033</td>\n",
       "      <td>...</td>\n",
       "      <td>12.058140</td>\n",
       "      <td>-498.695773</td>\n",
       "      <td>8.130979</td>\n",
       "      <td>-499.634209</td>\n",
       "      <td>7.958270</td>\n",
       "      <td>-525.839648</td>\n",
       "      <td>4.878850</td>\n",
       "      <td>-500.162375</td>\n",
       "      <td>25.019940</td>\n",
       "      <td>-499.819438</td>\n",
       "    </tr>\n",
       "    <tr>\n",
       "      <th>2</th>\n",
       "      <td>2016-09-01 02:59:59</td>\n",
       "      <td>215.259946</td>\n",
       "      <td>12.884934</td>\n",
       "      <td>7.786667</td>\n",
       "      <td>0.996043</td>\n",
       "      <td>1398.493666</td>\n",
       "      <td>-500.868360</td>\n",
       "      <td>1398.860436</td>\n",
       "      <td>-499.764529</td>\n",
       "      <td>1398.075709</td>\n",
       "      <td>...</td>\n",
       "      <td>11.962366</td>\n",
       "      <td>-498.767484</td>\n",
       "      <td>8.096893</td>\n",
       "      <td>-500.827423</td>\n",
       "      <td>8.071056</td>\n",
       "      <td>-500.801673</td>\n",
       "      <td>4.905125</td>\n",
       "      <td>-499.828510</td>\n",
       "      <td>24.994862</td>\n",
       "      <td>-500.622559</td>\n",
       "    </tr>\n",
       "    <tr>\n",
       "      <th>3</th>\n",
       "      <td>2016-09-01 03:59:59</td>\n",
       "      <td>215.336236</td>\n",
       "      <td>12.006805</td>\n",
       "      <td>7.640000</td>\n",
       "      <td>0.863514</td>\n",
       "      <td>1399.618111</td>\n",
       "      <td>-498.863574</td>\n",
       "      <td>1397.440120</td>\n",
       "      <td>-499.211024</td>\n",
       "      <td>1400.129303</td>\n",
       "      <td>...</td>\n",
       "      <td>12.033091</td>\n",
       "      <td>-498.350935</td>\n",
       "      <td>8.074946</td>\n",
       "      <td>-499.474407</td>\n",
       "      <td>7.897085</td>\n",
       "      <td>-500.868509</td>\n",
       "      <td>4.931400</td>\n",
       "      <td>-499.963623</td>\n",
       "      <td>24.948919</td>\n",
       "      <td>-498.709987</td>\n",
       "    </tr>\n",
       "    <tr>\n",
       "      <th>4</th>\n",
       "      <td>2016-09-01 04:59:59</td>\n",
       "      <td>199.099327</td>\n",
       "      <td>10.682530</td>\n",
       "      <td>7.530000</td>\n",
       "      <td>0.805575</td>\n",
       "      <td>1401.268123</td>\n",
       "      <td>-500.808305</td>\n",
       "      <td>1398.128818</td>\n",
       "      <td>-499.504543</td>\n",
       "      <td>1402.172226</td>\n",
       "      <td>...</td>\n",
       "      <td>12.025367</td>\n",
       "      <td>-500.786497</td>\n",
       "      <td>8.054678</td>\n",
       "      <td>-500.397500</td>\n",
       "      <td>8.107890</td>\n",
       "      <td>-509.526725</td>\n",
       "      <td>4.957674</td>\n",
       "      <td>-500.360026</td>\n",
       "      <td>25.003331</td>\n",
       "      <td>-500.856333</td>\n",
       "    </tr>\n",
       "    <tr>\n",
       "      <th>5</th>\n",
       "      <td>2016-09-01 05:59:59</td>\n",
       "      <td>168.485085</td>\n",
       "      <td>8.817007</td>\n",
       "      <td>7.420000</td>\n",
       "      <td>0.791191</td>\n",
       "      <td>1402.826803</td>\n",
       "      <td>-499.299521</td>\n",
       "      <td>1401.511119</td>\n",
       "      <td>-499.205357</td>\n",
       "      <td>1404.088107</td>\n",
       "      <td>...</td>\n",
       "      <td>12.029797</td>\n",
       "      <td>-499.814895</td>\n",
       "      <td>8.036586</td>\n",
       "      <td>-500.371492</td>\n",
       "      <td>8.041446</td>\n",
       "      <td>-510.037054</td>\n",
       "      <td>4.983949</td>\n",
       "      <td>-499.990990</td>\n",
       "      <td>24.978973</td>\n",
       "      <td>-500.475640</td>\n",
       "    </tr>\n",
       "    <tr>\n",
       "      <th>6</th>\n",
       "      <td>2016-09-01 06:59:59</td>\n",
       "      <td>144.133440</td>\n",
       "      <td>7.924610</td>\n",
       "      <td>7.420000</td>\n",
       "      <td>0.788838</td>\n",
       "      <td>1398.252401</td>\n",
       "      <td>-499.748672</td>\n",
       "      <td>1393.255503</td>\n",
       "      <td>-499.195380</td>\n",
       "      <td>1396.738566</td>\n",
       "      <td>...</td>\n",
       "      <td>12.026296</td>\n",
       "      <td>-499.473127</td>\n",
       "      <td>8.027984</td>\n",
       "      <td>-500.983079</td>\n",
       "      <td>7.907340</td>\n",
       "      <td>-507.964971</td>\n",
       "      <td>5.010224</td>\n",
       "      <td>-500.043697</td>\n",
       "      <td>25.040709</td>\n",
       "      <td>-499.501984</td>\n",
       "    </tr>\n",
       "    <tr>\n",
       "      <th>7</th>\n",
       "      <td>2016-09-01 07:59:59</td>\n",
       "      <td>133.513396</td>\n",
       "      <td>8.055252</td>\n",
       "      <td>6.988000</td>\n",
       "      <td>0.801871</td>\n",
       "      <td>1401.669677</td>\n",
       "      <td>-501.777839</td>\n",
       "      <td>1400.754446</td>\n",
       "      <td>-502.514024</td>\n",
       "      <td>1400.465244</td>\n",
       "      <td>...</td>\n",
       "      <td>12.040911</td>\n",
       "      <td>-501.293852</td>\n",
       "      <td>8.020490</td>\n",
       "      <td>-499.185229</td>\n",
       "      <td>8.116897</td>\n",
       "      <td>-511.927561</td>\n",
       "      <td>5.036498</td>\n",
       "      <td>-500.149615</td>\n",
       "      <td>25.032580</td>\n",
       "      <td>-503.970657</td>\n",
       "    </tr>\n",
       "    <tr>\n",
       "      <th>8</th>\n",
       "      <td>2016-09-01 08:59:59</td>\n",
       "      <td>133.735356</td>\n",
       "      <td>7.999618</td>\n",
       "      <td>6.935000</td>\n",
       "      <td>0.789329</td>\n",
       "      <td>1402.358981</td>\n",
       "      <td>-499.981597</td>\n",
       "      <td>1400.985954</td>\n",
       "      <td>-496.802968</td>\n",
       "      <td>1401.168584</td>\n",
       "      <td>...</td>\n",
       "      <td>11.998184</td>\n",
       "      <td>-499.481608</td>\n",
       "      <td>8.012610</td>\n",
       "      <td>-500.896783</td>\n",
       "      <td>7.974422</td>\n",
       "      <td>-521.199104</td>\n",
       "      <td>5.061599</td>\n",
       "      <td>-499.791519</td>\n",
       "      <td>25.005063</td>\n",
       "      <td>-497.613716</td>\n",
       "    </tr>\n",
       "    <tr>\n",
       "      <th>9</th>\n",
       "      <td>2016-09-01 09:59:59</td>\n",
       "      <td>126.961069</td>\n",
       "      <td>8.017856</td>\n",
       "      <td>7.030000</td>\n",
       "      <td>0.805298</td>\n",
       "      <td>1400.816120</td>\n",
       "      <td>-499.014158</td>\n",
       "      <td>1399.975401</td>\n",
       "      <td>-499.570552</td>\n",
       "      <td>1401.871924</td>\n",
       "      <td>...</td>\n",
       "      <td>12.040725</td>\n",
       "      <td>-499.987743</td>\n",
       "      <td>7.989503</td>\n",
       "      <td>-499.750625</td>\n",
       "      <td>7.989710</td>\n",
       "      <td>-509.946737</td>\n",
       "      <td>5.068811</td>\n",
       "      <td>-499.293900</td>\n",
       "      <td>24.992741</td>\n",
       "      <td>-499.272255</td>\n",
       "    </tr>\n",
       "  </tbody>\n",
       "</table>\n",
       "<p>10 rows × 53 columns</p>\n",
       "</div>"
      ],
      "text/plain": [
       "                  date  primary_cleaner.input.sulfate  \\\n",
       "0  2016-09-01 00:59:59                     210.800909   \n",
       "1  2016-09-01 01:59:59                     215.392455   \n",
       "2  2016-09-01 02:59:59                     215.259946   \n",
       "3  2016-09-01 03:59:59                     215.336236   \n",
       "4  2016-09-01 04:59:59                     199.099327   \n",
       "5  2016-09-01 05:59:59                     168.485085   \n",
       "6  2016-09-01 06:59:59                     144.133440   \n",
       "7  2016-09-01 07:59:59                     133.513396   \n",
       "8  2016-09-01 08:59:59                     133.735356   \n",
       "9  2016-09-01 09:59:59                     126.961069   \n",
       "\n",
       "   primary_cleaner.input.depressant  primary_cleaner.input.feed_size  \\\n",
       "0                         14.993118                         8.080000   \n",
       "1                         14.987471                         8.080000   \n",
       "2                         12.884934                         7.786667   \n",
       "3                         12.006805                         7.640000   \n",
       "4                         10.682530                         7.530000   \n",
       "5                          8.817007                         7.420000   \n",
       "6                          7.924610                         7.420000   \n",
       "7                          8.055252                         6.988000   \n",
       "8                          7.999618                         6.935000   \n",
       "9                          8.017856                         7.030000   \n",
       "\n",
       "   primary_cleaner.input.xanthate  primary_cleaner.state.floatbank8_a_air  \\\n",
       "0                        1.005021                             1398.981301   \n",
       "1                        0.990469                             1398.777912   \n",
       "2                        0.996043                             1398.493666   \n",
       "3                        0.863514                             1399.618111   \n",
       "4                        0.805575                             1401.268123   \n",
       "5                        0.791191                             1402.826803   \n",
       "6                        0.788838                             1398.252401   \n",
       "7                        0.801871                             1401.669677   \n",
       "8                        0.789329                             1402.358981   \n",
       "9                        0.805298                             1400.816120   \n",
       "\n",
       "   primary_cleaner.state.floatbank8_a_level  \\\n",
       "0                               -500.225577   \n",
       "1                               -500.057435   \n",
       "2                               -500.868360   \n",
       "3                               -498.863574   \n",
       "4                               -500.808305   \n",
       "5                               -499.299521   \n",
       "6                               -499.748672   \n",
       "7                               -501.777839   \n",
       "8                               -499.981597   \n",
       "9                               -499.014158   \n",
       "\n",
       "   primary_cleaner.state.floatbank8_b_air  \\\n",
       "0                             1399.144926   \n",
       "1                             1398.055362   \n",
       "2                             1398.860436   \n",
       "3                             1397.440120   \n",
       "4                             1398.128818   \n",
       "5                             1401.511119   \n",
       "6                             1393.255503   \n",
       "7                             1400.754446   \n",
       "8                             1400.985954   \n",
       "9                             1399.975401   \n",
       "\n",
       "   primary_cleaner.state.floatbank8_b_level  \\\n",
       "0                               -499.919735   \n",
       "1                               -499.778182   \n",
       "2                               -499.764529   \n",
       "3                               -499.211024   \n",
       "4                               -499.504543   \n",
       "5                               -499.205357   \n",
       "6                               -499.195380   \n",
       "7                               -502.514024   \n",
       "8                               -496.802968   \n",
       "9                               -499.570552   \n",
       "\n",
       "   primary_cleaner.state.floatbank8_c_air  ...  \\\n",
       "0                             1400.102998  ...   \n",
       "1                             1396.151033  ...   \n",
       "2                             1398.075709  ...   \n",
       "3                             1400.129303  ...   \n",
       "4                             1402.172226  ...   \n",
       "5                             1404.088107  ...   \n",
       "6                             1396.738566  ...   \n",
       "7                             1400.465244  ...   \n",
       "8                             1401.168584  ...   \n",
       "9                             1401.871924  ...   \n",
       "\n",
       "   secondary_cleaner.state.floatbank4_a_air  \\\n",
       "0                                 12.023554   \n",
       "1                                 12.058140   \n",
       "2                                 11.962366   \n",
       "3                                 12.033091   \n",
       "4                                 12.025367   \n",
       "5                                 12.029797   \n",
       "6                                 12.026296   \n",
       "7                                 12.040911   \n",
       "8                                 11.998184   \n",
       "9                                 12.040725   \n",
       "\n",
       "   secondary_cleaner.state.floatbank4_a_level  \\\n",
       "0                                 -497.795834   \n",
       "1                                 -498.695773   \n",
       "2                                 -498.767484   \n",
       "3                                 -498.350935   \n",
       "4                                 -500.786497   \n",
       "5                                 -499.814895   \n",
       "6                                 -499.473127   \n",
       "7                                 -501.293852   \n",
       "8                                 -499.481608   \n",
       "9                                 -499.987743   \n",
       "\n",
       "   secondary_cleaner.state.floatbank4_b_air  \\\n",
       "0                                  8.016656   \n",
       "1                                  8.130979   \n",
       "2                                  8.096893   \n",
       "3                                  8.074946   \n",
       "4                                  8.054678   \n",
       "5                                  8.036586   \n",
       "6                                  8.027984   \n",
       "7                                  8.020490   \n",
       "8                                  8.012610   \n",
       "9                                  7.989503   \n",
       "\n",
       "   secondary_cleaner.state.floatbank4_b_level  \\\n",
       "0                                 -501.289139   \n",
       "1                                 -499.634209   \n",
       "2                                 -500.827423   \n",
       "3                                 -499.474407   \n",
       "4                                 -500.397500   \n",
       "5                                 -500.371492   \n",
       "6                                 -500.983079   \n",
       "7                                 -499.185229   \n",
       "8                                 -500.896783   \n",
       "9                                 -499.750625   \n",
       "\n",
       "   secondary_cleaner.state.floatbank5_a_air  \\\n",
       "0                                  7.946562   \n",
       "1                                  7.958270   \n",
       "2                                  8.071056   \n",
       "3                                  7.897085   \n",
       "4                                  8.107890   \n",
       "5                                  8.041446   \n",
       "6                                  7.907340   \n",
       "7                                  8.116897   \n",
       "8                                  7.974422   \n",
       "9                                  7.989710   \n",
       "\n",
       "   secondary_cleaner.state.floatbank5_a_level  \\\n",
       "0                                 -432.317850   \n",
       "1                                 -525.839648   \n",
       "2                                 -500.801673   \n",
       "3                                 -500.868509   \n",
       "4                                 -509.526725   \n",
       "5                                 -510.037054   \n",
       "6                                 -507.964971   \n",
       "7                                 -511.927561   \n",
       "8                                 -521.199104   \n",
       "9                                 -509.946737   \n",
       "\n",
       "   secondary_cleaner.state.floatbank5_b_air  \\\n",
       "0                                  4.872511   \n",
       "1                                  4.878850   \n",
       "2                                  4.905125   \n",
       "3                                  4.931400   \n",
       "4                                  4.957674   \n",
       "5                                  4.983949   \n",
       "6                                  5.010224   \n",
       "7                                  5.036498   \n",
       "8                                  5.061599   \n",
       "9                                  5.068811   \n",
       "\n",
       "   secondary_cleaner.state.floatbank5_b_level  \\\n",
       "0                                 -500.037437   \n",
       "1                                 -500.162375   \n",
       "2                                 -499.828510   \n",
       "3                                 -499.963623   \n",
       "4                                 -500.360026   \n",
       "5                                 -499.990990   \n",
       "6                                 -500.043697   \n",
       "7                                 -500.149615   \n",
       "8                                 -499.791519   \n",
       "9                                 -499.293900   \n",
       "\n",
       "   secondary_cleaner.state.floatbank6_a_air  \\\n",
       "0                                 26.705889   \n",
       "1                                 25.019940   \n",
       "2                                 24.994862   \n",
       "3                                 24.948919   \n",
       "4                                 25.003331   \n",
       "5                                 24.978973   \n",
       "6                                 25.040709   \n",
       "7                                 25.032580   \n",
       "8                                 25.005063   \n",
       "9                                 24.992741   \n",
       "\n",
       "   secondary_cleaner.state.floatbank6_a_level  \n",
       "0                                 -499.709414  \n",
       "1                                 -499.819438  \n",
       "2                                 -500.622559  \n",
       "3                                 -498.709987  \n",
       "4                                 -500.856333  \n",
       "5                                 -500.475640  \n",
       "6                                 -499.501984  \n",
       "7                                 -503.970657  \n",
       "8                                 -497.613716  \n",
       "9                                 -499.272255  \n",
       "\n",
       "[10 rows x 53 columns]"
      ]
     },
     "execution_count": 12,
     "metadata": {},
     "output_type": "execute_result"
    }
   ],
   "source": [
    "gold_test.head(10)"
   ]
  },
  {
   "cell_type": "code",
   "execution_count": 13,
   "id": "05ad0791",
   "metadata": {},
   "outputs": [
    {
     "name": "stdout",
     "output_type": "stream",
     "text": [
      "<class 'pandas.core.frame.DataFrame'>\n",
      "RangeIndex: 5856 entries, 0 to 5855\n",
      "Data columns (total 53 columns):\n",
      " #   Column                                      Non-Null Count  Dtype  \n",
      "---  ------                                      --------------  -----  \n",
      " 0   date                                        5856 non-null   object \n",
      " 1   primary_cleaner.input.sulfate               5554 non-null   float64\n",
      " 2   primary_cleaner.input.depressant            5572 non-null   float64\n",
      " 3   primary_cleaner.input.feed_size             5856 non-null   float64\n",
      " 4   primary_cleaner.input.xanthate              5690 non-null   float64\n",
      " 5   primary_cleaner.state.floatbank8_a_air      5840 non-null   float64\n",
      " 6   primary_cleaner.state.floatbank8_a_level    5840 non-null   float64\n",
      " 7   primary_cleaner.state.floatbank8_b_air      5840 non-null   float64\n",
      " 8   primary_cleaner.state.floatbank8_b_level    5840 non-null   float64\n",
      " 9   primary_cleaner.state.floatbank8_c_air      5840 non-null   float64\n",
      " 10  primary_cleaner.state.floatbank8_c_level    5840 non-null   float64\n",
      " 11  primary_cleaner.state.floatbank8_d_air      5840 non-null   float64\n",
      " 12  primary_cleaner.state.floatbank8_d_level    5840 non-null   float64\n",
      " 13  rougher.input.feed_ag                       5840 non-null   float64\n",
      " 14  rougher.input.feed_pb                       5840 non-null   float64\n",
      " 15  rougher.input.feed_rate                     5816 non-null   float64\n",
      " 16  rougher.input.feed_size                     5834 non-null   float64\n",
      " 17  rougher.input.feed_sol                      5789 non-null   float64\n",
      " 18  rougher.input.feed_au                       5840 non-null   float64\n",
      " 19  rougher.input.floatbank10_sulfate           5599 non-null   float64\n",
      " 20  rougher.input.floatbank10_xanthate          5733 non-null   float64\n",
      " 21  rougher.input.floatbank11_sulfate           5801 non-null   float64\n",
      " 22  rougher.input.floatbank11_xanthate          5503 non-null   float64\n",
      " 23  rougher.state.floatbank10_a_air             5839 non-null   float64\n",
      " 24  rougher.state.floatbank10_a_level           5840 non-null   float64\n",
      " 25  rougher.state.floatbank10_b_air             5839 non-null   float64\n",
      " 26  rougher.state.floatbank10_b_level           5840 non-null   float64\n",
      " 27  rougher.state.floatbank10_c_air             5839 non-null   float64\n",
      " 28  rougher.state.floatbank10_c_level           5840 non-null   float64\n",
      " 29  rougher.state.floatbank10_d_air             5839 non-null   float64\n",
      " 30  rougher.state.floatbank10_d_level           5840 non-null   float64\n",
      " 31  rougher.state.floatbank10_e_air             5839 non-null   float64\n",
      " 32  rougher.state.floatbank10_e_level           5840 non-null   float64\n",
      " 33  rougher.state.floatbank10_f_air             5839 non-null   float64\n",
      " 34  rougher.state.floatbank10_f_level           5840 non-null   float64\n",
      " 35  secondary_cleaner.state.floatbank2_a_air    5836 non-null   float64\n",
      " 36  secondary_cleaner.state.floatbank2_a_level  5840 non-null   float64\n",
      " 37  secondary_cleaner.state.floatbank2_b_air    5833 non-null   float64\n",
      " 38  secondary_cleaner.state.floatbank2_b_level  5840 non-null   float64\n",
      " 39  secondary_cleaner.state.floatbank3_a_air    5822 non-null   float64\n",
      " 40  secondary_cleaner.state.floatbank3_a_level  5840 non-null   float64\n",
      " 41  secondary_cleaner.state.floatbank3_b_air    5840 non-null   float64\n",
      " 42  secondary_cleaner.state.floatbank3_b_level  5840 non-null   float64\n",
      " 43  secondary_cleaner.state.floatbank4_a_air    5840 non-null   float64\n",
      " 44  secondary_cleaner.state.floatbank4_a_level  5840 non-null   float64\n",
      " 45  secondary_cleaner.state.floatbank4_b_air    5840 non-null   float64\n",
      " 46  secondary_cleaner.state.floatbank4_b_level  5840 non-null   float64\n",
      " 47  secondary_cleaner.state.floatbank5_a_air    5840 non-null   float64\n",
      " 48  secondary_cleaner.state.floatbank5_a_level  5840 non-null   float64\n",
      " 49  secondary_cleaner.state.floatbank5_b_air    5840 non-null   float64\n",
      " 50  secondary_cleaner.state.floatbank5_b_level  5840 non-null   float64\n",
      " 51  secondary_cleaner.state.floatbank6_a_air    5840 non-null   float64\n",
      " 52  secondary_cleaner.state.floatbank6_a_level  5840 non-null   float64\n",
      "dtypes: float64(52), object(1)\n",
      "memory usage: 2.4+ MB\n"
     ]
    }
   ],
   "source": [
    "gold_test.info()"
   ]
  },
  {
   "cell_type": "code",
   "execution_count": 14,
   "id": "8f159a33",
   "metadata": {},
   "outputs": [
    {
     "name": "stdout",
     "output_type": "stream",
     "text": [
      "<class 'pandas.core.frame.DataFrame'>\n",
      "RangeIndex: 22716 entries, 0 to 22715\n",
      "Data columns (total 87 columns):\n",
      " #   Column                                              Non-Null Count  Dtype  \n",
      "---  ------                                              --------------  -----  \n",
      " 0   date                                                22716 non-null  object \n",
      " 1   final.output.concentrate_ag                         22627 non-null  float64\n",
      " 2   final.output.concentrate_pb                         22629 non-null  float64\n",
      " 3   final.output.concentrate_sol                        22331 non-null  float64\n",
      " 4   final.output.concentrate_au                         22630 non-null  float64\n",
      " 5   final.output.recovery                               20753 non-null  float64\n",
      " 6   final.output.tail_ag                                22633 non-null  float64\n",
      " 7   final.output.tail_pb                                22516 non-null  float64\n",
      " 8   final.output.tail_sol                               22445 non-null  float64\n",
      " 9   final.output.tail_au                                22635 non-null  float64\n",
      " 10  primary_cleaner.input.sulfate                       21107 non-null  float64\n",
      " 11  primary_cleaner.input.depressant                    21170 non-null  float64\n",
      " 12  primary_cleaner.input.feed_size                     22716 non-null  float64\n",
      " 13  primary_cleaner.input.xanthate                      21565 non-null  float64\n",
      " 14  primary_cleaner.output.concentrate_ag               22618 non-null  float64\n",
      " 15  primary_cleaner.output.concentrate_pb               22268 non-null  float64\n",
      " 16  primary_cleaner.output.concentrate_sol              21918 non-null  float64\n",
      " 17  primary_cleaner.output.concentrate_au               22618 non-null  float64\n",
      " 18  primary_cleaner.output.tail_ag                      22614 non-null  float64\n",
      " 19  primary_cleaner.output.tail_pb                      22594 non-null  float64\n",
      " 20  primary_cleaner.output.tail_sol                     22365 non-null  float64\n",
      " 21  primary_cleaner.output.tail_au                      22617 non-null  float64\n",
      " 22  primary_cleaner.state.floatbank8_a_air              22660 non-null  float64\n",
      " 23  primary_cleaner.state.floatbank8_a_level            22667 non-null  float64\n",
      " 24  primary_cleaner.state.floatbank8_b_air              22660 non-null  float64\n",
      " 25  primary_cleaner.state.floatbank8_b_level            22673 non-null  float64\n",
      " 26  primary_cleaner.state.floatbank8_c_air              22662 non-null  float64\n",
      " 27  primary_cleaner.state.floatbank8_c_level            22673 non-null  float64\n",
      " 28  primary_cleaner.state.floatbank8_d_air              22661 non-null  float64\n",
      " 29  primary_cleaner.state.floatbank8_d_level            22673 non-null  float64\n",
      " 30  rougher.calculation.sulfate_to_au_concentrate       22672 non-null  float64\n",
      " 31  rougher.calculation.floatbank10_sulfate_to_au_feed  22672 non-null  float64\n",
      " 32  rougher.calculation.floatbank11_sulfate_to_au_feed  22672 non-null  float64\n",
      " 33  rougher.calculation.au_pb_ratio                     21089 non-null  float64\n",
      " 34  rougher.input.feed_ag                               22618 non-null  float64\n",
      " 35  rougher.input.feed_pb                               22472 non-null  float64\n",
      " 36  rougher.input.feed_rate                             22163 non-null  float64\n",
      " 37  rougher.input.feed_size                             22277 non-null  float64\n",
      " 38  rougher.input.feed_sol                              22357 non-null  float64\n",
      " 39  rougher.input.feed_au                               22617 non-null  float64\n",
      " 40  rougher.input.floatbank10_sulfate                   21415 non-null  float64\n",
      " 41  rougher.input.floatbank10_xanthate                  22247 non-null  float64\n",
      " 42  rougher.input.floatbank11_sulfate                   22038 non-null  float64\n",
      " 43  rougher.input.floatbank11_xanthate                  20459 non-null  float64\n",
      " 44  rougher.output.concentrate_ag                       22618 non-null  float64\n",
      " 45  rougher.output.concentrate_pb                       22618 non-null  float64\n",
      " 46  rougher.output.concentrate_sol                      22526 non-null  float64\n",
      " 47  rougher.output.concentrate_au                       22618 non-null  float64\n",
      " 48  rougher.output.recovery                             19597 non-null  float64\n",
      " 49  rougher.output.tail_ag                              19979 non-null  float64\n",
      " 50  rougher.output.tail_pb                              22618 non-null  float64\n",
      " 51  rougher.output.tail_sol                             19980 non-null  float64\n",
      " 52  rougher.output.tail_au                              19980 non-null  float64\n",
      " 53  rougher.state.floatbank10_a_air                     22646 non-null  float64\n",
      " 54  rougher.state.floatbank10_a_level                   22647 non-null  float64\n",
      " 55  rougher.state.floatbank10_b_air                     22646 non-null  float64\n",
      " 56  rougher.state.floatbank10_b_level                   22647 non-null  float64\n",
      " 57  rougher.state.floatbank10_c_air                     22646 non-null  float64\n",
      " 58  rougher.state.floatbank10_c_level                   22654 non-null  float64\n",
      " 59  rougher.state.floatbank10_d_air                     22641 non-null  float64\n",
      " 60  rougher.state.floatbank10_d_level                   22649 non-null  float64\n",
      " 61  rougher.state.floatbank10_e_air                     22096 non-null  float64\n",
      " 62  rougher.state.floatbank10_e_level                   22649 non-null  float64\n",
      " 63  rougher.state.floatbank10_f_air                     22641 non-null  float64\n",
      " 64  rougher.state.floatbank10_f_level                   22642 non-null  float64\n",
      " 65  secondary_cleaner.output.tail_ag                    22616 non-null  float64\n",
      " 66  secondary_cleaner.output.tail_pb                    22600 non-null  float64\n",
      " 67  secondary_cleaner.output.tail_sol                   20501 non-null  float64\n",
      " 68  secondary_cleaner.output.tail_au                    22618 non-null  float64\n",
      " 69  secondary_cleaner.state.floatbank2_a_air            22333 non-null  float64\n",
      " 70  secondary_cleaner.state.floatbank2_a_level          22591 non-null  float64\n",
      " 71  secondary_cleaner.state.floatbank2_b_air            22538 non-null  float64\n",
      " 72  secondary_cleaner.state.floatbank2_b_level          22588 non-null  float64\n",
      " 73  secondary_cleaner.state.floatbank3_a_air            22585 non-null  float64\n",
      " 74  secondary_cleaner.state.floatbank3_a_level          22587 non-null  float64\n",
      " 75  secondary_cleaner.state.floatbank3_b_air            22592 non-null  float64\n",
      " 76  secondary_cleaner.state.floatbank3_b_level          22590 non-null  float64\n",
      " 77  secondary_cleaner.state.floatbank4_a_air            22571 non-null  float64\n",
      " 78  secondary_cleaner.state.floatbank4_a_level          22587 non-null  float64\n",
      " 79  secondary_cleaner.state.floatbank4_b_air            22608 non-null  float64\n",
      " 80  secondary_cleaner.state.floatbank4_b_level          22607 non-null  float64\n",
      " 81  secondary_cleaner.state.floatbank5_a_air            22615 non-null  float64\n",
      " 82  secondary_cleaner.state.floatbank5_a_level          22615 non-null  float64\n",
      " 83  secondary_cleaner.state.floatbank5_b_air            22615 non-null  float64\n",
      " 84  secondary_cleaner.state.floatbank5_b_level          22616 non-null  float64\n",
      " 85  secondary_cleaner.state.floatbank6_a_air            22597 non-null  float64\n",
      " 86  secondary_cleaner.state.floatbank6_a_level          22615 non-null  float64\n",
      "dtypes: float64(86), object(1)\n",
      "memory usage: 15.1+ MB\n"
     ]
    }
   ],
   "source": [
    "gold_full.info()"
   ]
  },
  {
   "cell_type": "code",
   "execution_count": 15,
   "id": "10a31650",
   "metadata": {},
   "outputs": [
    {
     "name": "stdout",
     "output_type": "stream",
     "text": [
      "<class 'pandas.core.frame.DataFrame'>\n",
      "RangeIndex: 16860 entries, 0 to 16859\n",
      "Data columns (total 87 columns):\n",
      " #   Column                                              Non-Null Count  Dtype  \n",
      "---  ------                                              --------------  -----  \n",
      " 0   date                                                16860 non-null  object \n",
      " 1   final.output.concentrate_ag                         16788 non-null  float64\n",
      " 2   final.output.concentrate_pb                         16788 non-null  float64\n",
      " 3   final.output.concentrate_sol                        16490 non-null  float64\n",
      " 4   final.output.concentrate_au                         16789 non-null  float64\n",
      " 5   final.output.recovery                               15339 non-null  float64\n",
      " 6   final.output.tail_ag                                16794 non-null  float64\n",
      " 7   final.output.tail_pb                                16677 non-null  float64\n",
      " 8   final.output.tail_sol                               16715 non-null  float64\n",
      " 9   final.output.tail_au                                16794 non-null  float64\n",
      " 10  primary_cleaner.input.sulfate                       15553 non-null  float64\n",
      " 11  primary_cleaner.input.depressant                    15598 non-null  float64\n",
      " 12  primary_cleaner.input.feed_size                     16860 non-null  float64\n",
      " 13  primary_cleaner.input.xanthate                      15875 non-null  float64\n",
      " 14  primary_cleaner.output.concentrate_ag               16778 non-null  float64\n",
      " 15  primary_cleaner.output.concentrate_pb               16502 non-null  float64\n",
      " 16  primary_cleaner.output.concentrate_sol              16224 non-null  float64\n",
      " 17  primary_cleaner.output.concentrate_au               16778 non-null  float64\n",
      " 18  primary_cleaner.output.tail_ag                      16777 non-null  float64\n",
      " 19  primary_cleaner.output.tail_pb                      16761 non-null  float64\n",
      " 20  primary_cleaner.output.tail_sol                     16579 non-null  float64\n",
      " 21  primary_cleaner.output.tail_au                      16777 non-null  float64\n",
      " 22  primary_cleaner.state.floatbank8_a_air              16820 non-null  float64\n",
      " 23  primary_cleaner.state.floatbank8_a_level            16827 non-null  float64\n",
      " 24  primary_cleaner.state.floatbank8_b_air              16820 non-null  float64\n",
      " 25  primary_cleaner.state.floatbank8_b_level            16833 non-null  float64\n",
      " 26  primary_cleaner.state.floatbank8_c_air              16822 non-null  float64\n",
      " 27  primary_cleaner.state.floatbank8_c_level            16833 non-null  float64\n",
      " 28  primary_cleaner.state.floatbank8_d_air              16821 non-null  float64\n",
      " 29  primary_cleaner.state.floatbank8_d_level            16833 non-null  float64\n",
      " 30  rougher.calculation.sulfate_to_au_concentrate       16833 non-null  float64\n",
      " 31  rougher.calculation.floatbank10_sulfate_to_au_feed  16833 non-null  float64\n",
      " 32  rougher.calculation.floatbank11_sulfate_to_au_feed  16833 non-null  float64\n",
      " 33  rougher.calculation.au_pb_ratio                     15618 non-null  float64\n",
      " 34  rougher.input.feed_ag                               16778 non-null  float64\n",
      " 35  rougher.input.feed_pb                               16632 non-null  float64\n",
      " 36  rougher.input.feed_rate                             16347 non-null  float64\n",
      " 37  rougher.input.feed_size                             16443 non-null  float64\n",
      " 38  rougher.input.feed_sol                              16568 non-null  float64\n",
      " 39  rougher.input.feed_au                               16777 non-null  float64\n",
      " 40  rougher.input.floatbank10_sulfate                   15816 non-null  float64\n",
      " 41  rougher.input.floatbank10_xanthate                  16514 non-null  float64\n",
      " 42  rougher.input.floatbank11_sulfate                   16237 non-null  float64\n",
      " 43  rougher.input.floatbank11_xanthate                  14956 non-null  float64\n",
      " 44  rougher.output.concentrate_ag                       16778 non-null  float64\n",
      " 45  rougher.output.concentrate_pb                       16778 non-null  float64\n",
      " 46  rougher.output.concentrate_sol                      16698 non-null  float64\n",
      " 47  rougher.output.concentrate_au                       16778 non-null  float64\n",
      " 48  rougher.output.recovery                             14287 non-null  float64\n",
      " 49  rougher.output.tail_ag                              14610 non-null  float64\n",
      " 50  rougher.output.tail_pb                              16778 non-null  float64\n",
      " 51  rougher.output.tail_sol                             14611 non-null  float64\n",
      " 52  rougher.output.tail_au                              14611 non-null  float64\n",
      " 53  rougher.state.floatbank10_a_air                     16807 non-null  float64\n",
      " 54  rougher.state.floatbank10_a_level                   16807 non-null  float64\n",
      " 55  rougher.state.floatbank10_b_air                     16807 non-null  float64\n",
      " 56  rougher.state.floatbank10_b_level                   16807 non-null  float64\n",
      " 57  rougher.state.floatbank10_c_air                     16807 non-null  float64\n",
      " 58  rougher.state.floatbank10_c_level                   16814 non-null  float64\n",
      " 59  rougher.state.floatbank10_d_air                     16802 non-null  float64\n",
      " 60  rougher.state.floatbank10_d_level                   16809 non-null  float64\n",
      " 61  rougher.state.floatbank10_e_air                     16257 non-null  float64\n",
      " 62  rougher.state.floatbank10_e_level                   16809 non-null  float64\n",
      " 63  rougher.state.floatbank10_f_air                     16802 non-null  float64\n",
      " 64  rougher.state.floatbank10_f_level                   16802 non-null  float64\n",
      " 65  secondary_cleaner.output.tail_ag                    16776 non-null  float64\n",
      " 66  secondary_cleaner.output.tail_pb                    16764 non-null  float64\n",
      " 67  secondary_cleaner.output.tail_sol                   14874 non-null  float64\n",
      " 68  secondary_cleaner.output.tail_au                    16778 non-null  float64\n",
      " 69  secondary_cleaner.state.floatbank2_a_air            16497 non-null  float64\n",
      " 70  secondary_cleaner.state.floatbank2_a_level          16751 non-null  float64\n",
      " 71  secondary_cleaner.state.floatbank2_b_air            16705 non-null  float64\n",
      " 72  secondary_cleaner.state.floatbank2_b_level          16748 non-null  float64\n",
      " 73  secondary_cleaner.state.floatbank3_a_air            16763 non-null  float64\n",
      " 74  secondary_cleaner.state.floatbank3_a_level          16747 non-null  float64\n",
      " 75  secondary_cleaner.state.floatbank3_b_air            16752 non-null  float64\n",
      " 76  secondary_cleaner.state.floatbank3_b_level          16750 non-null  float64\n",
      " 77  secondary_cleaner.state.floatbank4_a_air            16731 non-null  float64\n",
      " 78  secondary_cleaner.state.floatbank4_a_level          16747 non-null  float64\n",
      " 79  secondary_cleaner.state.floatbank4_b_air            16768 non-null  float64\n",
      " 80  secondary_cleaner.state.floatbank4_b_level          16767 non-null  float64\n",
      " 81  secondary_cleaner.state.floatbank5_a_air            16775 non-null  float64\n",
      " 82  secondary_cleaner.state.floatbank5_a_level          16775 non-null  float64\n",
      " 83  secondary_cleaner.state.floatbank5_b_air            16775 non-null  float64\n",
      " 84  secondary_cleaner.state.floatbank5_b_level          16776 non-null  float64\n",
      " 85  secondary_cleaner.state.floatbank6_a_air            16757 non-null  float64\n",
      " 86  secondary_cleaner.state.floatbank6_a_level          16775 non-null  float64\n",
      "dtypes: float64(86), object(1)\n",
      "memory usage: 11.2+ MB\n"
     ]
    }
   ],
   "source": [
    "gold_train.info()"
   ]
  },
  {
   "cell_type": "markdown",
   "id": "9b16e17b",
   "metadata": {},
   "source": [
    "##### As you can see above in the train and full sets all missing values in the test set are float64."
   ]
  },
  {
   "cell_type": "markdown",
   "id": "ef375bfc",
   "metadata": {},
   "source": [
    "### 1.4 DATA PREPROSESSING <a id='1.4'></a>\n",
    "\n",
    "[Back to Contents](#back)"
   ]
  },
  {
   "cell_type": "markdown",
   "id": "81411ffc",
   "metadata": {},
   "source": [
    "Some issues I see at first glance is that the date is type \"object\" we need to convert it to datetime. We need to sort the entire dataset by date to make sure rows that are next to each other are also close together in time. Also there are NaN values that we need to deal with case by case. "
   ]
  },
  {
   "cell_type": "code",
   "execution_count": 16,
   "id": "da5f5fbc",
   "metadata": {},
   "outputs": [],
   "source": [
    "#Change date to type datetime, not setting as index since it not easy to use loc and iloc to slice df when index is type datetime\n",
    "for df in [gold_full, gold_train, gold_test]:\n",
    "  if \"date\" in df.columns:\n",
    "    df[\"date\"] = pd.to_datetime(df[\"date\"])\n",
    "  "
   ]
  },
  {
   "cell_type": "code",
   "execution_count": 17,
   "id": "0c43fd0a",
   "metadata": {},
   "outputs": [
    {
     "data": {
      "text/plain": [
       "date                                          datetime64[ns]\n",
       "final.output.concentrate_ag                          float64\n",
       "final.output.concentrate_pb                          float64\n",
       "final.output.concentrate_sol                         float64\n",
       "final.output.concentrate_au                          float64\n",
       "                                                   ...      \n",
       "secondary_cleaner.state.floatbank5_a_level           float64\n",
       "secondary_cleaner.state.floatbank5_b_air             float64\n",
       "secondary_cleaner.state.floatbank5_b_level           float64\n",
       "secondary_cleaner.state.floatbank6_a_air             float64\n",
       "secondary_cleaner.state.floatbank6_a_level           float64\n",
       "Length: 87, dtype: object"
      ]
     },
     "execution_count": 17,
     "metadata": {},
     "output_type": "execute_result"
    }
   ],
   "source": [
    "#need to make sure that we are sure that sets are sorted by date time since we will use rows directly above to fill in NaNs\n",
    "gold_full.sort_values(inplace=True, by='date') #we need them to be sorted so that we we can fill NaN values with close by date and time values.\n",
    "gold_test.sort_values(inplace=True, by='date')\n",
    "gold_train.sort_values(inplace=True, by='date')\n",
    "gold_train.dtypes #checking if data type was changed to datetime"
   ]
  },
  {
   "cell_type": "code",
   "execution_count": 18,
   "id": "19f10396",
   "metadata": {},
   "outputs": [
    {
     "data": {
      "text/html": [
       "<div>\n",
       "<style scoped>\n",
       "    .dataframe tbody tr th:only-of-type {\n",
       "        vertical-align: middle;\n",
       "    }\n",
       "\n",
       "    .dataframe tbody tr th {\n",
       "        vertical-align: top;\n",
       "    }\n",
       "\n",
       "    .dataframe thead th {\n",
       "        text-align: right;\n",
       "    }\n",
       "</style>\n",
       "<table border=\"1\" class=\"dataframe\">\n",
       "  <thead>\n",
       "    <tr style=\"text-align: right;\">\n",
       "      <th></th>\n",
       "      <th>date</th>\n",
       "      <th>final.output.concentrate_ag</th>\n",
       "      <th>final.output.concentrate_pb</th>\n",
       "      <th>final.output.concentrate_sol</th>\n",
       "      <th>final.output.concentrate_au</th>\n",
       "      <th>final.output.recovery</th>\n",
       "      <th>final.output.tail_ag</th>\n",
       "      <th>final.output.tail_pb</th>\n",
       "      <th>final.output.tail_sol</th>\n",
       "      <th>final.output.tail_au</th>\n",
       "      <th>...</th>\n",
       "      <th>secondary_cleaner.state.floatbank4_a_air</th>\n",
       "      <th>secondary_cleaner.state.floatbank4_a_level</th>\n",
       "      <th>secondary_cleaner.state.floatbank4_b_air</th>\n",
       "      <th>secondary_cleaner.state.floatbank4_b_level</th>\n",
       "      <th>secondary_cleaner.state.floatbank5_a_air</th>\n",
       "      <th>secondary_cleaner.state.floatbank5_a_level</th>\n",
       "      <th>secondary_cleaner.state.floatbank5_b_air</th>\n",
       "      <th>secondary_cleaner.state.floatbank5_b_level</th>\n",
       "      <th>secondary_cleaner.state.floatbank6_a_air</th>\n",
       "      <th>secondary_cleaner.state.floatbank6_a_level</th>\n",
       "    </tr>\n",
       "  </thead>\n",
       "  <tbody>\n",
       "    <tr>\n",
       "      <th>0</th>\n",
       "      <td>2016-01-15 00:00:00</td>\n",
       "      <td>6.055403</td>\n",
       "      <td>9.889648</td>\n",
       "      <td>5.507324</td>\n",
       "      <td>42.192020</td>\n",
       "      <td>70.541216</td>\n",
       "      <td>10.411962</td>\n",
       "      <td>0.895447</td>\n",
       "      <td>16.904297</td>\n",
       "      <td>2.143149</td>\n",
       "      <td>...</td>\n",
       "      <td>14.016835</td>\n",
       "      <td>-502.488007</td>\n",
       "      <td>12.099931</td>\n",
       "      <td>-504.715942</td>\n",
       "      <td>9.925633</td>\n",
       "      <td>-498.310211</td>\n",
       "      <td>8.079666</td>\n",
       "      <td>-500.470978</td>\n",
       "      <td>14.151341</td>\n",
       "      <td>-605.841980</td>\n",
       "    </tr>\n",
       "    <tr>\n",
       "      <th>1</th>\n",
       "      <td>2016-01-15 01:00:00</td>\n",
       "      <td>6.029369</td>\n",
       "      <td>9.968944</td>\n",
       "      <td>5.257781</td>\n",
       "      <td>42.701629</td>\n",
       "      <td>69.266198</td>\n",
       "      <td>10.462676</td>\n",
       "      <td>0.927452</td>\n",
       "      <td>16.634514</td>\n",
       "      <td>2.224930</td>\n",
       "      <td>...</td>\n",
       "      <td>13.992281</td>\n",
       "      <td>-505.503262</td>\n",
       "      <td>11.950531</td>\n",
       "      <td>-501.331529</td>\n",
       "      <td>10.039245</td>\n",
       "      <td>-500.169983</td>\n",
       "      <td>7.984757</td>\n",
       "      <td>-500.582168</td>\n",
       "      <td>13.998353</td>\n",
       "      <td>-599.787184</td>\n",
       "    </tr>\n",
       "    <tr>\n",
       "      <th>2</th>\n",
       "      <td>2016-01-15 02:00:00</td>\n",
       "      <td>6.055926</td>\n",
       "      <td>10.213995</td>\n",
       "      <td>5.383759</td>\n",
       "      <td>42.657501</td>\n",
       "      <td>68.116445</td>\n",
       "      <td>10.507046</td>\n",
       "      <td>0.953716</td>\n",
       "      <td>16.208849</td>\n",
       "      <td>2.257889</td>\n",
       "      <td>...</td>\n",
       "      <td>14.015015</td>\n",
       "      <td>-502.520901</td>\n",
       "      <td>11.912783</td>\n",
       "      <td>-501.133383</td>\n",
       "      <td>10.070913</td>\n",
       "      <td>-500.129135</td>\n",
       "      <td>8.013877</td>\n",
       "      <td>-500.517572</td>\n",
       "      <td>14.028663</td>\n",
       "      <td>-601.427363</td>\n",
       "    </tr>\n",
       "    <tr>\n",
       "      <th>3</th>\n",
       "      <td>2016-01-15 03:00:00</td>\n",
       "      <td>6.047977</td>\n",
       "      <td>9.977019</td>\n",
       "      <td>4.858634</td>\n",
       "      <td>42.689819</td>\n",
       "      <td>68.347543</td>\n",
       "      <td>10.422762</td>\n",
       "      <td>0.883763</td>\n",
       "      <td>16.532835</td>\n",
       "      <td>2.146849</td>\n",
       "      <td>...</td>\n",
       "      <td>14.036510</td>\n",
       "      <td>-500.857308</td>\n",
       "      <td>11.999550</td>\n",
       "      <td>-501.193686</td>\n",
       "      <td>9.970366</td>\n",
       "      <td>-499.201640</td>\n",
       "      <td>7.977324</td>\n",
       "      <td>-500.255908</td>\n",
       "      <td>14.005551</td>\n",
       "      <td>-599.996129</td>\n",
       "    </tr>\n",
       "    <tr>\n",
       "      <th>4</th>\n",
       "      <td>2016-01-15 04:00:00</td>\n",
       "      <td>6.148599</td>\n",
       "      <td>10.142511</td>\n",
       "      <td>4.939416</td>\n",
       "      <td>42.774141</td>\n",
       "      <td>66.927016</td>\n",
       "      <td>10.360302</td>\n",
       "      <td>0.792826</td>\n",
       "      <td>16.525686</td>\n",
       "      <td>2.055292</td>\n",
       "      <td>...</td>\n",
       "      <td>14.027298</td>\n",
       "      <td>-499.838632</td>\n",
       "      <td>11.953070</td>\n",
       "      <td>-501.053894</td>\n",
       "      <td>9.925709</td>\n",
       "      <td>-501.686727</td>\n",
       "      <td>7.894242</td>\n",
       "      <td>-500.356035</td>\n",
       "      <td>13.996647</td>\n",
       "      <td>-601.496691</td>\n",
       "    </tr>\n",
       "  </tbody>\n",
       "</table>\n",
       "<p>5 rows × 87 columns</p>\n",
       "</div>"
      ],
      "text/plain": [
       "                 date  final.output.concentrate_ag  \\\n",
       "0 2016-01-15 00:00:00                     6.055403   \n",
       "1 2016-01-15 01:00:00                     6.029369   \n",
       "2 2016-01-15 02:00:00                     6.055926   \n",
       "3 2016-01-15 03:00:00                     6.047977   \n",
       "4 2016-01-15 04:00:00                     6.148599   \n",
       "\n",
       "   final.output.concentrate_pb  final.output.concentrate_sol  \\\n",
       "0                     9.889648                      5.507324   \n",
       "1                     9.968944                      5.257781   \n",
       "2                    10.213995                      5.383759   \n",
       "3                     9.977019                      4.858634   \n",
       "4                    10.142511                      4.939416   \n",
       "\n",
       "   final.output.concentrate_au  final.output.recovery  final.output.tail_ag  \\\n",
       "0                    42.192020              70.541216             10.411962   \n",
       "1                    42.701629              69.266198             10.462676   \n",
       "2                    42.657501              68.116445             10.507046   \n",
       "3                    42.689819              68.347543             10.422762   \n",
       "4                    42.774141              66.927016             10.360302   \n",
       "\n",
       "   final.output.tail_pb  final.output.tail_sol  final.output.tail_au  ...  \\\n",
       "0              0.895447              16.904297              2.143149  ...   \n",
       "1              0.927452              16.634514              2.224930  ...   \n",
       "2              0.953716              16.208849              2.257889  ...   \n",
       "3              0.883763              16.532835              2.146849  ...   \n",
       "4              0.792826              16.525686              2.055292  ...   \n",
       "\n",
       "   secondary_cleaner.state.floatbank4_a_air  \\\n",
       "0                                 14.016835   \n",
       "1                                 13.992281   \n",
       "2                                 14.015015   \n",
       "3                                 14.036510   \n",
       "4                                 14.027298   \n",
       "\n",
       "   secondary_cleaner.state.floatbank4_a_level  \\\n",
       "0                                 -502.488007   \n",
       "1                                 -505.503262   \n",
       "2                                 -502.520901   \n",
       "3                                 -500.857308   \n",
       "4                                 -499.838632   \n",
       "\n",
       "   secondary_cleaner.state.floatbank4_b_air  \\\n",
       "0                                 12.099931   \n",
       "1                                 11.950531   \n",
       "2                                 11.912783   \n",
       "3                                 11.999550   \n",
       "4                                 11.953070   \n",
       "\n",
       "   secondary_cleaner.state.floatbank4_b_level  \\\n",
       "0                                 -504.715942   \n",
       "1                                 -501.331529   \n",
       "2                                 -501.133383   \n",
       "3                                 -501.193686   \n",
       "4                                 -501.053894   \n",
       "\n",
       "   secondary_cleaner.state.floatbank5_a_air  \\\n",
       "0                                  9.925633   \n",
       "1                                 10.039245   \n",
       "2                                 10.070913   \n",
       "3                                  9.970366   \n",
       "4                                  9.925709   \n",
       "\n",
       "   secondary_cleaner.state.floatbank5_a_level  \\\n",
       "0                                 -498.310211   \n",
       "1                                 -500.169983   \n",
       "2                                 -500.129135   \n",
       "3                                 -499.201640   \n",
       "4                                 -501.686727   \n",
       "\n",
       "   secondary_cleaner.state.floatbank5_b_air  \\\n",
       "0                                  8.079666   \n",
       "1                                  7.984757   \n",
       "2                                  8.013877   \n",
       "3                                  7.977324   \n",
       "4                                  7.894242   \n",
       "\n",
       "   secondary_cleaner.state.floatbank5_b_level  \\\n",
       "0                                 -500.470978   \n",
       "1                                 -500.582168   \n",
       "2                                 -500.517572   \n",
       "3                                 -500.255908   \n",
       "4                                 -500.356035   \n",
       "\n",
       "   secondary_cleaner.state.floatbank6_a_air  \\\n",
       "0                                 14.151341   \n",
       "1                                 13.998353   \n",
       "2                                 14.028663   \n",
       "3                                 14.005551   \n",
       "4                                 13.996647   \n",
       "\n",
       "   secondary_cleaner.state.floatbank6_a_level  \n",
       "0                                 -605.841980  \n",
       "1                                 -599.787184  \n",
       "2                                 -601.427363  \n",
       "3                                 -599.996129  \n",
       "4                                 -601.496691  \n",
       "\n",
       "[5 rows x 87 columns]"
      ]
     },
     "execution_count": 18,
     "metadata": {},
     "output_type": "execute_result"
    }
   ],
   "source": [
    "gold_full.head(5) #date time looks right for the first columns"
   ]
  },
  {
   "cell_type": "markdown",
   "id": "ff467b1c",
   "metadata": {},
   "source": [
    "I noticed is that the names of the features do not follow the snake naming conventions. I will replace all periods with an underscore below."
   ]
  },
  {
   "cell_type": "code",
   "execution_count": 19,
   "id": "893c6bb3",
   "metadata": {},
   "outputs": [
    {
     "name": "stdout",
     "output_type": "stream",
     "text": [
      "['date', 'final_output_concentrate_ag', 'final_output_concentrate_pb', 'final_output_concentrate_sol', 'final_output_concentrate_au', 'final_output_recovery', 'final_output_tail_ag', 'final_output_tail_pb', 'final_output_tail_sol', 'final_output_tail_au', 'primary_cleaner_input_sulfate', 'primary_cleaner_input_depressant', 'primary_cleaner_input_feed_size', 'primary_cleaner_input_xanthate', 'primary_cleaner_output_concentrate_ag', 'primary_cleaner_output_concentrate_pb', 'primary_cleaner_output_concentrate_sol', 'primary_cleaner_output_concentrate_au', 'primary_cleaner_output_tail_ag', 'primary_cleaner_output_tail_pb', 'primary_cleaner_output_tail_sol', 'primary_cleaner_output_tail_au', 'primary_cleaner_state_floatbank8_a_air', 'primary_cleaner_state_floatbank8_a_level', 'primary_cleaner_state_floatbank8_b_air', 'primary_cleaner_state_floatbank8_b_level', 'primary_cleaner_state_floatbank8_c_air', 'primary_cleaner_state_floatbank8_c_level', 'primary_cleaner_state_floatbank8_d_air', 'primary_cleaner_state_floatbank8_d_level', 'rougher_calculation_sulfate_to_au_concentrate', 'rougher_calculation_floatbank10_sulfate_to_au_feed', 'rougher_calculation_floatbank11_sulfate_to_au_feed', 'rougher_calculation_au_pb_ratio', 'rougher_input_feed_ag', 'rougher_input_feed_pb', 'rougher_input_feed_rate', 'rougher_input_feed_size', 'rougher_input_feed_sol', 'rougher_input_feed_au', 'rougher_input_floatbank10_sulfate', 'rougher_input_floatbank10_xanthate', 'rougher_input_floatbank11_sulfate', 'rougher_input_floatbank11_xanthate', 'rougher_output_concentrate_ag', 'rougher_output_concentrate_pb', 'rougher_output_concentrate_sol', 'rougher_output_concentrate_au', 'rougher_output_recovery', 'rougher_output_tail_ag', 'rougher_output_tail_pb', 'rougher_output_tail_sol', 'rougher_output_tail_au', 'rougher_state_floatbank10_a_air', 'rougher_state_floatbank10_a_level', 'rougher_state_floatbank10_b_air', 'rougher_state_floatbank10_b_level', 'rougher_state_floatbank10_c_air', 'rougher_state_floatbank10_c_level', 'rougher_state_floatbank10_d_air', 'rougher_state_floatbank10_d_level', 'rougher_state_floatbank10_e_air', 'rougher_state_floatbank10_e_level', 'rougher_state_floatbank10_f_air', 'rougher_state_floatbank10_f_level', 'secondary_cleaner_output_tail_ag', 'secondary_cleaner_output_tail_pb', 'secondary_cleaner_output_tail_sol', 'secondary_cleaner_output_tail_au', 'secondary_cleaner_state_floatbank2_a_air', 'secondary_cleaner_state_floatbank2_a_level', 'secondary_cleaner_state_floatbank2_b_air', 'secondary_cleaner_state_floatbank2_b_level', 'secondary_cleaner_state_floatbank3_a_air', 'secondary_cleaner_state_floatbank3_a_level', 'secondary_cleaner_state_floatbank3_b_air', 'secondary_cleaner_state_floatbank3_b_level', 'secondary_cleaner_state_floatbank4_a_air', 'secondary_cleaner_state_floatbank4_a_level', 'secondary_cleaner_state_floatbank4_b_air', 'secondary_cleaner_state_floatbank4_b_level', 'secondary_cleaner_state_floatbank5_a_air', 'secondary_cleaner_state_floatbank5_a_level', 'secondary_cleaner_state_floatbank5_b_air', 'secondary_cleaner_state_floatbank5_b_level', 'secondary_cleaner_state_floatbank6_a_air', 'secondary_cleaner_state_floatbank6_a_level']\n"
     ]
    }
   ],
   "source": [
    "new_columns_full = [] #Changing names for using periods to using underscores\n",
    "for i in range(gold_full.columns.size):\n",
    "    new_columns_full.append (gold_full.columns[i].replace(\".\",\"_\"))\n",
    "    \n",
    "print(new_columns_full)"
   ]
  },
  {
   "cell_type": "code",
   "execution_count": 20,
   "id": "81596d04",
   "metadata": {},
   "outputs": [],
   "source": [
    "gold_full.columns = new_columns_full #Changing the column names"
   ]
  },
  {
   "cell_type": "code",
   "execution_count": 21,
   "id": "30fa0a2f",
   "metadata": {},
   "outputs": [
    {
     "data": {
      "text/html": [
       "<div>\n",
       "<style scoped>\n",
       "    .dataframe tbody tr th:only-of-type {\n",
       "        vertical-align: middle;\n",
       "    }\n",
       "\n",
       "    .dataframe tbody tr th {\n",
       "        vertical-align: top;\n",
       "    }\n",
       "\n",
       "    .dataframe thead th {\n",
       "        text-align: right;\n",
       "    }\n",
       "</style>\n",
       "<table border=\"1\" class=\"dataframe\">\n",
       "  <thead>\n",
       "    <tr style=\"text-align: right;\">\n",
       "      <th></th>\n",
       "      <th>date</th>\n",
       "      <th>final_output_concentrate_ag</th>\n",
       "      <th>final_output_concentrate_pb</th>\n",
       "      <th>final_output_concentrate_sol</th>\n",
       "      <th>final_output_concentrate_au</th>\n",
       "      <th>final_output_recovery</th>\n",
       "      <th>final_output_tail_ag</th>\n",
       "      <th>final_output_tail_pb</th>\n",
       "      <th>final_output_tail_sol</th>\n",
       "      <th>final_output_tail_au</th>\n",
       "      <th>...</th>\n",
       "      <th>secondary_cleaner_state_floatbank4_a_air</th>\n",
       "      <th>secondary_cleaner_state_floatbank4_a_level</th>\n",
       "      <th>secondary_cleaner_state_floatbank4_b_air</th>\n",
       "      <th>secondary_cleaner_state_floatbank4_b_level</th>\n",
       "      <th>secondary_cleaner_state_floatbank5_a_air</th>\n",
       "      <th>secondary_cleaner_state_floatbank5_a_level</th>\n",
       "      <th>secondary_cleaner_state_floatbank5_b_air</th>\n",
       "      <th>secondary_cleaner_state_floatbank5_b_level</th>\n",
       "      <th>secondary_cleaner_state_floatbank6_a_air</th>\n",
       "      <th>secondary_cleaner_state_floatbank6_a_level</th>\n",
       "    </tr>\n",
       "  </thead>\n",
       "  <tbody>\n",
       "    <tr>\n",
       "      <th>0</th>\n",
       "      <td>2016-01-15 00:00:00</td>\n",
       "      <td>6.055403</td>\n",
       "      <td>9.889648</td>\n",
       "      <td>5.507324</td>\n",
       "      <td>42.192020</td>\n",
       "      <td>70.541216</td>\n",
       "      <td>10.411962</td>\n",
       "      <td>0.895447</td>\n",
       "      <td>16.904297</td>\n",
       "      <td>2.143149</td>\n",
       "      <td>...</td>\n",
       "      <td>14.016835</td>\n",
       "      <td>-502.488007</td>\n",
       "      <td>12.099931</td>\n",
       "      <td>-504.715942</td>\n",
       "      <td>9.925633</td>\n",
       "      <td>-498.310211</td>\n",
       "      <td>8.079666</td>\n",
       "      <td>-500.470978</td>\n",
       "      <td>14.151341</td>\n",
       "      <td>-605.841980</td>\n",
       "    </tr>\n",
       "    <tr>\n",
       "      <th>1</th>\n",
       "      <td>2016-01-15 01:00:00</td>\n",
       "      <td>6.029369</td>\n",
       "      <td>9.968944</td>\n",
       "      <td>5.257781</td>\n",
       "      <td>42.701629</td>\n",
       "      <td>69.266198</td>\n",
       "      <td>10.462676</td>\n",
       "      <td>0.927452</td>\n",
       "      <td>16.634514</td>\n",
       "      <td>2.224930</td>\n",
       "      <td>...</td>\n",
       "      <td>13.992281</td>\n",
       "      <td>-505.503262</td>\n",
       "      <td>11.950531</td>\n",
       "      <td>-501.331529</td>\n",
       "      <td>10.039245</td>\n",
       "      <td>-500.169983</td>\n",
       "      <td>7.984757</td>\n",
       "      <td>-500.582168</td>\n",
       "      <td>13.998353</td>\n",
       "      <td>-599.787184</td>\n",
       "    </tr>\n",
       "    <tr>\n",
       "      <th>2</th>\n",
       "      <td>2016-01-15 02:00:00</td>\n",
       "      <td>6.055926</td>\n",
       "      <td>10.213995</td>\n",
       "      <td>5.383759</td>\n",
       "      <td>42.657501</td>\n",
       "      <td>68.116445</td>\n",
       "      <td>10.507046</td>\n",
       "      <td>0.953716</td>\n",
       "      <td>16.208849</td>\n",
       "      <td>2.257889</td>\n",
       "      <td>...</td>\n",
       "      <td>14.015015</td>\n",
       "      <td>-502.520901</td>\n",
       "      <td>11.912783</td>\n",
       "      <td>-501.133383</td>\n",
       "      <td>10.070913</td>\n",
       "      <td>-500.129135</td>\n",
       "      <td>8.013877</td>\n",
       "      <td>-500.517572</td>\n",
       "      <td>14.028663</td>\n",
       "      <td>-601.427363</td>\n",
       "    </tr>\n",
       "    <tr>\n",
       "      <th>3</th>\n",
       "      <td>2016-01-15 03:00:00</td>\n",
       "      <td>6.047977</td>\n",
       "      <td>9.977019</td>\n",
       "      <td>4.858634</td>\n",
       "      <td>42.689819</td>\n",
       "      <td>68.347543</td>\n",
       "      <td>10.422762</td>\n",
       "      <td>0.883763</td>\n",
       "      <td>16.532835</td>\n",
       "      <td>2.146849</td>\n",
       "      <td>...</td>\n",
       "      <td>14.036510</td>\n",
       "      <td>-500.857308</td>\n",
       "      <td>11.999550</td>\n",
       "      <td>-501.193686</td>\n",
       "      <td>9.970366</td>\n",
       "      <td>-499.201640</td>\n",
       "      <td>7.977324</td>\n",
       "      <td>-500.255908</td>\n",
       "      <td>14.005551</td>\n",
       "      <td>-599.996129</td>\n",
       "    </tr>\n",
       "    <tr>\n",
       "      <th>4</th>\n",
       "      <td>2016-01-15 04:00:00</td>\n",
       "      <td>6.148599</td>\n",
       "      <td>10.142511</td>\n",
       "      <td>4.939416</td>\n",
       "      <td>42.774141</td>\n",
       "      <td>66.927016</td>\n",
       "      <td>10.360302</td>\n",
       "      <td>0.792826</td>\n",
       "      <td>16.525686</td>\n",
       "      <td>2.055292</td>\n",
       "      <td>...</td>\n",
       "      <td>14.027298</td>\n",
       "      <td>-499.838632</td>\n",
       "      <td>11.953070</td>\n",
       "      <td>-501.053894</td>\n",
       "      <td>9.925709</td>\n",
       "      <td>-501.686727</td>\n",
       "      <td>7.894242</td>\n",
       "      <td>-500.356035</td>\n",
       "      <td>13.996647</td>\n",
       "      <td>-601.496691</td>\n",
       "    </tr>\n",
       "  </tbody>\n",
       "</table>\n",
       "<p>5 rows × 87 columns</p>\n",
       "</div>"
      ],
      "text/plain": [
       "                 date  final_output_concentrate_ag  \\\n",
       "0 2016-01-15 00:00:00                     6.055403   \n",
       "1 2016-01-15 01:00:00                     6.029369   \n",
       "2 2016-01-15 02:00:00                     6.055926   \n",
       "3 2016-01-15 03:00:00                     6.047977   \n",
       "4 2016-01-15 04:00:00                     6.148599   \n",
       "\n",
       "   final_output_concentrate_pb  final_output_concentrate_sol  \\\n",
       "0                     9.889648                      5.507324   \n",
       "1                     9.968944                      5.257781   \n",
       "2                    10.213995                      5.383759   \n",
       "3                     9.977019                      4.858634   \n",
       "4                    10.142511                      4.939416   \n",
       "\n",
       "   final_output_concentrate_au  final_output_recovery  final_output_tail_ag  \\\n",
       "0                    42.192020              70.541216             10.411962   \n",
       "1                    42.701629              69.266198             10.462676   \n",
       "2                    42.657501              68.116445             10.507046   \n",
       "3                    42.689819              68.347543             10.422762   \n",
       "4                    42.774141              66.927016             10.360302   \n",
       "\n",
       "   final_output_tail_pb  final_output_tail_sol  final_output_tail_au  ...  \\\n",
       "0              0.895447              16.904297              2.143149  ...   \n",
       "1              0.927452              16.634514              2.224930  ...   \n",
       "2              0.953716              16.208849              2.257889  ...   \n",
       "3              0.883763              16.532835              2.146849  ...   \n",
       "4              0.792826              16.525686              2.055292  ...   \n",
       "\n",
       "   secondary_cleaner_state_floatbank4_a_air  \\\n",
       "0                                 14.016835   \n",
       "1                                 13.992281   \n",
       "2                                 14.015015   \n",
       "3                                 14.036510   \n",
       "4                                 14.027298   \n",
       "\n",
       "   secondary_cleaner_state_floatbank4_a_level  \\\n",
       "0                                 -502.488007   \n",
       "1                                 -505.503262   \n",
       "2                                 -502.520901   \n",
       "3                                 -500.857308   \n",
       "4                                 -499.838632   \n",
       "\n",
       "   secondary_cleaner_state_floatbank4_b_air  \\\n",
       "0                                 12.099931   \n",
       "1                                 11.950531   \n",
       "2                                 11.912783   \n",
       "3                                 11.999550   \n",
       "4                                 11.953070   \n",
       "\n",
       "   secondary_cleaner_state_floatbank4_b_level  \\\n",
       "0                                 -504.715942   \n",
       "1                                 -501.331529   \n",
       "2                                 -501.133383   \n",
       "3                                 -501.193686   \n",
       "4                                 -501.053894   \n",
       "\n",
       "   secondary_cleaner_state_floatbank5_a_air  \\\n",
       "0                                  9.925633   \n",
       "1                                 10.039245   \n",
       "2                                 10.070913   \n",
       "3                                  9.970366   \n",
       "4                                  9.925709   \n",
       "\n",
       "   secondary_cleaner_state_floatbank5_a_level  \\\n",
       "0                                 -498.310211   \n",
       "1                                 -500.169983   \n",
       "2                                 -500.129135   \n",
       "3                                 -499.201640   \n",
       "4                                 -501.686727   \n",
       "\n",
       "   secondary_cleaner_state_floatbank5_b_air  \\\n",
       "0                                  8.079666   \n",
       "1                                  7.984757   \n",
       "2                                  8.013877   \n",
       "3                                  7.977324   \n",
       "4                                  7.894242   \n",
       "\n",
       "   secondary_cleaner_state_floatbank5_b_level  \\\n",
       "0                                 -500.470978   \n",
       "1                                 -500.582168   \n",
       "2                                 -500.517572   \n",
       "3                                 -500.255908   \n",
       "4                                 -500.356035   \n",
       "\n",
       "   secondary_cleaner_state_floatbank6_a_air  \\\n",
       "0                                 14.151341   \n",
       "1                                 13.998353   \n",
       "2                                 14.028663   \n",
       "3                                 14.005551   \n",
       "4                                 13.996647   \n",
       "\n",
       "   secondary_cleaner_state_floatbank6_a_level  \n",
       "0                                 -605.841980  \n",
       "1                                 -599.787184  \n",
       "2                                 -601.427363  \n",
       "3                                 -599.996129  \n",
       "4                                 -601.496691  \n",
       "\n",
       "[5 rows x 87 columns]"
      ]
     },
     "execution_count": 21,
     "metadata": {},
     "output_type": "execute_result"
    }
   ],
   "source": [
    "gold_full.head()"
   ]
  },
  {
   "cell_type": "code",
   "execution_count": 22,
   "id": "33b01025",
   "metadata": {},
   "outputs": [
    {
     "name": "stdout",
     "output_type": "stream",
     "text": [
      "['date', 'primary_cleaner_input_sulfate', 'primary_cleaner_input_depressant', 'primary_cleaner_input_feed_size', 'primary_cleaner_input_xanthate', 'primary_cleaner_state_floatbank8_a_air', 'primary_cleaner_state_floatbank8_a_level', 'primary_cleaner_state_floatbank8_b_air', 'primary_cleaner_state_floatbank8_b_level', 'primary_cleaner_state_floatbank8_c_air', 'primary_cleaner_state_floatbank8_c_level', 'primary_cleaner_state_floatbank8_d_air', 'primary_cleaner_state_floatbank8_d_level', 'rougher_input_feed_ag', 'rougher_input_feed_pb', 'rougher_input_feed_rate', 'rougher_input_feed_size', 'rougher_input_feed_sol', 'rougher_input_feed_au', 'rougher_input_floatbank10_sulfate', 'rougher_input_floatbank10_xanthate', 'rougher_input_floatbank11_sulfate', 'rougher_input_floatbank11_xanthate', 'rougher_state_floatbank10_a_air', 'rougher_state_floatbank10_a_level', 'rougher_state_floatbank10_b_air', 'rougher_state_floatbank10_b_level', 'rougher_state_floatbank10_c_air', 'rougher_state_floatbank10_c_level', 'rougher_state_floatbank10_d_air', 'rougher_state_floatbank10_d_level', 'rougher_state_floatbank10_e_air', 'rougher_state_floatbank10_e_level', 'rougher_state_floatbank10_f_air', 'rougher_state_floatbank10_f_level', 'secondary_cleaner_state_floatbank2_a_air', 'secondary_cleaner_state_floatbank2_a_level', 'secondary_cleaner_state_floatbank2_b_air', 'secondary_cleaner_state_floatbank2_b_level', 'secondary_cleaner_state_floatbank3_a_air', 'secondary_cleaner_state_floatbank3_a_level', 'secondary_cleaner_state_floatbank3_b_air', 'secondary_cleaner_state_floatbank3_b_level', 'secondary_cleaner_state_floatbank4_a_air', 'secondary_cleaner_state_floatbank4_a_level', 'secondary_cleaner_state_floatbank4_b_air', 'secondary_cleaner_state_floatbank4_b_level', 'secondary_cleaner_state_floatbank5_a_air', 'secondary_cleaner_state_floatbank5_a_level', 'secondary_cleaner_state_floatbank5_b_air', 'secondary_cleaner_state_floatbank5_b_level', 'secondary_cleaner_state_floatbank6_a_air', 'secondary_cleaner_state_floatbank6_a_level']\n"
     ]
    }
   ],
   "source": [
    "new_columns_test = [] #Doing the same column change for train df and test df.\n",
    "for i in range(gold_test.columns.size):\n",
    "    new_columns_test.append (gold_test.columns[i].replace(\".\",\"_\"))\n",
    "    \n",
    "print(new_columns_test)"
   ]
  },
  {
   "cell_type": "code",
   "execution_count": 23,
   "id": "2d1bb4b2",
   "metadata": {},
   "outputs": [],
   "source": [
    "gold_test.columns = new_columns_test #change columns to snake format since dots can mess up the coding"
   ]
  },
  {
   "cell_type": "code",
   "execution_count": 24,
   "id": "25ea9d9f",
   "metadata": {},
   "outputs": [
    {
     "data": {
      "text/html": [
       "<div>\n",
       "<style scoped>\n",
       "    .dataframe tbody tr th:only-of-type {\n",
       "        vertical-align: middle;\n",
       "    }\n",
       "\n",
       "    .dataframe tbody tr th {\n",
       "        vertical-align: top;\n",
       "    }\n",
       "\n",
       "    .dataframe thead th {\n",
       "        text-align: right;\n",
       "    }\n",
       "</style>\n",
       "<table border=\"1\" class=\"dataframe\">\n",
       "  <thead>\n",
       "    <tr style=\"text-align: right;\">\n",
       "      <th></th>\n",
       "      <th>date</th>\n",
       "      <th>primary_cleaner_input_sulfate</th>\n",
       "      <th>primary_cleaner_input_depressant</th>\n",
       "      <th>primary_cleaner_input_feed_size</th>\n",
       "      <th>primary_cleaner_input_xanthate</th>\n",
       "      <th>primary_cleaner_state_floatbank8_a_air</th>\n",
       "      <th>primary_cleaner_state_floatbank8_a_level</th>\n",
       "      <th>primary_cleaner_state_floatbank8_b_air</th>\n",
       "      <th>primary_cleaner_state_floatbank8_b_level</th>\n",
       "      <th>primary_cleaner_state_floatbank8_c_air</th>\n",
       "      <th>...</th>\n",
       "      <th>secondary_cleaner_state_floatbank4_a_air</th>\n",
       "      <th>secondary_cleaner_state_floatbank4_a_level</th>\n",
       "      <th>secondary_cleaner_state_floatbank4_b_air</th>\n",
       "      <th>secondary_cleaner_state_floatbank4_b_level</th>\n",
       "      <th>secondary_cleaner_state_floatbank5_a_air</th>\n",
       "      <th>secondary_cleaner_state_floatbank5_a_level</th>\n",
       "      <th>secondary_cleaner_state_floatbank5_b_air</th>\n",
       "      <th>secondary_cleaner_state_floatbank5_b_level</th>\n",
       "      <th>secondary_cleaner_state_floatbank6_a_air</th>\n",
       "      <th>secondary_cleaner_state_floatbank6_a_level</th>\n",
       "    </tr>\n",
       "  </thead>\n",
       "  <tbody>\n",
       "    <tr>\n",
       "      <th>0</th>\n",
       "      <td>2016-09-01 00:59:59</td>\n",
       "      <td>210.800909</td>\n",
       "      <td>14.993118</td>\n",
       "      <td>8.080000</td>\n",
       "      <td>1.005021</td>\n",
       "      <td>1398.981301</td>\n",
       "      <td>-500.225577</td>\n",
       "      <td>1399.144926</td>\n",
       "      <td>-499.919735</td>\n",
       "      <td>1400.102998</td>\n",
       "      <td>...</td>\n",
       "      <td>12.023554</td>\n",
       "      <td>-497.795834</td>\n",
       "      <td>8.016656</td>\n",
       "      <td>-501.289139</td>\n",
       "      <td>7.946562</td>\n",
       "      <td>-432.317850</td>\n",
       "      <td>4.872511</td>\n",
       "      <td>-500.037437</td>\n",
       "      <td>26.705889</td>\n",
       "      <td>-499.709414</td>\n",
       "    </tr>\n",
       "    <tr>\n",
       "      <th>1</th>\n",
       "      <td>2016-09-01 01:59:59</td>\n",
       "      <td>215.392455</td>\n",
       "      <td>14.987471</td>\n",
       "      <td>8.080000</td>\n",
       "      <td>0.990469</td>\n",
       "      <td>1398.777912</td>\n",
       "      <td>-500.057435</td>\n",
       "      <td>1398.055362</td>\n",
       "      <td>-499.778182</td>\n",
       "      <td>1396.151033</td>\n",
       "      <td>...</td>\n",
       "      <td>12.058140</td>\n",
       "      <td>-498.695773</td>\n",
       "      <td>8.130979</td>\n",
       "      <td>-499.634209</td>\n",
       "      <td>7.958270</td>\n",
       "      <td>-525.839648</td>\n",
       "      <td>4.878850</td>\n",
       "      <td>-500.162375</td>\n",
       "      <td>25.019940</td>\n",
       "      <td>-499.819438</td>\n",
       "    </tr>\n",
       "    <tr>\n",
       "      <th>2</th>\n",
       "      <td>2016-09-01 02:59:59</td>\n",
       "      <td>215.259946</td>\n",
       "      <td>12.884934</td>\n",
       "      <td>7.786667</td>\n",
       "      <td>0.996043</td>\n",
       "      <td>1398.493666</td>\n",
       "      <td>-500.868360</td>\n",
       "      <td>1398.860436</td>\n",
       "      <td>-499.764529</td>\n",
       "      <td>1398.075709</td>\n",
       "      <td>...</td>\n",
       "      <td>11.962366</td>\n",
       "      <td>-498.767484</td>\n",
       "      <td>8.096893</td>\n",
       "      <td>-500.827423</td>\n",
       "      <td>8.071056</td>\n",
       "      <td>-500.801673</td>\n",
       "      <td>4.905125</td>\n",
       "      <td>-499.828510</td>\n",
       "      <td>24.994862</td>\n",
       "      <td>-500.622559</td>\n",
       "    </tr>\n",
       "    <tr>\n",
       "      <th>3</th>\n",
       "      <td>2016-09-01 03:59:59</td>\n",
       "      <td>215.336236</td>\n",
       "      <td>12.006805</td>\n",
       "      <td>7.640000</td>\n",
       "      <td>0.863514</td>\n",
       "      <td>1399.618111</td>\n",
       "      <td>-498.863574</td>\n",
       "      <td>1397.440120</td>\n",
       "      <td>-499.211024</td>\n",
       "      <td>1400.129303</td>\n",
       "      <td>...</td>\n",
       "      <td>12.033091</td>\n",
       "      <td>-498.350935</td>\n",
       "      <td>8.074946</td>\n",
       "      <td>-499.474407</td>\n",
       "      <td>7.897085</td>\n",
       "      <td>-500.868509</td>\n",
       "      <td>4.931400</td>\n",
       "      <td>-499.963623</td>\n",
       "      <td>24.948919</td>\n",
       "      <td>-498.709987</td>\n",
       "    </tr>\n",
       "    <tr>\n",
       "      <th>4</th>\n",
       "      <td>2016-09-01 04:59:59</td>\n",
       "      <td>199.099327</td>\n",
       "      <td>10.682530</td>\n",
       "      <td>7.530000</td>\n",
       "      <td>0.805575</td>\n",
       "      <td>1401.268123</td>\n",
       "      <td>-500.808305</td>\n",
       "      <td>1398.128818</td>\n",
       "      <td>-499.504543</td>\n",
       "      <td>1402.172226</td>\n",
       "      <td>...</td>\n",
       "      <td>12.025367</td>\n",
       "      <td>-500.786497</td>\n",
       "      <td>8.054678</td>\n",
       "      <td>-500.397500</td>\n",
       "      <td>8.107890</td>\n",
       "      <td>-509.526725</td>\n",
       "      <td>4.957674</td>\n",
       "      <td>-500.360026</td>\n",
       "      <td>25.003331</td>\n",
       "      <td>-500.856333</td>\n",
       "    </tr>\n",
       "    <tr>\n",
       "      <th>...</th>\n",
       "      <td>...</td>\n",
       "      <td>...</td>\n",
       "      <td>...</td>\n",
       "      <td>...</td>\n",
       "      <td>...</td>\n",
       "      <td>...</td>\n",
       "      <td>...</td>\n",
       "      <td>...</td>\n",
       "      <td>...</td>\n",
       "      <td>...</td>\n",
       "      <td>...</td>\n",
       "      <td>...</td>\n",
       "      <td>...</td>\n",
       "      <td>...</td>\n",
       "      <td>...</td>\n",
       "      <td>...</td>\n",
       "      <td>...</td>\n",
       "      <td>...</td>\n",
       "      <td>...</td>\n",
       "      <td>...</td>\n",
       "      <td>...</td>\n",
       "    </tr>\n",
       "    <tr>\n",
       "      <th>5851</th>\n",
       "      <td>2017-12-31 19:59:59</td>\n",
       "      <td>173.957757</td>\n",
       "      <td>15.963399</td>\n",
       "      <td>8.070000</td>\n",
       "      <td>0.896701</td>\n",
       "      <td>1401.930554</td>\n",
       "      <td>-499.728848</td>\n",
       "      <td>1401.441445</td>\n",
       "      <td>-499.193423</td>\n",
       "      <td>1399.810313</td>\n",
       "      <td>...</td>\n",
       "      <td>13.995957</td>\n",
       "      <td>-500.157454</td>\n",
       "      <td>12.069155</td>\n",
       "      <td>-499.673279</td>\n",
       "      <td>7.977259</td>\n",
       "      <td>-499.516126</td>\n",
       "      <td>5.933319</td>\n",
       "      <td>-499.965973</td>\n",
       "      <td>8.987171</td>\n",
       "      <td>-499.755909</td>\n",
       "    </tr>\n",
       "    <tr>\n",
       "      <th>5852</th>\n",
       "      <td>2017-12-31 20:59:59</td>\n",
       "      <td>172.910270</td>\n",
       "      <td>16.002605</td>\n",
       "      <td>8.070000</td>\n",
       "      <td>0.896519</td>\n",
       "      <td>1447.075722</td>\n",
       "      <td>-494.716823</td>\n",
       "      <td>1448.851892</td>\n",
       "      <td>-465.963026</td>\n",
       "      <td>1443.890424</td>\n",
       "      <td>...</td>\n",
       "      <td>16.749781</td>\n",
       "      <td>-496.031539</td>\n",
       "      <td>13.365371</td>\n",
       "      <td>-499.122723</td>\n",
       "      <td>9.288553</td>\n",
       "      <td>-496.892967</td>\n",
       "      <td>7.372897</td>\n",
       "      <td>-499.942956</td>\n",
       "      <td>8.986832</td>\n",
       "      <td>-499.903761</td>\n",
       "    </tr>\n",
       "    <tr>\n",
       "      <th>5853</th>\n",
       "      <td>2017-12-31 21:59:59</td>\n",
       "      <td>171.135718</td>\n",
       "      <td>15.993669</td>\n",
       "      <td>8.070000</td>\n",
       "      <td>1.165996</td>\n",
       "      <td>1498.836182</td>\n",
       "      <td>-501.770403</td>\n",
       "      <td>1499.572353</td>\n",
       "      <td>-495.516347</td>\n",
       "      <td>1502.749213</td>\n",
       "      <td>...</td>\n",
       "      <td>19.994130</td>\n",
       "      <td>-499.791312</td>\n",
       "      <td>15.101425</td>\n",
       "      <td>-499.936252</td>\n",
       "      <td>10.989181</td>\n",
       "      <td>-498.347898</td>\n",
       "      <td>9.020944</td>\n",
       "      <td>-500.040448</td>\n",
       "      <td>8.982038</td>\n",
       "      <td>-497.789882</td>\n",
       "    </tr>\n",
       "    <tr>\n",
       "      <th>5854</th>\n",
       "      <td>2017-12-31 22:59:59</td>\n",
       "      <td>179.697158</td>\n",
       "      <td>15.438979</td>\n",
       "      <td>8.070000</td>\n",
       "      <td>1.501068</td>\n",
       "      <td>1498.466243</td>\n",
       "      <td>-500.483984</td>\n",
       "      <td>1497.986986</td>\n",
       "      <td>-519.200340</td>\n",
       "      <td>1496.569047</td>\n",
       "      <td>...</td>\n",
       "      <td>19.958760</td>\n",
       "      <td>-499.958750</td>\n",
       "      <td>15.026853</td>\n",
       "      <td>-499.723143</td>\n",
       "      <td>11.011607</td>\n",
       "      <td>-499.985046</td>\n",
       "      <td>9.009783</td>\n",
       "      <td>-499.937902</td>\n",
       "      <td>9.012660</td>\n",
       "      <td>-500.154284</td>\n",
       "    </tr>\n",
       "    <tr>\n",
       "      <th>5855</th>\n",
       "      <td>2017-12-31 23:59:59</td>\n",
       "      <td>181.556856</td>\n",
       "      <td>14.995850</td>\n",
       "      <td>8.070000</td>\n",
       "      <td>1.623454</td>\n",
       "      <td>1498.096303</td>\n",
       "      <td>-499.796922</td>\n",
       "      <td>1501.743791</td>\n",
       "      <td>-505.146931</td>\n",
       "      <td>1499.535978</td>\n",
       "      <td>...</td>\n",
       "      <td>20.034715</td>\n",
       "      <td>-500.728588</td>\n",
       "      <td>14.914199</td>\n",
       "      <td>-499.948518</td>\n",
       "      <td>10.986607</td>\n",
       "      <td>-500.658027</td>\n",
       "      <td>8.989497</td>\n",
       "      <td>-500.337588</td>\n",
       "      <td>8.988632</td>\n",
       "      <td>-500.764937</td>\n",
       "    </tr>\n",
       "  </tbody>\n",
       "</table>\n",
       "<p>5856 rows × 53 columns</p>\n",
       "</div>"
      ],
      "text/plain": [
       "                    date  primary_cleaner_input_sulfate  \\\n",
       "0    2016-09-01 00:59:59                     210.800909   \n",
       "1    2016-09-01 01:59:59                     215.392455   \n",
       "2    2016-09-01 02:59:59                     215.259946   \n",
       "3    2016-09-01 03:59:59                     215.336236   \n",
       "4    2016-09-01 04:59:59                     199.099327   \n",
       "...                  ...                            ...   \n",
       "5851 2017-12-31 19:59:59                     173.957757   \n",
       "5852 2017-12-31 20:59:59                     172.910270   \n",
       "5853 2017-12-31 21:59:59                     171.135718   \n",
       "5854 2017-12-31 22:59:59                     179.697158   \n",
       "5855 2017-12-31 23:59:59                     181.556856   \n",
       "\n",
       "      primary_cleaner_input_depressant  primary_cleaner_input_feed_size  \\\n",
       "0                            14.993118                         8.080000   \n",
       "1                            14.987471                         8.080000   \n",
       "2                            12.884934                         7.786667   \n",
       "3                            12.006805                         7.640000   \n",
       "4                            10.682530                         7.530000   \n",
       "...                                ...                              ...   \n",
       "5851                         15.963399                         8.070000   \n",
       "5852                         16.002605                         8.070000   \n",
       "5853                         15.993669                         8.070000   \n",
       "5854                         15.438979                         8.070000   \n",
       "5855                         14.995850                         8.070000   \n",
       "\n",
       "      primary_cleaner_input_xanthate  primary_cleaner_state_floatbank8_a_air  \\\n",
       "0                           1.005021                             1398.981301   \n",
       "1                           0.990469                             1398.777912   \n",
       "2                           0.996043                             1398.493666   \n",
       "3                           0.863514                             1399.618111   \n",
       "4                           0.805575                             1401.268123   \n",
       "...                              ...                                     ...   \n",
       "5851                        0.896701                             1401.930554   \n",
       "5852                        0.896519                             1447.075722   \n",
       "5853                        1.165996                             1498.836182   \n",
       "5854                        1.501068                             1498.466243   \n",
       "5855                        1.623454                             1498.096303   \n",
       "\n",
       "      primary_cleaner_state_floatbank8_a_level  \\\n",
       "0                                  -500.225577   \n",
       "1                                  -500.057435   \n",
       "2                                  -500.868360   \n",
       "3                                  -498.863574   \n",
       "4                                  -500.808305   \n",
       "...                                        ...   \n",
       "5851                               -499.728848   \n",
       "5852                               -494.716823   \n",
       "5853                               -501.770403   \n",
       "5854                               -500.483984   \n",
       "5855                               -499.796922   \n",
       "\n",
       "      primary_cleaner_state_floatbank8_b_air  \\\n",
       "0                                1399.144926   \n",
       "1                                1398.055362   \n",
       "2                                1398.860436   \n",
       "3                                1397.440120   \n",
       "4                                1398.128818   \n",
       "...                                      ...   \n",
       "5851                             1401.441445   \n",
       "5852                             1448.851892   \n",
       "5853                             1499.572353   \n",
       "5854                             1497.986986   \n",
       "5855                             1501.743791   \n",
       "\n",
       "      primary_cleaner_state_floatbank8_b_level  \\\n",
       "0                                  -499.919735   \n",
       "1                                  -499.778182   \n",
       "2                                  -499.764529   \n",
       "3                                  -499.211024   \n",
       "4                                  -499.504543   \n",
       "...                                        ...   \n",
       "5851                               -499.193423   \n",
       "5852                               -465.963026   \n",
       "5853                               -495.516347   \n",
       "5854                               -519.200340   \n",
       "5855                               -505.146931   \n",
       "\n",
       "      primary_cleaner_state_floatbank8_c_air  ...  \\\n",
       "0                                1400.102998  ...   \n",
       "1                                1396.151033  ...   \n",
       "2                                1398.075709  ...   \n",
       "3                                1400.129303  ...   \n",
       "4                                1402.172226  ...   \n",
       "...                                      ...  ...   \n",
       "5851                             1399.810313  ...   \n",
       "5852                             1443.890424  ...   \n",
       "5853                             1502.749213  ...   \n",
       "5854                             1496.569047  ...   \n",
       "5855                             1499.535978  ...   \n",
       "\n",
       "      secondary_cleaner_state_floatbank4_a_air  \\\n",
       "0                                    12.023554   \n",
       "1                                    12.058140   \n",
       "2                                    11.962366   \n",
       "3                                    12.033091   \n",
       "4                                    12.025367   \n",
       "...                                        ...   \n",
       "5851                                 13.995957   \n",
       "5852                                 16.749781   \n",
       "5853                                 19.994130   \n",
       "5854                                 19.958760   \n",
       "5855                                 20.034715   \n",
       "\n",
       "      secondary_cleaner_state_floatbank4_a_level  \\\n",
       "0                                    -497.795834   \n",
       "1                                    -498.695773   \n",
       "2                                    -498.767484   \n",
       "3                                    -498.350935   \n",
       "4                                    -500.786497   \n",
       "...                                          ...   \n",
       "5851                                 -500.157454   \n",
       "5852                                 -496.031539   \n",
       "5853                                 -499.791312   \n",
       "5854                                 -499.958750   \n",
       "5855                                 -500.728588   \n",
       "\n",
       "      secondary_cleaner_state_floatbank4_b_air  \\\n",
       "0                                     8.016656   \n",
       "1                                     8.130979   \n",
       "2                                     8.096893   \n",
       "3                                     8.074946   \n",
       "4                                     8.054678   \n",
       "...                                        ...   \n",
       "5851                                 12.069155   \n",
       "5852                                 13.365371   \n",
       "5853                                 15.101425   \n",
       "5854                                 15.026853   \n",
       "5855                                 14.914199   \n",
       "\n",
       "      secondary_cleaner_state_floatbank4_b_level  \\\n",
       "0                                    -501.289139   \n",
       "1                                    -499.634209   \n",
       "2                                    -500.827423   \n",
       "3                                    -499.474407   \n",
       "4                                    -500.397500   \n",
       "...                                          ...   \n",
       "5851                                 -499.673279   \n",
       "5852                                 -499.122723   \n",
       "5853                                 -499.936252   \n",
       "5854                                 -499.723143   \n",
       "5855                                 -499.948518   \n",
       "\n",
       "      secondary_cleaner_state_floatbank5_a_air  \\\n",
       "0                                     7.946562   \n",
       "1                                     7.958270   \n",
       "2                                     8.071056   \n",
       "3                                     7.897085   \n",
       "4                                     8.107890   \n",
       "...                                        ...   \n",
       "5851                                  7.977259   \n",
       "5852                                  9.288553   \n",
       "5853                                 10.989181   \n",
       "5854                                 11.011607   \n",
       "5855                                 10.986607   \n",
       "\n",
       "      secondary_cleaner_state_floatbank5_a_level  \\\n",
       "0                                    -432.317850   \n",
       "1                                    -525.839648   \n",
       "2                                    -500.801673   \n",
       "3                                    -500.868509   \n",
       "4                                    -509.526725   \n",
       "...                                          ...   \n",
       "5851                                 -499.516126   \n",
       "5852                                 -496.892967   \n",
       "5853                                 -498.347898   \n",
       "5854                                 -499.985046   \n",
       "5855                                 -500.658027   \n",
       "\n",
       "      secondary_cleaner_state_floatbank5_b_air  \\\n",
       "0                                     4.872511   \n",
       "1                                     4.878850   \n",
       "2                                     4.905125   \n",
       "3                                     4.931400   \n",
       "4                                     4.957674   \n",
       "...                                        ...   \n",
       "5851                                  5.933319   \n",
       "5852                                  7.372897   \n",
       "5853                                  9.020944   \n",
       "5854                                  9.009783   \n",
       "5855                                  8.989497   \n",
       "\n",
       "      secondary_cleaner_state_floatbank5_b_level  \\\n",
       "0                                    -500.037437   \n",
       "1                                    -500.162375   \n",
       "2                                    -499.828510   \n",
       "3                                    -499.963623   \n",
       "4                                    -500.360026   \n",
       "...                                          ...   \n",
       "5851                                 -499.965973   \n",
       "5852                                 -499.942956   \n",
       "5853                                 -500.040448   \n",
       "5854                                 -499.937902   \n",
       "5855                                 -500.337588   \n",
       "\n",
       "      secondary_cleaner_state_floatbank6_a_air  \\\n",
       "0                                    26.705889   \n",
       "1                                    25.019940   \n",
       "2                                    24.994862   \n",
       "3                                    24.948919   \n",
       "4                                    25.003331   \n",
       "...                                        ...   \n",
       "5851                                  8.987171   \n",
       "5852                                  8.986832   \n",
       "5853                                  8.982038   \n",
       "5854                                  9.012660   \n",
       "5855                                  8.988632   \n",
       "\n",
       "      secondary_cleaner_state_floatbank6_a_level  \n",
       "0                                    -499.709414  \n",
       "1                                    -499.819438  \n",
       "2                                    -500.622559  \n",
       "3                                    -498.709987  \n",
       "4                                    -500.856333  \n",
       "...                                          ...  \n",
       "5851                                 -499.755909  \n",
       "5852                                 -499.903761  \n",
       "5853                                 -497.789882  \n",
       "5854                                 -500.154284  \n",
       "5855                                 -500.764937  \n",
       "\n",
       "[5856 rows x 53 columns]"
      ]
     },
     "execution_count": 24,
     "metadata": {},
     "output_type": "execute_result"
    }
   ],
   "source": [
    "gold_test"
   ]
  },
  {
   "cell_type": "code",
   "execution_count": 25,
   "id": "0f0bcbde",
   "metadata": {},
   "outputs": [],
   "source": [
    "new_columns_train = []\n",
    "for i in range(gold_train.columns.size):\n",
    "    new_columns_train.append (gold_train.columns[i].replace(\".\",\"_\"))\n",
    "    "
   ]
  },
  {
   "cell_type": "code",
   "execution_count": 26,
   "id": "f6beb726",
   "metadata": {},
   "outputs": [],
   "source": [
    "gold_train.columns = new_columns_train"
   ]
  },
  {
   "cell_type": "code",
   "execution_count": 27,
   "id": "438f13ce",
   "metadata": {},
   "outputs": [
    {
     "data": {
      "text/html": [
       "<div>\n",
       "<style scoped>\n",
       "    .dataframe tbody tr th:only-of-type {\n",
       "        vertical-align: middle;\n",
       "    }\n",
       "\n",
       "    .dataframe tbody tr th {\n",
       "        vertical-align: top;\n",
       "    }\n",
       "\n",
       "    .dataframe thead th {\n",
       "        text-align: right;\n",
       "    }\n",
       "</style>\n",
       "<table border=\"1\" class=\"dataframe\">\n",
       "  <thead>\n",
       "    <tr style=\"text-align: right;\">\n",
       "      <th></th>\n",
       "      <th>date</th>\n",
       "      <th>final_output_concentrate_ag</th>\n",
       "      <th>final_output_concentrate_pb</th>\n",
       "      <th>final_output_concentrate_sol</th>\n",
       "      <th>final_output_concentrate_au</th>\n",
       "      <th>final_output_recovery</th>\n",
       "      <th>final_output_tail_ag</th>\n",
       "      <th>final_output_tail_pb</th>\n",
       "      <th>final_output_tail_sol</th>\n",
       "      <th>final_output_tail_au</th>\n",
       "      <th>...</th>\n",
       "      <th>secondary_cleaner_state_floatbank4_a_air</th>\n",
       "      <th>secondary_cleaner_state_floatbank4_a_level</th>\n",
       "      <th>secondary_cleaner_state_floatbank4_b_air</th>\n",
       "      <th>secondary_cleaner_state_floatbank4_b_level</th>\n",
       "      <th>secondary_cleaner_state_floatbank5_a_air</th>\n",
       "      <th>secondary_cleaner_state_floatbank5_a_level</th>\n",
       "      <th>secondary_cleaner_state_floatbank5_b_air</th>\n",
       "      <th>secondary_cleaner_state_floatbank5_b_level</th>\n",
       "      <th>secondary_cleaner_state_floatbank6_a_air</th>\n",
       "      <th>secondary_cleaner_state_floatbank6_a_level</th>\n",
       "    </tr>\n",
       "  </thead>\n",
       "  <tbody>\n",
       "    <tr>\n",
       "      <th>0</th>\n",
       "      <td>2016-01-15 00:00:00</td>\n",
       "      <td>6.055403</td>\n",
       "      <td>9.889648</td>\n",
       "      <td>5.507324</td>\n",
       "      <td>42.192020</td>\n",
       "      <td>70.541216</td>\n",
       "      <td>10.411962</td>\n",
       "      <td>0.895447</td>\n",
       "      <td>16.904297</td>\n",
       "      <td>2.143149</td>\n",
       "      <td>...</td>\n",
       "      <td>14.016835</td>\n",
       "      <td>-502.488007</td>\n",
       "      <td>12.099931</td>\n",
       "      <td>-504.715942</td>\n",
       "      <td>9.925633</td>\n",
       "      <td>-498.310211</td>\n",
       "      <td>8.079666</td>\n",
       "      <td>-500.470978</td>\n",
       "      <td>14.151341</td>\n",
       "      <td>-605.841980</td>\n",
       "    </tr>\n",
       "    <tr>\n",
       "      <th>1</th>\n",
       "      <td>2016-01-15 01:00:00</td>\n",
       "      <td>6.029369</td>\n",
       "      <td>9.968944</td>\n",
       "      <td>5.257781</td>\n",
       "      <td>42.701629</td>\n",
       "      <td>69.266198</td>\n",
       "      <td>10.462676</td>\n",
       "      <td>0.927452</td>\n",
       "      <td>16.634514</td>\n",
       "      <td>2.224930</td>\n",
       "      <td>...</td>\n",
       "      <td>13.992281</td>\n",
       "      <td>-505.503262</td>\n",
       "      <td>11.950531</td>\n",
       "      <td>-501.331529</td>\n",
       "      <td>10.039245</td>\n",
       "      <td>-500.169983</td>\n",
       "      <td>7.984757</td>\n",
       "      <td>-500.582168</td>\n",
       "      <td>13.998353</td>\n",
       "      <td>-599.787184</td>\n",
       "    </tr>\n",
       "    <tr>\n",
       "      <th>2</th>\n",
       "      <td>2016-01-15 02:00:00</td>\n",
       "      <td>6.055926</td>\n",
       "      <td>10.213995</td>\n",
       "      <td>5.383759</td>\n",
       "      <td>42.657501</td>\n",
       "      <td>68.116445</td>\n",
       "      <td>10.507046</td>\n",
       "      <td>0.953716</td>\n",
       "      <td>16.208849</td>\n",
       "      <td>2.257889</td>\n",
       "      <td>...</td>\n",
       "      <td>14.015015</td>\n",
       "      <td>-502.520901</td>\n",
       "      <td>11.912783</td>\n",
       "      <td>-501.133383</td>\n",
       "      <td>10.070913</td>\n",
       "      <td>-500.129135</td>\n",
       "      <td>8.013877</td>\n",
       "      <td>-500.517572</td>\n",
       "      <td>14.028663</td>\n",
       "      <td>-601.427363</td>\n",
       "    </tr>\n",
       "    <tr>\n",
       "      <th>3</th>\n",
       "      <td>2016-01-15 03:00:00</td>\n",
       "      <td>6.047977</td>\n",
       "      <td>9.977019</td>\n",
       "      <td>4.858634</td>\n",
       "      <td>42.689819</td>\n",
       "      <td>68.347543</td>\n",
       "      <td>10.422762</td>\n",
       "      <td>0.883763</td>\n",
       "      <td>16.532835</td>\n",
       "      <td>2.146849</td>\n",
       "      <td>...</td>\n",
       "      <td>14.036510</td>\n",
       "      <td>-500.857308</td>\n",
       "      <td>11.999550</td>\n",
       "      <td>-501.193686</td>\n",
       "      <td>9.970366</td>\n",
       "      <td>-499.201640</td>\n",
       "      <td>7.977324</td>\n",
       "      <td>-500.255908</td>\n",
       "      <td>14.005551</td>\n",
       "      <td>-599.996129</td>\n",
       "    </tr>\n",
       "    <tr>\n",
       "      <th>4</th>\n",
       "      <td>2016-01-15 04:00:00</td>\n",
       "      <td>6.148599</td>\n",
       "      <td>10.142511</td>\n",
       "      <td>4.939416</td>\n",
       "      <td>42.774141</td>\n",
       "      <td>66.927016</td>\n",
       "      <td>10.360302</td>\n",
       "      <td>0.792826</td>\n",
       "      <td>16.525686</td>\n",
       "      <td>2.055292</td>\n",
       "      <td>...</td>\n",
       "      <td>14.027298</td>\n",
       "      <td>-499.838632</td>\n",
       "      <td>11.953070</td>\n",
       "      <td>-501.053894</td>\n",
       "      <td>9.925709</td>\n",
       "      <td>-501.686727</td>\n",
       "      <td>7.894242</td>\n",
       "      <td>-500.356035</td>\n",
       "      <td>13.996647</td>\n",
       "      <td>-601.496691</td>\n",
       "    </tr>\n",
       "  </tbody>\n",
       "</table>\n",
       "<p>5 rows × 87 columns</p>\n",
       "</div>"
      ],
      "text/plain": [
       "                 date  final_output_concentrate_ag  \\\n",
       "0 2016-01-15 00:00:00                     6.055403   \n",
       "1 2016-01-15 01:00:00                     6.029369   \n",
       "2 2016-01-15 02:00:00                     6.055926   \n",
       "3 2016-01-15 03:00:00                     6.047977   \n",
       "4 2016-01-15 04:00:00                     6.148599   \n",
       "\n",
       "   final_output_concentrate_pb  final_output_concentrate_sol  \\\n",
       "0                     9.889648                      5.507324   \n",
       "1                     9.968944                      5.257781   \n",
       "2                    10.213995                      5.383759   \n",
       "3                     9.977019                      4.858634   \n",
       "4                    10.142511                      4.939416   \n",
       "\n",
       "   final_output_concentrate_au  final_output_recovery  final_output_tail_ag  \\\n",
       "0                    42.192020              70.541216             10.411962   \n",
       "1                    42.701629              69.266198             10.462676   \n",
       "2                    42.657501              68.116445             10.507046   \n",
       "3                    42.689819              68.347543             10.422762   \n",
       "4                    42.774141              66.927016             10.360302   \n",
       "\n",
       "   final_output_tail_pb  final_output_tail_sol  final_output_tail_au  ...  \\\n",
       "0              0.895447              16.904297              2.143149  ...   \n",
       "1              0.927452              16.634514              2.224930  ...   \n",
       "2              0.953716              16.208849              2.257889  ...   \n",
       "3              0.883763              16.532835              2.146849  ...   \n",
       "4              0.792826              16.525686              2.055292  ...   \n",
       "\n",
       "   secondary_cleaner_state_floatbank4_a_air  \\\n",
       "0                                 14.016835   \n",
       "1                                 13.992281   \n",
       "2                                 14.015015   \n",
       "3                                 14.036510   \n",
       "4                                 14.027298   \n",
       "\n",
       "   secondary_cleaner_state_floatbank4_a_level  \\\n",
       "0                                 -502.488007   \n",
       "1                                 -505.503262   \n",
       "2                                 -502.520901   \n",
       "3                                 -500.857308   \n",
       "4                                 -499.838632   \n",
       "\n",
       "   secondary_cleaner_state_floatbank4_b_air  \\\n",
       "0                                 12.099931   \n",
       "1                                 11.950531   \n",
       "2                                 11.912783   \n",
       "3                                 11.999550   \n",
       "4                                 11.953070   \n",
       "\n",
       "   secondary_cleaner_state_floatbank4_b_level  \\\n",
       "0                                 -504.715942   \n",
       "1                                 -501.331529   \n",
       "2                                 -501.133383   \n",
       "3                                 -501.193686   \n",
       "4                                 -501.053894   \n",
       "\n",
       "   secondary_cleaner_state_floatbank5_a_air  \\\n",
       "0                                  9.925633   \n",
       "1                                 10.039245   \n",
       "2                                 10.070913   \n",
       "3                                  9.970366   \n",
       "4                                  9.925709   \n",
       "\n",
       "   secondary_cleaner_state_floatbank5_a_level  \\\n",
       "0                                 -498.310211   \n",
       "1                                 -500.169983   \n",
       "2                                 -500.129135   \n",
       "3                                 -499.201640   \n",
       "4                                 -501.686727   \n",
       "\n",
       "   secondary_cleaner_state_floatbank5_b_air  \\\n",
       "0                                  8.079666   \n",
       "1                                  7.984757   \n",
       "2                                  8.013877   \n",
       "3                                  7.977324   \n",
       "4                                  7.894242   \n",
       "\n",
       "   secondary_cleaner_state_floatbank5_b_level  \\\n",
       "0                                 -500.470978   \n",
       "1                                 -500.582168   \n",
       "2                                 -500.517572   \n",
       "3                                 -500.255908   \n",
       "4                                 -500.356035   \n",
       "\n",
       "   secondary_cleaner_state_floatbank6_a_air  \\\n",
       "0                                 14.151341   \n",
       "1                                 13.998353   \n",
       "2                                 14.028663   \n",
       "3                                 14.005551   \n",
       "4                                 13.996647   \n",
       "\n",
       "   secondary_cleaner_state_floatbank6_a_level  \n",
       "0                                 -605.841980  \n",
       "1                                 -599.787184  \n",
       "2                                 -601.427363  \n",
       "3                                 -599.996129  \n",
       "4                                 -601.496691  \n",
       "\n",
       "[5 rows x 87 columns]"
      ]
     },
     "execution_count": 27,
     "metadata": {},
     "output_type": "execute_result"
    }
   ],
   "source": [
    "gold_train.head() # making sure the columns are now in snake format"
   ]
  },
  {
   "cell_type": "markdown",
   "id": "e0906c23",
   "metadata": {},
   "source": [
    "#### Delete or fill in all NaN values in the data frames."
   ]
  },
  {
   "cell_type": "code",
   "execution_count": 28,
   "id": "388f9152",
   "metadata": {},
   "outputs": [
    {
     "data": {
      "text/plain": [
       "16860"
      ]
     },
     "metadata": {},
     "output_type": "display_data"
    },
    {
     "data": {
      "text/plain": [
       "22716"
      ]
     },
     "execution_count": 28,
     "metadata": {},
     "output_type": "execute_result"
    }
   ],
   "source": [
    "display (gold_train.shape[0]) #Checking total number of rows to compare after I drop NaN\n",
    "gold_full.shape[0]"
   ]
  },
  {
   "cell_type": "code",
   "execution_count": 29,
   "id": "4bda5cfe",
   "metadata": {},
   "outputs": [
    {
     "name": "stdout",
     "output_type": "stream",
     "text": [
      "9.02135231316726\n"
     ]
    }
   ],
   "source": [
    "percent_nan =  gold_train['final_output_recovery'].isna().sum()/gold_train.shape[0]\n",
    "print(percent_nan*100) #percent of nan values in final_output_recovery for the data set"
   ]
  },
  {
   "cell_type": "code",
   "execution_count": 30,
   "id": "073650ad",
   "metadata": {},
   "outputs": [
    {
     "name": "stdout",
     "output_type": "stream",
     "text": [
      "15.26097271648873\n"
     ]
    }
   ],
   "source": [
    "percent_nan =  gold_train['rougher_output_recovery'].isna().sum()/gold_train.shape[0]\n",
    "print(percent_nan*100) #percent of nan values in rougher_output_recovery"
   ]
  },
  {
   "cell_type": "code",
   "execution_count": 31,
   "id": "e1ef4359",
   "metadata": {},
   "outputs": [
    {
     "name": "stdout",
     "output_type": "stream",
     "text": [
      "8.641486177143863\n"
     ]
    }
   ],
   "source": [
    "percent_nan =  gold_full['final_output_recovery'].isna().sum()/gold_full.shape[0]\n",
    "print(percent_nan*100) #percent of nan values in final_output_recovery for the data set"
   ]
  },
  {
   "cell_type": "code",
   "execution_count": 32,
   "id": "22ba4e06",
   "metadata": {},
   "outputs": [
    {
     "name": "stdout",
     "output_type": "stream",
     "text": [
      "13.730410283500616\n"
     ]
    }
   ],
   "source": [
    "percent_nan =  gold_full['rougher_output_recovery'].isna().sum()/gold_full.shape[0]\n",
    "print(percent_nan*100) #percent of nan values in rougher_output_recovery"
   ]
  },
  {
   "cell_type": "markdown",
   "id": "6f52a9eb",
   "metadata": {},
   "source": [
    "The highest percentage of NaN values is in the training set for rougher_output_recovery target and it came in at 15% of our total dataframe observations. We cannot train a model if we don't have targets "
   ]
  },
  {
   "cell_type": "code",
   "execution_count": 33,
   "id": "a33d0195",
   "metadata": {},
   "outputs": [],
   "source": [
    "gold_train = gold_train[~gold_train['final_output_recovery'].isna()] #Delete all nan values in targets since they are not a big percentage of total\n",
    "gold_train = gold_train[~gold_train['rougher_output_recovery'].isna()] #Delete all nan values in targets since they are not a big percentage of total"
   ]
  },
  {
   "cell_type": "code",
   "execution_count": 34,
   "id": "067ff0ec",
   "metadata": {},
   "outputs": [
    {
     "data": {
      "text/plain": [
       "14149"
      ]
     },
     "execution_count": 34,
     "metadata": {},
     "output_type": "execute_result"
    }
   ],
   "source": [
    "gold_train.shape[0] #can see that about 2711 rows were deleted which represents a total of 16%. Onward!"
   ]
  },
  {
   "cell_type": "code",
   "execution_count": 35,
   "id": "9cfc2c27",
   "metadata": {},
   "outputs": [
    {
     "data": {
      "text/plain": [
       "0"
      ]
     },
     "metadata": {},
     "output_type": "display_data"
    },
    {
     "data": {
      "text/plain": [
       "0"
      ]
     },
     "metadata": {},
     "output_type": "display_data"
    }
   ],
   "source": [
    "display(gold_train['final_output_recovery'].isna().sum())\n",
    "display(gold_train['rougher_output_recovery'].isna().sum())\n"
   ]
  },
  {
   "cell_type": "code",
   "execution_count": 36,
   "id": "967de499",
   "metadata": {},
   "outputs": [],
   "source": [
    "gold_full = gold_full[~gold_full['final_output_recovery'].isna()] #Delete all nan values in targets since they are not a big percentage of total\n",
    "gold_full = gold_full[~gold_full['rougher_output_recovery'].isna()] #Delete all nan values in targets since they are not a big percentage of total\n"
   ]
  },
  {
   "cell_type": "code",
   "execution_count": 37,
   "id": "36961513",
   "metadata": {},
   "outputs": [
    {
     "data": {
      "text/plain": [
       "19439"
      ]
     },
     "execution_count": 37,
     "metadata": {},
     "output_type": "execute_result"
    }
   ],
   "source": [
    "gold_full.shape[0] #About 14% of rows were dropped from the full set not too bad."
   ]
  },
  {
   "cell_type": "code",
   "execution_count": 38,
   "id": "527aca6d",
   "metadata": {},
   "outputs": [
    {
     "data": {
      "text/plain": [
       "0"
      ]
     },
     "metadata": {},
     "output_type": "display_data"
    },
    {
     "data": {
      "text/plain": [
       "0"
      ]
     },
     "metadata": {},
     "output_type": "display_data"
    }
   ],
   "source": [
    "display(gold_full['final_output_recovery'].isna().sum())\n",
    "display(gold_full['rougher_output_recovery'].isna().sum()) #NO MORE NaN in the targets"
   ]
  },
  {
   "cell_type": "markdown",
   "id": "85359304",
   "metadata": {},
   "source": [
    "#### Now we deal with NaN values in the rest of the features. "
   ]
  },
  {
   "cell_type": "markdown",
   "id": "95dac40f",
   "metadata": {},
   "source": [
    "There are a considerable number of NaN values especially in the rougher stage. We will fill them in with values that are in the row right above since the project descriptions says: \"Parameters that are next to each other in terms of time are often similar.\""
   ]
  },
  {
   "cell_type": "code",
   "execution_count": 39,
   "id": "2bdc0cf6",
   "metadata": {},
   "outputs": [],
   "source": [
    "gold_train = gold_train.fillna(method='ffill')\n",
    "gold_train.reset_index(drop=True, inplace=True) #Drop old index after deleting observations with NaN in targets"
   ]
  },
  {
   "cell_type": "code",
   "execution_count": 40,
   "id": "d58cb356",
   "metadata": {},
   "outputs": [
    {
     "name": "stdout",
     "output_type": "stream",
     "text": [
      "<class 'pandas.core.frame.DataFrame'>\n",
      "RangeIndex: 14149 entries, 0 to 14148\n",
      "Data columns (total 87 columns):\n",
      " #   Column                                              Non-Null Count  Dtype         \n",
      "---  ------                                              --------------  -----         \n",
      " 0   date                                                14149 non-null  datetime64[ns]\n",
      " 1   final_output_concentrate_ag                         14149 non-null  float64       \n",
      " 2   final_output_concentrate_pb                         14149 non-null  float64       \n",
      " 3   final_output_concentrate_sol                        14149 non-null  float64       \n",
      " 4   final_output_concentrate_au                         14149 non-null  float64       \n",
      " 5   final_output_recovery                               14149 non-null  float64       \n",
      " 6   final_output_tail_ag                                14149 non-null  float64       \n",
      " 7   final_output_tail_pb                                14149 non-null  float64       \n",
      " 8   final_output_tail_sol                               14149 non-null  float64       \n",
      " 9   final_output_tail_au                                14149 non-null  float64       \n",
      " 10  primary_cleaner_input_sulfate                       14149 non-null  float64       \n",
      " 11  primary_cleaner_input_depressant                    14149 non-null  float64       \n",
      " 12  primary_cleaner_input_feed_size                     14149 non-null  float64       \n",
      " 13  primary_cleaner_input_xanthate                      14149 non-null  float64       \n",
      " 14  primary_cleaner_output_concentrate_ag               14149 non-null  float64       \n",
      " 15  primary_cleaner_output_concentrate_pb               14149 non-null  float64       \n",
      " 16  primary_cleaner_output_concentrate_sol              14149 non-null  float64       \n",
      " 17  primary_cleaner_output_concentrate_au               14149 non-null  float64       \n",
      " 18  primary_cleaner_output_tail_ag                      14149 non-null  float64       \n",
      " 19  primary_cleaner_output_tail_pb                      14149 non-null  float64       \n",
      " 20  primary_cleaner_output_tail_sol                     14149 non-null  float64       \n",
      " 21  primary_cleaner_output_tail_au                      14149 non-null  float64       \n",
      " 22  primary_cleaner_state_floatbank8_a_air              14149 non-null  float64       \n",
      " 23  primary_cleaner_state_floatbank8_a_level            14149 non-null  float64       \n",
      " 24  primary_cleaner_state_floatbank8_b_air              14149 non-null  float64       \n",
      " 25  primary_cleaner_state_floatbank8_b_level            14149 non-null  float64       \n",
      " 26  primary_cleaner_state_floatbank8_c_air              14149 non-null  float64       \n",
      " 27  primary_cleaner_state_floatbank8_c_level            14149 non-null  float64       \n",
      " 28  primary_cleaner_state_floatbank8_d_air              14149 non-null  float64       \n",
      " 29  primary_cleaner_state_floatbank8_d_level            14149 non-null  float64       \n",
      " 30  rougher_calculation_sulfate_to_au_concentrate       14149 non-null  float64       \n",
      " 31  rougher_calculation_floatbank10_sulfate_to_au_feed  14149 non-null  float64       \n",
      " 32  rougher_calculation_floatbank11_sulfate_to_au_feed  14149 non-null  float64       \n",
      " 33  rougher_calculation_au_pb_ratio                     14149 non-null  float64       \n",
      " 34  rougher_input_feed_ag                               14149 non-null  float64       \n",
      " 35  rougher_input_feed_pb                               14149 non-null  float64       \n",
      " 36  rougher_input_feed_rate                             14149 non-null  float64       \n",
      " 37  rougher_input_feed_size                             14149 non-null  float64       \n",
      " 38  rougher_input_feed_sol                              14149 non-null  float64       \n",
      " 39  rougher_input_feed_au                               14149 non-null  float64       \n",
      " 40  rougher_input_floatbank10_sulfate                   14149 non-null  float64       \n",
      " 41  rougher_input_floatbank10_xanthate                  14149 non-null  float64       \n",
      " 42  rougher_input_floatbank11_sulfate                   14149 non-null  float64       \n",
      " 43  rougher_input_floatbank11_xanthate                  14149 non-null  float64       \n",
      " 44  rougher_output_concentrate_ag                       14149 non-null  float64       \n",
      " 45  rougher_output_concentrate_pb                       14149 non-null  float64       \n",
      " 46  rougher_output_concentrate_sol                      14149 non-null  float64       \n",
      " 47  rougher_output_concentrate_au                       14149 non-null  float64       \n",
      " 48  rougher_output_recovery                             14149 non-null  float64       \n",
      " 49  rougher_output_tail_ag                              14149 non-null  float64       \n",
      " 50  rougher_output_tail_pb                              14149 non-null  float64       \n",
      " 51  rougher_output_tail_sol                             14149 non-null  float64       \n",
      " 52  rougher_output_tail_au                              14149 non-null  float64       \n",
      " 53  rougher_state_floatbank10_a_air                     14149 non-null  float64       \n",
      " 54  rougher_state_floatbank10_a_level                   14149 non-null  float64       \n",
      " 55  rougher_state_floatbank10_b_air                     14149 non-null  float64       \n",
      " 56  rougher_state_floatbank10_b_level                   14149 non-null  float64       \n",
      " 57  rougher_state_floatbank10_c_air                     14149 non-null  float64       \n",
      " 58  rougher_state_floatbank10_c_level                   14149 non-null  float64       \n",
      " 59  rougher_state_floatbank10_d_air                     14149 non-null  float64       \n",
      " 60  rougher_state_floatbank10_d_level                   14149 non-null  float64       \n",
      " 61  rougher_state_floatbank10_e_air                     14149 non-null  float64       \n",
      " 62  rougher_state_floatbank10_e_level                   14149 non-null  float64       \n",
      " 63  rougher_state_floatbank10_f_air                     14149 non-null  float64       \n",
      " 64  rougher_state_floatbank10_f_level                   14149 non-null  float64       \n",
      " 65  secondary_cleaner_output_tail_ag                    14149 non-null  float64       \n",
      " 66  secondary_cleaner_output_tail_pb                    14149 non-null  float64       \n",
      " 67  secondary_cleaner_output_tail_sol                   14149 non-null  float64       \n",
      " 68  secondary_cleaner_output_tail_au                    14149 non-null  float64       \n",
      " 69  secondary_cleaner_state_floatbank2_a_air            14149 non-null  float64       \n",
      " 70  secondary_cleaner_state_floatbank2_a_level          14149 non-null  float64       \n",
      " 71  secondary_cleaner_state_floatbank2_b_air            14149 non-null  float64       \n",
      " 72  secondary_cleaner_state_floatbank2_b_level          14149 non-null  float64       \n",
      " 73  secondary_cleaner_state_floatbank3_a_air            14149 non-null  float64       \n",
      " 74  secondary_cleaner_state_floatbank3_a_level          14149 non-null  float64       \n",
      " 75  secondary_cleaner_state_floatbank3_b_air            14149 non-null  float64       \n",
      " 76  secondary_cleaner_state_floatbank3_b_level          14149 non-null  float64       \n",
      " 77  secondary_cleaner_state_floatbank4_a_air            14149 non-null  float64       \n",
      " 78  secondary_cleaner_state_floatbank4_a_level          14149 non-null  float64       \n",
      " 79  secondary_cleaner_state_floatbank4_b_air            14149 non-null  float64       \n",
      " 80  secondary_cleaner_state_floatbank4_b_level          14149 non-null  float64       \n",
      " 81  secondary_cleaner_state_floatbank5_a_air            14149 non-null  float64       \n",
      " 82  secondary_cleaner_state_floatbank5_a_level          14149 non-null  float64       \n",
      " 83  secondary_cleaner_state_floatbank5_b_air            14149 non-null  float64       \n",
      " 84  secondary_cleaner_state_floatbank5_b_level          14149 non-null  float64       \n",
      " 85  secondary_cleaner_state_floatbank6_a_air            14149 non-null  float64       \n",
      " 86  secondary_cleaner_state_floatbank6_a_level          14149 non-null  float64       \n",
      "dtypes: datetime64[ns](1), float64(86)\n",
      "memory usage: 9.4 MB\n"
     ]
    }
   ],
   "source": [
    "gold_train.info() # Checking to make sure every single feature has zero NaN or Null values."
   ]
  },
  {
   "cell_type": "code",
   "execution_count": 41,
   "id": "55f7b7d4",
   "metadata": {},
   "outputs": [
    {
     "data": {
      "text/plain": [
       "0"
      ]
     },
     "execution_count": 41,
     "metadata": {},
     "output_type": "execute_result"
    }
   ],
   "source": [
    "gold_train['final_output_recovery'].isna().sum() #Double checking for NaN values in each target separatly"
   ]
  },
  {
   "cell_type": "code",
   "execution_count": 42,
   "id": "85ad4c3c",
   "metadata": {},
   "outputs": [
    {
     "data": {
      "text/plain": [
       "0"
      ]
     },
     "execution_count": 42,
     "metadata": {},
     "output_type": "execute_result"
    }
   ],
   "source": [
    "gold_train['final_output_recovery'].isna().sum() #Targets are crucial for the model to perform well so we can't have NaN"
   ]
  },
  {
   "cell_type": "code",
   "execution_count": 43,
   "id": "826d8dd6",
   "metadata": {},
   "outputs": [],
   "source": [
    "#Do the same for the full set\n",
    "gold_full = gold_full.fillna(method='ffill') #filling in all NaN for all features with the closest row above\n",
    "gold_full.reset_index(drop=True, inplace=True)"
   ]
  },
  {
   "cell_type": "code",
   "execution_count": 44,
   "id": "49066e28",
   "metadata": {
    "scrolled": true
   },
   "outputs": [
    {
     "data": {
      "text/plain": [
       "date                                                  0\n",
       "rougher_state_floatbank10_e_level                     0\n",
       "rougher_state_floatbank10_e_air                       0\n",
       "rougher_state_floatbank10_d_level                     0\n",
       "rougher_state_floatbank10_d_air                       0\n",
       "                                                     ..\n",
       "primary_cleaner_state_floatbank8_b_level              0\n",
       "primary_cleaner_state_floatbank8_b_air                0\n",
       "primary_cleaner_state_floatbank8_a_level              0\n",
       "rougher_calculation_floatbank10_sulfate_to_au_feed    0\n",
       "secondary_cleaner_state_floatbank6_a_level            0\n",
       "Length: 87, dtype: int64"
      ]
     },
     "execution_count": 44,
     "metadata": {},
     "output_type": "execute_result"
    }
   ],
   "source": [
    "gold_full.isna().sum().sort_values() #Since this is sorted we can see there are no NaN values left anywhere"
   ]
  },
  {
   "cell_type": "code",
   "execution_count": 45,
   "id": "bd00dd7c",
   "metadata": {},
   "outputs": [
    {
     "name": "stdout",
     "output_type": "stream",
     "text": [
      "<class 'pandas.core.frame.DataFrame'>\n",
      "RangeIndex: 19439 entries, 0 to 19438\n",
      "Data columns (total 87 columns):\n",
      " #   Column                                              Non-Null Count  Dtype         \n",
      "---  ------                                              --------------  -----         \n",
      " 0   date                                                19439 non-null  datetime64[ns]\n",
      " 1   final_output_concentrate_ag                         19439 non-null  float64       \n",
      " 2   final_output_concentrate_pb                         19439 non-null  float64       \n",
      " 3   final_output_concentrate_sol                        19439 non-null  float64       \n",
      " 4   final_output_concentrate_au                         19439 non-null  float64       \n",
      " 5   final_output_recovery                               19439 non-null  float64       \n",
      " 6   final_output_tail_ag                                19439 non-null  float64       \n",
      " 7   final_output_tail_pb                                19439 non-null  float64       \n",
      " 8   final_output_tail_sol                               19439 non-null  float64       \n",
      " 9   final_output_tail_au                                19439 non-null  float64       \n",
      " 10  primary_cleaner_input_sulfate                       19439 non-null  float64       \n",
      " 11  primary_cleaner_input_depressant                    19439 non-null  float64       \n",
      " 12  primary_cleaner_input_feed_size                     19439 non-null  float64       \n",
      " 13  primary_cleaner_input_xanthate                      19439 non-null  float64       \n",
      " 14  primary_cleaner_output_concentrate_ag               19439 non-null  float64       \n",
      " 15  primary_cleaner_output_concentrate_pb               19439 non-null  float64       \n",
      " 16  primary_cleaner_output_concentrate_sol              19439 non-null  float64       \n",
      " 17  primary_cleaner_output_concentrate_au               19439 non-null  float64       \n",
      " 18  primary_cleaner_output_tail_ag                      19439 non-null  float64       \n",
      " 19  primary_cleaner_output_tail_pb                      19439 non-null  float64       \n",
      " 20  primary_cleaner_output_tail_sol                     19439 non-null  float64       \n",
      " 21  primary_cleaner_output_tail_au                      19439 non-null  float64       \n",
      " 22  primary_cleaner_state_floatbank8_a_air              19439 non-null  float64       \n",
      " 23  primary_cleaner_state_floatbank8_a_level            19439 non-null  float64       \n",
      " 24  primary_cleaner_state_floatbank8_b_air              19439 non-null  float64       \n",
      " 25  primary_cleaner_state_floatbank8_b_level            19439 non-null  float64       \n",
      " 26  primary_cleaner_state_floatbank8_c_air              19439 non-null  float64       \n",
      " 27  primary_cleaner_state_floatbank8_c_level            19439 non-null  float64       \n",
      " 28  primary_cleaner_state_floatbank8_d_air              19439 non-null  float64       \n",
      " 29  primary_cleaner_state_floatbank8_d_level            19439 non-null  float64       \n",
      " 30  rougher_calculation_sulfate_to_au_concentrate       19439 non-null  float64       \n",
      " 31  rougher_calculation_floatbank10_sulfate_to_au_feed  19439 non-null  float64       \n",
      " 32  rougher_calculation_floatbank11_sulfate_to_au_feed  19439 non-null  float64       \n",
      " 33  rougher_calculation_au_pb_ratio                     19439 non-null  float64       \n",
      " 34  rougher_input_feed_ag                               19439 non-null  float64       \n",
      " 35  rougher_input_feed_pb                               19439 non-null  float64       \n",
      " 36  rougher_input_feed_rate                             19439 non-null  float64       \n",
      " 37  rougher_input_feed_size                             19439 non-null  float64       \n",
      " 38  rougher_input_feed_sol                              19439 non-null  float64       \n",
      " 39  rougher_input_feed_au                               19439 non-null  float64       \n",
      " 40  rougher_input_floatbank10_sulfate                   19439 non-null  float64       \n",
      " 41  rougher_input_floatbank10_xanthate                  19439 non-null  float64       \n",
      " 42  rougher_input_floatbank11_sulfate                   19439 non-null  float64       \n",
      " 43  rougher_input_floatbank11_xanthate                  19439 non-null  float64       \n",
      " 44  rougher_output_concentrate_ag                       19439 non-null  float64       \n",
      " 45  rougher_output_concentrate_pb                       19439 non-null  float64       \n",
      " 46  rougher_output_concentrate_sol                      19439 non-null  float64       \n",
      " 47  rougher_output_concentrate_au                       19439 non-null  float64       \n",
      " 48  rougher_output_recovery                             19439 non-null  float64       \n",
      " 49  rougher_output_tail_ag                              19439 non-null  float64       \n",
      " 50  rougher_output_tail_pb                              19439 non-null  float64       \n",
      " 51  rougher_output_tail_sol                             19439 non-null  float64       \n",
      " 52  rougher_output_tail_au                              19439 non-null  float64       \n",
      " 53  rougher_state_floatbank10_a_air                     19439 non-null  float64       \n",
      " 54  rougher_state_floatbank10_a_level                   19439 non-null  float64       \n",
      " 55  rougher_state_floatbank10_b_air                     19439 non-null  float64       \n",
      " 56  rougher_state_floatbank10_b_level                   19439 non-null  float64       \n",
      " 57  rougher_state_floatbank10_c_air                     19439 non-null  float64       \n",
      " 58  rougher_state_floatbank10_c_level                   19439 non-null  float64       \n",
      " 59  rougher_state_floatbank10_d_air                     19439 non-null  float64       \n",
      " 60  rougher_state_floatbank10_d_level                   19439 non-null  float64       \n",
      " 61  rougher_state_floatbank10_e_air                     19439 non-null  float64       \n",
      " 62  rougher_state_floatbank10_e_level                   19439 non-null  float64       \n",
      " 63  rougher_state_floatbank10_f_air                     19439 non-null  float64       \n",
      " 64  rougher_state_floatbank10_f_level                   19439 non-null  float64       \n",
      " 65  secondary_cleaner_output_tail_ag                    19439 non-null  float64       \n",
      " 66  secondary_cleaner_output_tail_pb                    19439 non-null  float64       \n",
      " 67  secondary_cleaner_output_tail_sol                   19439 non-null  float64       \n",
      " 68  secondary_cleaner_output_tail_au                    19439 non-null  float64       \n",
      " 69  secondary_cleaner_state_floatbank2_a_air            19439 non-null  float64       \n",
      " 70  secondary_cleaner_state_floatbank2_a_level          19439 non-null  float64       \n",
      " 71  secondary_cleaner_state_floatbank2_b_air            19439 non-null  float64       \n",
      " 72  secondary_cleaner_state_floatbank2_b_level          19439 non-null  float64       \n",
      " 73  secondary_cleaner_state_floatbank3_a_air            19439 non-null  float64       \n",
      " 74  secondary_cleaner_state_floatbank3_a_level          19439 non-null  float64       \n",
      " 75  secondary_cleaner_state_floatbank3_b_air            19439 non-null  float64       \n",
      " 76  secondary_cleaner_state_floatbank3_b_level          19439 non-null  float64       \n",
      " 77  secondary_cleaner_state_floatbank4_a_air            19439 non-null  float64       \n",
      " 78  secondary_cleaner_state_floatbank4_a_level          19439 non-null  float64       \n",
      " 79  secondary_cleaner_state_floatbank4_b_air            19439 non-null  float64       \n",
      " 80  secondary_cleaner_state_floatbank4_b_level          19439 non-null  float64       \n",
      " 81  secondary_cleaner_state_floatbank5_a_air            19439 non-null  float64       \n",
      " 82  secondary_cleaner_state_floatbank5_a_level          19439 non-null  float64       \n",
      " 83  secondary_cleaner_state_floatbank5_b_air            19439 non-null  float64       \n",
      " 84  secondary_cleaner_state_floatbank5_b_level          19439 non-null  float64       \n",
      " 85  secondary_cleaner_state_floatbank6_a_air            19439 non-null  float64       \n",
      " 86  secondary_cleaner_state_floatbank6_a_level          19439 non-null  float64       \n",
      "dtypes: datetime64[ns](1), float64(86)\n",
      "memory usage: 12.9 MB\n"
     ]
    }
   ],
   "source": [
    "gold_full.info()"
   ]
  },
  {
   "cell_type": "code",
   "execution_count": 46,
   "id": "6b0999a0",
   "metadata": {},
   "outputs": [
    {
     "data": {
      "text/plain": [
       "date                                            0\n",
       "primary_cleaner_input_feed_size                 0\n",
       "rougher_state_floatbank10_c_level              16\n",
       "rougher_state_floatbank10_d_level              16\n",
       "rougher_state_floatbank10_e_level              16\n",
       "rougher_state_floatbank10_f_level              16\n",
       "secondary_cleaner_state_floatbank2_a_level     16\n",
       "secondary_cleaner_state_floatbank2_b_level     16\n",
       "secondary_cleaner_state_floatbank3_a_level     16\n",
       "secondary_cleaner_state_floatbank3_b_air       16\n",
       "secondary_cleaner_state_floatbank3_b_level     16\n",
       "secondary_cleaner_state_floatbank4_a_air       16\n",
       "secondary_cleaner_state_floatbank4_a_level     16\n",
       "secondary_cleaner_state_floatbank4_b_air       16\n",
       "secondary_cleaner_state_floatbank4_b_level     16\n",
       "secondary_cleaner_state_floatbank5_a_air       16\n",
       "secondary_cleaner_state_floatbank5_a_level     16\n",
       "secondary_cleaner_state_floatbank5_b_air       16\n",
       "secondary_cleaner_state_floatbank5_b_level     16\n",
       "secondary_cleaner_state_floatbank6_a_air       16\n",
       "rougher_state_floatbank10_a_level              16\n",
       "rougher_state_floatbank10_b_level              16\n",
       "secondary_cleaner_state_floatbank6_a_level     16\n",
       "primary_cleaner_state_floatbank8_c_level       16\n",
       "rougher_input_feed_ag                          16\n",
       "primary_cleaner_state_floatbank8_c_air         16\n",
       "rougher_input_feed_pb                          16\n",
       "primary_cleaner_state_floatbank8_b_level       16\n",
       "primary_cleaner_state_floatbank8_d_level       16\n",
       "primary_cleaner_state_floatbank8_b_air         16\n",
       "primary_cleaner_state_floatbank8_d_air         16\n",
       "rougher_input_feed_au                          16\n",
       "primary_cleaner_state_floatbank8_a_level       16\n",
       "primary_cleaner_state_floatbank8_a_air         16\n",
       "rougher_state_floatbank10_f_air                17\n",
       "rougher_state_floatbank10_c_air                17\n",
       "rougher_state_floatbank10_b_air                17\n",
       "rougher_state_floatbank10_a_air                17\n",
       "rougher_state_floatbank10_d_air                17\n",
       "rougher_state_floatbank10_e_air                17\n",
       "secondary_cleaner_state_floatbank2_a_air       20\n",
       "rougher_input_feed_size                        22\n",
       "secondary_cleaner_state_floatbank2_b_air       23\n",
       "secondary_cleaner_state_floatbank3_a_air       34\n",
       "rougher_input_feed_rate                        40\n",
       "rougher_input_floatbank11_sulfate              55\n",
       "rougher_input_feed_sol                         67\n",
       "rougher_input_floatbank10_xanthate            123\n",
       "primary_cleaner_input_xanthate                166\n",
       "rougher_input_floatbank10_sulfate             257\n",
       "primary_cleaner_input_depressant              284\n",
       "primary_cleaner_input_sulfate                 302\n",
       "rougher_input_floatbank11_xanthate            353\n",
       "dtype: int64"
      ]
     },
     "execution_count": 46,
     "metadata": {},
     "output_type": "execute_result"
    }
   ],
   "source": [
    "gold_test.isna().sum().sort_values()"
   ]
  },
  {
   "cell_type": "code",
   "execution_count": 47,
   "id": "0deceb6a",
   "metadata": {},
   "outputs": [
    {
     "data": {
      "text/plain": [
       "date                                          0\n",
       "rougher_state_floatbank10_c_level             0\n",
       "rougher_state_floatbank10_d_air               0\n",
       "rougher_state_floatbank10_d_level             0\n",
       "rougher_state_floatbank10_e_air               0\n",
       "rougher_state_floatbank10_e_level             0\n",
       "rougher_state_floatbank10_f_air               0\n",
       "rougher_state_floatbank10_f_level             0\n",
       "secondary_cleaner_state_floatbank2_a_air      0\n",
       "secondary_cleaner_state_floatbank2_a_level    0\n",
       "secondary_cleaner_state_floatbank2_b_air      0\n",
       "secondary_cleaner_state_floatbank2_b_level    0\n",
       "secondary_cleaner_state_floatbank3_a_air      0\n",
       "secondary_cleaner_state_floatbank3_a_level    0\n",
       "secondary_cleaner_state_floatbank3_b_air      0\n",
       "secondary_cleaner_state_floatbank3_b_level    0\n",
       "secondary_cleaner_state_floatbank4_a_air      0\n",
       "secondary_cleaner_state_floatbank4_a_level    0\n",
       "secondary_cleaner_state_floatbank4_b_air      0\n",
       "secondary_cleaner_state_floatbank4_b_level    0\n",
       "secondary_cleaner_state_floatbank5_a_air      0\n",
       "secondary_cleaner_state_floatbank5_a_level    0\n",
       "secondary_cleaner_state_floatbank5_b_air      0\n",
       "secondary_cleaner_state_floatbank5_b_level    0\n",
       "rougher_state_floatbank10_c_air               0\n",
       "secondary_cleaner_state_floatbank6_a_air      0\n",
       "rougher_state_floatbank10_b_level             0\n",
       "rougher_state_floatbank10_a_level             0\n",
       "primary_cleaner_input_sulfate                 0\n",
       "primary_cleaner_input_depressant              0\n",
       "primary_cleaner_input_feed_size               0\n",
       "primary_cleaner_input_xanthate                0\n",
       "primary_cleaner_state_floatbank8_a_air        0\n",
       "primary_cleaner_state_floatbank8_a_level      0\n",
       "primary_cleaner_state_floatbank8_b_air        0\n",
       "primary_cleaner_state_floatbank8_b_level      0\n",
       "primary_cleaner_state_floatbank8_c_air        0\n",
       "primary_cleaner_state_floatbank8_c_level      0\n",
       "primary_cleaner_state_floatbank8_d_air        0\n",
       "primary_cleaner_state_floatbank8_d_level      0\n",
       "rougher_input_feed_ag                         0\n",
       "rougher_input_feed_pb                         0\n",
       "rougher_input_feed_rate                       0\n",
       "rougher_input_feed_size                       0\n",
       "rougher_input_feed_sol                        0\n",
       "rougher_input_feed_au                         0\n",
       "rougher_input_floatbank10_sulfate             0\n",
       "rougher_input_floatbank10_xanthate            0\n",
       "rougher_input_floatbank11_sulfate             0\n",
       "rougher_input_floatbank11_xanthate            0\n",
       "rougher_state_floatbank10_a_air               0\n",
       "rougher_state_floatbank10_b_air               0\n",
       "secondary_cleaner_state_floatbank6_a_level    0\n",
       "dtype: int64"
      ]
     },
     "execution_count": 47,
     "metadata": {},
     "output_type": "execute_result"
    }
   ],
   "source": [
    "#Test df also has some NaN values in the features that we need to fill in.\n",
    "#Do the same NaN treatment as above for test set\n",
    "gold_test = gold_test.fillna(method='ffill') \n",
    "gold_test.isna().sum().sort_values()"
   ]
  },
  {
   "cell_type": "markdown",
   "id": "3c17a809",
   "metadata": {},
   "source": [
    "#### Checking for duplicates since we fill in or deleted all NaN values in all 3 dfs. "
   ]
  },
  {
   "cell_type": "code",
   "execution_count": 48,
   "id": "0fdf14c5",
   "metadata": {},
   "outputs": [
    {
     "data": {
      "text/plain": [
       "0"
      ]
     },
     "metadata": {},
     "output_type": "display_data"
    },
    {
     "data": {
      "text/plain": [
       "0"
      ]
     },
     "metadata": {},
     "output_type": "display_data"
    },
    {
     "data": {
      "text/plain": [
       "0"
      ]
     },
     "metadata": {},
     "output_type": "display_data"
    }
   ],
   "source": [
    "display(gold_full.duplicated().sum()) #checking for duplicate rows and there is zero\n",
    "display(gold_train.duplicated().sum())\n",
    "display(gold_test.duplicated().sum())"
   ]
  },
  {
   "cell_type": "markdown",
   "id": "2da1a863",
   "metadata": {},
   "source": [
    "We at least don't have any duplicates. "
   ]
  },
  {
   "cell_type": "code",
   "execution_count": 49,
   "id": "b46c8454",
   "metadata": {},
   "outputs": [
    {
     "data": {
      "text/plain": [
       "14149"
      ]
     },
     "metadata": {},
     "output_type": "display_data"
    },
    {
     "data": {
      "text/plain": [
       "14149"
      ]
     },
     "execution_count": 49,
     "metadata": {},
     "output_type": "execute_result"
    }
   ],
   "source": [
    "display(gold_train.date.nunique()) #Making sure date is unique\n",
    "gold_train.shape[0]"
   ]
  },
  {
   "cell_type": "code",
   "execution_count": 50,
   "id": "16dd5495",
   "metadata": {},
   "outputs": [
    {
     "data": {
      "text/plain": [
       "5856"
      ]
     },
     "metadata": {},
     "output_type": "display_data"
    },
    {
     "data": {
      "text/plain": [
       "5856"
      ]
     },
     "execution_count": 50,
     "metadata": {},
     "output_type": "execute_result"
    }
   ],
   "source": [
    "display(gold_test.date.nunique())\n",
    "gold_test.shape[0]"
   ]
  },
  {
   "cell_type": "code",
   "execution_count": 51,
   "id": "1966c881",
   "metadata": {},
   "outputs": [
    {
     "data": {
      "text/plain": [
       "19439"
      ]
     },
     "metadata": {},
     "output_type": "display_data"
    },
    {
     "data": {
      "text/plain": [
       "19439"
      ]
     },
     "execution_count": 51,
     "metadata": {},
     "output_type": "execute_result"
    }
   ],
   "source": [
    "display(gold_full.date.nunique()) #all dates and times are unique but keeping the index an integer for slicing\n",
    "gold_full.shape[0]"
   ]
  },
  {
   "cell_type": "markdown",
   "id": "d6459fad",
   "metadata": {},
   "source": [
    "#### All dates and times are unique but keeping the index an integer for slicing"
   ]
  },
  {
   "cell_type": "markdown",
   "id": "07ec1740",
   "metadata": {},
   "source": [
    "\n",
    "## 1.2 Check that recovery is calculated correctly. Using the training set, calculate recovery for the rougher.output.recovery feature.  <a id='recovery'></a>\n",
    "\n",
    "[Back to Contents](#back)"
   ]
  },
  {
   "cell_type": "markdown",
   "id": "fb68296f",
   "metadata": {},
   "source": [
    "Formula Recovery (rougher) = C X (F- T) / F X (C- T) times 100%"
   ]
  },
  {
   "cell_type": "markdown",
   "id": "be67ba7b",
   "metadata": {},
   "source": [
    "    C = rougher.output.concentrate_au\n",
    "    F = rougher.input.feed_au\n",
    "    T = rougher.output.tail_au"
   ]
  },
  {
   "cell_type": "code",
   "execution_count": 52,
   "id": "563c73a1",
   "metadata": {},
   "outputs": [
    {
     "name": "stdout",
     "output_type": "stream",
     "text": [
      "18.08913441686854\n"
     ]
    }
   ],
   "source": [
    "C_1 = gold_train['rougher_output_concentrate_au'][22] #looking at one specific example of the recovery elements in the formula.\n",
    "print(C_1)"
   ]
  },
  {
   "cell_type": "code",
   "execution_count": 53,
   "id": "041435d0",
   "metadata": {},
   "outputs": [],
   "source": [
    "F_1 = gold_train['rougher_input_feed_au'][22]"
   ]
  },
  {
   "cell_type": "code",
   "execution_count": 54,
   "id": "16d214ca",
   "metadata": {},
   "outputs": [
    {
     "name": "stdout",
     "output_type": "stream",
     "text": [
      "6.610731589104098\n"
     ]
    }
   ],
   "source": [
    "print(F_1)"
   ]
  },
  {
   "cell_type": "code",
   "execution_count": 55,
   "id": "be3c032e",
   "metadata": {},
   "outputs": [
    {
     "name": "stdout",
     "output_type": "stream",
     "text": [
      "1.1572872723473442\n"
     ]
    }
   ],
   "source": [
    "T_1 = gold_train['rougher_output_tail_au'][22]\n",
    "print(T_1)"
   ]
  },
  {
   "cell_type": "code",
   "execution_count": 56,
   "id": "8f9feb5b",
   "metadata": {},
   "outputs": [],
   "source": [
    "Recovery_rougher = ((C_1 * (F_1-T_1) )/ (F_1 * (C_1-T_1))) *100"
   ]
  },
  {
   "cell_type": "code",
   "execution_count": 57,
   "id": "af207e86",
   "metadata": {},
   "outputs": [
    {
     "name": "stdout",
     "output_type": "stream",
     "text": [
      "88.1322394406157\n"
     ]
    }
   ],
   "source": [
    "print(Recovery_rougher)"
   ]
  },
  {
   "cell_type": "code",
   "execution_count": 58,
   "id": "5ee8505a",
   "metadata": {},
   "outputs": [
    {
     "data": {
      "text/plain": [
       "88.1322394406157"
      ]
     },
     "execution_count": 58,
     "metadata": {},
     "output_type": "execute_result"
    }
   ],
   "source": [
    "gold_train['rougher_output_recovery'][22] # Checking if my formula works for one row of the data frame"
   ]
  },
  {
   "cell_type": "code",
   "execution_count": 59,
   "id": "9d96f1f2",
   "metadata": {},
   "outputs": [],
   "source": [
    "def recovery_au (C, F, T):\n",
    "    if (C-T) == 0 or F==0:\n",
    "        return\n",
    "    else:\n",
    "        rec = ((C * (F-T) )/ (F * (C-T))) *100\n",
    "        return rec"
   ]
  },
  {
   "cell_type": "code",
   "execution_count": 60,
   "id": "d154cdd3",
   "metadata": {},
   "outputs": [
    {
     "name": "stdout",
     "output_type": "stream",
     "text": [
      "88.1322394406157\n"
     ]
    }
   ],
   "source": [
    "print(recovery_au(C_1, F_1,T_1)) #Checking if function I wrote works"
   ]
  },
  {
   "cell_type": "code",
   "execution_count": 61,
   "id": "1ea7dda9",
   "metadata": {},
   "outputs": [],
   "source": [
    "#applying the function to all rows of data in the train df. \n",
    "gold_train['rougher_output_recovery_check'] = gold_train.apply(lambda x: recovery_au (x['rougher_output_concentrate_au'],x['rougher_input_feed_au'],x['rougher_output_tail_au']), axis=1)                                                            \n",
    "                                                              \n",
    "                            "
   ]
  },
  {
   "cell_type": "code",
   "execution_count": 62,
   "id": "2a7b9dba",
   "metadata": {},
   "outputs": [
    {
     "data": {
      "text/plain": [
       "0"
      ]
     },
     "execution_count": 62,
     "metadata": {},
     "output_type": "execute_result"
    }
   ],
   "source": [
    "\n",
    "gold_train['rougher_output_recovery_check'].isna().sum()"
   ]
  },
  {
   "cell_type": "code",
   "execution_count": 63,
   "id": "35ea7f39",
   "metadata": {},
   "outputs": [
    {
     "data": {
      "text/plain": [
       "14149"
      ]
     },
     "execution_count": 63,
     "metadata": {},
     "output_type": "execute_result"
    }
   ],
   "source": [
    "gold_train['rougher_output_recovery_check'][gold_train['rougher_output_recovery_check'].isna()==False].count()"
   ]
  },
  {
   "cell_type": "code",
   "execution_count": 64,
   "id": "54176a98",
   "metadata": {
    "scrolled": true
   },
   "outputs": [
    {
     "data": {
      "text/plain": [
       "(14149, 88)"
      ]
     },
     "execution_count": 64,
     "metadata": {},
     "output_type": "execute_result"
    }
   ],
   "source": [
    "gold_train.shape"
   ]
  },
  {
   "cell_type": "markdown",
   "id": "db450606",
   "metadata": {},
   "source": [
    "I see that there are some NaN values in my rougher_output_recovery_check"
   ]
  },
  {
   "cell_type": "markdown",
   "id": "343ff32f",
   "metadata": {},
   "source": [
    "#### Some calculations resulted in a division by zero so I am dropping those rows (where check has NaN) before I get the mae value."
   ]
  },
  {
   "cell_type": "code",
   "execution_count": 65,
   "id": "48b1720f",
   "metadata": {},
   "outputs": [
    {
     "data": {
      "text/plain": [
       "(14149, 88)"
      ]
     },
     "execution_count": 65,
     "metadata": {},
     "output_type": "execute_result"
    }
   ],
   "source": [
    "#gold_full = gold_full[~gold_full['final_output_recovery'].isna()]\n",
    "gold_train_mae = gold_train[~gold_train['rougher_output_recovery_check'].isna()]\n",
    "gold_train_mae.shape"
   ]
  },
  {
   "cell_type": "code",
   "execution_count": 66,
   "id": "a9416e6d",
   "metadata": {},
   "outputs": [
    {
     "data": {
      "text/html": [
       "<div>\n",
       "<style scoped>\n",
       "    .dataframe tbody tr th:only-of-type {\n",
       "        vertical-align: middle;\n",
       "    }\n",
       "\n",
       "    .dataframe tbody tr th {\n",
       "        vertical-align: top;\n",
       "    }\n",
       "\n",
       "    .dataframe thead th {\n",
       "        text-align: right;\n",
       "    }\n",
       "</style>\n",
       "<table border=\"1\" class=\"dataframe\">\n",
       "  <thead>\n",
       "    <tr style=\"text-align: right;\">\n",
       "      <th></th>\n",
       "      <th>rougher_output_recovery</th>\n",
       "      <th>rougher_output_recovery_check</th>\n",
       "    </tr>\n",
       "  </thead>\n",
       "  <tbody>\n",
       "    <tr>\n",
       "      <th>0</th>\n",
       "      <td>87.107763</td>\n",
       "      <td>87.107763</td>\n",
       "    </tr>\n",
       "    <tr>\n",
       "      <th>1</th>\n",
       "      <td>86.843261</td>\n",
       "      <td>86.843261</td>\n",
       "    </tr>\n",
       "    <tr>\n",
       "      <th>2</th>\n",
       "      <td>86.842308</td>\n",
       "      <td>86.842308</td>\n",
       "    </tr>\n",
       "    <tr>\n",
       "      <th>3</th>\n",
       "      <td>87.226430</td>\n",
       "      <td>87.226430</td>\n",
       "    </tr>\n",
       "    <tr>\n",
       "      <th>4</th>\n",
       "      <td>86.688794</td>\n",
       "      <td>86.688794</td>\n",
       "    </tr>\n",
       "    <tr>\n",
       "      <th>...</th>\n",
       "      <td>...</td>\n",
       "      <td>...</td>\n",
       "    </tr>\n",
       "    <tr>\n",
       "      <th>14144</th>\n",
       "      <td>89.574376</td>\n",
       "      <td>89.574376</td>\n",
       "    </tr>\n",
       "    <tr>\n",
       "      <th>14145</th>\n",
       "      <td>87.724007</td>\n",
       "      <td>87.724007</td>\n",
       "    </tr>\n",
       "    <tr>\n",
       "      <th>14146</th>\n",
       "      <td>88.890579</td>\n",
       "      <td>88.890579</td>\n",
       "    </tr>\n",
       "    <tr>\n",
       "      <th>14147</th>\n",
       "      <td>89.858126</td>\n",
       "      <td>89.858126</td>\n",
       "    </tr>\n",
       "    <tr>\n",
       "      <th>14148</th>\n",
       "      <td>89.514960</td>\n",
       "      <td>89.514960</td>\n",
       "    </tr>\n",
       "  </tbody>\n",
       "</table>\n",
       "<p>14149 rows × 2 columns</p>\n",
       "</div>"
      ],
      "text/plain": [
       "       rougher_output_recovery  rougher_output_recovery_check\n",
       "0                    87.107763                      87.107763\n",
       "1                    86.843261                      86.843261\n",
       "2                    86.842308                      86.842308\n",
       "3                    87.226430                      87.226430\n",
       "4                    86.688794                      86.688794\n",
       "...                        ...                            ...\n",
       "14144                89.574376                      89.574376\n",
       "14145                87.724007                      87.724007\n",
       "14146                88.890579                      88.890579\n",
       "14147                89.858126                      89.858126\n",
       "14148                89.514960                      89.514960\n",
       "\n",
       "[14149 rows x 2 columns]"
      ]
     },
     "execution_count": 66,
     "metadata": {},
     "output_type": "execute_result"
    }
   ],
   "source": [
    "gold_train_mae.loc[:,['rougher_output_recovery','rougher_output_recovery_check']] \n",
    "#We can clearly see the formula works below by comparing both columns\n"
   ]
  },
  {
   "cell_type": "code",
   "execution_count": 67,
   "id": "c17834dc",
   "metadata": {},
   "outputs": [
    {
     "data": {
      "text/plain": [
       "9.317053768151204e-15"
      ]
     },
     "execution_count": 67,
     "metadata": {},
     "output_type": "execute_result"
    }
   ],
   "source": [
    "mean_absolute_error(gold_train_mae['rougher_output_recovery'], gold_train_mae['rougher_output_recovery_check'])"
   ]
  },
  {
   "cell_type": "markdown",
   "id": "afb0e3ff",
   "metadata": {},
   "source": [
    "#### The MAE is tiny (error is tiny or just a rounding error) between the original rougher_output_recovery and the rougher_output_recovery_check I calculated with the features available in the data. We can then have confidence that the recovery is correct in the training dataset."
   ]
  },
  {
   "cell_type": "markdown",
   "id": "74d245c2",
   "metadata": {},
   "source": [
    "After checking the MAE and that our formula and function work I am dropping the extra column I added (rougher_output_recovery_check) so it matches for fitting the model."
   ]
  },
  {
   "cell_type": "code",
   "execution_count": 68,
   "id": "71781327",
   "metadata": {},
   "outputs": [],
   "source": [
    "gold_train = gold_train.drop('rougher_output_recovery_check', axis=1) \n",
    "#Dropping the column I added so it matches features in full set"
   ]
  },
  {
   "cell_type": "code",
   "execution_count": 69,
   "id": "e1ca4135",
   "metadata": {},
   "outputs": [
    {
     "data": {
      "text/plain": [
       "(14149, 87)"
      ]
     },
     "execution_count": 69,
     "metadata": {},
     "output_type": "execute_result"
    }
   ],
   "source": [
    "gold_train.shape #Double checking the number of columns or features"
   ]
  },
  {
   "cell_type": "markdown",
   "id": "cfbae78b",
   "metadata": {},
   "source": [
    "## Data Analysis  <a id='2.0'></a>\n",
    "\n",
    "[Back to Contents](#back)"
   ]
  },
  {
   "cell_type": "markdown",
   "id": "6ef95741",
   "metadata": {},
   "source": [
    "### 2.1. Take note of how the concentrations of metals (Au, Ag, Pb) change depending on the purification stage. <a id='2.1'></a>\n",
    "\n",
    "[Back to Contents](#back)"
   ]
  },
  {
   "cell_type": "code",
   "execution_count": 70,
   "id": "2c09a60a",
   "metadata": {},
   "outputs": [
    {
     "name": "stdout",
     "output_type": "stream",
     "text": [
      "['final_output_concentrate_au', 'primary_cleaner_output_concentrate_au', 'rougher_output_concentrate_au']\n"
     ]
    }
   ],
   "source": [
    "\n",
    "gold_list = list(filter(lambda s:\"concentrate_au\" in s,gold_train.columns))\n",
    "print (gold_list)"
   ]
  },
  {
   "cell_type": "code",
   "execution_count": 71,
   "id": "b6bab750",
   "metadata": {},
   "outputs": [
    {
     "data": {
      "text/html": [
       "<div>\n",
       "<style scoped>\n",
       "    .dataframe tbody tr th:only-of-type {\n",
       "        vertical-align: middle;\n",
       "    }\n",
       "\n",
       "    .dataframe tbody tr th {\n",
       "        vertical-align: top;\n",
       "    }\n",
       "\n",
       "    .dataframe thead th {\n",
       "        text-align: right;\n",
       "    }\n",
       "</style>\n",
       "<table border=\"1\" class=\"dataframe\">\n",
       "  <thead>\n",
       "    <tr style=\"text-align: right;\">\n",
       "      <th></th>\n",
       "      <th>final_output_concentrate_au</th>\n",
       "      <th>primary_cleaner_output_concentrate_au</th>\n",
       "      <th>rougher_output_concentrate_au</th>\n",
       "    </tr>\n",
       "  </thead>\n",
       "  <tbody>\n",
       "    <tr>\n",
       "      <th>0</th>\n",
       "      <td>42.192020</td>\n",
       "      <td>34.174427</td>\n",
       "      <td>19.793808</td>\n",
       "    </tr>\n",
       "    <tr>\n",
       "      <th>1</th>\n",
       "      <td>42.701629</td>\n",
       "      <td>34.118526</td>\n",
       "      <td>20.050975</td>\n",
       "    </tr>\n",
       "    <tr>\n",
       "      <th>2</th>\n",
       "      <td>42.657501</td>\n",
       "      <td>33.969464</td>\n",
       "      <td>19.737170</td>\n",
       "    </tr>\n",
       "    <tr>\n",
       "      <th>3</th>\n",
       "      <td>42.689819</td>\n",
       "      <td>28.260743</td>\n",
       "      <td>19.320810</td>\n",
       "    </tr>\n",
       "    <tr>\n",
       "      <th>4</th>\n",
       "      <td>42.774141</td>\n",
       "      <td>33.044932</td>\n",
       "      <td>19.216101</td>\n",
       "    </tr>\n",
       "  </tbody>\n",
       "</table>\n",
       "</div>"
      ],
      "text/plain": [
       "   final_output_concentrate_au  primary_cleaner_output_concentrate_au  \\\n",
       "0                    42.192020                              34.174427   \n",
       "1                    42.701629                              34.118526   \n",
       "2                    42.657501                              33.969464   \n",
       "3                    42.689819                              28.260743   \n",
       "4                    42.774141                              33.044932   \n",
       "\n",
       "   rougher_output_concentrate_au  \n",
       "0                      19.793808  \n",
       "1                      20.050975  \n",
       "2                      19.737170  \n",
       "3                      19.320810  \n",
       "4                      19.216101  "
      ]
     },
     "execution_count": 71,
     "metadata": {},
     "output_type": "execute_result"
    }
   ],
   "source": [
    "gold_train[gold_list].head()"
   ]
  },
  {
   "cell_type": "markdown",
   "id": "f6df3939",
   "metadata": {},
   "source": [
    "*As purification stages progress the concentration of Gold increases. This makes sense since pure gold is the end goal. "
   ]
  },
  {
   "cell_type": "code",
   "execution_count": 72,
   "id": "33f03dd1",
   "metadata": {},
   "outputs": [],
   "source": [
    "silver_list = list(filter(lambda s:\"concentrate_ag\" in s,gold_train.columns))\n"
   ]
  },
  {
   "cell_type": "code",
   "execution_count": 73,
   "id": "f0fd75e2",
   "metadata": {},
   "outputs": [
    {
     "data": {
      "text/html": [
       "<div>\n",
       "<style scoped>\n",
       "    .dataframe tbody tr th:only-of-type {\n",
       "        vertical-align: middle;\n",
       "    }\n",
       "\n",
       "    .dataframe tbody tr th {\n",
       "        vertical-align: top;\n",
       "    }\n",
       "\n",
       "    .dataframe thead th {\n",
       "        text-align: right;\n",
       "    }\n",
       "</style>\n",
       "<table border=\"1\" class=\"dataframe\">\n",
       "  <thead>\n",
       "    <tr style=\"text-align: right;\">\n",
       "      <th></th>\n",
       "      <th>final_output_concentrate_ag</th>\n",
       "      <th>primary_cleaner_output_concentrate_ag</th>\n",
       "      <th>rougher_output_concentrate_ag</th>\n",
       "    </tr>\n",
       "  </thead>\n",
       "  <tbody>\n",
       "    <tr>\n",
       "      <th>0</th>\n",
       "      <td>6.055403</td>\n",
       "      <td>8.547551</td>\n",
       "      <td>11.500771</td>\n",
       "    </tr>\n",
       "    <tr>\n",
       "      <th>1</th>\n",
       "      <td>6.029369</td>\n",
       "      <td>8.558743</td>\n",
       "      <td>11.615865</td>\n",
       "    </tr>\n",
       "    <tr>\n",
       "      <th>2</th>\n",
       "      <td>6.055926</td>\n",
       "      <td>8.603505</td>\n",
       "      <td>11.695753</td>\n",
       "    </tr>\n",
       "    <tr>\n",
       "      <th>3</th>\n",
       "      <td>6.047977</td>\n",
       "      <td>7.221879</td>\n",
       "      <td>11.915047</td>\n",
       "    </tr>\n",
       "    <tr>\n",
       "      <th>4</th>\n",
       "      <td>6.148599</td>\n",
       "      <td>9.089428</td>\n",
       "      <td>12.411054</td>\n",
       "    </tr>\n",
       "  </tbody>\n",
       "</table>\n",
       "</div>"
      ],
      "text/plain": [
       "   final_output_concentrate_ag  primary_cleaner_output_concentrate_ag  \\\n",
       "0                     6.055403                               8.547551   \n",
       "1                     6.029369                               8.558743   \n",
       "2                     6.055926                               8.603505   \n",
       "3                     6.047977                               7.221879   \n",
       "4                     6.148599                               9.089428   \n",
       "\n",
       "   rougher_output_concentrate_ag  \n",
       "0                      11.500771  \n",
       "1                      11.615865  \n",
       "2                      11.695753  \n",
       "3                      11.915047  \n",
       "4                      12.411054  "
      ]
     },
     "execution_count": 73,
     "metadata": {},
     "output_type": "execute_result"
    }
   ],
   "source": [
    "gold_train[silver_list].head()"
   ]
  },
  {
   "cell_type": "markdown",
   "id": "8e1e1f33",
   "metadata": {},
   "source": [
    "*As the purification stage increases the concentration of silver decreases but we will see below."
   ]
  },
  {
   "cell_type": "code",
   "execution_count": 74,
   "id": "68fcca1e",
   "metadata": {},
   "outputs": [
    {
     "name": "stdout",
     "output_type": "stream",
     "text": [
      "['final_output_concentrate_pb', 'primary_cleaner_output_concentrate_pb', 'rougher_output_concentrate_pb']\n"
     ]
    }
   ],
   "source": [
    "lead_list = list(filter(lambda s:\"concentrate_pb\" in s,gold_train.columns))\n",
    "print (lead_list)"
   ]
  },
  {
   "cell_type": "code",
   "execution_count": 75,
   "id": "805cc9cc",
   "metadata": {},
   "outputs": [
    {
     "data": {
      "text/html": [
       "<div>\n",
       "<style scoped>\n",
       "    .dataframe tbody tr th:only-of-type {\n",
       "        vertical-align: middle;\n",
       "    }\n",
       "\n",
       "    .dataframe tbody tr th {\n",
       "        vertical-align: top;\n",
       "    }\n",
       "\n",
       "    .dataframe thead th {\n",
       "        text-align: right;\n",
       "    }\n",
       "</style>\n",
       "<table border=\"1\" class=\"dataframe\">\n",
       "  <thead>\n",
       "    <tr style=\"text-align: right;\">\n",
       "      <th></th>\n",
       "      <th>final_output_concentrate_pb</th>\n",
       "      <th>primary_cleaner_output_concentrate_pb</th>\n",
       "      <th>rougher_output_concentrate_pb</th>\n",
       "    </tr>\n",
       "  </thead>\n",
       "  <tbody>\n",
       "    <tr>\n",
       "      <th>14144</th>\n",
       "      <td>11.356233</td>\n",
       "      <td>12.445966</td>\n",
       "      <td>10.984003</td>\n",
       "    </tr>\n",
       "    <tr>\n",
       "      <th>14145</th>\n",
       "      <td>11.349355</td>\n",
       "      <td>12.623947</td>\n",
       "      <td>10.888213</td>\n",
       "    </tr>\n",
       "    <tr>\n",
       "      <th>14146</th>\n",
       "      <td>11.434366</td>\n",
       "      <td>12.633558</td>\n",
       "      <td>8.955135</td>\n",
       "    </tr>\n",
       "    <tr>\n",
       "      <th>14147</th>\n",
       "      <td>11.625587</td>\n",
       "      <td>12.012378</td>\n",
       "      <td>10.655377</td>\n",
       "    </tr>\n",
       "    <tr>\n",
       "      <th>14148</th>\n",
       "      <td>11.737832</td>\n",
       "      <td>11.650285</td>\n",
       "      <td>10.702148</td>\n",
       "    </tr>\n",
       "  </tbody>\n",
       "</table>\n",
       "</div>"
      ],
      "text/plain": [
       "       final_output_concentrate_pb  primary_cleaner_output_concentrate_pb  \\\n",
       "14144                    11.356233                              12.445966   \n",
       "14145                    11.349355                              12.623947   \n",
       "14146                    11.434366                              12.633558   \n",
       "14147                    11.625587                              12.012378   \n",
       "14148                    11.737832                              11.650285   \n",
       "\n",
       "       rougher_output_concentrate_pb  \n",
       "14144                      10.984003  \n",
       "14145                      10.888213  \n",
       "14146                       8.955135  \n",
       "14147                      10.655377  \n",
       "14148                      10.702148  "
      ]
     },
     "execution_count": 75,
     "metadata": {},
     "output_type": "execute_result"
    }
   ],
   "source": [
    "gold_train[lead_list].tail() #Doing the tail this time"
   ]
  },
  {
   "cell_type": "code",
   "execution_count": null,
   "id": "c5678b44",
   "metadata": {},
   "outputs": [],
   "source": []
  },
  {
   "cell_type": "markdown",
   "id": "4defb813",
   "metadata": {},
   "source": [
    "*I was surprised to see that the decrease of lead or pb is a bit random. First the concentration of pb increases going from rougher to primary_cleaner and then ends somewhere in the middle in the final output. It is surprising for me to see that the final concentration of pb is actually higher in the final stage than at the rougher_output_pb stage."
   ]
  },
  {
   "cell_type": "markdown",
   "id": "68a0899a",
   "metadata": {},
   "source": [
    "### 2.2. Compare the feed particle size distributions in the training set and in the test set. If the distributions vary significantly, the model evaluation will be incorrect. <a id='2.2'></a>\n",
    "\n",
    "[Back to Contents](#back)"
   ]
  },
  {
   "cell_type": "markdown",
   "id": "4d66ed16",
   "metadata": {},
   "source": [
    "*Drawing a histogram and checking mean, median and standard deviation to check if the distribution is normal and both primary_cleaner_input_feed_size and rougher_input_feed_size are similar in distribution and scale for both the test set and the training set. "
   ]
  },
  {
   "cell_type": "code",
   "execution_count": 76,
   "id": "4a007beb",
   "metadata": {},
   "outputs": [
    {
     "data": {
      "text/plain": [
       "count    14149.000000\n",
       "mean         7.322310\n",
       "std          0.614062\n",
       "min          1.080000\n",
       "25%          6.960000\n",
       "50%          7.290000\n",
       "75%          7.700000\n",
       "max         10.470000\n",
       "Name: primary_cleaner_input_feed_size, dtype: float64"
      ]
     },
     "execution_count": 76,
     "metadata": {},
     "output_type": "execute_result"
    },
    {
     "data": {
      "image/png": "[encoded data removed]",
      "text/plain": [
       "<Figure size 432x288 with 1 Axes>"
      ]
     },
     "metadata": {
      "needs_background": "light"
     },
     "output_type": "display_data"
    }
   ],
   "source": [
    "gold_train['primary_cleaner_input_feed_size'].hist(bins=100)\n",
    "gold_train['primary_cleaner_input_feed_size'].describe()"
   ]
  },
  {
   "cell_type": "code",
   "execution_count": 77,
   "id": "38cbf422",
   "metadata": {},
   "outputs": [
    {
     "data": {
      "text/plain": [
       "count    5856.000000\n",
       "mean        7.264651\n",
       "std         0.611526\n",
       "min         5.650000\n",
       "25%         6.885625\n",
       "50%         7.259333\n",
       "75%         7.650000\n",
       "max        15.500000\n",
       "Name: primary_cleaner_input_feed_size, dtype: float64"
      ]
     },
     "execution_count": 77,
     "metadata": {},
     "output_type": "execute_result"
    },
    {
     "data": {
      "image/png": "[encoded data removed]",
      "text/plain": [
       "<Figure size 432x288 with 1 Axes>"
      ]
     },
     "metadata": {
      "needs_background": "light"
     },
     "output_type": "display_data"
    }
   ],
   "source": [
    "gold_test['primary_cleaner_input_feed_size'].hist(bins=100)\n",
    "gold_test['primary_cleaner_input_feed_size'].describe()"
   ]
  },
  {
   "cell_type": "code",
   "execution_count": 78,
   "id": "83059bc6",
   "metadata": {},
   "outputs": [
    {
     "data": {
      "text/plain": [
       "count    14149.000000\n",
       "mean        60.239856\n",
       "std         23.005310\n",
       "min          9.659576\n",
       "25%         48.966751\n",
       "50%         55.269784\n",
       "75%         66.007526\n",
       "max        484.967466\n",
       "Name: rougher_input_feed_size, dtype: float64"
      ]
     },
     "execution_count": 78,
     "metadata": {},
     "output_type": "execute_result"
    },
    {
     "data": {
      "image/png": "[encoded data removed]",
      "text/plain": [
       "<Figure size 432x288 with 1 Axes>"
      ]
     },
     "metadata": {
      "needs_background": "light"
     },
     "output_type": "display_data"
    }
   ],
   "source": [
    "\n",
    "gold_train['rougher_input_feed_size'].hist(bins=100)\n",
    "gold_train['rougher_input_feed_size'].describe()"
   ]
  },
  {
   "cell_type": "code",
   "execution_count": 79,
   "id": "07237d0d",
   "metadata": {},
   "outputs": [
    {
     "data": {
      "text/plain": [
       "count    5856.000000\n",
       "mean       55.898866\n",
       "std        22.707969\n",
       "min         0.046369\n",
       "25%        43.852884\n",
       "50%        49.964796\n",
       "75%        61.628003\n",
       "max       477.445473\n",
       "Name: rougher_input_feed_size, dtype: float64"
      ]
     },
     "execution_count": 79,
     "metadata": {},
     "output_type": "execute_result"
    },
    {
     "data": {
      "image/png": "[encoded data removed]",
      "text/plain": [
       "<Figure size 432x288 with 1 Axes>"
      ]
     },
     "metadata": {
      "needs_background": "light"
     },
     "output_type": "display_data"
    }
   ],
   "source": [
    "gold_test['rougher_input_feed_size'].hist(bins=100)\n",
    "gold_test['rougher_input_feed_size'].describe()"
   ]
  },
  {
   "cell_type": "markdown",
   "id": "0ac9f612",
   "metadata": {},
   "source": [
    "After analyzing the histograms above and looking at mean, median and standard deviation for both metrics in both data sets I can confidently say that the distributions don't vary significantly between both sets so we can continue with our project. "
   ]
  },
  {
   "cell_type": "markdown",
   "id": "d762ff09",
   "metadata": {},
   "source": [
    "### 2.3. Consider the total concentrations of all substances at different stages: raw feed, rougher concentrate, and final concentrate. \n",
    "Do you notice any abnormal values in the total distribution? If you do, is it worth removing such values from both samples? Describe the findings and eliminate anomalies.  <a id='2.3'></a>\n",
    "\n",
    "\n",
    "[Back to Contents](#back)"
   ]
  },
  {
   "cell_type": "markdown",
   "id": "00f516e5",
   "metadata": {},
   "source": [
    "### Freatures we will look at:"
   ]
  },
  {
   "cell_type": "markdown",
   "id": "b0bc092d",
   "metadata": {},
   "source": [
    "final_output_concentrate_ag                               \n",
    "final_output_concentrate_pb                            \n",
    "final_output_concentrate_sol                            \n",
    "final_output_concentrate_au"
   ]
  },
  {
   "cell_type": "markdown",
   "id": "28bd9283",
   "metadata": {},
   "source": [
    "rougher_output_concentrate_ag                             \n",
    "rougher_output_concentrate_pb                          \n",
    "rougher_output_concentrate_sol                     \n",
    "rougher_output_concentrate_au  "
   ]
  },
  {
   "cell_type": "markdown",
   "id": "27212bde",
   "metadata": {},
   "source": [
    "primary_cleaner_output_concentrate_ag                 \n",
    "primary_cleaner_output_concentrate_pb                      \n",
    "primary_cleaner_output_concentrate_sol                     \n",
    "primary_cleaner_output_concentrate_au"
   ]
  },
  {
   "cell_type": "code",
   "execution_count": 80,
   "id": "457e20ea",
   "metadata": {},
   "outputs": [
    {
     "data": {
      "image/png": "[encoded data removed]",
      "text/plain": [
       "<Figure size 1296x1224 with 1 Axes>"
      ]
     },
     "metadata": {
      "needs_background": "light"
     },
     "output_type": "display_data"
    }
   ],
   "source": [
    "plt.subplots(figsize=(18,17)) #Drawing boxplots and histograms since they will help visually look for outliers\n",
    "gold_full.loc[:,['rougher_output_concentrate_ag',\n",
    "'rougher_output_concentrate_pb','rougher_output_concentrate_sol','rougher_output_concentrate_au']].boxplot()\n",
    "plt.title('Concentrate distribution rougher')\n",
    "plt.show()"
   ]
  },
  {
   "cell_type": "code",
   "execution_count": 81,
   "id": "77f923d3",
   "metadata": {},
   "outputs": [
    {
     "data": {
      "text/html": [
       "<div>\n",
       "<style scoped>\n",
       "    .dataframe tbody tr th:only-of-type {\n",
       "        vertical-align: middle;\n",
       "    }\n",
       "\n",
       "    .dataframe tbody tr th {\n",
       "        vertical-align: top;\n",
       "    }\n",
       "\n",
       "    .dataframe thead th {\n",
       "        text-align: right;\n",
       "    }\n",
       "</style>\n",
       "<table border=\"1\" class=\"dataframe\">\n",
       "  <thead>\n",
       "    <tr style=\"text-align: right;\">\n",
       "      <th></th>\n",
       "      <th>rougher_output_concentrate_ag</th>\n",
       "      <th>rougher_output_concentrate_pb</th>\n",
       "      <th>rougher_output_concentrate_sol</th>\n",
       "      <th>rougher_output_concentrate_au</th>\n",
       "    </tr>\n",
       "  </thead>\n",
       "  <tbody>\n",
       "    <tr>\n",
       "      <th>count</th>\n",
       "      <td>19439.000000</td>\n",
       "      <td>19439.000000</td>\n",
       "      <td>19439.000000</td>\n",
       "      <td>19439.000000</td>\n",
       "    </tr>\n",
       "    <tr>\n",
       "      <th>mean</th>\n",
       "      <td>11.994759</td>\n",
       "      <td>7.606272</td>\n",
       "      <td>28.797834</td>\n",
       "      <td>19.772000</td>\n",
       "    </tr>\n",
       "    <tr>\n",
       "      <th>std</th>\n",
       "      <td>2.733862</td>\n",
       "      <td>1.796757</td>\n",
       "      <td>5.957337</td>\n",
       "      <td>3.753600</td>\n",
       "    </tr>\n",
       "    <tr>\n",
       "      <th>min</th>\n",
       "      <td>0.000000</td>\n",
       "      <td>0.000000</td>\n",
       "      <td>0.000000</td>\n",
       "      <td>0.000000</td>\n",
       "    </tr>\n",
       "    <tr>\n",
       "      <th>25%</th>\n",
       "      <td>10.628337</td>\n",
       "      <td>6.725987</td>\n",
       "      <td>27.221408</td>\n",
       "      <td>18.802523</td>\n",
       "    </tr>\n",
       "    <tr>\n",
       "      <th>50%</th>\n",
       "      <td>12.098115</td>\n",
       "      <td>7.742580</td>\n",
       "      <td>29.833638</td>\n",
       "      <td>20.280214</td>\n",
       "    </tr>\n",
       "    <tr>\n",
       "      <th>75%</th>\n",
       "      <td>13.736996</td>\n",
       "      <td>8.565199</td>\n",
       "      <td>32.189139</td>\n",
       "      <td>21.717843</td>\n",
       "    </tr>\n",
       "    <tr>\n",
       "      <th>max</th>\n",
       "      <td>24.480271</td>\n",
       "      <td>13.617072</td>\n",
       "      <td>38.351193</td>\n",
       "      <td>28.824507</td>\n",
       "    </tr>\n",
       "  </tbody>\n",
       "</table>\n",
       "</div>"
      ],
      "text/plain": [
       "       rougher_output_concentrate_ag  rougher_output_concentrate_pb  \\\n",
       "count                   19439.000000                   19439.000000   \n",
       "mean                       11.994759                       7.606272   \n",
       "std                         2.733862                       1.796757   \n",
       "min                         0.000000                       0.000000   \n",
       "25%                        10.628337                       6.725987   \n",
       "50%                        12.098115                       7.742580   \n",
       "75%                        13.736996                       8.565199   \n",
       "max                        24.480271                      13.617072   \n",
       "\n",
       "       rougher_output_concentrate_sol  rougher_output_concentrate_au  \n",
       "count                    19439.000000                   19439.000000  \n",
       "mean                        28.797834                      19.772000  \n",
       "std                          5.957337                       3.753600  \n",
       "min                          0.000000                       0.000000  \n",
       "25%                         27.221408                      18.802523  \n",
       "50%                         29.833638                      20.280214  \n",
       "75%                         32.189139                      21.717843  \n",
       "max                         38.351193                      28.824507  "
      ]
     },
     "execution_count": 81,
     "metadata": {},
     "output_type": "execute_result"
    }
   ],
   "source": [
    "gold_full.loc[:,['rougher_output_concentrate_ag',\n",
    "'rougher_output_concentrate_pb','rougher_output_concentrate_sol','rougher_output_concentrate_au']].describe()"
   ]
  },
  {
   "cell_type": "code",
   "execution_count": 82,
   "id": "3ec3fa44",
   "metadata": {},
   "outputs": [
    {
     "data": {
      "image/png": "[encoded data removed]",
      "text/plain": [
       "<Figure size 1296x1224 with 1 Axes>"
      ]
     },
     "metadata": {
      "needs_background": "light"
     },
     "output_type": "display_data"
    }
   ],
   "source": [
    "plt.subplots(figsize=(18,17))\n",
    "gold_full.loc[:,['primary_cleaner_output_concentrate_ag',\n",
    "'primary_cleaner_output_concentrate_pb','primary_cleaner_output_concentrate_sol','primary_cleaner_output_concentrate_au']].boxplot()\n",
    "plt.title('Concentrate distribution primary_cleaner')\n",
    "plt.show()"
   ]
  },
  {
   "cell_type": "code",
   "execution_count": 83,
   "id": "264b25ef",
   "metadata": {},
   "outputs": [
    {
     "data": {
      "text/html": [
       "<div>\n",
       "<style scoped>\n",
       "    .dataframe tbody tr th:only-of-type {\n",
       "        vertical-align: middle;\n",
       "    }\n",
       "\n",
       "    .dataframe tbody tr th {\n",
       "        vertical-align: top;\n",
       "    }\n",
       "\n",
       "    .dataframe thead th {\n",
       "        text-align: right;\n",
       "    }\n",
       "</style>\n",
       "<table border=\"1\" class=\"dataframe\">\n",
       "  <thead>\n",
       "    <tr style=\"text-align: right;\">\n",
       "      <th></th>\n",
       "      <th>primary_cleaner_output_concentrate_ag</th>\n",
       "      <th>primary_cleaner_output_concentrate_pb</th>\n",
       "      <th>primary_cleaner_output_concentrate_sol</th>\n",
       "      <th>primary_cleaner_output_concentrate_au</th>\n",
       "    </tr>\n",
       "  </thead>\n",
       "  <tbody>\n",
       "    <tr>\n",
       "      <th>count</th>\n",
       "      <td>19439.000000</td>\n",
       "      <td>19439.000000</td>\n",
       "      <td>19439.000000</td>\n",
       "      <td>19439.000000</td>\n",
       "    </tr>\n",
       "    <tr>\n",
       "      <th>mean</th>\n",
       "      <td>8.442408</td>\n",
       "      <td>9.810317</td>\n",
       "      <td>10.392606</td>\n",
       "      <td>32.119400</td>\n",
       "    </tr>\n",
       "    <tr>\n",
       "      <th>std</th>\n",
       "      <td>2.054465</td>\n",
       "      <td>2.572253</td>\n",
       "      <td>3.969018</td>\n",
       "      <td>5.627611</td>\n",
       "    </tr>\n",
       "    <tr>\n",
       "      <th>min</th>\n",
       "      <td>0.000000</td>\n",
       "      <td>0.000000</td>\n",
       "      <td>0.000000</td>\n",
       "      <td>0.000000</td>\n",
       "    </tr>\n",
       "    <tr>\n",
       "      <th>25%</th>\n",
       "      <td>7.263288</td>\n",
       "      <td>8.676500</td>\n",
       "      <td>7.788574</td>\n",
       "      <td>30.463140</td>\n",
       "    </tr>\n",
       "    <tr>\n",
       "      <th>50%</th>\n",
       "      <td>8.507298</td>\n",
       "      <td>10.142270</td>\n",
       "      <td>10.238614</td>\n",
       "      <td>32.841295</td>\n",
       "    </tr>\n",
       "    <tr>\n",
       "      <th>75%</th>\n",
       "      <td>9.809001</td>\n",
       "      <td>11.416298</td>\n",
       "      <td>13.394667</td>\n",
       "      <td>35.048006</td>\n",
       "    </tr>\n",
       "    <tr>\n",
       "      <th>max</th>\n",
       "      <td>16.081632</td>\n",
       "      <td>17.081278</td>\n",
       "      <td>22.458114</td>\n",
       "      <td>45.933934</td>\n",
       "    </tr>\n",
       "  </tbody>\n",
       "</table>\n",
       "</div>"
      ],
      "text/plain": [
       "       primary_cleaner_output_concentrate_ag  \\\n",
       "count                           19439.000000   \n",
       "mean                                8.442408   \n",
       "std                                 2.054465   \n",
       "min                                 0.000000   \n",
       "25%                                 7.263288   \n",
       "50%                                 8.507298   \n",
       "75%                                 9.809001   \n",
       "max                                16.081632   \n",
       "\n",
       "       primary_cleaner_output_concentrate_pb  \\\n",
       "count                           19439.000000   \n",
       "mean                                9.810317   \n",
       "std                                 2.572253   \n",
       "min                                 0.000000   \n",
       "25%                                 8.676500   \n",
       "50%                                10.142270   \n",
       "75%                                11.416298   \n",
       "max                                17.081278   \n",
       "\n",
       "       primary_cleaner_output_concentrate_sol  \\\n",
       "count                            19439.000000   \n",
       "mean                                10.392606   \n",
       "std                                  3.969018   \n",
       "min                                  0.000000   \n",
       "25%                                  7.788574   \n",
       "50%                                 10.238614   \n",
       "75%                                 13.394667   \n",
       "max                                 22.458114   \n",
       "\n",
       "       primary_cleaner_output_concentrate_au  \n",
       "count                           19439.000000  \n",
       "mean                               32.119400  \n",
       "std                                 5.627611  \n",
       "min                                 0.000000  \n",
       "25%                                30.463140  \n",
       "50%                                32.841295  \n",
       "75%                                35.048006  \n",
       "max                                45.933934  "
      ]
     },
     "execution_count": 83,
     "metadata": {},
     "output_type": "execute_result"
    }
   ],
   "source": [
    "gold_full.loc[:,['primary_cleaner_output_concentrate_ag',\n",
    "'primary_cleaner_output_concentrate_pb','primary_cleaner_output_concentrate_sol','primary_cleaner_output_concentrate_au']].describe()"
   ]
  },
  {
   "cell_type": "code",
   "execution_count": 84,
   "id": "6a2d9fd7",
   "metadata": {},
   "outputs": [
    {
     "data": {
      "text/plain": [
       "(14149, 87)"
      ]
     },
     "execution_count": 84,
     "metadata": {},
     "output_type": "execute_result"
    }
   ],
   "source": [
    "gold_train.shape"
   ]
  },
  {
   "cell_type": "code",
   "execution_count": 85,
   "id": "2eb383a1",
   "metadata": {
    "scrolled": true
   },
   "outputs": [
    {
     "data": {
      "image/png": "[encoded data removed]",
      "text/plain": [
       "<Figure size 1296x1224 with 1 Axes>"
      ]
     },
     "metadata": {
      "needs_background": "light"
     },
     "output_type": "display_data"
    }
   ],
   "source": [
    "plt.subplots(figsize=(18,17))\n",
    "gold_full.loc[:,['final_output_concentrate_ag',\n",
    "'final_output_concentrate_pb','final_output_concentrate_sol','final_output_concentrate_au']].boxplot()\n",
    "plt.title('Concentrate distribution')\n",
    "plt.show()"
   ]
  },
  {
   "cell_type": "code",
   "execution_count": 86,
   "id": "ceea66ff",
   "metadata": {},
   "outputs": [
    {
     "data": {
      "text/html": [
       "<div>\n",
       "<style scoped>\n",
       "    .dataframe tbody tr th:only-of-type {\n",
       "        vertical-align: middle;\n",
       "    }\n",
       "\n",
       "    .dataframe tbody tr th {\n",
       "        vertical-align: top;\n",
       "    }\n",
       "\n",
       "    .dataframe thead th {\n",
       "        text-align: right;\n",
       "    }\n",
       "</style>\n",
       "<table border=\"1\" class=\"dataframe\">\n",
       "  <thead>\n",
       "    <tr style=\"text-align: right;\">\n",
       "      <th></th>\n",
       "      <th>final_output_concentrate_ag</th>\n",
       "      <th>final_output_concentrate_pb</th>\n",
       "      <th>final_output_concentrate_sol</th>\n",
       "      <th>final_output_concentrate_au</th>\n",
       "    </tr>\n",
       "  </thead>\n",
       "  <tbody>\n",
       "    <tr>\n",
       "      <th>count</th>\n",
       "      <td>19439.000000</td>\n",
       "      <td>19439.000000</td>\n",
       "      <td>19439.000000</td>\n",
       "      <td>19439.000000</td>\n",
       "    </tr>\n",
       "    <tr>\n",
       "      <th>mean</th>\n",
       "      <td>5.168387</td>\n",
       "      <td>9.978821</td>\n",
       "      <td>9.429902</td>\n",
       "      <td>44.076513</td>\n",
       "    </tr>\n",
       "    <tr>\n",
       "      <th>std</th>\n",
       "      <td>1.372362</td>\n",
       "      <td>1.669228</td>\n",
       "      <td>2.865629</td>\n",
       "      <td>5.129784</td>\n",
       "    </tr>\n",
       "    <tr>\n",
       "      <th>min</th>\n",
       "      <td>0.000000</td>\n",
       "      <td>0.000000</td>\n",
       "      <td>0.000000</td>\n",
       "      <td>0.000000</td>\n",
       "    </tr>\n",
       "    <tr>\n",
       "      <th>25%</th>\n",
       "      <td>4.251000</td>\n",
       "      <td>9.137225</td>\n",
       "      <td>7.662953</td>\n",
       "      <td>43.402215</td>\n",
       "    </tr>\n",
       "    <tr>\n",
       "      <th>50%</th>\n",
       "      <td>5.066039</td>\n",
       "      <td>10.102264</td>\n",
       "      <td>9.184826</td>\n",
       "      <td>45.011244</td>\n",
       "    </tr>\n",
       "    <tr>\n",
       "      <th>75%</th>\n",
       "      <td>5.895401</td>\n",
       "      <td>11.035644</td>\n",
       "      <td>10.920957</td>\n",
       "      <td>46.275313</td>\n",
       "    </tr>\n",
       "    <tr>\n",
       "      <th>max</th>\n",
       "      <td>16.001945</td>\n",
       "      <td>17.031899</td>\n",
       "      <td>19.615720</td>\n",
       "      <td>52.756638</td>\n",
       "    </tr>\n",
       "  </tbody>\n",
       "</table>\n",
       "</div>"
      ],
      "text/plain": [
       "       final_output_concentrate_ag  final_output_concentrate_pb  \\\n",
       "count                 19439.000000                 19439.000000   \n",
       "mean                      5.168387                     9.978821   \n",
       "std                       1.372362                     1.669228   \n",
       "min                       0.000000                     0.000000   \n",
       "25%                       4.251000                     9.137225   \n",
       "50%                       5.066039                    10.102264   \n",
       "75%                       5.895401                    11.035644   \n",
       "max                      16.001945                    17.031899   \n",
       "\n",
       "       final_output_concentrate_sol  final_output_concentrate_au  \n",
       "count                  19439.000000                 19439.000000  \n",
       "mean                       9.429902                    44.076513  \n",
       "std                        2.865629                     5.129784  \n",
       "min                        0.000000                     0.000000  \n",
       "25%                        7.662953                    43.402215  \n",
       "50%                        9.184826                    45.011244  \n",
       "75%                       10.920957                    46.275313  \n",
       "max                       19.615720                    52.756638  "
      ]
     },
     "execution_count": 86,
     "metadata": {},
     "output_type": "execute_result"
    }
   ],
   "source": [
    "gold_full.loc[:,['final_output_concentrate_ag',\n",
    "'final_output_concentrate_pb','final_output_concentrate_sol','final_output_concentrate_au']].describe()"
   ]
  },
  {
   "cell_type": "markdown",
   "id": "0273e763",
   "metadata": {},
   "source": [
    "#### Interim Conclusions: Looking at just the boxplots it would seem that the data has a serious problem with outliers but when you look at the mean and median we can see that outliers are not skewing the data too much. The max values are not more than 3 standard deviations from the mean and median. I will draw some histograms below to drive the point home. "
   ]
  },
  {
   "cell_type": "code",
   "execution_count": 87,
   "id": "c45fab5e",
   "metadata": {},
   "outputs": [
    {
     "data": {
      "image/png": "[encoded data removed]",
      "text/plain": [
       "<Figure size 720x720 with 4 Axes>"
      ]
     },
     "metadata": {
      "needs_background": "light"
     },
     "output_type": "display_data"
    }
   ],
   "source": [
    "\n",
    "gold_full.loc[:,['final_output_concentrate_ag',\n",
    "'final_output_concentrate_pb','final_output_concentrate_sol','final_output_concentrate_au']].hist(bins=100,figsize=(10,10))\n",
    "\n",
    "plt.show()"
   ]
  },
  {
   "cell_type": "code",
   "execution_count": 88,
   "id": "a2afc3b4",
   "metadata": {},
   "outputs": [
    {
     "data": {
      "image/png": "[encoded data removed]",
      "text/plain": [
       "<Figure size 720x720 with 4 Axes>"
      ]
     },
     "metadata": {
      "needs_background": "light"
     },
     "output_type": "display_data"
    }
   ],
   "source": [
    "gold_full.loc[:,['rougher_output_concentrate_ag',\n",
    "'rougher_output_concentrate_pb','rougher_output_concentrate_sol','rougher_output_concentrate_au']].hist(bins=100,figsize=(10,10))\n",
    "\n",
    "plt.show()"
   ]
  },
  {
   "cell_type": "code",
   "execution_count": 89,
   "id": "1e8a7888",
   "metadata": {},
   "outputs": [
    {
     "data": {
      "image/png": "[encoded data removed]",
      "text/plain": [
       "<Figure size 720x720 with 4 Axes>"
      ]
     },
     "metadata": {
      "needs_background": "light"
     },
     "output_type": "display_data"
    }
   ],
   "source": [
    "gold_full.loc[:,['primary_cleaner_output_concentrate_ag',\n",
    "'primary_cleaner_output_concentrate_pb','primary_cleaner_output_concentrate_sol','primary_cleaner_output_concentrate_au']].hist(bins=100,figsize=(10,10))\n",
    "\n",
    "plt.show()"
   ]
  },
  {
   "cell_type": "markdown",
   "id": "c9a58f1e",
   "metadata": {},
   "source": [
    "### Interim Conclusions: I took the full data set since it contains both test and train set. There are some values of zero even in the gold concentrate but I don't think we should remove them or delete them since we want the model to be able to correctly identify and predict when we will have zero gold recovery. "
   ]
  },
  {
   "cell_type": "code",
   "execution_count": 90,
   "id": "fd611951",
   "metadata": {},
   "outputs": [
    {
     "name": "stdout",
     "output_type": "stream",
     "text": [
      "0\n",
      "1\n"
     ]
    }
   ],
   "source": [
    "target = ['rougher_output_recovery', 'final_output_recovery']\n",
    "print(target.index('rougher_output_recovery'))\n",
    "print(target.index('final_output_recovery'))"
   ]
  },
  {
   "cell_type": "markdown",
   "id": "f6460734",
   "metadata": {},
   "source": [
    "## 3 Build the model  <a id='3.0'></a>\n",
    "[Back to Contents](#back)"
   ]
  },
  {
   "cell_type": "markdown",
   "id": "e830acc2",
   "metadata": {},
   "source": [
    "### 3.1. Write a function to calculate the final sMAPE value. <a id='3.1'></a>\n",
    "\n",
    "[Back to Contents](#back)"
   ]
  },
  {
   "cell_type": "code",
   "execution_count": 91,
   "id": "e6e7fcc4",
   "metadata": {},
   "outputs": [],
   "source": [
    "def smape(y_true, y_pred): #define a fuction to calculate smape\n",
    "    frac = np.abs(y_true - y_pred) / ((np.abs(y_true)+np.abs(y_pred))/2)\n",
    "    return np.mean(frac, axis=0)"
   ]
  },
  {
   "cell_type": "code",
   "execution_count": 92,
   "id": "9b541e64",
   "metadata": {},
   "outputs": [],
   "source": [
    "def smape_final(y_true,y_pred): #def a fuction to calculate final smape that uses prev fuction\n",
    "    smape_rougher = smape(y_true[:,target.index('rougher_output_recovery')], y_pred[:,target.index('rougher_output_recovery')])\n",
    "    smape_final = smape(y_true[:,target.index('final_output_recovery')], y_pred[:,target.index('final_output_recovery')])\n",
    "    return 0.25*smape_rougher + 0.75*smape_final"
   ]
  },
  {
   "cell_type": "code",
   "execution_count": 93,
   "id": "33c5d6ff",
   "metadata": {},
   "outputs": [],
   "source": [
    "smape_score = make_scorer(smape_final, greater_is_better=False) #make smape_final a scorer to pass to cross validation functions"
   ]
  },
  {
   "cell_type": "markdown",
   "id": "97ca4dc4",
   "metadata": {},
   "source": [
    "### The first thing we need to do is bring in the targets for the test set from the full set linking on date."
   ]
  },
  {
   "cell_type": "code",
   "execution_count": 94,
   "id": "153db27d",
   "metadata": {},
   "outputs": [],
   "source": [
    "test_dates = gold_test['date']"
   ]
  },
  {
   "cell_type": "code",
   "execution_count": 95,
   "id": "69258e43",
   "metadata": {},
   "outputs": [
    {
     "data": {
      "text/plain": [
       "0      2016-09-01 00:59:59\n",
       "1      2016-09-01 01:59:59\n",
       "2      2016-09-01 02:59:59\n",
       "3      2016-09-01 03:59:59\n",
       "4      2016-09-01 04:59:59\n",
       "               ...        \n",
       "5851   2017-12-31 19:59:59\n",
       "5852   2017-12-31 20:59:59\n",
       "5853   2017-12-31 21:59:59\n",
       "5854   2017-12-31 22:59:59\n",
       "5855   2017-12-31 23:59:59\n",
       "Name: date, Length: 5856, dtype: datetime64[ns]"
      ]
     },
     "execution_count": 95,
     "metadata": {},
     "output_type": "execute_result"
    }
   ],
   "source": [
    "test_dates"
   ]
  },
  {
   "cell_type": "code",
   "execution_count": null,
   "id": "70310380",
   "metadata": {},
   "outputs": [],
   "source": []
  },
  {
   "cell_type": "code",
   "execution_count": 96,
   "id": "6afddac0",
   "metadata": {},
   "outputs": [],
   "source": [
    "new_gold_test = gold_full.query('date in @test_dates') #Getting all features to test the model since the training was done on all features"
   ]
  },
  {
   "cell_type": "code",
   "execution_count": 97,
   "id": "a1bcafc9",
   "metadata": {},
   "outputs": [
    {
     "data": {
      "text/plain": [
       "(5290, 87)"
      ]
     },
     "metadata": {},
     "output_type": "display_data"
    },
    {
     "data": {
      "text/plain": [
       "(5856, 53)"
      ]
     },
     "metadata": {},
     "output_type": "display_data"
    },
    {
     "data": {
      "text/plain": [
       "(19439, 87)"
      ]
     },
     "metadata": {},
     "output_type": "display_data"
    }
   ],
   "source": [
    "display(new_gold_test.shape) #New test set has all 87 features\n",
    "display(gold_test.shape)\n",
    "display(gold_full.shape)"
   ]
  },
  {
   "cell_type": "code",
   "execution_count": 98,
   "id": "38eb03a6",
   "metadata": {},
   "outputs": [
    {
     "data": {
      "text/html": [
       "<div>\n",
       "<style scoped>\n",
       "    .dataframe tbody tr th:only-of-type {\n",
       "        vertical-align: middle;\n",
       "    }\n",
       "\n",
       "    .dataframe tbody tr th {\n",
       "        vertical-align: top;\n",
       "    }\n",
       "\n",
       "    .dataframe thead th {\n",
       "        text-align: right;\n",
       "    }\n",
       "</style>\n",
       "<table border=\"1\" class=\"dataframe\">\n",
       "  <thead>\n",
       "    <tr style=\"text-align: right;\">\n",
       "      <th></th>\n",
       "      <th>date</th>\n",
       "      <th>final_output_concentrate_ag</th>\n",
       "      <th>final_output_concentrate_pb</th>\n",
       "      <th>final_output_concentrate_sol</th>\n",
       "      <th>final_output_concentrate_au</th>\n",
       "      <th>final_output_recovery</th>\n",
       "      <th>final_output_tail_ag</th>\n",
       "      <th>final_output_tail_pb</th>\n",
       "      <th>final_output_tail_sol</th>\n",
       "      <th>final_output_tail_au</th>\n",
       "      <th>...</th>\n",
       "      <th>secondary_cleaner_state_floatbank4_a_air</th>\n",
       "      <th>secondary_cleaner_state_floatbank4_a_level</th>\n",
       "      <th>secondary_cleaner_state_floatbank4_b_air</th>\n",
       "      <th>secondary_cleaner_state_floatbank4_b_level</th>\n",
       "      <th>secondary_cleaner_state_floatbank5_a_air</th>\n",
       "      <th>secondary_cleaner_state_floatbank5_a_level</th>\n",
       "      <th>secondary_cleaner_state_floatbank5_b_air</th>\n",
       "      <th>secondary_cleaner_state_floatbank5_b_level</th>\n",
       "      <th>secondary_cleaner_state_floatbank6_a_air</th>\n",
       "      <th>secondary_cleaner_state_floatbank6_a_level</th>\n",
       "    </tr>\n",
       "  </thead>\n",
       "  <tbody>\n",
       "    <tr>\n",
       "      <th>0</th>\n",
       "      <td>2016-01-15 00:00:00</td>\n",
       "      <td>6.055403</td>\n",
       "      <td>9.889648</td>\n",
       "      <td>5.507324</td>\n",
       "      <td>42.192020</td>\n",
       "      <td>70.541216</td>\n",
       "      <td>10.411962</td>\n",
       "      <td>0.895447</td>\n",
       "      <td>16.904297</td>\n",
       "      <td>2.143149</td>\n",
       "      <td>...</td>\n",
       "      <td>14.016835</td>\n",
       "      <td>-502.488007</td>\n",
       "      <td>12.099931</td>\n",
       "      <td>-504.715942</td>\n",
       "      <td>9.925633</td>\n",
       "      <td>-498.310211</td>\n",
       "      <td>8.079666</td>\n",
       "      <td>-500.470978</td>\n",
       "      <td>14.151341</td>\n",
       "      <td>-605.841980</td>\n",
       "    </tr>\n",
       "    <tr>\n",
       "      <th>1</th>\n",
       "      <td>2016-01-15 01:00:00</td>\n",
       "      <td>6.029369</td>\n",
       "      <td>9.968944</td>\n",
       "      <td>5.257781</td>\n",
       "      <td>42.701629</td>\n",
       "      <td>69.266198</td>\n",
       "      <td>10.462676</td>\n",
       "      <td>0.927452</td>\n",
       "      <td>16.634514</td>\n",
       "      <td>2.224930</td>\n",
       "      <td>...</td>\n",
       "      <td>13.992281</td>\n",
       "      <td>-505.503262</td>\n",
       "      <td>11.950531</td>\n",
       "      <td>-501.331529</td>\n",
       "      <td>10.039245</td>\n",
       "      <td>-500.169983</td>\n",
       "      <td>7.984757</td>\n",
       "      <td>-500.582168</td>\n",
       "      <td>13.998353</td>\n",
       "      <td>-599.787184</td>\n",
       "    </tr>\n",
       "    <tr>\n",
       "      <th>2</th>\n",
       "      <td>2016-01-15 02:00:00</td>\n",
       "      <td>6.055926</td>\n",
       "      <td>10.213995</td>\n",
       "      <td>5.383759</td>\n",
       "      <td>42.657501</td>\n",
       "      <td>68.116445</td>\n",
       "      <td>10.507046</td>\n",
       "      <td>0.953716</td>\n",
       "      <td>16.208849</td>\n",
       "      <td>2.257889</td>\n",
       "      <td>...</td>\n",
       "      <td>14.015015</td>\n",
       "      <td>-502.520901</td>\n",
       "      <td>11.912783</td>\n",
       "      <td>-501.133383</td>\n",
       "      <td>10.070913</td>\n",
       "      <td>-500.129135</td>\n",
       "      <td>8.013877</td>\n",
       "      <td>-500.517572</td>\n",
       "      <td>14.028663</td>\n",
       "      <td>-601.427363</td>\n",
       "    </tr>\n",
       "    <tr>\n",
       "      <th>3</th>\n",
       "      <td>2016-01-15 03:00:00</td>\n",
       "      <td>6.047977</td>\n",
       "      <td>9.977019</td>\n",
       "      <td>4.858634</td>\n",
       "      <td>42.689819</td>\n",
       "      <td>68.347543</td>\n",
       "      <td>10.422762</td>\n",
       "      <td>0.883763</td>\n",
       "      <td>16.532835</td>\n",
       "      <td>2.146849</td>\n",
       "      <td>...</td>\n",
       "      <td>14.036510</td>\n",
       "      <td>-500.857308</td>\n",
       "      <td>11.999550</td>\n",
       "      <td>-501.193686</td>\n",
       "      <td>9.970366</td>\n",
       "      <td>-499.201640</td>\n",
       "      <td>7.977324</td>\n",
       "      <td>-500.255908</td>\n",
       "      <td>14.005551</td>\n",
       "      <td>-599.996129</td>\n",
       "    </tr>\n",
       "    <tr>\n",
       "      <th>4</th>\n",
       "      <td>2016-01-15 04:00:00</td>\n",
       "      <td>6.148599</td>\n",
       "      <td>10.142511</td>\n",
       "      <td>4.939416</td>\n",
       "      <td>42.774141</td>\n",
       "      <td>66.927016</td>\n",
       "      <td>10.360302</td>\n",
       "      <td>0.792826</td>\n",
       "      <td>16.525686</td>\n",
       "      <td>2.055292</td>\n",
       "      <td>...</td>\n",
       "      <td>14.027298</td>\n",
       "      <td>-499.838632</td>\n",
       "      <td>11.953070</td>\n",
       "      <td>-501.053894</td>\n",
       "      <td>9.925709</td>\n",
       "      <td>-501.686727</td>\n",
       "      <td>7.894242</td>\n",
       "      <td>-500.356035</td>\n",
       "      <td>13.996647</td>\n",
       "      <td>-601.496691</td>\n",
       "    </tr>\n",
       "  </tbody>\n",
       "</table>\n",
       "<p>5 rows × 87 columns</p>\n",
       "</div>"
      ],
      "text/plain": [
       "                 date  final_output_concentrate_ag  \\\n",
       "0 2016-01-15 00:00:00                     6.055403   \n",
       "1 2016-01-15 01:00:00                     6.029369   \n",
       "2 2016-01-15 02:00:00                     6.055926   \n",
       "3 2016-01-15 03:00:00                     6.047977   \n",
       "4 2016-01-15 04:00:00                     6.148599   \n",
       "\n",
       "   final_output_concentrate_pb  final_output_concentrate_sol  \\\n",
       "0                     9.889648                      5.507324   \n",
       "1                     9.968944                      5.257781   \n",
       "2                    10.213995                      5.383759   \n",
       "3                     9.977019                      4.858634   \n",
       "4                    10.142511                      4.939416   \n",
       "\n",
       "   final_output_concentrate_au  final_output_recovery  final_output_tail_ag  \\\n",
       "0                    42.192020              70.541216             10.411962   \n",
       "1                    42.701629              69.266198             10.462676   \n",
       "2                    42.657501              68.116445             10.507046   \n",
       "3                    42.689819              68.347543             10.422762   \n",
       "4                    42.774141              66.927016             10.360302   \n",
       "\n",
       "   final_output_tail_pb  final_output_tail_sol  final_output_tail_au  ...  \\\n",
       "0              0.895447              16.904297              2.143149  ...   \n",
       "1              0.927452              16.634514              2.224930  ...   \n",
       "2              0.953716              16.208849              2.257889  ...   \n",
       "3              0.883763              16.532835              2.146849  ...   \n",
       "4              0.792826              16.525686              2.055292  ...   \n",
       "\n",
       "   secondary_cleaner_state_floatbank4_a_air  \\\n",
       "0                                 14.016835   \n",
       "1                                 13.992281   \n",
       "2                                 14.015015   \n",
       "3                                 14.036510   \n",
       "4                                 14.027298   \n",
       "\n",
       "   secondary_cleaner_state_floatbank4_a_level  \\\n",
       "0                                 -502.488007   \n",
       "1                                 -505.503262   \n",
       "2                                 -502.520901   \n",
       "3                                 -500.857308   \n",
       "4                                 -499.838632   \n",
       "\n",
       "   secondary_cleaner_state_floatbank4_b_air  \\\n",
       "0                                 12.099931   \n",
       "1                                 11.950531   \n",
       "2                                 11.912783   \n",
       "3                                 11.999550   \n",
       "4                                 11.953070   \n",
       "\n",
       "   secondary_cleaner_state_floatbank4_b_level  \\\n",
       "0                                 -504.715942   \n",
       "1                                 -501.331529   \n",
       "2                                 -501.133383   \n",
       "3                                 -501.193686   \n",
       "4                                 -501.053894   \n",
       "\n",
       "   secondary_cleaner_state_floatbank5_a_air  \\\n",
       "0                                  9.925633   \n",
       "1                                 10.039245   \n",
       "2                                 10.070913   \n",
       "3                                  9.970366   \n",
       "4                                  9.925709   \n",
       "\n",
       "   secondary_cleaner_state_floatbank5_a_level  \\\n",
       "0                                 -498.310211   \n",
       "1                                 -500.169983   \n",
       "2                                 -500.129135   \n",
       "3                                 -499.201640   \n",
       "4                                 -501.686727   \n",
       "\n",
       "   secondary_cleaner_state_floatbank5_b_air  \\\n",
       "0                                  8.079666   \n",
       "1                                  7.984757   \n",
       "2                                  8.013877   \n",
       "3                                  7.977324   \n",
       "4                                  7.894242   \n",
       "\n",
       "   secondary_cleaner_state_floatbank5_b_level  \\\n",
       "0                                 -500.470978   \n",
       "1                                 -500.582168   \n",
       "2                                 -500.517572   \n",
       "3                                 -500.255908   \n",
       "4                                 -500.356035   \n",
       "\n",
       "   secondary_cleaner_state_floatbank6_a_air  \\\n",
       "0                                 14.151341   \n",
       "1                                 13.998353   \n",
       "2                                 14.028663   \n",
       "3                                 14.005551   \n",
       "4                                 13.996647   \n",
       "\n",
       "   secondary_cleaner_state_floatbank6_a_level  \n",
       "0                                 -605.841980  \n",
       "1                                 -599.787184  \n",
       "2                                 -601.427363  \n",
       "3                                 -599.996129  \n",
       "4                                 -601.496691  \n",
       "\n",
       "[5 rows x 87 columns]"
      ]
     },
     "execution_count": 98,
     "metadata": {},
     "output_type": "execute_result"
    }
   ],
   "source": [
    "gold_train.head()"
   ]
  },
  {
   "cell_type": "code",
   "execution_count": 99,
   "id": "9a61b880",
   "metadata": {},
   "outputs": [
    {
     "data": {
      "text/plain": [
       "53"
      ]
     },
     "metadata": {},
     "output_type": "display_data"
    },
    {
     "data": {
      "text/plain": [
       "52"
      ]
     },
     "metadata": {},
     "output_type": "display_data"
    },
    {
     "name": "stdout",
     "output_type": "stream",
     "text": [
      "['rougher_state_floatbank10_f_level', 'primary_cleaner_state_floatbank8_a_level', 'primary_cleaner_state_floatbank8_a_air', 'primary_cleaner_input_sulfate', 'secondary_cleaner_state_floatbank5_a_level', 'rougher_state_floatbank10_e_level', 'rougher_input_floatbank11_xanthate', 'rougher_input_feed_sol', 'primary_cleaner_state_floatbank8_c_air', 'primary_cleaner_state_floatbank8_d_level', 'rougher_state_floatbank10_a_air', 'primary_cleaner_input_feed_size', 'secondary_cleaner_state_floatbank2_a_level', 'secondary_cleaner_state_floatbank4_a_air', 'secondary_cleaner_state_floatbank6_a_air', 'secondary_cleaner_state_floatbank2_b_level', 'secondary_cleaner_state_floatbank5_a_air', 'primary_cleaner_input_xanthate', 'secondary_cleaner_state_floatbank4_b_air', 'primary_cleaner_state_floatbank8_d_air', 'rougher_state_floatbank10_b_level', 'rougher_state_floatbank10_c_level', 'primary_cleaner_state_floatbank8_b_air', 'secondary_cleaner_state_floatbank5_b_air', 'rougher_input_feed_ag', 'rougher_input_feed_size', 'secondary_cleaner_state_floatbank3_a_air', 'rougher_state_floatbank10_a_level', 'primary_cleaner_state_floatbank8_b_level', 'rougher_input_floatbank10_xanthate', 'rougher_state_floatbank10_b_air', 'rougher_state_floatbank10_d_level', 'rougher_state_floatbank10_e_air', 'secondary_cleaner_state_floatbank4_a_level', 'secondary_cleaner_state_floatbank2_a_air', 'rougher_state_floatbank10_c_air', 'rougher_input_feed_pb', 'rougher_input_floatbank11_sulfate', 'secondary_cleaner_state_floatbank2_b_air', 'rougher_state_floatbank10_f_air', 'rougher_state_floatbank10_d_air', 'rougher_input_feed_au', 'secondary_cleaner_state_floatbank3_b_level', 'secondary_cleaner_state_floatbank3_b_air', 'secondary_cleaner_state_floatbank3_a_level', 'primary_cleaner_input_depressant', 'primary_cleaner_state_floatbank8_c_level', 'secondary_cleaner_state_floatbank5_b_level', 'rougher_input_feed_rate', 'secondary_cleaner_state_floatbank6_a_level', 'rougher_input_floatbank10_sulfate', 'secondary_cleaner_state_floatbank4_b_level']\n"
     ]
    }
   ],
   "source": [
    "features = list(set(gold_train.columns).intersection(set(gold_test.columns)).difference(set(target)))\n",
    "display(len(features))\n",
    "features.remove('date') #dropping date for training and testing models since it is an unique index for each row\n",
    "display(len(features))\n",
    "print(features)"
   ]
  },
  {
   "cell_type": "code",
   "execution_count": 100,
   "id": "2aca5509",
   "metadata": {
    "scrolled": true
   },
   "outputs": [
    {
     "data": {
      "text/plain": [
       "(5856, 53)"
      ]
     },
     "execution_count": 100,
     "metadata": {},
     "output_type": "execute_result"
    }
   ],
   "source": [
    "gold_test.shape"
   ]
  },
  {
   "cell_type": "code",
   "execution_count": 101,
   "id": "0e3eb450",
   "metadata": {},
   "outputs": [
    {
     "data": {
      "text/plain": [
       "52"
      ]
     },
     "execution_count": 101,
     "metadata": {},
     "output_type": "execute_result"
    }
   ],
   "source": [
    "len(features)"
   ]
  },
  {
   "cell_type": "code",
   "execution_count": 102,
   "id": "496a67f0",
   "metadata": {},
   "outputs": [],
   "source": [
    "gold_train = gold_train.dropna()\n",
    "gold_test = gold_test.dropna()\n"
   ]
  },
  {
   "cell_type": "code",
   "execution_count": 103,
   "id": "68198529",
   "metadata": {},
   "outputs": [],
   "source": [
    "#Creating the training/testing features and targets\n",
    "X_train, X_test = gold_train[features].values, new_gold_test[features].values\n",
    "y_train, y_test = gold_train[target].values, new_gold_test[target].values"
   ]
  },
  {
   "cell_type": "markdown",
   "id": "14c619cc",
   "metadata": {},
   "source": [
    "### 3.2 Creating a DummyRegressor to act as a sanity check and a baseline for our ML models. If we can't beat this sMAPE score that just takes the mean for all targets then we don't have a very good model.  <a id='3.2'></a>\n",
    "\n",
    "\n",
    "[Back to Contents](#back)"
   ]
  },
  {
   "cell_type": "markdown",
   "id": "c5f54129",
   "metadata": {},
   "source": [
    "### 3.2 Dummy Regressor\n",
    "[Back to Contents](#back)"
   ]
  },
  {
   "cell_type": "code",
   "execution_count": 104,
   "id": "c7b0753f",
   "metadata": {},
   "outputs": [
    {
     "name": "stdout",
     "output_type": "stream",
     "text": [
      "smape: 0.10289630376021036\n"
     ]
    }
   ],
   "source": [
    "dm = DummyRegressor(strategy='mean').fit(X_train, y_train)\n",
    "y_pred = dm.predict(X_test)\n",
    "print('smape:', smape_final(y_test, y_pred))"
   ]
  },
  {
   "cell_type": "markdown",
   "id": "29ef31de",
   "metadata": {},
   "source": [
    "### 3.3 LinearRegression  <a id='3.3'></a>\n",
    "\n",
    "[Back to Contents](#back)"
   ]
  },
  {
   "cell_type": "code",
   "execution_count": 105,
   "id": "a950efd1",
   "metadata": {
    "scrolled": true
   },
   "outputs": [
    {
     "name": "stdout",
     "output_type": "stream",
     "text": [
      "mean smape: -0.12384596104847154\n"
     ]
    },
    {
     "data": {
      "text/plain": [
       "array([-0.14402642, -0.09993082, -0.12746867, -0.11501761, -0.13278628])"
      ]
     },
     "execution_count": 105,
     "metadata": {},
     "output_type": "execute_result"
    }
   ],
   "source": [
    "lr = LinearRegression().fit(X_train, y_train)\n",
    "scores_lr = cross_val_score(lr, X_train, y_train, cv=5, scoring=smape_score)\n",
    "print(\"mean smape:\", scores_lr.mean())\n",
    "scores_lr"
   ]
  },
  {
   "cell_type": "markdown",
   "id": "0d591908",
   "metadata": {},
   "source": [
    "### 3.4  RandomForestRegressor  <a id='3.4'></a>\n",
    "\n",
    "[Back to Contents](#back)"
   ]
  },
  {
   "cell_type": "code",
   "execution_count": 106,
   "id": "f103f245",
   "metadata": {},
   "outputs": [],
   "source": [
    "#Do the same for RandomForestRegressor\n",
    "rfr_model = RandomForestRegressor(random_state = 2023)\n",
    "\n",
    "search_space_rfr = {'n_estimators': (5,10),\"max_depth\" : [ 3,6,12]\n",
    "                    } #This will be used to try differnet depths and estimators in the randomforest"
   ]
  },
  {
   "cell_type": "code",
   "execution_count": 107,
   "id": "aed9bdd2",
   "metadata": {},
   "outputs": [],
   "source": [
    "G_S_rfr = GridSearchCV(estimator = rfr_model, #RandomForrestRegressor\n",
    "                  param_grid = search_space_rfr, #change the search_space variable for rfr\n",
    "                  scoring=smape_score,\n",
    "                  cv = 5, #cross validation set to 5\n",
    "                  verbose = 4) "
   ]
  },
  {
   "cell_type": "code",
   "execution_count": 108,
   "id": "8bba2278",
   "metadata": {},
   "outputs": [
    {
     "name": "stdout",
     "output_type": "stream",
     "text": [
      "Fitting 5 folds for each of 6 candidates, totalling 30 fits\n",
      "[CV 1/5] END ....................max_depth=3, n_estimators=5; total time=   1.2s\n",
      "[CV 2/5] END ....................max_depth=3, n_estimators=5; total time=   0.8s\n",
      "[CV 3/5] END ....................max_depth=3, n_estimators=5; total time=   0.8s\n",
      "[CV 4/5] END ....................max_depth=3, n_estimators=5; total time=   0.9s\n",
      "[CV 5/5] END ....................max_depth=3, n_estimators=5; total time=   0.8s\n",
      "[CV 1/5] END ...................max_depth=3, n_estimators=10; total time=   1.7s\n",
      "[CV 2/5] END ...................max_depth=3, n_estimators=10; total time=   1.7s\n",
      "[CV 3/5] END ...................max_depth=3, n_estimators=10; total time=   1.7s\n",
      "[CV 4/5] END ...................max_depth=3, n_estimators=10; total time=   1.7s\n",
      "[CV 5/5] END ...................max_depth=3, n_estimators=10; total time=   1.7s\n",
      "[CV 1/5] END ....................max_depth=6, n_estimators=5; total time=   1.6s\n",
      "[CV 2/5] END ....................max_depth=6, n_estimators=5; total time=   1.6s\n",
      "[CV 3/5] END ....................max_depth=6, n_estimators=5; total time=   1.5s\n",
      "[CV 4/5] END ....................max_depth=6, n_estimators=5; total time=   1.6s\n",
      "[CV 5/5] END ....................max_depth=6, n_estimators=5; total time=   1.6s\n",
      "[CV 1/5] END ...................max_depth=6, n_estimators=10; total time=   3.2s\n",
      "[CV 2/5] END ...................max_depth=6, n_estimators=10; total time=   3.1s\n",
      "[CV 3/5] END ...................max_depth=6, n_estimators=10; total time=   3.1s\n",
      "[CV 4/5] END ...................max_depth=6, n_estimators=10; total time=   3.1s\n",
      "[CV 5/5] END ...................max_depth=6, n_estimators=10; total time=   3.2s\n",
      "[CV 1/5] END ...................max_depth=12, n_estimators=5; total time=   2.9s\n",
      "[CV 2/5] END ...................max_depth=12, n_estimators=5; total time=   2.8s\n",
      "[CV 3/5] END ...................max_depth=12, n_estimators=5; total time=   2.7s\n",
      "[CV 4/5] END ...................max_depth=12, n_estimators=5; total time=   2.8s\n",
      "[CV 5/5] END ...................max_depth=12, n_estimators=5; total time=   2.9s\n",
      "[CV 1/5] END ..................max_depth=12, n_estimators=10; total time=   5.7s\n",
      "[CV 2/5] END ..................max_depth=12, n_estimators=10; total time=   5.6s\n",
      "[CV 3/5] END ..................max_depth=12, n_estimators=10; total time=   5.4s\n",
      "[CV 4/5] END ..................max_depth=12, n_estimators=10; total time=   5.7s\n",
      "[CV 5/5] END ..................max_depth=12, n_estimators=10; total time=   5.7s\n"
     ]
    },
    {
     "data": {
      "text/plain": [
       "GridSearchCV(cv=5, estimator=RandomForestRegressor(random_state=2023),\n",
       "             param_grid={'max_depth': [3, 6, 12], 'n_estimators': (5, 10)},\n",
       "             scoring=make_scorer(smape_final, greater_is_better=False),\n",
       "             verbose=4)"
      ]
     },
     "execution_count": 108,
     "metadata": {},
     "output_type": "execute_result"
    }
   ],
   "source": [
    "G_S_rfr.fit(X_train, y_train)"
   ]
  },
  {
   "cell_type": "code",
   "execution_count": 109,
   "id": "9f7e5b2b",
   "metadata": {},
   "outputs": [
    {
     "data": {
      "text/plain": [
       "-0.1051723240075478"
      ]
     },
     "execution_count": 109,
     "metadata": {},
     "output_type": "execute_result"
    }
   ],
   "source": [
    "G_S_rfr.best_score_ #if a tree is good normally a forest is better!"
   ]
  },
  {
   "cell_type": "code",
   "execution_count": 110,
   "id": "67e2b268",
   "metadata": {},
   "outputs": [
    {
     "data": {
      "text/plain": [
       "{'max_depth': 6, 'n_estimators': 10}"
      ]
     },
     "metadata": {},
     "output_type": "display_data"
    }
   ],
   "source": [
    "display(G_S_rfr.best_params_)\n",
    "best_params = G_S_rfr.best_params_"
   ]
  },
  {
   "cell_type": "code",
   "execution_count": 111,
   "id": "b5fec759",
   "metadata": {},
   "outputs": [
    {
     "name": "stdout",
     "output_type": "stream",
     "text": [
      "mean smape: -0.1032567493277764\n"
     ]
    },
    {
     "data": {
      "text/plain": [
       "array([-0.09677851, -0.08862505, -0.1147238 , -0.11490247, -0.10125392])"
      ]
     },
     "execution_count": 111,
     "metadata": {},
     "output_type": "execute_result"
    }
   ],
   "source": [
    "rfr = RandomForestRegressor(**best_params).fit(X_train, y_train) #pass on the best params\n",
    "scores_rfr = cross_val_score(rfr, X_train, y_train, cv=5, scoring=smape_score)\n",
    "\n",
    "print(\"mean smape:\", scores_rfr.mean())\n",
    "scores_rfr"
   ]
  },
  {
   "cell_type": "markdown",
   "id": "832827e9",
   "metadata": {},
   "source": [
    "#### The cross validation improved the sMAPE score but still the LR model seems to be much better."
   ]
  },
  {
   "cell_type": "code",
   "execution_count": 113,
   "id": "601f6b8a",
   "metadata": {},
   "outputs": [
    {
     "data": {
      "text/plain": [
       "0.09441119328544981"
      ]
     },
     "execution_count": 113,
     "metadata": {},
     "output_type": "execute_result"
    }
   ],
   "source": [
    "#Not necessary to do cross validation since we already did this with the training set to get the best hyperparameters.\n",
    "rfr = RandomForestRegressor(**best_params).fit(X_train, y_train) #pass on the best params and fit with train data set\n",
    "y_pred_rfr = rfr.predict(X_test)\n",
    "smape_final(y_test, y_pred_rfr ) #Getting the final sMAPE score"
   ]
  },
  {
   "cell_type": "markdown",
   "id": "44d36bac",
   "metadata": {},
   "source": [
    "## Final Conclusions:  <a id='end'></a>\n",
    "\n",
    "\n",
    "  [Back to Contents](#back)  "
   ]
  },
  {
   "cell_type": "markdown",
   "id": "3ecb12c3",
   "metadata": {},
   "source": [
    "\n",
    "### The best model in now the RandomForestRegressor but it's not much better than the DummyRegressor so I wouldn't feel very confident sharing this  ML model with Zyfra.  But at the very least it's better than just predicting the mean every time so they might be ok with it and they might actually use it to make predictions of gold recovery.  "
   ]
  },
  {
   "cell_type": "markdown",
   "id": "7f4bcfc1",
   "metadata": {},
   "source": [
    "### The mean sMAPE scores for each model are as follows:\n",
    "\n",
    "    DummyRegressor(strategy='mean') = 0.10\n",
    "    LinearRegression() =              0.12 (ignoring the negative sign per sklearn documentation).\n",
    "    \n",
    "    RandomForrestRegressor() =        0.09 (with test set)\n",
    "    \n",
    "    \n",
    "### We can here  see the best  sMAPE score is now for the RandomForrestRegressor when using test set.\n"
   ]
  }
 ],
 "metadata": {
  "kernelspec": {
   "display_name": "Python 3 (ipykernel)",
   "language": "python",
   "name": "python3"
  },
  "language_info": {
   "codemirror_mode": {
    "name": "ipython",
    "version": 3
   },
   "file_extension": ".py",
   "mimetype": "text/x-python",
   "name": "python",
   "nbconvert_exporter": "python",
   "pygments_lexer": "ipython3",
   "version": "3.9.12"
  },
  "toc": {
   "base_numbering": 1,
   "nav_menu": {},
   "number_sections": true,
   "sideBar": true,
   "skip_h1_title": true,
   "title_cell": "Table of Contents",
   "title_sidebar": "Contents",
   "toc_cell": false,
   "toc_position": {},
   "toc_section_display": true,
   "toc_window_display": false
  }
 },
 "nbformat": 4,
 "nbformat_minor": 5
}
