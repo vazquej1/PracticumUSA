{
 "cells": [
  {
   "cell_type": "markdown",
   "id": "a97422bb",
   "metadata": {},
   "source": [
    "### Introduction:\n",
    "\n",
    "The telecom operator Interconnect would like to be able to forecast their churn of clients. If it's discovered that a user is planning to leave, they will be offered promotional codes and special plan options. Interconnect's marketing team has collected some of their clientele's personal data, including information about their plans and contracts."
   ]
  },
  {
   "cell_type": "markdown",
   "id": "dc5fb52d",
   "metadata": {},
   "source": [
    "### Interconnect's services\n",
    "\n",
    "Interconnect mainly provides two types of services:\n",
    "\n",
    "1. Landline communication. The telephone can be connected to several lines simultaneously.\n",
    "2. Internet. The network can be set up via a telephone line (DSL, *digital subscriber line*) or through a fiber optic cable.\n",
    "\n",
    "Some other services the company provides include:\n",
    "\n",
    "- Internet security: antivirus software (*DeviceProtection*) and a malicious website blocker (*OnlineSecurity*)\n",
    "- A dedicated technical support line (*TechSupport*)\n",
    "- Cloud file storage and data backup (*OnlineBackup*)\n",
    "- TV streaming (*StreamingTV*) and a movie directory (*StreamingMovies*)\n",
    "\n",
    "The clients can choose either a monthly payment or sign a 1- or 2-year contract. They can use various payment methods and receive an electronic invoice after a transaction."
   ]
  },
  {
   "cell_type": "code",
   "execution_count": 136,
   "id": "f522be0b",
   "metadata": {},
   "outputs": [],
   "source": [
    "import pandas as pd\n",
    "import numpy as np\n",
    "from sklearn.model_selection import train_test_split\n",
    "from catboost import CatBoostClassifier\n",
    "from sklearn.preprocessing import LabelEncoder\n",
    "from sklearn.metrics import roc_auc_score\n",
    "import lightgbm as lgb\n",
    "from sklearn.metrics import f1_score\n",
    "from sklearn.linear_model import LogisticRegression\n",
    "from sklearn.model_selection import cross_val_score, GridSearchCV\n",
    "from sklearn.ensemble import RandomForestRegressor\n",
    "from imblearn.over_sampling import RandomOverSampler\n",
    "import seaborn as sns\n",
    "import matplotlib.pyplot as plt\n"
   ]
  },
  {
   "cell_type": "markdown",
   "id": "969bf9a9",
   "metadata": {},
   "source": [
    "I will start by reading each csv file one by one then preprossesing each df to merge them into one."
   ]
  },
  {
   "cell_type": "code",
   "execution_count": 137,
   "id": "63444865",
   "metadata": {},
   "outputs": [],
   "source": [
    "try:\n",
    "    df_con = pd.read_csv('datasets/final_project/contract.csv') #read csv file stored locally on my laptop\n",
    "except:\n",
    "    df_con = pd.read_csv('/datasets/final_provider/contract.csv') #make an exception for when I upload the project to Practicum"
   ]
  },
  {
   "cell_type": "code",
   "execution_count": 138,
   "id": "046defdf",
   "metadata": {},
   "outputs": [
    {
     "data": {
      "text/html": [
       "<div>\n",
       "<style scoped>\n",
       "    .dataframe tbody tr th:only-of-type {\n",
       "        vertical-align: middle;\n",
       "    }\n",
       "\n",
       "    .dataframe tbody tr th {\n",
       "        vertical-align: top;\n",
       "    }\n",
       "\n",
       "    .dataframe thead th {\n",
       "        text-align: right;\n",
       "    }\n",
       "</style>\n",
       "<table border=\"1\" class=\"dataframe\">\n",
       "  <thead>\n",
       "    <tr style=\"text-align: right;\">\n",
       "      <th></th>\n",
       "      <th>customerID</th>\n",
       "      <th>BeginDate</th>\n",
       "      <th>EndDate</th>\n",
       "      <th>Type</th>\n",
       "      <th>PaperlessBilling</th>\n",
       "      <th>PaymentMethod</th>\n",
       "      <th>MonthlyCharges</th>\n",
       "      <th>TotalCharges</th>\n",
       "    </tr>\n",
       "  </thead>\n",
       "  <tbody>\n",
       "    <tr>\n",
       "      <th>0</th>\n",
       "      <td>7590-VHVEG</td>\n",
       "      <td>2020-01-01</td>\n",
       "      <td>No</td>\n",
       "      <td>Month-to-month</td>\n",
       "      <td>Yes</td>\n",
       "      <td>Electronic check</td>\n",
       "      <td>29.85</td>\n",
       "      <td>29.85</td>\n",
       "    </tr>\n",
       "    <tr>\n",
       "      <th>1</th>\n",
       "      <td>5575-GNVDE</td>\n",
       "      <td>2017-04-01</td>\n",
       "      <td>No</td>\n",
       "      <td>One year</td>\n",
       "      <td>No</td>\n",
       "      <td>Mailed check</td>\n",
       "      <td>56.95</td>\n",
       "      <td>1889.5</td>\n",
       "    </tr>\n",
       "    <tr>\n",
       "      <th>2</th>\n",
       "      <td>3668-QPYBK</td>\n",
       "      <td>2019-10-01</td>\n",
       "      <td>2019-12-01 00:00:00</td>\n",
       "      <td>Month-to-month</td>\n",
       "      <td>Yes</td>\n",
       "      <td>Mailed check</td>\n",
       "      <td>53.85</td>\n",
       "      <td>108.15</td>\n",
       "    </tr>\n",
       "    <tr>\n",
       "      <th>3</th>\n",
       "      <td>7795-CFOCW</td>\n",
       "      <td>2016-05-01</td>\n",
       "      <td>No</td>\n",
       "      <td>One year</td>\n",
       "      <td>No</td>\n",
       "      <td>Bank transfer (automatic)</td>\n",
       "      <td>42.30</td>\n",
       "      <td>1840.75</td>\n",
       "    </tr>\n",
       "    <tr>\n",
       "      <th>4</th>\n",
       "      <td>9237-HQITU</td>\n",
       "      <td>2019-09-01</td>\n",
       "      <td>2019-11-01 00:00:00</td>\n",
       "      <td>Month-to-month</td>\n",
       "      <td>Yes</td>\n",
       "      <td>Electronic check</td>\n",
       "      <td>70.70</td>\n",
       "      <td>151.65</td>\n",
       "    </tr>\n",
       "  </tbody>\n",
       "</table>\n",
       "</div>"
      ],
      "text/plain": [
       "   customerID   BeginDate              EndDate            Type  \\\n",
       "0  7590-VHVEG  2020-01-01                   No  Month-to-month   \n",
       "1  5575-GNVDE  2017-04-01                   No        One year   \n",
       "2  3668-QPYBK  2019-10-01  2019-12-01 00:00:00  Month-to-month   \n",
       "3  7795-CFOCW  2016-05-01                   No        One year   \n",
       "4  9237-HQITU  2019-09-01  2019-11-01 00:00:00  Month-to-month   \n",
       "\n",
       "  PaperlessBilling              PaymentMethod  MonthlyCharges TotalCharges  \n",
       "0              Yes           Electronic check           29.85        29.85  \n",
       "1               No               Mailed check           56.95       1889.5  \n",
       "2              Yes               Mailed check           53.85       108.15  \n",
       "3               No  Bank transfer (automatic)           42.30      1840.75  \n",
       "4              Yes           Electronic check           70.70       151.65  "
      ]
     },
     "execution_count": 138,
     "metadata": {},
     "output_type": "execute_result"
    }
   ],
   "source": [
    "df_con.head()"
   ]
  },
  {
   "cell_type": "code",
   "execution_count": 139,
   "id": "6abee918",
   "metadata": {},
   "outputs": [
    {
     "name": "stdout",
     "output_type": "stream",
     "text": [
      "<class 'pandas.core.frame.DataFrame'>\n",
      "RangeIndex: 7043 entries, 0 to 7042\n",
      "Data columns (total 8 columns):\n",
      " #   Column            Non-Null Count  Dtype  \n",
      "---  ------            --------------  -----  \n",
      " 0   customerID        7043 non-null   object \n",
      " 1   BeginDate         7043 non-null   object \n",
      " 2   EndDate           7043 non-null   object \n",
      " 3   Type              7043 non-null   object \n",
      " 4   PaperlessBilling  7043 non-null   object \n",
      " 5   PaymentMethod     7043 non-null   object \n",
      " 6   MonthlyCharges    7043 non-null   float64\n",
      " 7   TotalCharges      7043 non-null   object \n",
      "dtypes: float64(1), object(7)\n",
      "memory usage: 440.3+ KB\n"
     ]
    }
   ],
   "source": [
    "df_con.info()"
   ]
  },
  {
   "cell_type": "markdown",
   "id": "fc4edc9d",
   "metadata": {},
   "source": [
    "There are no null values but I do see that the last column of TotalCharges should be of type float since it is an amount of money. Begin and End Dates should not be of type object but I am going to perform some data engineering on them and will convert to date to extract target and to extract the Begin Year."
   ]
  },
  {
   "cell_type": "code",
   "execution_count": 140,
   "id": "37fdf0c9",
   "metadata": {},
   "outputs": [
    {
     "data": {
      "text/html": [
       "<div>\n",
       "<style scoped>\n",
       "    .dataframe tbody tr th:only-of-type {\n",
       "        vertical-align: middle;\n",
       "    }\n",
       "\n",
       "    .dataframe tbody tr th {\n",
       "        vertical-align: top;\n",
       "    }\n",
       "\n",
       "    .dataframe thead th {\n",
       "        text-align: right;\n",
       "    }\n",
       "</style>\n",
       "<table border=\"1\" class=\"dataframe\">\n",
       "  <thead>\n",
       "    <tr style=\"text-align: right;\">\n",
       "      <th></th>\n",
       "      <th>MonthlyCharges</th>\n",
       "    </tr>\n",
       "  </thead>\n",
       "  <tbody>\n",
       "    <tr>\n",
       "      <th>count</th>\n",
       "      <td>7043.000000</td>\n",
       "    </tr>\n",
       "    <tr>\n",
       "      <th>mean</th>\n",
       "      <td>64.761692</td>\n",
       "    </tr>\n",
       "    <tr>\n",
       "      <th>std</th>\n",
       "      <td>30.090047</td>\n",
       "    </tr>\n",
       "    <tr>\n",
       "      <th>min</th>\n",
       "      <td>18.250000</td>\n",
       "    </tr>\n",
       "    <tr>\n",
       "      <th>25%</th>\n",
       "      <td>35.500000</td>\n",
       "    </tr>\n",
       "    <tr>\n",
       "      <th>50%</th>\n",
       "      <td>70.350000</td>\n",
       "    </tr>\n",
       "    <tr>\n",
       "      <th>75%</th>\n",
       "      <td>89.850000</td>\n",
       "    </tr>\n",
       "    <tr>\n",
       "      <th>max</th>\n",
       "      <td>118.750000</td>\n",
       "    </tr>\n",
       "  </tbody>\n",
       "</table>\n",
       "</div>"
      ],
      "text/plain": [
       "       MonthlyCharges\n",
       "count     7043.000000\n",
       "mean        64.761692\n",
       "std         30.090047\n",
       "min         18.250000\n",
       "25%         35.500000\n",
       "50%         70.350000\n",
       "75%         89.850000\n",
       "max        118.750000"
      ]
     },
     "execution_count": 140,
     "metadata": {},
     "output_type": "execute_result"
    }
   ],
   "source": [
    "df_con.describe()"
   ]
  },
  {
   "cell_type": "markdown",
   "id": "26321e62",
   "metadata": {},
   "source": [
    "We know we can deduce or binary target from EndDate so lets see if it is balance or unbalanced. "
   ]
  },
  {
   "cell_type": "code",
   "execution_count": 141,
   "id": "409f3911",
   "metadata": {},
   "outputs": [
    {
     "data": {
      "text/plain": [
       "5174"
      ]
     },
     "execution_count": 141,
     "metadata": {},
     "output_type": "execute_result"
    }
   ],
   "source": [
    "df_con[df_con['EndDate']=='No'].count()[1]"
   ]
  },
  {
   "cell_type": "code",
   "execution_count": 142,
   "id": "cefb44b9",
   "metadata": {},
   "outputs": [
    {
     "data": {
      "text/plain": [
       "1869"
      ]
     },
     "execution_count": 142,
     "metadata": {},
     "output_type": "execute_result"
    }
   ],
   "source": [
    "df_con[df_con['EndDate']!='No'].count()[1]"
   ]
  },
  {
   "cell_type": "code",
   "execution_count": 143,
   "id": "6eed0022",
   "metadata": {},
   "outputs": [
    {
     "data": {
      "text/plain": [
       "0.2653698707936959"
      ]
     },
     "execution_count": 143,
     "metadata": {},
     "output_type": "execute_result"
    }
   ],
   "source": [
    "df_con[df_con['EndDate']!='No'].count()[1]/len(df_con['EndDate'])"
   ]
  },
  {
   "cell_type": "markdown",
   "id": "1fe80e24",
   "metadata": {},
   "source": [
    "The Churn rate is about 26.5% which is quite high for a telecom. This also means the target binary class is unbalanced since the majority of customers do not churn."
   ]
  },
  {
   "cell_type": "code",
   "execution_count": 144,
   "id": "0570542b",
   "metadata": {
    "scrolled": false
   },
   "outputs": [
    {
     "data": {
      "text/html": [
       "<div>\n",
       "<style scoped>\n",
       "    .dataframe tbody tr th:only-of-type {\n",
       "        vertical-align: middle;\n",
       "    }\n",
       "\n",
       "    .dataframe tbody tr th {\n",
       "        vertical-align: top;\n",
       "    }\n",
       "\n",
       "    .dataframe thead th {\n",
       "        text-align: right;\n",
       "    }\n",
       "</style>\n",
       "<table border=\"1\" class=\"dataframe\">\n",
       "  <thead>\n",
       "    <tr style=\"text-align: right;\">\n",
       "      <th></th>\n",
       "      <th>customerID</th>\n",
       "      <th>BeginDate</th>\n",
       "      <th>EndDate</th>\n",
       "      <th>Type</th>\n",
       "      <th>PaperlessBilling</th>\n",
       "      <th>PaymentMethod</th>\n",
       "      <th>MonthlyCharges</th>\n",
       "      <th>TotalCharges</th>\n",
       "    </tr>\n",
       "  </thead>\n",
       "  <tbody>\n",
       "    <tr>\n",
       "      <th>488</th>\n",
       "      <td>4472-LVYGI</td>\n",
       "      <td>2020-02-01</td>\n",
       "      <td>No</td>\n",
       "      <td>Two year</td>\n",
       "      <td>Yes</td>\n",
       "      <td>Bank transfer (automatic)</td>\n",
       "      <td>52.55</td>\n",
       "      <td></td>\n",
       "    </tr>\n",
       "    <tr>\n",
       "      <th>753</th>\n",
       "      <td>3115-CZMZD</td>\n",
       "      <td>2020-02-01</td>\n",
       "      <td>No</td>\n",
       "      <td>Two year</td>\n",
       "      <td>No</td>\n",
       "      <td>Mailed check</td>\n",
       "      <td>20.25</td>\n",
       "      <td></td>\n",
       "    </tr>\n",
       "    <tr>\n",
       "      <th>936</th>\n",
       "      <td>5709-LVOEQ</td>\n",
       "      <td>2020-02-01</td>\n",
       "      <td>No</td>\n",
       "      <td>Two year</td>\n",
       "      <td>No</td>\n",
       "      <td>Mailed check</td>\n",
       "      <td>80.85</td>\n",
       "      <td></td>\n",
       "    </tr>\n",
       "    <tr>\n",
       "      <th>1082</th>\n",
       "      <td>4367-NUYAO</td>\n",
       "      <td>2020-02-01</td>\n",
       "      <td>No</td>\n",
       "      <td>Two year</td>\n",
       "      <td>No</td>\n",
       "      <td>Mailed check</td>\n",
       "      <td>25.75</td>\n",
       "      <td></td>\n",
       "    </tr>\n",
       "    <tr>\n",
       "      <th>1340</th>\n",
       "      <td>1371-DWPAZ</td>\n",
       "      <td>2020-02-01</td>\n",
       "      <td>No</td>\n",
       "      <td>Two year</td>\n",
       "      <td>No</td>\n",
       "      <td>Credit card (automatic)</td>\n",
       "      <td>56.05</td>\n",
       "      <td></td>\n",
       "    </tr>\n",
       "    <tr>\n",
       "      <th>3331</th>\n",
       "      <td>7644-OMVMY</td>\n",
       "      <td>2020-02-01</td>\n",
       "      <td>No</td>\n",
       "      <td>Two year</td>\n",
       "      <td>No</td>\n",
       "      <td>Mailed check</td>\n",
       "      <td>19.85</td>\n",
       "      <td></td>\n",
       "    </tr>\n",
       "    <tr>\n",
       "      <th>3826</th>\n",
       "      <td>3213-VVOLG</td>\n",
       "      <td>2020-02-01</td>\n",
       "      <td>No</td>\n",
       "      <td>Two year</td>\n",
       "      <td>No</td>\n",
       "      <td>Mailed check</td>\n",
       "      <td>25.35</td>\n",
       "      <td></td>\n",
       "    </tr>\n",
       "    <tr>\n",
       "      <th>4380</th>\n",
       "      <td>2520-SGTTA</td>\n",
       "      <td>2020-02-01</td>\n",
       "      <td>No</td>\n",
       "      <td>Two year</td>\n",
       "      <td>No</td>\n",
       "      <td>Mailed check</td>\n",
       "      <td>20.00</td>\n",
       "      <td></td>\n",
       "    </tr>\n",
       "    <tr>\n",
       "      <th>5218</th>\n",
       "      <td>2923-ARZLG</td>\n",
       "      <td>2020-02-01</td>\n",
       "      <td>No</td>\n",
       "      <td>One year</td>\n",
       "      <td>Yes</td>\n",
       "      <td>Mailed check</td>\n",
       "      <td>19.70</td>\n",
       "      <td></td>\n",
       "    </tr>\n",
       "    <tr>\n",
       "      <th>6670</th>\n",
       "      <td>4075-WKNIU</td>\n",
       "      <td>2020-02-01</td>\n",
       "      <td>No</td>\n",
       "      <td>Two year</td>\n",
       "      <td>No</td>\n",
       "      <td>Mailed check</td>\n",
       "      <td>73.35</td>\n",
       "      <td></td>\n",
       "    </tr>\n",
       "    <tr>\n",
       "      <th>6754</th>\n",
       "      <td>2775-SEFEE</td>\n",
       "      <td>2020-02-01</td>\n",
       "      <td>No</td>\n",
       "      <td>Two year</td>\n",
       "      <td>Yes</td>\n",
       "      <td>Bank transfer (automatic)</td>\n",
       "      <td>61.90</td>\n",
       "      <td></td>\n",
       "    </tr>\n",
       "  </tbody>\n",
       "</table>\n",
       "</div>"
      ],
      "text/plain": [
       "      customerID   BeginDate EndDate      Type PaperlessBilling  \\\n",
       "488   4472-LVYGI  2020-02-01      No  Two year              Yes   \n",
       "753   3115-CZMZD  2020-02-01      No  Two year               No   \n",
       "936   5709-LVOEQ  2020-02-01      No  Two year               No   \n",
       "1082  4367-NUYAO  2020-02-01      No  Two year               No   \n",
       "1340  1371-DWPAZ  2020-02-01      No  Two year               No   \n",
       "3331  7644-OMVMY  2020-02-01      No  Two year               No   \n",
       "3826  3213-VVOLG  2020-02-01      No  Two year               No   \n",
       "4380  2520-SGTTA  2020-02-01      No  Two year               No   \n",
       "5218  2923-ARZLG  2020-02-01      No  One year              Yes   \n",
       "6670  4075-WKNIU  2020-02-01      No  Two year               No   \n",
       "6754  2775-SEFEE  2020-02-01      No  Two year              Yes   \n",
       "\n",
       "                  PaymentMethod  MonthlyCharges TotalCharges  \n",
       "488   Bank transfer (automatic)           52.55               \n",
       "753                Mailed check           20.25               \n",
       "936                Mailed check           80.85               \n",
       "1082               Mailed check           25.75               \n",
       "1340    Credit card (automatic)           56.05               \n",
       "3331               Mailed check           19.85               \n",
       "3826               Mailed check           25.35               \n",
       "4380               Mailed check           20.00               \n",
       "5218               Mailed check           19.70               \n",
       "6670               Mailed check           73.35               \n",
       "6754  Bank transfer (automatic)           61.90               "
      ]
     },
     "execution_count": 144,
     "metadata": {},
     "output_type": "execute_result"
    }
   ],
   "source": [
    "df_con.query(\"TotalCharges == ' '\" ) #Looking for empty strings and to replace with zeros."
   ]
  },
  {
   "cell_type": "markdown",
   "id": "cd4b0141",
   "metadata": {},
   "source": [
    "2020-02-01 seems like it is around the date that the data was pulled lets look at the EndDate column as well to confirm."
   ]
  },
  {
   "cell_type": "code",
   "execution_count": 145,
   "id": "8d839fd6",
   "metadata": {},
   "outputs": [],
   "source": [
    "End_Dates = df_con.EndDate[df_con['EndDate']!='No']"
   ]
  },
  {
   "cell_type": "code",
   "execution_count": 146,
   "id": "02b820cb",
   "metadata": {},
   "outputs": [
    {
     "data": {
      "text/plain": [
       "2      2019-12-01 00:00:00\n",
       "4      2019-11-01 00:00:00\n",
       "5      2019-11-01 00:00:00\n",
       "8      2019-11-01 00:00:00\n",
       "13     2019-10-01 00:00:00\n",
       "18     2019-11-01 00:00:00\n",
       "20     2019-12-01 00:00:00\n",
       "22     2019-12-01 00:00:00\n",
       "26     2019-11-01 00:00:00\n",
       "27     2019-12-01 00:00:00\n",
       "29     2019-11-01 00:00:00\n",
       "36     2019-11-01 00:00:00\n",
       "38     2019-12-01 00:00:00\n",
       "39     2019-11-01 00:00:00\n",
       "47     2020-01-01 00:00:00\n",
       "51     2019-12-01 00:00:00\n",
       "53     2019-11-01 00:00:00\n",
       "55     2020-01-01 00:00:00\n",
       "64     2020-01-01 00:00:00\n",
       "80     2019-12-01 00:00:00\n",
       "82     2019-10-01 00:00:00\n",
       "95     2019-12-01 00:00:00\n",
       "97     2019-11-01 00:00:00\n",
       "99     2020-01-01 00:00:00\n",
       "104    2019-11-01 00:00:00\n",
       "110    2019-12-01 00:00:00\n",
       "113    2019-11-01 00:00:00\n",
       "117    2019-12-01 00:00:00\n",
       "122    2019-12-01 00:00:00\n",
       "126    2020-01-01 00:00:00\n",
       "131    2020-01-01 00:00:00\n",
       "133    2020-01-01 00:00:00\n",
       "134    2020-01-01 00:00:00\n",
       "139    2019-11-01 00:00:00\n",
       "141    2019-10-01 00:00:00\n",
       "147    2020-01-01 00:00:00\n",
       "151    2020-01-01 00:00:00\n",
       "161    2019-11-01 00:00:00\n",
       "166    2019-11-01 00:00:00\n",
       "168    2020-01-01 00:00:00\n",
       "171    2020-01-01 00:00:00\n",
       "173    2019-10-01 00:00:00\n",
       "176    2019-10-01 00:00:00\n",
       "177    2020-01-01 00:00:00\n",
       "180    2020-01-01 00:00:00\n",
       "182    2019-10-01 00:00:00\n",
       "184    2019-10-01 00:00:00\n",
       "185    2019-11-01 00:00:00\n",
       "191    2020-01-01 00:00:00\n",
       "207    2020-01-01 00:00:00\n",
       "Name: EndDate, dtype: object"
      ]
     },
     "execution_count": 146,
     "metadata": {},
     "output_type": "execute_result"
    }
   ],
   "source": [
    "End_Dates.head(50)"
   ]
  },
  {
   "cell_type": "markdown",
   "id": "aca9ad14",
   "metadata": {},
   "source": [
    "Seems like all end dates are on the first of each month."
   ]
  },
  {
   "cell_type": "code",
   "execution_count": 147,
   "id": "dc701790",
   "metadata": {
    "scrolled": true
   },
   "outputs": [],
   "source": [
    "End_Dates2 = pd.to_datetime(End_Dates, format='%Y-%m-%d', errors='coerce')"
   ]
  },
  {
   "cell_type": "code",
   "execution_count": 148,
   "id": "fc37255c",
   "metadata": {},
   "outputs": [
    {
     "data": {
      "text/plain": [
       "Timestamp('2020-01-01 00:00:00')"
      ]
     },
     "execution_count": 148,
     "metadata": {},
     "output_type": "execute_result"
    }
   ],
   "source": [
    "End_Dates2.max() #Getting the maximum end date as a marker to determine tenure for customers"
   ]
  },
  {
   "cell_type": "code",
   "execution_count": 149,
   "id": "727355b2",
   "metadata": {},
   "outputs": [],
   "source": [
    "Begin_Dates2 = pd.to_datetime(df_con['BeginDate'] , format='%Y-%m-%d', errors='coerce')"
   ]
  },
  {
   "cell_type": "code",
   "execution_count": 150,
   "id": "1f4b4328",
   "metadata": {},
   "outputs": [
    {
     "data": {
      "text/plain": [
       "Timestamp('2020-02-01 00:00:00')"
      ]
     },
     "execution_count": 150,
     "metadata": {},
     "output_type": "execute_result"
    }
   ],
   "source": [
    "Begin_Dates2.max() #Begin date is higher so I will assume this is the date the data was pulled"
   ]
  },
  {
   "cell_type": "code",
   "execution_count": 151,
   "id": "09e157f5",
   "metadata": {},
   "outputs": [],
   "source": [
    "df_con['TotalCharges']  = df_con['TotalCharges'] .replace(' ', 0) #Replace empty with zero they all have a recent begin date"
   ]
  },
  {
   "cell_type": "code",
   "execution_count": 152,
   "id": "502fcd64",
   "metadata": {},
   "outputs": [],
   "source": [
    "df_con['TotalCharges'] = df_con['TotalCharges'].astype(float) #Change to float."
   ]
  },
  {
   "cell_type": "code",
   "execution_count": 153,
   "id": "40be8d94",
   "metadata": {},
   "outputs": [
    {
     "name": "stdout",
     "output_type": "stream",
     "text": [
      "<class 'pandas.core.frame.DataFrame'>\n",
      "RangeIndex: 7043 entries, 0 to 7042\n",
      "Data columns (total 8 columns):\n",
      " #   Column            Non-Null Count  Dtype  \n",
      "---  ------            --------------  -----  \n",
      " 0   customerID        7043 non-null   object \n",
      " 1   BeginDate         7043 non-null   object \n",
      " 2   EndDate           7043 non-null   object \n",
      " 3   Type              7043 non-null   object \n",
      " 4   PaperlessBilling  7043 non-null   object \n",
      " 5   PaymentMethod     7043 non-null   object \n",
      " 6   MonthlyCharges    7043 non-null   float64\n",
      " 7   TotalCharges      7043 non-null   float64\n",
      "dtypes: float64(2), object(6)\n",
      "memory usage: 440.3+ KB\n"
     ]
    }
   ],
   "source": [
    "df_con.info() #We can see that TotalCharges is now type float."
   ]
  },
  {
   "cell_type": "markdown",
   "id": "e21cb6db",
   "metadata": {},
   "source": [
    "This contract df is very important since it contains our target. If End_Date has an actual date in it then the customer churned. "
   ]
  },
  {
   "cell_type": "code",
   "execution_count": 154,
   "id": "52b6aa49",
   "metadata": {},
   "outputs": [
    {
     "data": {
      "text/plain": [
       "0"
      ]
     },
     "execution_count": 154,
     "metadata": {},
     "output_type": "execute_result"
    }
   ],
   "source": [
    "df_con.duplicated().sum() # No duplicates lets look at the next table."
   ]
  },
  {
   "cell_type": "code",
   "execution_count": 155,
   "id": "d8b3c1a3",
   "metadata": {},
   "outputs": [
    {
     "data": {
      "text/plain": [
       "7043"
      ]
     },
     "execution_count": 155,
     "metadata": {},
     "output_type": "execute_result"
    }
   ],
   "source": [
    "df_con.customerID.nunique()"
   ]
  },
  {
   "cell_type": "code",
   "execution_count": 156,
   "id": "f9258656",
   "metadata": {},
   "outputs": [],
   "source": [
    "try:\n",
    "    df_int = pd.read_csv('datasets/final_project/internet.csv') #read csv file stored locally on my laptop\n",
    "except:\n",
    "    df_int = pd.read_csv('/datasets/final_provider/internet.csv')"
   ]
  },
  {
   "cell_type": "code",
   "execution_count": 157,
   "id": "045304c9",
   "metadata": {},
   "outputs": [
    {
     "data": {
      "text/html": [
       "<div>\n",
       "<style scoped>\n",
       "    .dataframe tbody tr th:only-of-type {\n",
       "        vertical-align: middle;\n",
       "    }\n",
       "\n",
       "    .dataframe tbody tr th {\n",
       "        vertical-align: top;\n",
       "    }\n",
       "\n",
       "    .dataframe thead th {\n",
       "        text-align: right;\n",
       "    }\n",
       "</style>\n",
       "<table border=\"1\" class=\"dataframe\">\n",
       "  <thead>\n",
       "    <tr style=\"text-align: right;\">\n",
       "      <th></th>\n",
       "      <th>customerID</th>\n",
       "      <th>InternetService</th>\n",
       "      <th>OnlineSecurity</th>\n",
       "      <th>OnlineBackup</th>\n",
       "      <th>DeviceProtection</th>\n",
       "      <th>TechSupport</th>\n",
       "      <th>StreamingTV</th>\n",
       "      <th>StreamingMovies</th>\n",
       "    </tr>\n",
       "  </thead>\n",
       "  <tbody>\n",
       "    <tr>\n",
       "      <th>0</th>\n",
       "      <td>7590-VHVEG</td>\n",
       "      <td>DSL</td>\n",
       "      <td>No</td>\n",
       "      <td>Yes</td>\n",
       "      <td>No</td>\n",
       "      <td>No</td>\n",
       "      <td>No</td>\n",
       "      <td>No</td>\n",
       "    </tr>\n",
       "    <tr>\n",
       "      <th>1</th>\n",
       "      <td>5575-GNVDE</td>\n",
       "      <td>DSL</td>\n",
       "      <td>Yes</td>\n",
       "      <td>No</td>\n",
       "      <td>Yes</td>\n",
       "      <td>No</td>\n",
       "      <td>No</td>\n",
       "      <td>No</td>\n",
       "    </tr>\n",
       "    <tr>\n",
       "      <th>2</th>\n",
       "      <td>3668-QPYBK</td>\n",
       "      <td>DSL</td>\n",
       "      <td>Yes</td>\n",
       "      <td>Yes</td>\n",
       "      <td>No</td>\n",
       "      <td>No</td>\n",
       "      <td>No</td>\n",
       "      <td>No</td>\n",
       "    </tr>\n",
       "    <tr>\n",
       "      <th>3</th>\n",
       "      <td>7795-CFOCW</td>\n",
       "      <td>DSL</td>\n",
       "      <td>Yes</td>\n",
       "      <td>No</td>\n",
       "      <td>Yes</td>\n",
       "      <td>Yes</td>\n",
       "      <td>No</td>\n",
       "      <td>No</td>\n",
       "    </tr>\n",
       "    <tr>\n",
       "      <th>4</th>\n",
       "      <td>9237-HQITU</td>\n",
       "      <td>Fiber optic</td>\n",
       "      <td>No</td>\n",
       "      <td>No</td>\n",
       "      <td>No</td>\n",
       "      <td>No</td>\n",
       "      <td>No</td>\n",
       "      <td>No</td>\n",
       "    </tr>\n",
       "  </tbody>\n",
       "</table>\n",
       "</div>"
      ],
      "text/plain": [
       "   customerID InternetService OnlineSecurity OnlineBackup DeviceProtection  \\\n",
       "0  7590-VHVEG             DSL             No          Yes               No   \n",
       "1  5575-GNVDE             DSL            Yes           No              Yes   \n",
       "2  3668-QPYBK             DSL            Yes          Yes               No   \n",
       "3  7795-CFOCW             DSL            Yes           No              Yes   \n",
       "4  9237-HQITU     Fiber optic             No           No               No   \n",
       "\n",
       "  TechSupport StreamingTV StreamingMovies  \n",
       "0          No          No              No  \n",
       "1          No          No              No  \n",
       "2          No          No              No  \n",
       "3         Yes          No              No  \n",
       "4          No          No              No  "
      ]
     },
     "execution_count": 157,
     "metadata": {},
     "output_type": "execute_result"
    }
   ],
   "source": [
    "df_int.head()"
   ]
  },
  {
   "cell_type": "code",
   "execution_count": 158,
   "id": "4d9812aa",
   "metadata": {},
   "outputs": [
    {
     "name": "stdout",
     "output_type": "stream",
     "text": [
      "<class 'pandas.core.frame.DataFrame'>\n",
      "RangeIndex: 5517 entries, 0 to 5516\n",
      "Data columns (total 8 columns):\n",
      " #   Column            Non-Null Count  Dtype \n",
      "---  ------            --------------  ----- \n",
      " 0   customerID        5517 non-null   object\n",
      " 1   InternetService   5517 non-null   object\n",
      " 2   OnlineSecurity    5517 non-null   object\n",
      " 3   OnlineBackup      5517 non-null   object\n",
      " 4   DeviceProtection  5517 non-null   object\n",
      " 5   TechSupport       5517 non-null   object\n",
      " 6   StreamingTV       5517 non-null   object\n",
      " 7   StreamingMovies   5517 non-null   object\n",
      "dtypes: object(8)\n",
      "memory usage: 344.9+ KB\n"
     ]
    }
   ],
   "source": [
    "df_int.info()"
   ]
  },
  {
   "cell_type": "markdown",
   "id": "fcc1d6e5",
   "metadata": {},
   "source": [
    "No null values and all data types look correct. "
   ]
  },
  {
   "cell_type": "code",
   "execution_count": 159,
   "id": "0bb099ac",
   "metadata": {},
   "outputs": [
    {
     "data": {
      "text/plain": [
       "0"
      ]
     },
     "execution_count": 159,
     "metadata": {},
     "output_type": "execute_result"
    }
   ],
   "source": [
    "df_int.duplicated().sum() #No duplicates"
   ]
  },
  {
   "cell_type": "code",
   "execution_count": 160,
   "id": "61e1e089",
   "metadata": {},
   "outputs": [
    {
     "data": {
      "text/plain": [
       "5517"
      ]
     },
     "execution_count": 160,
     "metadata": {},
     "output_type": "execute_result"
    }
   ],
   "source": [
    "df_int.customerID.nunique() #counting unique customers"
   ]
  },
  {
   "cell_type": "markdown",
   "id": "3732396c",
   "metadata": {},
   "source": [
    "We can see that not all customers have internet as well which makes sense. The total customers from the contract table is 7043."
   ]
  },
  {
   "cell_type": "code",
   "execution_count": 161,
   "id": "79e3de54",
   "metadata": {},
   "outputs": [],
   "source": [
    "try:\n",
    "    df_per = pd.read_csv('datasets/final_project/personal.csv') #read csv file stored locally on my laptop\n",
    "except:\n",
    "    df_per = pd.read_csv('/datasets/final_provider/personal.csv')"
   ]
  },
  {
   "cell_type": "code",
   "execution_count": 162,
   "id": "00dad32b",
   "metadata": {},
   "outputs": [
    {
     "data": {
      "text/html": [
       "<div>\n",
       "<style scoped>\n",
       "    .dataframe tbody tr th:only-of-type {\n",
       "        vertical-align: middle;\n",
       "    }\n",
       "\n",
       "    .dataframe tbody tr th {\n",
       "        vertical-align: top;\n",
       "    }\n",
       "\n",
       "    .dataframe thead th {\n",
       "        text-align: right;\n",
       "    }\n",
       "</style>\n",
       "<table border=\"1\" class=\"dataframe\">\n",
       "  <thead>\n",
       "    <tr style=\"text-align: right;\">\n",
       "      <th></th>\n",
       "      <th>customerID</th>\n",
       "      <th>gender</th>\n",
       "      <th>SeniorCitizen</th>\n",
       "      <th>Partner</th>\n",
       "      <th>Dependents</th>\n",
       "    </tr>\n",
       "  </thead>\n",
       "  <tbody>\n",
       "    <tr>\n",
       "      <th>0</th>\n",
       "      <td>7590-VHVEG</td>\n",
       "      <td>Female</td>\n",
       "      <td>0</td>\n",
       "      <td>Yes</td>\n",
       "      <td>No</td>\n",
       "    </tr>\n",
       "    <tr>\n",
       "      <th>1</th>\n",
       "      <td>5575-GNVDE</td>\n",
       "      <td>Male</td>\n",
       "      <td>0</td>\n",
       "      <td>No</td>\n",
       "      <td>No</td>\n",
       "    </tr>\n",
       "    <tr>\n",
       "      <th>2</th>\n",
       "      <td>3668-QPYBK</td>\n",
       "      <td>Male</td>\n",
       "      <td>0</td>\n",
       "      <td>No</td>\n",
       "      <td>No</td>\n",
       "    </tr>\n",
       "    <tr>\n",
       "      <th>3</th>\n",
       "      <td>7795-CFOCW</td>\n",
       "      <td>Male</td>\n",
       "      <td>0</td>\n",
       "      <td>No</td>\n",
       "      <td>No</td>\n",
       "    </tr>\n",
       "    <tr>\n",
       "      <th>4</th>\n",
       "      <td>9237-HQITU</td>\n",
       "      <td>Female</td>\n",
       "      <td>0</td>\n",
       "      <td>No</td>\n",
       "      <td>No</td>\n",
       "    </tr>\n",
       "  </tbody>\n",
       "</table>\n",
       "</div>"
      ],
      "text/plain": [
       "   customerID  gender  SeniorCitizen Partner Dependents\n",
       "0  7590-VHVEG  Female              0     Yes         No\n",
       "1  5575-GNVDE    Male              0      No         No\n",
       "2  3668-QPYBK    Male              0      No         No\n",
       "3  7795-CFOCW    Male              0      No         No\n",
       "4  9237-HQITU  Female              0      No         No"
      ]
     },
     "execution_count": 162,
     "metadata": {},
     "output_type": "execute_result"
    }
   ],
   "source": [
    "df_per.head()"
   ]
  },
  {
   "cell_type": "code",
   "execution_count": 163,
   "id": "40d03754",
   "metadata": {},
   "outputs": [
    {
     "name": "stdout",
     "output_type": "stream",
     "text": [
      "<class 'pandas.core.frame.DataFrame'>\n",
      "RangeIndex: 7043 entries, 0 to 7042\n",
      "Data columns (total 5 columns):\n",
      " #   Column         Non-Null Count  Dtype \n",
      "---  ------         --------------  ----- \n",
      " 0   customerID     7043 non-null   object\n",
      " 1   gender         7043 non-null   object\n",
      " 2   SeniorCitizen  7043 non-null   int64 \n",
      " 3   Partner        7043 non-null   object\n",
      " 4   Dependents     7043 non-null   object\n",
      "dtypes: int64(1), object(4)\n",
      "memory usage: 275.2+ KB\n"
     ]
    }
   ],
   "source": [
    "df_per.info()"
   ]
  },
  {
   "cell_type": "code",
   "execution_count": 164,
   "id": "977a20e4",
   "metadata": {},
   "outputs": [
    {
     "data": {
      "text/plain": [
       "7043"
      ]
     },
     "execution_count": 164,
     "metadata": {},
     "output_type": "execute_result"
    }
   ],
   "source": [
    "df_per.customerID.nunique() #count unique ids and it matches the contract csv file"
   ]
  },
  {
   "cell_type": "code",
   "execution_count": 165,
   "id": "78749fc3",
   "metadata": {},
   "outputs": [
    {
     "data": {
      "text/plain": [
       "0"
      ]
     },
     "execution_count": 165,
     "metadata": {},
     "output_type": "execute_result"
    }
   ],
   "source": [
    "df_per.duplicated().sum()"
   ]
  },
  {
   "cell_type": "code",
   "execution_count": 166,
   "id": "cec10181",
   "metadata": {},
   "outputs": [],
   "source": [
    "try:\n",
    "    df_phn = pd.read_csv('datasets/final_project/phone.csv') #read csv file stored locally on my laptop\n",
    "except:\n",
    "    df_phn = pd.read_csv('/datasets/phone.csv')"
   ]
  },
  {
   "cell_type": "code",
   "execution_count": 167,
   "id": "5cbb9e22",
   "metadata": {},
   "outputs": [
    {
     "data": {
      "text/html": [
       "<div>\n",
       "<style scoped>\n",
       "    .dataframe tbody tr th:only-of-type {\n",
       "        vertical-align: middle;\n",
       "    }\n",
       "\n",
       "    .dataframe tbody tr th {\n",
       "        vertical-align: top;\n",
       "    }\n",
       "\n",
       "    .dataframe thead th {\n",
       "        text-align: right;\n",
       "    }\n",
       "</style>\n",
       "<table border=\"1\" class=\"dataframe\">\n",
       "  <thead>\n",
       "    <tr style=\"text-align: right;\">\n",
       "      <th></th>\n",
       "      <th>customerID</th>\n",
       "      <th>MultipleLines</th>\n",
       "    </tr>\n",
       "  </thead>\n",
       "  <tbody>\n",
       "    <tr>\n",
       "      <th>0</th>\n",
       "      <td>5575-GNVDE</td>\n",
       "      <td>No</td>\n",
       "    </tr>\n",
       "    <tr>\n",
       "      <th>1</th>\n",
       "      <td>3668-QPYBK</td>\n",
       "      <td>No</td>\n",
       "    </tr>\n",
       "    <tr>\n",
       "      <th>2</th>\n",
       "      <td>9237-HQITU</td>\n",
       "      <td>No</td>\n",
       "    </tr>\n",
       "    <tr>\n",
       "      <th>3</th>\n",
       "      <td>9305-CDSKC</td>\n",
       "      <td>Yes</td>\n",
       "    </tr>\n",
       "    <tr>\n",
       "      <th>4</th>\n",
       "      <td>1452-KIOVK</td>\n",
       "      <td>Yes</td>\n",
       "    </tr>\n",
       "  </tbody>\n",
       "</table>\n",
       "</div>"
      ],
      "text/plain": [
       "   customerID MultipleLines\n",
       "0  5575-GNVDE            No\n",
       "1  3668-QPYBK            No\n",
       "2  9237-HQITU            No\n",
       "3  9305-CDSKC           Yes\n",
       "4  1452-KIOVK           Yes"
      ]
     },
     "execution_count": 167,
     "metadata": {},
     "output_type": "execute_result"
    }
   ],
   "source": [
    "df_phn.head()"
   ]
  },
  {
   "cell_type": "code",
   "execution_count": 168,
   "id": "f6dfc4f8",
   "metadata": {},
   "outputs": [
    {
     "name": "stdout",
     "output_type": "stream",
     "text": [
      "<class 'pandas.core.frame.DataFrame'>\n",
      "RangeIndex: 6361 entries, 0 to 6360\n",
      "Data columns (total 2 columns):\n",
      " #   Column         Non-Null Count  Dtype \n",
      "---  ------         --------------  ----- \n",
      " 0   customerID     6361 non-null   object\n",
      " 1   MultipleLines  6361 non-null   object\n",
      "dtypes: object(2)\n",
      "memory usage: 99.5+ KB\n"
     ]
    }
   ],
   "source": [
    "df_phn.info()"
   ]
  },
  {
   "cell_type": "code",
   "execution_count": 169,
   "id": "98728eb3",
   "metadata": {},
   "outputs": [
    {
     "data": {
      "text/plain": [
       "6361"
      ]
     },
     "execution_count": 169,
     "metadata": {},
     "output_type": "execute_result"
    }
   ],
   "source": [
    "df_phn.customerID.nunique() "
   ]
  },
  {
   "cell_type": "markdown",
   "id": "5c350432",
   "metadata": {},
   "source": [
    "Merge the data-frames into one df with all the features."
   ]
  },
  {
   "cell_type": "code",
   "execution_count": 170,
   "id": "0e6fd794",
   "metadata": {},
   "outputs": [],
   "source": [
    "df_mrg = pd.merge(df_con, df_int, on='customerID', how ='left')"
   ]
  },
  {
   "cell_type": "code",
   "execution_count": 171,
   "id": "d837a3e9",
   "metadata": {},
   "outputs": [
    {
     "data": {
      "text/html": [
       "<div>\n",
       "<style scoped>\n",
       "    .dataframe tbody tr th:only-of-type {\n",
       "        vertical-align: middle;\n",
       "    }\n",
       "\n",
       "    .dataframe tbody tr th {\n",
       "        vertical-align: top;\n",
       "    }\n",
       "\n",
       "    .dataframe thead th {\n",
       "        text-align: right;\n",
       "    }\n",
       "</style>\n",
       "<table border=\"1\" class=\"dataframe\">\n",
       "  <thead>\n",
       "    <tr style=\"text-align: right;\">\n",
       "      <th></th>\n",
       "      <th>customerID</th>\n",
       "      <th>BeginDate</th>\n",
       "      <th>EndDate</th>\n",
       "      <th>Type</th>\n",
       "      <th>PaperlessBilling</th>\n",
       "      <th>PaymentMethod</th>\n",
       "      <th>MonthlyCharges</th>\n",
       "      <th>TotalCharges</th>\n",
       "      <th>InternetService</th>\n",
       "      <th>OnlineSecurity</th>\n",
       "      <th>OnlineBackup</th>\n",
       "      <th>DeviceProtection</th>\n",
       "      <th>TechSupport</th>\n",
       "      <th>StreamingTV</th>\n",
       "      <th>StreamingMovies</th>\n",
       "    </tr>\n",
       "  </thead>\n",
       "  <tbody>\n",
       "    <tr>\n",
       "      <th>0</th>\n",
       "      <td>7590-VHVEG</td>\n",
       "      <td>2020-01-01</td>\n",
       "      <td>No</td>\n",
       "      <td>Month-to-month</td>\n",
       "      <td>Yes</td>\n",
       "      <td>Electronic check</td>\n",
       "      <td>29.85</td>\n",
       "      <td>29.85</td>\n",
       "      <td>DSL</td>\n",
       "      <td>No</td>\n",
       "      <td>Yes</td>\n",
       "      <td>No</td>\n",
       "      <td>No</td>\n",
       "      <td>No</td>\n",
       "      <td>No</td>\n",
       "    </tr>\n",
       "    <tr>\n",
       "      <th>1</th>\n",
       "      <td>5575-GNVDE</td>\n",
       "      <td>2017-04-01</td>\n",
       "      <td>No</td>\n",
       "      <td>One year</td>\n",
       "      <td>No</td>\n",
       "      <td>Mailed check</td>\n",
       "      <td>56.95</td>\n",
       "      <td>1889.50</td>\n",
       "      <td>DSL</td>\n",
       "      <td>Yes</td>\n",
       "      <td>No</td>\n",
       "      <td>Yes</td>\n",
       "      <td>No</td>\n",
       "      <td>No</td>\n",
       "      <td>No</td>\n",
       "    </tr>\n",
       "    <tr>\n",
       "      <th>2</th>\n",
       "      <td>3668-QPYBK</td>\n",
       "      <td>2019-10-01</td>\n",
       "      <td>2019-12-01 00:00:00</td>\n",
       "      <td>Month-to-month</td>\n",
       "      <td>Yes</td>\n",
       "      <td>Mailed check</td>\n",
       "      <td>53.85</td>\n",
       "      <td>108.15</td>\n",
       "      <td>DSL</td>\n",
       "      <td>Yes</td>\n",
       "      <td>Yes</td>\n",
       "      <td>No</td>\n",
       "      <td>No</td>\n",
       "      <td>No</td>\n",
       "      <td>No</td>\n",
       "    </tr>\n",
       "    <tr>\n",
       "      <th>3</th>\n",
       "      <td>7795-CFOCW</td>\n",
       "      <td>2016-05-01</td>\n",
       "      <td>No</td>\n",
       "      <td>One year</td>\n",
       "      <td>No</td>\n",
       "      <td>Bank transfer (automatic)</td>\n",
       "      <td>42.30</td>\n",
       "      <td>1840.75</td>\n",
       "      <td>DSL</td>\n",
       "      <td>Yes</td>\n",
       "      <td>No</td>\n",
       "      <td>Yes</td>\n",
       "      <td>Yes</td>\n",
       "      <td>No</td>\n",
       "      <td>No</td>\n",
       "    </tr>\n",
       "    <tr>\n",
       "      <th>4</th>\n",
       "      <td>9237-HQITU</td>\n",
       "      <td>2019-09-01</td>\n",
       "      <td>2019-11-01 00:00:00</td>\n",
       "      <td>Month-to-month</td>\n",
       "      <td>Yes</td>\n",
       "      <td>Electronic check</td>\n",
       "      <td>70.70</td>\n",
       "      <td>151.65</td>\n",
       "      <td>Fiber optic</td>\n",
       "      <td>No</td>\n",
       "      <td>No</td>\n",
       "      <td>No</td>\n",
       "      <td>No</td>\n",
       "      <td>No</td>\n",
       "      <td>No</td>\n",
       "    </tr>\n",
       "    <tr>\n",
       "      <th>5</th>\n",
       "      <td>9305-CDSKC</td>\n",
       "      <td>2019-03-01</td>\n",
       "      <td>2019-11-01 00:00:00</td>\n",
       "      <td>Month-to-month</td>\n",
       "      <td>Yes</td>\n",
       "      <td>Electronic check</td>\n",
       "      <td>99.65</td>\n",
       "      <td>820.50</td>\n",
       "      <td>Fiber optic</td>\n",
       "      <td>No</td>\n",
       "      <td>No</td>\n",
       "      <td>Yes</td>\n",
       "      <td>No</td>\n",
       "      <td>Yes</td>\n",
       "      <td>Yes</td>\n",
       "    </tr>\n",
       "    <tr>\n",
       "      <th>6</th>\n",
       "      <td>1452-KIOVK</td>\n",
       "      <td>2018-04-01</td>\n",
       "      <td>No</td>\n",
       "      <td>Month-to-month</td>\n",
       "      <td>Yes</td>\n",
       "      <td>Credit card (automatic)</td>\n",
       "      <td>89.10</td>\n",
       "      <td>1949.40</td>\n",
       "      <td>Fiber optic</td>\n",
       "      <td>No</td>\n",
       "      <td>Yes</td>\n",
       "      <td>No</td>\n",
       "      <td>No</td>\n",
       "      <td>Yes</td>\n",
       "      <td>No</td>\n",
       "    </tr>\n",
       "    <tr>\n",
       "      <th>7</th>\n",
       "      <td>6713-OKOMC</td>\n",
       "      <td>2019-04-01</td>\n",
       "      <td>No</td>\n",
       "      <td>Month-to-month</td>\n",
       "      <td>No</td>\n",
       "      <td>Mailed check</td>\n",
       "      <td>29.75</td>\n",
       "      <td>301.90</td>\n",
       "      <td>DSL</td>\n",
       "      <td>Yes</td>\n",
       "      <td>No</td>\n",
       "      <td>No</td>\n",
       "      <td>No</td>\n",
       "      <td>No</td>\n",
       "      <td>No</td>\n",
       "    </tr>\n",
       "    <tr>\n",
       "      <th>8</th>\n",
       "      <td>7892-POOKP</td>\n",
       "      <td>2017-07-01</td>\n",
       "      <td>2019-11-01 00:00:00</td>\n",
       "      <td>Month-to-month</td>\n",
       "      <td>Yes</td>\n",
       "      <td>Electronic check</td>\n",
       "      <td>104.80</td>\n",
       "      <td>3046.05</td>\n",
       "      <td>Fiber optic</td>\n",
       "      <td>No</td>\n",
       "      <td>No</td>\n",
       "      <td>Yes</td>\n",
       "      <td>Yes</td>\n",
       "      <td>Yes</td>\n",
       "      <td>Yes</td>\n",
       "    </tr>\n",
       "    <tr>\n",
       "      <th>9</th>\n",
       "      <td>6388-TABGU</td>\n",
       "      <td>2014-12-01</td>\n",
       "      <td>No</td>\n",
       "      <td>One year</td>\n",
       "      <td>No</td>\n",
       "      <td>Bank transfer (automatic)</td>\n",
       "      <td>56.15</td>\n",
       "      <td>3487.95</td>\n",
       "      <td>DSL</td>\n",
       "      <td>Yes</td>\n",
       "      <td>Yes</td>\n",
       "      <td>No</td>\n",
       "      <td>No</td>\n",
       "      <td>No</td>\n",
       "      <td>No</td>\n",
       "    </tr>\n",
       "    <tr>\n",
       "      <th>10</th>\n",
       "      <td>9763-GRSKD</td>\n",
       "      <td>2019-01-01</td>\n",
       "      <td>No</td>\n",
       "      <td>Month-to-month</td>\n",
       "      <td>Yes</td>\n",
       "      <td>Mailed check</td>\n",
       "      <td>49.95</td>\n",
       "      <td>587.45</td>\n",
       "      <td>DSL</td>\n",
       "      <td>Yes</td>\n",
       "      <td>No</td>\n",
       "      <td>No</td>\n",
       "      <td>No</td>\n",
       "      <td>No</td>\n",
       "      <td>No</td>\n",
       "    </tr>\n",
       "    <tr>\n",
       "      <th>11</th>\n",
       "      <td>7469-LKBCI</td>\n",
       "      <td>2018-10-01</td>\n",
       "      <td>No</td>\n",
       "      <td>Two year</td>\n",
       "      <td>No</td>\n",
       "      <td>Credit card (automatic)</td>\n",
       "      <td>18.95</td>\n",
       "      <td>326.80</td>\n",
       "      <td>NaN</td>\n",
       "      <td>NaN</td>\n",
       "      <td>NaN</td>\n",
       "      <td>NaN</td>\n",
       "      <td>NaN</td>\n",
       "      <td>NaN</td>\n",
       "      <td>NaN</td>\n",
       "    </tr>\n",
       "    <tr>\n",
       "      <th>12</th>\n",
       "      <td>8091-TTVAX</td>\n",
       "      <td>2015-04-01</td>\n",
       "      <td>No</td>\n",
       "      <td>One year</td>\n",
       "      <td>No</td>\n",
       "      <td>Credit card (automatic)</td>\n",
       "      <td>100.35</td>\n",
       "      <td>5681.10</td>\n",
       "      <td>Fiber optic</td>\n",
       "      <td>No</td>\n",
       "      <td>No</td>\n",
       "      <td>Yes</td>\n",
       "      <td>No</td>\n",
       "      <td>Yes</td>\n",
       "      <td>Yes</td>\n",
       "    </tr>\n",
       "    <tr>\n",
       "      <th>13</th>\n",
       "      <td>0280-XJGEX</td>\n",
       "      <td>2015-09-01</td>\n",
       "      <td>2019-10-01 00:00:00</td>\n",
       "      <td>Month-to-month</td>\n",
       "      <td>Yes</td>\n",
       "      <td>Bank transfer (automatic)</td>\n",
       "      <td>103.70</td>\n",
       "      <td>5036.30</td>\n",
       "      <td>Fiber optic</td>\n",
       "      <td>No</td>\n",
       "      <td>Yes</td>\n",
       "      <td>Yes</td>\n",
       "      <td>No</td>\n",
       "      <td>Yes</td>\n",
       "      <td>Yes</td>\n",
       "    </tr>\n",
       "    <tr>\n",
       "      <th>14</th>\n",
       "      <td>5129-JLPIS</td>\n",
       "      <td>2018-01-01</td>\n",
       "      <td>No</td>\n",
       "      <td>Month-to-month</td>\n",
       "      <td>Yes</td>\n",
       "      <td>Electronic check</td>\n",
       "      <td>105.50</td>\n",
       "      <td>2686.05</td>\n",
       "      <td>Fiber optic</td>\n",
       "      <td>Yes</td>\n",
       "      <td>No</td>\n",
       "      <td>Yes</td>\n",
       "      <td>Yes</td>\n",
       "      <td>Yes</td>\n",
       "      <td>Yes</td>\n",
       "    </tr>\n",
       "    <tr>\n",
       "      <th>15</th>\n",
       "      <td>3655-SNQYZ</td>\n",
       "      <td>2014-05-01</td>\n",
       "      <td>No</td>\n",
       "      <td>Two year</td>\n",
       "      <td>No</td>\n",
       "      <td>Credit card (automatic)</td>\n",
       "      <td>113.25</td>\n",
       "      <td>7895.15</td>\n",
       "      <td>Fiber optic</td>\n",
       "      <td>Yes</td>\n",
       "      <td>Yes</td>\n",
       "      <td>Yes</td>\n",
       "      <td>Yes</td>\n",
       "      <td>Yes</td>\n",
       "      <td>Yes</td>\n",
       "    </tr>\n",
       "    <tr>\n",
       "      <th>16</th>\n",
       "      <td>8191-XWSZG</td>\n",
       "      <td>2015-10-01</td>\n",
       "      <td>No</td>\n",
       "      <td>One year</td>\n",
       "      <td>No</td>\n",
       "      <td>Mailed check</td>\n",
       "      <td>20.65</td>\n",
       "      <td>1022.95</td>\n",
       "      <td>NaN</td>\n",
       "      <td>NaN</td>\n",
       "      <td>NaN</td>\n",
       "      <td>NaN</td>\n",
       "      <td>NaN</td>\n",
       "      <td>NaN</td>\n",
       "      <td>NaN</td>\n",
       "    </tr>\n",
       "    <tr>\n",
       "      <th>17</th>\n",
       "      <td>9959-WOFKT</td>\n",
       "      <td>2014-03-01</td>\n",
       "      <td>No</td>\n",
       "      <td>Two year</td>\n",
       "      <td>No</td>\n",
       "      <td>Bank transfer (automatic)</td>\n",
       "      <td>106.70</td>\n",
       "      <td>7382.25</td>\n",
       "      <td>Fiber optic</td>\n",
       "      <td>Yes</td>\n",
       "      <td>No</td>\n",
       "      <td>Yes</td>\n",
       "      <td>No</td>\n",
       "      <td>Yes</td>\n",
       "      <td>Yes</td>\n",
       "    </tr>\n",
       "    <tr>\n",
       "      <th>18</th>\n",
       "      <td>4190-MFLUW</td>\n",
       "      <td>2019-01-01</td>\n",
       "      <td>2019-11-01 00:00:00</td>\n",
       "      <td>Month-to-month</td>\n",
       "      <td>No</td>\n",
       "      <td>Credit card (automatic)</td>\n",
       "      <td>55.20</td>\n",
       "      <td>528.35</td>\n",
       "      <td>DSL</td>\n",
       "      <td>No</td>\n",
       "      <td>No</td>\n",
       "      <td>Yes</td>\n",
       "      <td>Yes</td>\n",
       "      <td>No</td>\n",
       "      <td>No</td>\n",
       "    </tr>\n",
       "    <tr>\n",
       "      <th>19</th>\n",
       "      <td>4183-MYFRB</td>\n",
       "      <td>2018-05-01</td>\n",
       "      <td>No</td>\n",
       "      <td>Month-to-month</td>\n",
       "      <td>Yes</td>\n",
       "      <td>Electronic check</td>\n",
       "      <td>90.05</td>\n",
       "      <td>1862.90</td>\n",
       "      <td>Fiber optic</td>\n",
       "      <td>No</td>\n",
       "      <td>Yes</td>\n",
       "      <td>Yes</td>\n",
       "      <td>No</td>\n",
       "      <td>No</td>\n",
       "      <td>Yes</td>\n",
       "    </tr>\n",
       "  </tbody>\n",
       "</table>\n",
       "</div>"
      ],
      "text/plain": [
       "    customerID   BeginDate              EndDate            Type  \\\n",
       "0   7590-VHVEG  2020-01-01                   No  Month-to-month   \n",
       "1   5575-GNVDE  2017-04-01                   No        One year   \n",
       "2   3668-QPYBK  2019-10-01  2019-12-01 00:00:00  Month-to-month   \n",
       "3   7795-CFOCW  2016-05-01                   No        One year   \n",
       "4   9237-HQITU  2019-09-01  2019-11-01 00:00:00  Month-to-month   \n",
       "5   9305-CDSKC  2019-03-01  2019-11-01 00:00:00  Month-to-month   \n",
       "6   1452-KIOVK  2018-04-01                   No  Month-to-month   \n",
       "7   6713-OKOMC  2019-04-01                   No  Month-to-month   \n",
       "8   7892-POOKP  2017-07-01  2019-11-01 00:00:00  Month-to-month   \n",
       "9   6388-TABGU  2014-12-01                   No        One year   \n",
       "10  9763-GRSKD  2019-01-01                   No  Month-to-month   \n",
       "11  7469-LKBCI  2018-10-01                   No        Two year   \n",
       "12  8091-TTVAX  2015-04-01                   No        One year   \n",
       "13  0280-XJGEX  2015-09-01  2019-10-01 00:00:00  Month-to-month   \n",
       "14  5129-JLPIS  2018-01-01                   No  Month-to-month   \n",
       "15  3655-SNQYZ  2014-05-01                   No        Two year   \n",
       "16  8191-XWSZG  2015-10-01                   No        One year   \n",
       "17  9959-WOFKT  2014-03-01                   No        Two year   \n",
       "18  4190-MFLUW  2019-01-01  2019-11-01 00:00:00  Month-to-month   \n",
       "19  4183-MYFRB  2018-05-01                   No  Month-to-month   \n",
       "\n",
       "   PaperlessBilling              PaymentMethod  MonthlyCharges  TotalCharges  \\\n",
       "0               Yes           Electronic check           29.85         29.85   \n",
       "1                No               Mailed check           56.95       1889.50   \n",
       "2               Yes               Mailed check           53.85        108.15   \n",
       "3                No  Bank transfer (automatic)           42.30       1840.75   \n",
       "4               Yes           Electronic check           70.70        151.65   \n",
       "5               Yes           Electronic check           99.65        820.50   \n",
       "6               Yes    Credit card (automatic)           89.10       1949.40   \n",
       "7                No               Mailed check           29.75        301.90   \n",
       "8               Yes           Electronic check          104.80       3046.05   \n",
       "9                No  Bank transfer (automatic)           56.15       3487.95   \n",
       "10              Yes               Mailed check           49.95        587.45   \n",
       "11               No    Credit card (automatic)           18.95        326.80   \n",
       "12               No    Credit card (automatic)          100.35       5681.10   \n",
       "13              Yes  Bank transfer (automatic)          103.70       5036.30   \n",
       "14              Yes           Electronic check          105.50       2686.05   \n",
       "15               No    Credit card (automatic)          113.25       7895.15   \n",
       "16               No               Mailed check           20.65       1022.95   \n",
       "17               No  Bank transfer (automatic)          106.70       7382.25   \n",
       "18               No    Credit card (automatic)           55.20        528.35   \n",
       "19              Yes           Electronic check           90.05       1862.90   \n",
       "\n",
       "   InternetService OnlineSecurity OnlineBackup DeviceProtection TechSupport  \\\n",
       "0              DSL             No          Yes               No          No   \n",
       "1              DSL            Yes           No              Yes          No   \n",
       "2              DSL            Yes          Yes               No          No   \n",
       "3              DSL            Yes           No              Yes         Yes   \n",
       "4      Fiber optic             No           No               No          No   \n",
       "5      Fiber optic             No           No              Yes          No   \n",
       "6      Fiber optic             No          Yes               No          No   \n",
       "7              DSL            Yes           No               No          No   \n",
       "8      Fiber optic             No           No              Yes         Yes   \n",
       "9              DSL            Yes          Yes               No          No   \n",
       "10             DSL            Yes           No               No          No   \n",
       "11             NaN            NaN          NaN              NaN         NaN   \n",
       "12     Fiber optic             No           No              Yes          No   \n",
       "13     Fiber optic             No          Yes              Yes          No   \n",
       "14     Fiber optic            Yes           No              Yes         Yes   \n",
       "15     Fiber optic            Yes          Yes              Yes         Yes   \n",
       "16             NaN            NaN          NaN              NaN         NaN   \n",
       "17     Fiber optic            Yes           No              Yes          No   \n",
       "18             DSL             No           No              Yes         Yes   \n",
       "19     Fiber optic             No          Yes              Yes          No   \n",
       "\n",
       "   StreamingTV StreamingMovies  \n",
       "0           No              No  \n",
       "1           No              No  \n",
       "2           No              No  \n",
       "3           No              No  \n",
       "4           No              No  \n",
       "5          Yes             Yes  \n",
       "6          Yes              No  \n",
       "7           No              No  \n",
       "8          Yes             Yes  \n",
       "9           No              No  \n",
       "10          No              No  \n",
       "11         NaN             NaN  \n",
       "12         Yes             Yes  \n",
       "13         Yes             Yes  \n",
       "14         Yes             Yes  \n",
       "15         Yes             Yes  \n",
       "16         NaN             NaN  \n",
       "17         Yes             Yes  \n",
       "18          No              No  \n",
       "19          No             Yes  "
      ]
     },
     "execution_count": 171,
     "metadata": {},
     "output_type": "execute_result"
    }
   ],
   "source": [
    "df_mrg.head(20) #Looking for rows where InternetService is NaN"
   ]
  },
  {
   "cell_type": "code",
   "execution_count": 172,
   "id": "394e5b86",
   "metadata": {},
   "outputs": [],
   "source": [
    "df_mrg.fillna('No', inplace=True) #Fill NA with No since it means they don't have internet services."
   ]
  },
  {
   "cell_type": "code",
   "execution_count": 173,
   "id": "19a0fd02",
   "metadata": {},
   "outputs": [
    {
     "data": {
      "text/html": [
       "<div>\n",
       "<style scoped>\n",
       "    .dataframe tbody tr th:only-of-type {\n",
       "        vertical-align: middle;\n",
       "    }\n",
       "\n",
       "    .dataframe tbody tr th {\n",
       "        vertical-align: top;\n",
       "    }\n",
       "\n",
       "    .dataframe thead th {\n",
       "        text-align: right;\n",
       "    }\n",
       "</style>\n",
       "<table border=\"1\" class=\"dataframe\">\n",
       "  <thead>\n",
       "    <tr style=\"text-align: right;\">\n",
       "      <th></th>\n",
       "      <th>customerID</th>\n",
       "      <th>BeginDate</th>\n",
       "      <th>EndDate</th>\n",
       "      <th>Type</th>\n",
       "      <th>PaperlessBilling</th>\n",
       "      <th>PaymentMethod</th>\n",
       "      <th>MonthlyCharges</th>\n",
       "      <th>TotalCharges</th>\n",
       "      <th>InternetService</th>\n",
       "      <th>OnlineSecurity</th>\n",
       "      <th>OnlineBackup</th>\n",
       "      <th>DeviceProtection</th>\n",
       "      <th>TechSupport</th>\n",
       "      <th>StreamingTV</th>\n",
       "      <th>StreamingMovies</th>\n",
       "    </tr>\n",
       "  </thead>\n",
       "  <tbody>\n",
       "    <tr>\n",
       "      <th>0</th>\n",
       "      <td>7590-VHVEG</td>\n",
       "      <td>2020-01-01</td>\n",
       "      <td>No</td>\n",
       "      <td>Month-to-month</td>\n",
       "      <td>Yes</td>\n",
       "      <td>Electronic check</td>\n",
       "      <td>29.85</td>\n",
       "      <td>29.85</td>\n",
       "      <td>DSL</td>\n",
       "      <td>No</td>\n",
       "      <td>Yes</td>\n",
       "      <td>No</td>\n",
       "      <td>No</td>\n",
       "      <td>No</td>\n",
       "      <td>No</td>\n",
       "    </tr>\n",
       "    <tr>\n",
       "      <th>1</th>\n",
       "      <td>5575-GNVDE</td>\n",
       "      <td>2017-04-01</td>\n",
       "      <td>No</td>\n",
       "      <td>One year</td>\n",
       "      <td>No</td>\n",
       "      <td>Mailed check</td>\n",
       "      <td>56.95</td>\n",
       "      <td>1889.50</td>\n",
       "      <td>DSL</td>\n",
       "      <td>Yes</td>\n",
       "      <td>No</td>\n",
       "      <td>Yes</td>\n",
       "      <td>No</td>\n",
       "      <td>No</td>\n",
       "      <td>No</td>\n",
       "    </tr>\n",
       "    <tr>\n",
       "      <th>2</th>\n",
       "      <td>3668-QPYBK</td>\n",
       "      <td>2019-10-01</td>\n",
       "      <td>2019-12-01 00:00:00</td>\n",
       "      <td>Month-to-month</td>\n",
       "      <td>Yes</td>\n",
       "      <td>Mailed check</td>\n",
       "      <td>53.85</td>\n",
       "      <td>108.15</td>\n",
       "      <td>DSL</td>\n",
       "      <td>Yes</td>\n",
       "      <td>Yes</td>\n",
       "      <td>No</td>\n",
       "      <td>No</td>\n",
       "      <td>No</td>\n",
       "      <td>No</td>\n",
       "    </tr>\n",
       "    <tr>\n",
       "      <th>3</th>\n",
       "      <td>7795-CFOCW</td>\n",
       "      <td>2016-05-01</td>\n",
       "      <td>No</td>\n",
       "      <td>One year</td>\n",
       "      <td>No</td>\n",
       "      <td>Bank transfer (automatic)</td>\n",
       "      <td>42.30</td>\n",
       "      <td>1840.75</td>\n",
       "      <td>DSL</td>\n",
       "      <td>Yes</td>\n",
       "      <td>No</td>\n",
       "      <td>Yes</td>\n",
       "      <td>Yes</td>\n",
       "      <td>No</td>\n",
       "      <td>No</td>\n",
       "    </tr>\n",
       "    <tr>\n",
       "      <th>4</th>\n",
       "      <td>9237-HQITU</td>\n",
       "      <td>2019-09-01</td>\n",
       "      <td>2019-11-01 00:00:00</td>\n",
       "      <td>Month-to-month</td>\n",
       "      <td>Yes</td>\n",
       "      <td>Electronic check</td>\n",
       "      <td>70.70</td>\n",
       "      <td>151.65</td>\n",
       "      <td>Fiber optic</td>\n",
       "      <td>No</td>\n",
       "      <td>No</td>\n",
       "      <td>No</td>\n",
       "      <td>No</td>\n",
       "      <td>No</td>\n",
       "      <td>No</td>\n",
       "    </tr>\n",
       "    <tr>\n",
       "      <th>5</th>\n",
       "      <td>9305-CDSKC</td>\n",
       "      <td>2019-03-01</td>\n",
       "      <td>2019-11-01 00:00:00</td>\n",
       "      <td>Month-to-month</td>\n",
       "      <td>Yes</td>\n",
       "      <td>Electronic check</td>\n",
       "      <td>99.65</td>\n",
       "      <td>820.50</td>\n",
       "      <td>Fiber optic</td>\n",
       "      <td>No</td>\n",
       "      <td>No</td>\n",
       "      <td>Yes</td>\n",
       "      <td>No</td>\n",
       "      <td>Yes</td>\n",
       "      <td>Yes</td>\n",
       "    </tr>\n",
       "    <tr>\n",
       "      <th>6</th>\n",
       "      <td>1452-KIOVK</td>\n",
       "      <td>2018-04-01</td>\n",
       "      <td>No</td>\n",
       "      <td>Month-to-month</td>\n",
       "      <td>Yes</td>\n",
       "      <td>Credit card (automatic)</td>\n",
       "      <td>89.10</td>\n",
       "      <td>1949.40</td>\n",
       "      <td>Fiber optic</td>\n",
       "      <td>No</td>\n",
       "      <td>Yes</td>\n",
       "      <td>No</td>\n",
       "      <td>No</td>\n",
       "      <td>Yes</td>\n",
       "      <td>No</td>\n",
       "    </tr>\n",
       "    <tr>\n",
       "      <th>7</th>\n",
       "      <td>6713-OKOMC</td>\n",
       "      <td>2019-04-01</td>\n",
       "      <td>No</td>\n",
       "      <td>Month-to-month</td>\n",
       "      <td>No</td>\n",
       "      <td>Mailed check</td>\n",
       "      <td>29.75</td>\n",
       "      <td>301.90</td>\n",
       "      <td>DSL</td>\n",
       "      <td>Yes</td>\n",
       "      <td>No</td>\n",
       "      <td>No</td>\n",
       "      <td>No</td>\n",
       "      <td>No</td>\n",
       "      <td>No</td>\n",
       "    </tr>\n",
       "    <tr>\n",
       "      <th>8</th>\n",
       "      <td>7892-POOKP</td>\n",
       "      <td>2017-07-01</td>\n",
       "      <td>2019-11-01 00:00:00</td>\n",
       "      <td>Month-to-month</td>\n",
       "      <td>Yes</td>\n",
       "      <td>Electronic check</td>\n",
       "      <td>104.80</td>\n",
       "      <td>3046.05</td>\n",
       "      <td>Fiber optic</td>\n",
       "      <td>No</td>\n",
       "      <td>No</td>\n",
       "      <td>Yes</td>\n",
       "      <td>Yes</td>\n",
       "      <td>Yes</td>\n",
       "      <td>Yes</td>\n",
       "    </tr>\n",
       "    <tr>\n",
       "      <th>9</th>\n",
       "      <td>6388-TABGU</td>\n",
       "      <td>2014-12-01</td>\n",
       "      <td>No</td>\n",
       "      <td>One year</td>\n",
       "      <td>No</td>\n",
       "      <td>Bank transfer (automatic)</td>\n",
       "      <td>56.15</td>\n",
       "      <td>3487.95</td>\n",
       "      <td>DSL</td>\n",
       "      <td>Yes</td>\n",
       "      <td>Yes</td>\n",
       "      <td>No</td>\n",
       "      <td>No</td>\n",
       "      <td>No</td>\n",
       "      <td>No</td>\n",
       "    </tr>\n",
       "    <tr>\n",
       "      <th>10</th>\n",
       "      <td>9763-GRSKD</td>\n",
       "      <td>2019-01-01</td>\n",
       "      <td>No</td>\n",
       "      <td>Month-to-month</td>\n",
       "      <td>Yes</td>\n",
       "      <td>Mailed check</td>\n",
       "      <td>49.95</td>\n",
       "      <td>587.45</td>\n",
       "      <td>DSL</td>\n",
       "      <td>Yes</td>\n",
       "      <td>No</td>\n",
       "      <td>No</td>\n",
       "      <td>No</td>\n",
       "      <td>No</td>\n",
       "      <td>No</td>\n",
       "    </tr>\n",
       "    <tr>\n",
       "      <th>11</th>\n",
       "      <td>7469-LKBCI</td>\n",
       "      <td>2018-10-01</td>\n",
       "      <td>No</td>\n",
       "      <td>Two year</td>\n",
       "      <td>No</td>\n",
       "      <td>Credit card (automatic)</td>\n",
       "      <td>18.95</td>\n",
       "      <td>326.80</td>\n",
       "      <td>No</td>\n",
       "      <td>No</td>\n",
       "      <td>No</td>\n",
       "      <td>No</td>\n",
       "      <td>No</td>\n",
       "      <td>No</td>\n",
       "      <td>No</td>\n",
       "    </tr>\n",
       "    <tr>\n",
       "      <th>12</th>\n",
       "      <td>8091-TTVAX</td>\n",
       "      <td>2015-04-01</td>\n",
       "      <td>No</td>\n",
       "      <td>One year</td>\n",
       "      <td>No</td>\n",
       "      <td>Credit card (automatic)</td>\n",
       "      <td>100.35</td>\n",
       "      <td>5681.10</td>\n",
       "      <td>Fiber optic</td>\n",
       "      <td>No</td>\n",
       "      <td>No</td>\n",
       "      <td>Yes</td>\n",
       "      <td>No</td>\n",
       "      <td>Yes</td>\n",
       "      <td>Yes</td>\n",
       "    </tr>\n",
       "    <tr>\n",
       "      <th>13</th>\n",
       "      <td>0280-XJGEX</td>\n",
       "      <td>2015-09-01</td>\n",
       "      <td>2019-10-01 00:00:00</td>\n",
       "      <td>Month-to-month</td>\n",
       "      <td>Yes</td>\n",
       "      <td>Bank transfer (automatic)</td>\n",
       "      <td>103.70</td>\n",
       "      <td>5036.30</td>\n",
       "      <td>Fiber optic</td>\n",
       "      <td>No</td>\n",
       "      <td>Yes</td>\n",
       "      <td>Yes</td>\n",
       "      <td>No</td>\n",
       "      <td>Yes</td>\n",
       "      <td>Yes</td>\n",
       "    </tr>\n",
       "    <tr>\n",
       "      <th>14</th>\n",
       "      <td>5129-JLPIS</td>\n",
       "      <td>2018-01-01</td>\n",
       "      <td>No</td>\n",
       "      <td>Month-to-month</td>\n",
       "      <td>Yes</td>\n",
       "      <td>Electronic check</td>\n",
       "      <td>105.50</td>\n",
       "      <td>2686.05</td>\n",
       "      <td>Fiber optic</td>\n",
       "      <td>Yes</td>\n",
       "      <td>No</td>\n",
       "      <td>Yes</td>\n",
       "      <td>Yes</td>\n",
       "      <td>Yes</td>\n",
       "      <td>Yes</td>\n",
       "    </tr>\n",
       "    <tr>\n",
       "      <th>15</th>\n",
       "      <td>3655-SNQYZ</td>\n",
       "      <td>2014-05-01</td>\n",
       "      <td>No</td>\n",
       "      <td>Two year</td>\n",
       "      <td>No</td>\n",
       "      <td>Credit card (automatic)</td>\n",
       "      <td>113.25</td>\n",
       "      <td>7895.15</td>\n",
       "      <td>Fiber optic</td>\n",
       "      <td>Yes</td>\n",
       "      <td>Yes</td>\n",
       "      <td>Yes</td>\n",
       "      <td>Yes</td>\n",
       "      <td>Yes</td>\n",
       "      <td>Yes</td>\n",
       "    </tr>\n",
       "    <tr>\n",
       "      <th>16</th>\n",
       "      <td>8191-XWSZG</td>\n",
       "      <td>2015-10-01</td>\n",
       "      <td>No</td>\n",
       "      <td>One year</td>\n",
       "      <td>No</td>\n",
       "      <td>Mailed check</td>\n",
       "      <td>20.65</td>\n",
       "      <td>1022.95</td>\n",
       "      <td>No</td>\n",
       "      <td>No</td>\n",
       "      <td>No</td>\n",
       "      <td>No</td>\n",
       "      <td>No</td>\n",
       "      <td>No</td>\n",
       "      <td>No</td>\n",
       "    </tr>\n",
       "    <tr>\n",
       "      <th>17</th>\n",
       "      <td>9959-WOFKT</td>\n",
       "      <td>2014-03-01</td>\n",
       "      <td>No</td>\n",
       "      <td>Two year</td>\n",
       "      <td>No</td>\n",
       "      <td>Bank transfer (automatic)</td>\n",
       "      <td>106.70</td>\n",
       "      <td>7382.25</td>\n",
       "      <td>Fiber optic</td>\n",
       "      <td>Yes</td>\n",
       "      <td>No</td>\n",
       "      <td>Yes</td>\n",
       "      <td>No</td>\n",
       "      <td>Yes</td>\n",
       "      <td>Yes</td>\n",
       "    </tr>\n",
       "    <tr>\n",
       "      <th>18</th>\n",
       "      <td>4190-MFLUW</td>\n",
       "      <td>2019-01-01</td>\n",
       "      <td>2019-11-01 00:00:00</td>\n",
       "      <td>Month-to-month</td>\n",
       "      <td>No</td>\n",
       "      <td>Credit card (automatic)</td>\n",
       "      <td>55.20</td>\n",
       "      <td>528.35</td>\n",
       "      <td>DSL</td>\n",
       "      <td>No</td>\n",
       "      <td>No</td>\n",
       "      <td>Yes</td>\n",
       "      <td>Yes</td>\n",
       "      <td>No</td>\n",
       "      <td>No</td>\n",
       "    </tr>\n",
       "    <tr>\n",
       "      <th>19</th>\n",
       "      <td>4183-MYFRB</td>\n",
       "      <td>2018-05-01</td>\n",
       "      <td>No</td>\n",
       "      <td>Month-to-month</td>\n",
       "      <td>Yes</td>\n",
       "      <td>Electronic check</td>\n",
       "      <td>90.05</td>\n",
       "      <td>1862.90</td>\n",
       "      <td>Fiber optic</td>\n",
       "      <td>No</td>\n",
       "      <td>Yes</td>\n",
       "      <td>Yes</td>\n",
       "      <td>No</td>\n",
       "      <td>No</td>\n",
       "      <td>Yes</td>\n",
       "    </tr>\n",
       "  </tbody>\n",
       "</table>\n",
       "</div>"
      ],
      "text/plain": [
       "    customerID   BeginDate              EndDate            Type  \\\n",
       "0   7590-VHVEG  2020-01-01                   No  Month-to-month   \n",
       "1   5575-GNVDE  2017-04-01                   No        One year   \n",
       "2   3668-QPYBK  2019-10-01  2019-12-01 00:00:00  Month-to-month   \n",
       "3   7795-CFOCW  2016-05-01                   No        One year   \n",
       "4   9237-HQITU  2019-09-01  2019-11-01 00:00:00  Month-to-month   \n",
       "5   9305-CDSKC  2019-03-01  2019-11-01 00:00:00  Month-to-month   \n",
       "6   1452-KIOVK  2018-04-01                   No  Month-to-month   \n",
       "7   6713-OKOMC  2019-04-01                   No  Month-to-month   \n",
       "8   7892-POOKP  2017-07-01  2019-11-01 00:00:00  Month-to-month   \n",
       "9   6388-TABGU  2014-12-01                   No        One year   \n",
       "10  9763-GRSKD  2019-01-01                   No  Month-to-month   \n",
       "11  7469-LKBCI  2018-10-01                   No        Two year   \n",
       "12  8091-TTVAX  2015-04-01                   No        One year   \n",
       "13  0280-XJGEX  2015-09-01  2019-10-01 00:00:00  Month-to-month   \n",
       "14  5129-JLPIS  2018-01-01                   No  Month-to-month   \n",
       "15  3655-SNQYZ  2014-05-01                   No        Two year   \n",
       "16  8191-XWSZG  2015-10-01                   No        One year   \n",
       "17  9959-WOFKT  2014-03-01                   No        Two year   \n",
       "18  4190-MFLUW  2019-01-01  2019-11-01 00:00:00  Month-to-month   \n",
       "19  4183-MYFRB  2018-05-01                   No  Month-to-month   \n",
       "\n",
       "   PaperlessBilling              PaymentMethod  MonthlyCharges  TotalCharges  \\\n",
       "0               Yes           Electronic check           29.85         29.85   \n",
       "1                No               Mailed check           56.95       1889.50   \n",
       "2               Yes               Mailed check           53.85        108.15   \n",
       "3                No  Bank transfer (automatic)           42.30       1840.75   \n",
       "4               Yes           Electronic check           70.70        151.65   \n",
       "5               Yes           Electronic check           99.65        820.50   \n",
       "6               Yes    Credit card (automatic)           89.10       1949.40   \n",
       "7                No               Mailed check           29.75        301.90   \n",
       "8               Yes           Electronic check          104.80       3046.05   \n",
       "9                No  Bank transfer (automatic)           56.15       3487.95   \n",
       "10              Yes               Mailed check           49.95        587.45   \n",
       "11               No    Credit card (automatic)           18.95        326.80   \n",
       "12               No    Credit card (automatic)          100.35       5681.10   \n",
       "13              Yes  Bank transfer (automatic)          103.70       5036.30   \n",
       "14              Yes           Electronic check          105.50       2686.05   \n",
       "15               No    Credit card (automatic)          113.25       7895.15   \n",
       "16               No               Mailed check           20.65       1022.95   \n",
       "17               No  Bank transfer (automatic)          106.70       7382.25   \n",
       "18               No    Credit card (automatic)           55.20        528.35   \n",
       "19              Yes           Electronic check           90.05       1862.90   \n",
       "\n",
       "   InternetService OnlineSecurity OnlineBackup DeviceProtection TechSupport  \\\n",
       "0              DSL             No          Yes               No          No   \n",
       "1              DSL            Yes           No              Yes          No   \n",
       "2              DSL            Yes          Yes               No          No   \n",
       "3              DSL            Yes           No              Yes         Yes   \n",
       "4      Fiber optic             No           No               No          No   \n",
       "5      Fiber optic             No           No              Yes          No   \n",
       "6      Fiber optic             No          Yes               No          No   \n",
       "7              DSL            Yes           No               No          No   \n",
       "8      Fiber optic             No           No              Yes         Yes   \n",
       "9              DSL            Yes          Yes               No          No   \n",
       "10             DSL            Yes           No               No          No   \n",
       "11              No             No           No               No          No   \n",
       "12     Fiber optic             No           No              Yes          No   \n",
       "13     Fiber optic             No          Yes              Yes          No   \n",
       "14     Fiber optic            Yes           No              Yes         Yes   \n",
       "15     Fiber optic            Yes          Yes              Yes         Yes   \n",
       "16              No             No           No               No          No   \n",
       "17     Fiber optic            Yes           No              Yes          No   \n",
       "18             DSL             No           No              Yes         Yes   \n",
       "19     Fiber optic             No          Yes              Yes          No   \n",
       "\n",
       "   StreamingTV StreamingMovies  \n",
       "0           No              No  \n",
       "1           No              No  \n",
       "2           No              No  \n",
       "3           No              No  \n",
       "4           No              No  \n",
       "5          Yes             Yes  \n",
       "6          Yes              No  \n",
       "7           No              No  \n",
       "8          Yes             Yes  \n",
       "9           No              No  \n",
       "10          No              No  \n",
       "11          No              No  \n",
       "12         Yes             Yes  \n",
       "13         Yes             Yes  \n",
       "14         Yes             Yes  \n",
       "15         Yes             Yes  \n",
       "16          No              No  \n",
       "17         Yes             Yes  \n",
       "18          No              No  \n",
       "19          No             Yes  "
      ]
     },
     "execution_count": 173,
     "metadata": {},
     "output_type": "execute_result"
    }
   ],
   "source": [
    "df_mrg.head(20)"
   ]
  },
  {
   "cell_type": "code",
   "execution_count": 174,
   "id": "78d58898",
   "metadata": {},
   "outputs": [
    {
     "data": {
      "text/plain": [
       "customerID          0\n",
       "BeginDate           0\n",
       "EndDate             0\n",
       "Type                0\n",
       "PaperlessBilling    0\n",
       "PaymentMethod       0\n",
       "MonthlyCharges      0\n",
       "TotalCharges        0\n",
       "InternetService     0\n",
       "OnlineSecurity      0\n",
       "OnlineBackup        0\n",
       "DeviceProtection    0\n",
       "TechSupport         0\n",
       "StreamingTV         0\n",
       "StreamingMovies     0\n",
       "dtype: int64"
      ]
     },
     "execution_count": 174,
     "metadata": {},
     "output_type": "execute_result"
    }
   ],
   "source": [
    "df_mrg.isna().sum() #Checking for NaNs"
   ]
  },
  {
   "cell_type": "code",
   "execution_count": 175,
   "id": "02136ec9",
   "metadata": {},
   "outputs": [],
   "source": [
    "df_mrg2 = pd.merge(df_mrg, df_per , on='customerID', how ='left')"
   ]
  },
  {
   "cell_type": "code",
   "execution_count": 176,
   "id": "e0b6bb43",
   "metadata": {},
   "outputs": [
    {
     "data": {
      "text/plain": [
       "customerID          0\n",
       "BeginDate           0\n",
       "EndDate             0\n",
       "Type                0\n",
       "PaperlessBilling    0\n",
       "PaymentMethod       0\n",
       "MonthlyCharges      0\n",
       "TotalCharges        0\n",
       "InternetService     0\n",
       "OnlineSecurity      0\n",
       "OnlineBackup        0\n",
       "DeviceProtection    0\n",
       "TechSupport         0\n",
       "StreamingTV         0\n",
       "StreamingMovies     0\n",
       "gender              0\n",
       "SeniorCitizen       0\n",
       "Partner             0\n",
       "Dependents          0\n",
       "dtype: int64"
      ]
     },
     "execution_count": 176,
     "metadata": {},
     "output_type": "execute_result"
    }
   ],
   "source": [
    "df_mrg2.isna().sum()"
   ]
  },
  {
   "cell_type": "code",
   "execution_count": 177,
   "id": "0947b081",
   "metadata": {},
   "outputs": [
    {
     "data": {
      "text/html": [
       "<div>\n",
       "<style scoped>\n",
       "    .dataframe tbody tr th:only-of-type {\n",
       "        vertical-align: middle;\n",
       "    }\n",
       "\n",
       "    .dataframe tbody tr th {\n",
       "        vertical-align: top;\n",
       "    }\n",
       "\n",
       "    .dataframe thead th {\n",
       "        text-align: right;\n",
       "    }\n",
       "</style>\n",
       "<table border=\"1\" class=\"dataframe\">\n",
       "  <thead>\n",
       "    <tr style=\"text-align: right;\">\n",
       "      <th></th>\n",
       "      <th>customerID</th>\n",
       "      <th>BeginDate</th>\n",
       "      <th>EndDate</th>\n",
       "      <th>Type</th>\n",
       "      <th>PaperlessBilling</th>\n",
       "      <th>PaymentMethod</th>\n",
       "      <th>MonthlyCharges</th>\n",
       "      <th>TotalCharges</th>\n",
       "      <th>InternetService</th>\n",
       "      <th>OnlineSecurity</th>\n",
       "      <th>OnlineBackup</th>\n",
       "      <th>DeviceProtection</th>\n",
       "      <th>TechSupport</th>\n",
       "      <th>StreamingTV</th>\n",
       "      <th>StreamingMovies</th>\n",
       "      <th>gender</th>\n",
       "      <th>SeniorCitizen</th>\n",
       "      <th>Partner</th>\n",
       "      <th>Dependents</th>\n",
       "    </tr>\n",
       "  </thead>\n",
       "  <tbody>\n",
       "    <tr>\n",
       "      <th>0</th>\n",
       "      <td>7590-VHVEG</td>\n",
       "      <td>2020-01-01</td>\n",
       "      <td>No</td>\n",
       "      <td>Month-to-month</td>\n",
       "      <td>Yes</td>\n",
       "      <td>Electronic check</td>\n",
       "      <td>29.85</td>\n",
       "      <td>29.85</td>\n",
       "      <td>DSL</td>\n",
       "      <td>No</td>\n",
       "      <td>Yes</td>\n",
       "      <td>No</td>\n",
       "      <td>No</td>\n",
       "      <td>No</td>\n",
       "      <td>No</td>\n",
       "      <td>Female</td>\n",
       "      <td>0</td>\n",
       "      <td>Yes</td>\n",
       "      <td>No</td>\n",
       "    </tr>\n",
       "    <tr>\n",
       "      <th>1</th>\n",
       "      <td>5575-GNVDE</td>\n",
       "      <td>2017-04-01</td>\n",
       "      <td>No</td>\n",
       "      <td>One year</td>\n",
       "      <td>No</td>\n",
       "      <td>Mailed check</td>\n",
       "      <td>56.95</td>\n",
       "      <td>1889.50</td>\n",
       "      <td>DSL</td>\n",
       "      <td>Yes</td>\n",
       "      <td>No</td>\n",
       "      <td>Yes</td>\n",
       "      <td>No</td>\n",
       "      <td>No</td>\n",
       "      <td>No</td>\n",
       "      <td>Male</td>\n",
       "      <td>0</td>\n",
       "      <td>No</td>\n",
       "      <td>No</td>\n",
       "    </tr>\n",
       "    <tr>\n",
       "      <th>2</th>\n",
       "      <td>3668-QPYBK</td>\n",
       "      <td>2019-10-01</td>\n",
       "      <td>2019-12-01 00:00:00</td>\n",
       "      <td>Month-to-month</td>\n",
       "      <td>Yes</td>\n",
       "      <td>Mailed check</td>\n",
       "      <td>53.85</td>\n",
       "      <td>108.15</td>\n",
       "      <td>DSL</td>\n",
       "      <td>Yes</td>\n",
       "      <td>Yes</td>\n",
       "      <td>No</td>\n",
       "      <td>No</td>\n",
       "      <td>No</td>\n",
       "      <td>No</td>\n",
       "      <td>Male</td>\n",
       "      <td>0</td>\n",
       "      <td>No</td>\n",
       "      <td>No</td>\n",
       "    </tr>\n",
       "    <tr>\n",
       "      <th>3</th>\n",
       "      <td>7795-CFOCW</td>\n",
       "      <td>2016-05-01</td>\n",
       "      <td>No</td>\n",
       "      <td>One year</td>\n",
       "      <td>No</td>\n",
       "      <td>Bank transfer (automatic)</td>\n",
       "      <td>42.30</td>\n",
       "      <td>1840.75</td>\n",
       "      <td>DSL</td>\n",
       "      <td>Yes</td>\n",
       "      <td>No</td>\n",
       "      <td>Yes</td>\n",
       "      <td>Yes</td>\n",
       "      <td>No</td>\n",
       "      <td>No</td>\n",
       "      <td>Male</td>\n",
       "      <td>0</td>\n",
       "      <td>No</td>\n",
       "      <td>No</td>\n",
       "    </tr>\n",
       "    <tr>\n",
       "      <th>4</th>\n",
       "      <td>9237-HQITU</td>\n",
       "      <td>2019-09-01</td>\n",
       "      <td>2019-11-01 00:00:00</td>\n",
       "      <td>Month-to-month</td>\n",
       "      <td>Yes</td>\n",
       "      <td>Electronic check</td>\n",
       "      <td>70.70</td>\n",
       "      <td>151.65</td>\n",
       "      <td>Fiber optic</td>\n",
       "      <td>No</td>\n",
       "      <td>No</td>\n",
       "      <td>No</td>\n",
       "      <td>No</td>\n",
       "      <td>No</td>\n",
       "      <td>No</td>\n",
       "      <td>Female</td>\n",
       "      <td>0</td>\n",
       "      <td>No</td>\n",
       "      <td>No</td>\n",
       "    </tr>\n",
       "  </tbody>\n",
       "</table>\n",
       "</div>"
      ],
      "text/plain": [
       "   customerID   BeginDate              EndDate            Type  \\\n",
       "0  7590-VHVEG  2020-01-01                   No  Month-to-month   \n",
       "1  5575-GNVDE  2017-04-01                   No        One year   \n",
       "2  3668-QPYBK  2019-10-01  2019-12-01 00:00:00  Month-to-month   \n",
       "3  7795-CFOCW  2016-05-01                   No        One year   \n",
       "4  9237-HQITU  2019-09-01  2019-11-01 00:00:00  Month-to-month   \n",
       "\n",
       "  PaperlessBilling              PaymentMethod  MonthlyCharges  TotalCharges  \\\n",
       "0              Yes           Electronic check           29.85         29.85   \n",
       "1               No               Mailed check           56.95       1889.50   \n",
       "2              Yes               Mailed check           53.85        108.15   \n",
       "3               No  Bank transfer (automatic)           42.30       1840.75   \n",
       "4              Yes           Electronic check           70.70        151.65   \n",
       "\n",
       "  InternetService OnlineSecurity OnlineBackup DeviceProtection TechSupport  \\\n",
       "0             DSL             No          Yes               No          No   \n",
       "1             DSL            Yes           No              Yes          No   \n",
       "2             DSL            Yes          Yes               No          No   \n",
       "3             DSL            Yes           No              Yes         Yes   \n",
       "4     Fiber optic             No           No               No          No   \n",
       "\n",
       "  StreamingTV StreamingMovies  gender  SeniorCitizen Partner Dependents  \n",
       "0          No              No  Female              0     Yes         No  \n",
       "1          No              No    Male              0      No         No  \n",
       "2          No              No    Male              0      No         No  \n",
       "3          No              No    Male              0      No         No  \n",
       "4          No              No  Female              0      No         No  "
      ]
     },
     "execution_count": 177,
     "metadata": {},
     "output_type": "execute_result"
    }
   ],
   "source": [
    "df_mrg2.head()"
   ]
  },
  {
   "cell_type": "code",
   "execution_count": 178,
   "id": "cc2b48f3",
   "metadata": {},
   "outputs": [],
   "source": [
    "df_mrg3 = pd.merge(df_mrg2, df_phn , on='customerID', how ='left')"
   ]
  },
  {
   "cell_type": "code",
   "execution_count": 179,
   "id": "480b5777",
   "metadata": {},
   "outputs": [
    {
     "data": {
      "text/html": [
       "<div>\n",
       "<style scoped>\n",
       "    .dataframe tbody tr th:only-of-type {\n",
       "        vertical-align: middle;\n",
       "    }\n",
       "\n",
       "    .dataframe tbody tr th {\n",
       "        vertical-align: top;\n",
       "    }\n",
       "\n",
       "    .dataframe thead th {\n",
       "        text-align: right;\n",
       "    }\n",
       "</style>\n",
       "<table border=\"1\" class=\"dataframe\">\n",
       "  <thead>\n",
       "    <tr style=\"text-align: right;\">\n",
       "      <th></th>\n",
       "      <th>customerID</th>\n",
       "      <th>BeginDate</th>\n",
       "      <th>EndDate</th>\n",
       "      <th>Type</th>\n",
       "      <th>PaperlessBilling</th>\n",
       "      <th>PaymentMethod</th>\n",
       "      <th>MonthlyCharges</th>\n",
       "      <th>TotalCharges</th>\n",
       "      <th>InternetService</th>\n",
       "      <th>OnlineSecurity</th>\n",
       "      <th>OnlineBackup</th>\n",
       "      <th>DeviceProtection</th>\n",
       "      <th>TechSupport</th>\n",
       "      <th>StreamingTV</th>\n",
       "      <th>StreamingMovies</th>\n",
       "      <th>gender</th>\n",
       "      <th>SeniorCitizen</th>\n",
       "      <th>Partner</th>\n",
       "      <th>Dependents</th>\n",
       "      <th>MultipleLines</th>\n",
       "    </tr>\n",
       "  </thead>\n",
       "  <tbody>\n",
       "    <tr>\n",
       "      <th>0</th>\n",
       "      <td>7590-VHVEG</td>\n",
       "      <td>2020-01-01</td>\n",
       "      <td>No</td>\n",
       "      <td>Month-to-month</td>\n",
       "      <td>Yes</td>\n",
       "      <td>Electronic check</td>\n",
       "      <td>29.85</td>\n",
       "      <td>29.85</td>\n",
       "      <td>DSL</td>\n",
       "      <td>No</td>\n",
       "      <td>Yes</td>\n",
       "      <td>No</td>\n",
       "      <td>No</td>\n",
       "      <td>No</td>\n",
       "      <td>No</td>\n",
       "      <td>Female</td>\n",
       "      <td>0</td>\n",
       "      <td>Yes</td>\n",
       "      <td>No</td>\n",
       "      <td>NaN</td>\n",
       "    </tr>\n",
       "    <tr>\n",
       "      <th>1</th>\n",
       "      <td>5575-GNVDE</td>\n",
       "      <td>2017-04-01</td>\n",
       "      <td>No</td>\n",
       "      <td>One year</td>\n",
       "      <td>No</td>\n",
       "      <td>Mailed check</td>\n",
       "      <td>56.95</td>\n",
       "      <td>1889.50</td>\n",
       "      <td>DSL</td>\n",
       "      <td>Yes</td>\n",
       "      <td>No</td>\n",
       "      <td>Yes</td>\n",
       "      <td>No</td>\n",
       "      <td>No</td>\n",
       "      <td>No</td>\n",
       "      <td>Male</td>\n",
       "      <td>0</td>\n",
       "      <td>No</td>\n",
       "      <td>No</td>\n",
       "      <td>No</td>\n",
       "    </tr>\n",
       "    <tr>\n",
       "      <th>2</th>\n",
       "      <td>3668-QPYBK</td>\n",
       "      <td>2019-10-01</td>\n",
       "      <td>2019-12-01 00:00:00</td>\n",
       "      <td>Month-to-month</td>\n",
       "      <td>Yes</td>\n",
       "      <td>Mailed check</td>\n",
       "      <td>53.85</td>\n",
       "      <td>108.15</td>\n",
       "      <td>DSL</td>\n",
       "      <td>Yes</td>\n",
       "      <td>Yes</td>\n",
       "      <td>No</td>\n",
       "      <td>No</td>\n",
       "      <td>No</td>\n",
       "      <td>No</td>\n",
       "      <td>Male</td>\n",
       "      <td>0</td>\n",
       "      <td>No</td>\n",
       "      <td>No</td>\n",
       "      <td>No</td>\n",
       "    </tr>\n",
       "    <tr>\n",
       "      <th>3</th>\n",
       "      <td>7795-CFOCW</td>\n",
       "      <td>2016-05-01</td>\n",
       "      <td>No</td>\n",
       "      <td>One year</td>\n",
       "      <td>No</td>\n",
       "      <td>Bank transfer (automatic)</td>\n",
       "      <td>42.30</td>\n",
       "      <td>1840.75</td>\n",
       "      <td>DSL</td>\n",
       "      <td>Yes</td>\n",
       "      <td>No</td>\n",
       "      <td>Yes</td>\n",
       "      <td>Yes</td>\n",
       "      <td>No</td>\n",
       "      <td>No</td>\n",
       "      <td>Male</td>\n",
       "      <td>0</td>\n",
       "      <td>No</td>\n",
       "      <td>No</td>\n",
       "      <td>NaN</td>\n",
       "    </tr>\n",
       "    <tr>\n",
       "      <th>4</th>\n",
       "      <td>9237-HQITU</td>\n",
       "      <td>2019-09-01</td>\n",
       "      <td>2019-11-01 00:00:00</td>\n",
       "      <td>Month-to-month</td>\n",
       "      <td>Yes</td>\n",
       "      <td>Electronic check</td>\n",
       "      <td>70.70</td>\n",
       "      <td>151.65</td>\n",
       "      <td>Fiber optic</td>\n",
       "      <td>No</td>\n",
       "      <td>No</td>\n",
       "      <td>No</td>\n",
       "      <td>No</td>\n",
       "      <td>No</td>\n",
       "      <td>No</td>\n",
       "      <td>Female</td>\n",
       "      <td>0</td>\n",
       "      <td>No</td>\n",
       "      <td>No</td>\n",
       "      <td>No</td>\n",
       "    </tr>\n",
       "  </tbody>\n",
       "</table>\n",
       "</div>"
      ],
      "text/plain": [
       "   customerID   BeginDate              EndDate            Type  \\\n",
       "0  7590-VHVEG  2020-01-01                   No  Month-to-month   \n",
       "1  5575-GNVDE  2017-04-01                   No        One year   \n",
       "2  3668-QPYBK  2019-10-01  2019-12-01 00:00:00  Month-to-month   \n",
       "3  7795-CFOCW  2016-05-01                   No        One year   \n",
       "4  9237-HQITU  2019-09-01  2019-11-01 00:00:00  Month-to-month   \n",
       "\n",
       "  PaperlessBilling              PaymentMethod  MonthlyCharges  TotalCharges  \\\n",
       "0              Yes           Electronic check           29.85         29.85   \n",
       "1               No               Mailed check           56.95       1889.50   \n",
       "2              Yes               Mailed check           53.85        108.15   \n",
       "3               No  Bank transfer (automatic)           42.30       1840.75   \n",
       "4              Yes           Electronic check           70.70        151.65   \n",
       "\n",
       "  InternetService OnlineSecurity OnlineBackup DeviceProtection TechSupport  \\\n",
       "0             DSL             No          Yes               No          No   \n",
       "1             DSL            Yes           No              Yes          No   \n",
       "2             DSL            Yes          Yes               No          No   \n",
       "3             DSL            Yes           No              Yes         Yes   \n",
       "4     Fiber optic             No           No               No          No   \n",
       "\n",
       "  StreamingTV StreamingMovies  gender  SeniorCitizen Partner Dependents  \\\n",
       "0          No              No  Female              0     Yes         No   \n",
       "1          No              No    Male              0      No         No   \n",
       "2          No              No    Male              0      No         No   \n",
       "3          No              No    Male              0      No         No   \n",
       "4          No              No  Female              0      No         No   \n",
       "\n",
       "  MultipleLines  \n",
       "0           NaN  \n",
       "1            No  \n",
       "2            No  \n",
       "3           NaN  \n",
       "4            No  "
      ]
     },
     "execution_count": 179,
     "metadata": {},
     "output_type": "execute_result"
    }
   ],
   "source": [
    "df_mrg3.head()"
   ]
  },
  {
   "cell_type": "code",
   "execution_count": 180,
   "id": "186f6884",
   "metadata": {},
   "outputs": [
    {
     "data": {
      "text/plain": [
       "customerID            0\n",
       "BeginDate             0\n",
       "EndDate               0\n",
       "Type                  0\n",
       "PaperlessBilling      0\n",
       "PaymentMethod         0\n",
       "MonthlyCharges        0\n",
       "TotalCharges          0\n",
       "InternetService       0\n",
       "OnlineSecurity        0\n",
       "OnlineBackup          0\n",
       "DeviceProtection      0\n",
       "TechSupport           0\n",
       "StreamingTV           0\n",
       "StreamingMovies       0\n",
       "gender                0\n",
       "SeniorCitizen         0\n",
       "Partner               0\n",
       "Dependents            0\n",
       "MultipleLines       682\n",
       "dtype: int64"
      ]
     },
     "execution_count": 180,
     "metadata": {},
     "output_type": "execute_result"
    }
   ],
   "source": [
    "df_mrg3.isna().sum()"
   ]
  },
  {
   "cell_type": "code",
   "execution_count": 181,
   "id": "5916154e",
   "metadata": {},
   "outputs": [],
   "source": [
    "df_mrg3.fillna('None', inplace=True) #Have to fill with something other than No since No means 1 landline"
   ]
  },
  {
   "cell_type": "code",
   "execution_count": 182,
   "id": "1cb005ce",
   "metadata": {},
   "outputs": [
    {
     "data": {
      "text/html": [
       "<div>\n",
       "<style scoped>\n",
       "    .dataframe tbody tr th:only-of-type {\n",
       "        vertical-align: middle;\n",
       "    }\n",
       "\n",
       "    .dataframe tbody tr th {\n",
       "        vertical-align: top;\n",
       "    }\n",
       "\n",
       "    .dataframe thead th {\n",
       "        text-align: right;\n",
       "    }\n",
       "</style>\n",
       "<table border=\"1\" class=\"dataframe\">\n",
       "  <thead>\n",
       "    <tr style=\"text-align: right;\">\n",
       "      <th></th>\n",
       "      <th>customerID</th>\n",
       "      <th>BeginDate</th>\n",
       "      <th>EndDate</th>\n",
       "      <th>Type</th>\n",
       "      <th>PaperlessBilling</th>\n",
       "      <th>PaymentMethod</th>\n",
       "      <th>MonthlyCharges</th>\n",
       "      <th>TotalCharges</th>\n",
       "      <th>InternetService</th>\n",
       "      <th>OnlineSecurity</th>\n",
       "      <th>OnlineBackup</th>\n",
       "      <th>DeviceProtection</th>\n",
       "      <th>TechSupport</th>\n",
       "      <th>StreamingTV</th>\n",
       "      <th>StreamingMovies</th>\n",
       "      <th>gender</th>\n",
       "      <th>SeniorCitizen</th>\n",
       "      <th>Partner</th>\n",
       "      <th>Dependents</th>\n",
       "      <th>MultipleLines</th>\n",
       "    </tr>\n",
       "  </thead>\n",
       "  <tbody>\n",
       "    <tr>\n",
       "      <th>0</th>\n",
       "      <td>7590-VHVEG</td>\n",
       "      <td>2020-01-01</td>\n",
       "      <td>No</td>\n",
       "      <td>Month-to-month</td>\n",
       "      <td>Yes</td>\n",
       "      <td>Electronic check</td>\n",
       "      <td>29.85</td>\n",
       "      <td>29.85</td>\n",
       "      <td>DSL</td>\n",
       "      <td>No</td>\n",
       "      <td>Yes</td>\n",
       "      <td>No</td>\n",
       "      <td>No</td>\n",
       "      <td>No</td>\n",
       "      <td>No</td>\n",
       "      <td>Female</td>\n",
       "      <td>0</td>\n",
       "      <td>Yes</td>\n",
       "      <td>No</td>\n",
       "      <td>None</td>\n",
       "    </tr>\n",
       "    <tr>\n",
       "      <th>1</th>\n",
       "      <td>5575-GNVDE</td>\n",
       "      <td>2017-04-01</td>\n",
       "      <td>No</td>\n",
       "      <td>One year</td>\n",
       "      <td>No</td>\n",
       "      <td>Mailed check</td>\n",
       "      <td>56.95</td>\n",
       "      <td>1889.50</td>\n",
       "      <td>DSL</td>\n",
       "      <td>Yes</td>\n",
       "      <td>No</td>\n",
       "      <td>Yes</td>\n",
       "      <td>No</td>\n",
       "      <td>No</td>\n",
       "      <td>No</td>\n",
       "      <td>Male</td>\n",
       "      <td>0</td>\n",
       "      <td>No</td>\n",
       "      <td>No</td>\n",
       "      <td>No</td>\n",
       "    </tr>\n",
       "    <tr>\n",
       "      <th>2</th>\n",
       "      <td>3668-QPYBK</td>\n",
       "      <td>2019-10-01</td>\n",
       "      <td>2019-12-01 00:00:00</td>\n",
       "      <td>Month-to-month</td>\n",
       "      <td>Yes</td>\n",
       "      <td>Mailed check</td>\n",
       "      <td>53.85</td>\n",
       "      <td>108.15</td>\n",
       "      <td>DSL</td>\n",
       "      <td>Yes</td>\n",
       "      <td>Yes</td>\n",
       "      <td>No</td>\n",
       "      <td>No</td>\n",
       "      <td>No</td>\n",
       "      <td>No</td>\n",
       "      <td>Male</td>\n",
       "      <td>0</td>\n",
       "      <td>No</td>\n",
       "      <td>No</td>\n",
       "      <td>No</td>\n",
       "    </tr>\n",
       "    <tr>\n",
       "      <th>3</th>\n",
       "      <td>7795-CFOCW</td>\n",
       "      <td>2016-05-01</td>\n",
       "      <td>No</td>\n",
       "      <td>One year</td>\n",
       "      <td>No</td>\n",
       "      <td>Bank transfer (automatic)</td>\n",
       "      <td>42.30</td>\n",
       "      <td>1840.75</td>\n",
       "      <td>DSL</td>\n",
       "      <td>Yes</td>\n",
       "      <td>No</td>\n",
       "      <td>Yes</td>\n",
       "      <td>Yes</td>\n",
       "      <td>No</td>\n",
       "      <td>No</td>\n",
       "      <td>Male</td>\n",
       "      <td>0</td>\n",
       "      <td>No</td>\n",
       "      <td>No</td>\n",
       "      <td>None</td>\n",
       "    </tr>\n",
       "    <tr>\n",
       "      <th>4</th>\n",
       "      <td>9237-HQITU</td>\n",
       "      <td>2019-09-01</td>\n",
       "      <td>2019-11-01 00:00:00</td>\n",
       "      <td>Month-to-month</td>\n",
       "      <td>Yes</td>\n",
       "      <td>Electronic check</td>\n",
       "      <td>70.70</td>\n",
       "      <td>151.65</td>\n",
       "      <td>Fiber optic</td>\n",
       "      <td>No</td>\n",
       "      <td>No</td>\n",
       "      <td>No</td>\n",
       "      <td>No</td>\n",
       "      <td>No</td>\n",
       "      <td>No</td>\n",
       "      <td>Female</td>\n",
       "      <td>0</td>\n",
       "      <td>No</td>\n",
       "      <td>No</td>\n",
       "      <td>No</td>\n",
       "    </tr>\n",
       "  </tbody>\n",
       "</table>\n",
       "</div>"
      ],
      "text/plain": [
       "   customerID   BeginDate              EndDate            Type  \\\n",
       "0  7590-VHVEG  2020-01-01                   No  Month-to-month   \n",
       "1  5575-GNVDE  2017-04-01                   No        One year   \n",
       "2  3668-QPYBK  2019-10-01  2019-12-01 00:00:00  Month-to-month   \n",
       "3  7795-CFOCW  2016-05-01                   No        One year   \n",
       "4  9237-HQITU  2019-09-01  2019-11-01 00:00:00  Month-to-month   \n",
       "\n",
       "  PaperlessBilling              PaymentMethod  MonthlyCharges  TotalCharges  \\\n",
       "0              Yes           Electronic check           29.85         29.85   \n",
       "1               No               Mailed check           56.95       1889.50   \n",
       "2              Yes               Mailed check           53.85        108.15   \n",
       "3               No  Bank transfer (automatic)           42.30       1840.75   \n",
       "4              Yes           Electronic check           70.70        151.65   \n",
       "\n",
       "  InternetService OnlineSecurity OnlineBackup DeviceProtection TechSupport  \\\n",
       "0             DSL             No          Yes               No          No   \n",
       "1             DSL            Yes           No              Yes          No   \n",
       "2             DSL            Yes          Yes               No          No   \n",
       "3             DSL            Yes           No              Yes         Yes   \n",
       "4     Fiber optic             No           No               No          No   \n",
       "\n",
       "  StreamingTV StreamingMovies  gender  SeniorCitizen Partner Dependents  \\\n",
       "0          No              No  Female              0     Yes         No   \n",
       "1          No              No    Male              0      No         No   \n",
       "2          No              No    Male              0      No         No   \n",
       "3          No              No    Male              0      No         No   \n",
       "4          No              No  Female              0      No         No   \n",
       "\n",
       "  MultipleLines  \n",
       "0          None  \n",
       "1            No  \n",
       "2            No  \n",
       "3          None  \n",
       "4            No  "
      ]
     },
     "execution_count": 182,
     "metadata": {},
     "output_type": "execute_result"
    }
   ],
   "source": [
    "df_mrg3.head()"
   ]
  },
  {
   "cell_type": "code",
   "execution_count": 183,
   "id": "9fbc7a86",
   "metadata": {},
   "outputs": [],
   "source": [
    "df_mrg3 = df_mrg3.rename(columns={'gender': 'Gender'}) #Keeping everything consistent"
   ]
  },
  {
   "cell_type": "markdown",
   "id": "b2397144",
   "metadata": {},
   "source": [
    "We now have all the dataframes merged into one big one for analysis and to run the ML models."
   ]
  },
  {
   "cell_type": "code",
   "execution_count": 184,
   "id": "7e70b740",
   "metadata": {},
   "outputs": [],
   "source": [
    "df_mrg3['Churned'] = df_mrg3['EndDate']!='No' #Create a target column with the target in binary format"
   ]
  },
  {
   "cell_type": "code",
   "execution_count": 185,
   "id": "5afdccb8",
   "metadata": {},
   "outputs": [
    {
     "data": {
      "text/plain": [
       "'2020-02-01'"
      ]
     },
     "execution_count": 185,
     "metadata": {},
     "output_type": "execute_result"
    }
   ],
   "source": [
    "df_mrg3['BeginDate'].max()"
   ]
  },
  {
   "cell_type": "code",
   "execution_count": 186,
   "id": "437c5334",
   "metadata": {},
   "outputs": [],
   "source": [
    "df_mrg3.loc[df_mrg3['EndDate'] == 'No',  'EndDate'] = pd.to_datetime('2020-02-01 00:00:00') #max begin date\n",
    "df_mrg3['Tenure'] =  (pd.to_datetime(df_mrg3['EndDate']) - pd.to_datetime(df_mrg3['BeginDate'])).dt.days"
   ]
  },
  {
   "cell_type": "markdown",
   "id": "7449cfa7",
   "metadata": {},
   "source": [
    "I'm using feature engineering to create a feature that contains the tenure or longevity of a customer in days. I am assuming the data was pulled somewhere close to 2020-02-01 which is the max BeginDate. On the data description given we also can see: \"The contract information is valid as of February 1, 2020.\" "
   ]
  },
  {
   "cell_type": "code",
   "execution_count": 187,
   "id": "c4708da8",
   "metadata": {},
   "outputs": [
    {
     "data": {
      "text/html": [
       "<div>\n",
       "<style scoped>\n",
       "    .dataframe tbody tr th:only-of-type {\n",
       "        vertical-align: middle;\n",
       "    }\n",
       "\n",
       "    .dataframe tbody tr th {\n",
       "        vertical-align: top;\n",
       "    }\n",
       "\n",
       "    .dataframe thead th {\n",
       "        text-align: right;\n",
       "    }\n",
       "</style>\n",
       "<table border=\"1\" class=\"dataframe\">\n",
       "  <thead>\n",
       "    <tr style=\"text-align: right;\">\n",
       "      <th></th>\n",
       "      <th>customerID</th>\n",
       "      <th>BeginDate</th>\n",
       "      <th>EndDate</th>\n",
       "      <th>Type</th>\n",
       "      <th>PaperlessBilling</th>\n",
       "      <th>PaymentMethod</th>\n",
       "      <th>MonthlyCharges</th>\n",
       "      <th>TotalCharges</th>\n",
       "      <th>InternetService</th>\n",
       "      <th>OnlineSecurity</th>\n",
       "      <th>...</th>\n",
       "      <th>TechSupport</th>\n",
       "      <th>StreamingTV</th>\n",
       "      <th>StreamingMovies</th>\n",
       "      <th>Gender</th>\n",
       "      <th>SeniorCitizen</th>\n",
       "      <th>Partner</th>\n",
       "      <th>Dependents</th>\n",
       "      <th>MultipleLines</th>\n",
       "      <th>Churned</th>\n",
       "      <th>Tenure</th>\n",
       "    </tr>\n",
       "  </thead>\n",
       "  <tbody>\n",
       "    <tr>\n",
       "      <th>0</th>\n",
       "      <td>7590-VHVEG</td>\n",
       "      <td>2020-01-01</td>\n",
       "      <td>2020-02-01 00:00:00</td>\n",
       "      <td>Month-to-month</td>\n",
       "      <td>Yes</td>\n",
       "      <td>Electronic check</td>\n",
       "      <td>29.85</td>\n",
       "      <td>29.85</td>\n",
       "      <td>DSL</td>\n",
       "      <td>No</td>\n",
       "      <td>...</td>\n",
       "      <td>No</td>\n",
       "      <td>No</td>\n",
       "      <td>No</td>\n",
       "      <td>Female</td>\n",
       "      <td>0</td>\n",
       "      <td>Yes</td>\n",
       "      <td>No</td>\n",
       "      <td>None</td>\n",
       "      <td>False</td>\n",
       "      <td>31</td>\n",
       "    </tr>\n",
       "    <tr>\n",
       "      <th>1</th>\n",
       "      <td>5575-GNVDE</td>\n",
       "      <td>2017-04-01</td>\n",
       "      <td>2020-02-01 00:00:00</td>\n",
       "      <td>One year</td>\n",
       "      <td>No</td>\n",
       "      <td>Mailed check</td>\n",
       "      <td>56.95</td>\n",
       "      <td>1889.50</td>\n",
       "      <td>DSL</td>\n",
       "      <td>Yes</td>\n",
       "      <td>...</td>\n",
       "      <td>No</td>\n",
       "      <td>No</td>\n",
       "      <td>No</td>\n",
       "      <td>Male</td>\n",
       "      <td>0</td>\n",
       "      <td>No</td>\n",
       "      <td>No</td>\n",
       "      <td>No</td>\n",
       "      <td>False</td>\n",
       "      <td>1036</td>\n",
       "    </tr>\n",
       "    <tr>\n",
       "      <th>2</th>\n",
       "      <td>3668-QPYBK</td>\n",
       "      <td>2019-10-01</td>\n",
       "      <td>2019-12-01 00:00:00</td>\n",
       "      <td>Month-to-month</td>\n",
       "      <td>Yes</td>\n",
       "      <td>Mailed check</td>\n",
       "      <td>53.85</td>\n",
       "      <td>108.15</td>\n",
       "      <td>DSL</td>\n",
       "      <td>Yes</td>\n",
       "      <td>...</td>\n",
       "      <td>No</td>\n",
       "      <td>No</td>\n",
       "      <td>No</td>\n",
       "      <td>Male</td>\n",
       "      <td>0</td>\n",
       "      <td>No</td>\n",
       "      <td>No</td>\n",
       "      <td>No</td>\n",
       "      <td>True</td>\n",
       "      <td>61</td>\n",
       "    </tr>\n",
       "    <tr>\n",
       "      <th>3</th>\n",
       "      <td>7795-CFOCW</td>\n",
       "      <td>2016-05-01</td>\n",
       "      <td>2020-02-01 00:00:00</td>\n",
       "      <td>One year</td>\n",
       "      <td>No</td>\n",
       "      <td>Bank transfer (automatic)</td>\n",
       "      <td>42.30</td>\n",
       "      <td>1840.75</td>\n",
       "      <td>DSL</td>\n",
       "      <td>Yes</td>\n",
       "      <td>...</td>\n",
       "      <td>Yes</td>\n",
       "      <td>No</td>\n",
       "      <td>No</td>\n",
       "      <td>Male</td>\n",
       "      <td>0</td>\n",
       "      <td>No</td>\n",
       "      <td>No</td>\n",
       "      <td>None</td>\n",
       "      <td>False</td>\n",
       "      <td>1371</td>\n",
       "    </tr>\n",
       "    <tr>\n",
       "      <th>4</th>\n",
       "      <td>9237-HQITU</td>\n",
       "      <td>2019-09-01</td>\n",
       "      <td>2019-11-01 00:00:00</td>\n",
       "      <td>Month-to-month</td>\n",
       "      <td>Yes</td>\n",
       "      <td>Electronic check</td>\n",
       "      <td>70.70</td>\n",
       "      <td>151.65</td>\n",
       "      <td>Fiber optic</td>\n",
       "      <td>No</td>\n",
       "      <td>...</td>\n",
       "      <td>No</td>\n",
       "      <td>No</td>\n",
       "      <td>No</td>\n",
       "      <td>Female</td>\n",
       "      <td>0</td>\n",
       "      <td>No</td>\n",
       "      <td>No</td>\n",
       "      <td>No</td>\n",
       "      <td>True</td>\n",
       "      <td>61</td>\n",
       "    </tr>\n",
       "  </tbody>\n",
       "</table>\n",
       "<p>5 rows × 22 columns</p>\n",
       "</div>"
      ],
      "text/plain": [
       "   customerID   BeginDate              EndDate            Type  \\\n",
       "0  7590-VHVEG  2020-01-01  2020-02-01 00:00:00  Month-to-month   \n",
       "1  5575-GNVDE  2017-04-01  2020-02-01 00:00:00        One year   \n",
       "2  3668-QPYBK  2019-10-01  2019-12-01 00:00:00  Month-to-month   \n",
       "3  7795-CFOCW  2016-05-01  2020-02-01 00:00:00        One year   \n",
       "4  9237-HQITU  2019-09-01  2019-11-01 00:00:00  Month-to-month   \n",
       "\n",
       "  PaperlessBilling              PaymentMethod  MonthlyCharges  TotalCharges  \\\n",
       "0              Yes           Electronic check           29.85         29.85   \n",
       "1               No               Mailed check           56.95       1889.50   \n",
       "2              Yes               Mailed check           53.85        108.15   \n",
       "3               No  Bank transfer (automatic)           42.30       1840.75   \n",
       "4              Yes           Electronic check           70.70        151.65   \n",
       "\n",
       "  InternetService OnlineSecurity  ... TechSupport StreamingTV StreamingMovies  \\\n",
       "0             DSL             No  ...          No          No              No   \n",
       "1             DSL            Yes  ...          No          No              No   \n",
       "2             DSL            Yes  ...          No          No              No   \n",
       "3             DSL            Yes  ...         Yes          No              No   \n",
       "4     Fiber optic             No  ...          No          No              No   \n",
       "\n",
       "   Gender SeniorCitizen Partner  Dependents MultipleLines Churned Tenure  \n",
       "0  Female             0     Yes          No          None   False     31  \n",
       "1    Male             0      No          No            No   False   1036  \n",
       "2    Male             0      No          No            No    True     61  \n",
       "3    Male             0      No          No          None   False   1371  \n",
       "4  Female             0      No          No            No    True     61  \n",
       "\n",
       "[5 rows x 22 columns]"
      ]
     },
     "execution_count": 187,
     "metadata": {},
     "output_type": "execute_result"
    }
   ],
   "source": [
    "df_mrg3.head()"
   ]
  },
  {
   "cell_type": "code",
   "execution_count": 188,
   "id": "d2912eea",
   "metadata": {},
   "outputs": [],
   "source": [
    "df_mrg3.drop('EndDate', axis=1, inplace=True)"
   ]
  },
  {
   "cell_type": "markdown",
   "id": "d283a4c8",
   "metadata": {},
   "source": [
    "*** Churned is new target so I can drop EndDate. ***"
   ]
  },
  {
   "cell_type": "code",
   "execution_count": 189,
   "id": "1b2bcab9",
   "metadata": {
    "scrolled": true
   },
   "outputs": [
    {
     "data": {
      "text/html": [
       "<div>\n",
       "<style scoped>\n",
       "    .dataframe tbody tr th:only-of-type {\n",
       "        vertical-align: middle;\n",
       "    }\n",
       "\n",
       "    .dataframe tbody tr th {\n",
       "        vertical-align: top;\n",
       "    }\n",
       "\n",
       "    .dataframe thead th {\n",
       "        text-align: right;\n",
       "    }\n",
       "</style>\n",
       "<table border=\"1\" class=\"dataframe\">\n",
       "  <thead>\n",
       "    <tr style=\"text-align: right;\">\n",
       "      <th></th>\n",
       "      <th>customerID</th>\n",
       "      <th>BeginDate</th>\n",
       "      <th>Type</th>\n",
       "      <th>PaperlessBilling</th>\n",
       "      <th>PaymentMethod</th>\n",
       "      <th>MonthlyCharges</th>\n",
       "      <th>TotalCharges</th>\n",
       "      <th>InternetService</th>\n",
       "      <th>OnlineSecurity</th>\n",
       "      <th>OnlineBackup</th>\n",
       "      <th>...</th>\n",
       "      <th>TechSupport</th>\n",
       "      <th>StreamingTV</th>\n",
       "      <th>StreamingMovies</th>\n",
       "      <th>Gender</th>\n",
       "      <th>SeniorCitizen</th>\n",
       "      <th>Partner</th>\n",
       "      <th>Dependents</th>\n",
       "      <th>MultipleLines</th>\n",
       "      <th>Churned</th>\n",
       "      <th>Tenure</th>\n",
       "    </tr>\n",
       "  </thead>\n",
       "  <tbody>\n",
       "    <tr>\n",
       "      <th>0</th>\n",
       "      <td>7590-VHVEG</td>\n",
       "      <td>2020-01-01</td>\n",
       "      <td>Month-to-month</td>\n",
       "      <td>Yes</td>\n",
       "      <td>Electronic check</td>\n",
       "      <td>29.85</td>\n",
       "      <td>29.85</td>\n",
       "      <td>DSL</td>\n",
       "      <td>No</td>\n",
       "      <td>Yes</td>\n",
       "      <td>...</td>\n",
       "      <td>No</td>\n",
       "      <td>No</td>\n",
       "      <td>No</td>\n",
       "      <td>Female</td>\n",
       "      <td>0</td>\n",
       "      <td>Yes</td>\n",
       "      <td>No</td>\n",
       "      <td>None</td>\n",
       "      <td>False</td>\n",
       "      <td>31</td>\n",
       "    </tr>\n",
       "    <tr>\n",
       "      <th>1</th>\n",
       "      <td>5575-GNVDE</td>\n",
       "      <td>2017-04-01</td>\n",
       "      <td>One year</td>\n",
       "      <td>No</td>\n",
       "      <td>Mailed check</td>\n",
       "      <td>56.95</td>\n",
       "      <td>1889.50</td>\n",
       "      <td>DSL</td>\n",
       "      <td>Yes</td>\n",
       "      <td>No</td>\n",
       "      <td>...</td>\n",
       "      <td>No</td>\n",
       "      <td>No</td>\n",
       "      <td>No</td>\n",
       "      <td>Male</td>\n",
       "      <td>0</td>\n",
       "      <td>No</td>\n",
       "      <td>No</td>\n",
       "      <td>No</td>\n",
       "      <td>False</td>\n",
       "      <td>1036</td>\n",
       "    </tr>\n",
       "    <tr>\n",
       "      <th>2</th>\n",
       "      <td>3668-QPYBK</td>\n",
       "      <td>2019-10-01</td>\n",
       "      <td>Month-to-month</td>\n",
       "      <td>Yes</td>\n",
       "      <td>Mailed check</td>\n",
       "      <td>53.85</td>\n",
       "      <td>108.15</td>\n",
       "      <td>DSL</td>\n",
       "      <td>Yes</td>\n",
       "      <td>Yes</td>\n",
       "      <td>...</td>\n",
       "      <td>No</td>\n",
       "      <td>No</td>\n",
       "      <td>No</td>\n",
       "      <td>Male</td>\n",
       "      <td>0</td>\n",
       "      <td>No</td>\n",
       "      <td>No</td>\n",
       "      <td>No</td>\n",
       "      <td>True</td>\n",
       "      <td>61</td>\n",
       "    </tr>\n",
       "    <tr>\n",
       "      <th>3</th>\n",
       "      <td>7795-CFOCW</td>\n",
       "      <td>2016-05-01</td>\n",
       "      <td>One year</td>\n",
       "      <td>No</td>\n",
       "      <td>Bank transfer (automatic)</td>\n",
       "      <td>42.30</td>\n",
       "      <td>1840.75</td>\n",
       "      <td>DSL</td>\n",
       "      <td>Yes</td>\n",
       "      <td>No</td>\n",
       "      <td>...</td>\n",
       "      <td>Yes</td>\n",
       "      <td>No</td>\n",
       "      <td>No</td>\n",
       "      <td>Male</td>\n",
       "      <td>0</td>\n",
       "      <td>No</td>\n",
       "      <td>No</td>\n",
       "      <td>None</td>\n",
       "      <td>False</td>\n",
       "      <td>1371</td>\n",
       "    </tr>\n",
       "    <tr>\n",
       "      <th>4</th>\n",
       "      <td>9237-HQITU</td>\n",
       "      <td>2019-09-01</td>\n",
       "      <td>Month-to-month</td>\n",
       "      <td>Yes</td>\n",
       "      <td>Electronic check</td>\n",
       "      <td>70.70</td>\n",
       "      <td>151.65</td>\n",
       "      <td>Fiber optic</td>\n",
       "      <td>No</td>\n",
       "      <td>No</td>\n",
       "      <td>...</td>\n",
       "      <td>No</td>\n",
       "      <td>No</td>\n",
       "      <td>No</td>\n",
       "      <td>Female</td>\n",
       "      <td>0</td>\n",
       "      <td>No</td>\n",
       "      <td>No</td>\n",
       "      <td>No</td>\n",
       "      <td>True</td>\n",
       "      <td>61</td>\n",
       "    </tr>\n",
       "  </tbody>\n",
       "</table>\n",
       "<p>5 rows × 21 columns</p>\n",
       "</div>"
      ],
      "text/plain": [
       "   customerID   BeginDate            Type PaperlessBilling  \\\n",
       "0  7590-VHVEG  2020-01-01  Month-to-month              Yes   \n",
       "1  5575-GNVDE  2017-04-01        One year               No   \n",
       "2  3668-QPYBK  2019-10-01  Month-to-month              Yes   \n",
       "3  7795-CFOCW  2016-05-01        One year               No   \n",
       "4  9237-HQITU  2019-09-01  Month-to-month              Yes   \n",
       "\n",
       "               PaymentMethod  MonthlyCharges  TotalCharges InternetService  \\\n",
       "0           Electronic check           29.85         29.85             DSL   \n",
       "1               Mailed check           56.95       1889.50             DSL   \n",
       "2               Mailed check           53.85        108.15             DSL   \n",
       "3  Bank transfer (automatic)           42.30       1840.75             DSL   \n",
       "4           Electronic check           70.70        151.65     Fiber optic   \n",
       "\n",
       "  OnlineSecurity OnlineBackup  ... TechSupport StreamingTV StreamingMovies  \\\n",
       "0             No          Yes  ...          No          No              No   \n",
       "1            Yes           No  ...          No          No              No   \n",
       "2            Yes          Yes  ...          No          No              No   \n",
       "3            Yes           No  ...         Yes          No              No   \n",
       "4             No           No  ...          No          No              No   \n",
       "\n",
       "   Gender SeniorCitizen  Partner Dependents MultipleLines Churned  Tenure  \n",
       "0  Female             0      Yes         No          None   False      31  \n",
       "1    Male             0       No         No            No   False    1036  \n",
       "2    Male             0       No         No            No    True      61  \n",
       "3    Male             0       No         No          None   False    1371  \n",
       "4  Female             0       No         No            No    True      61  \n",
       "\n",
       "[5 rows x 21 columns]"
      ]
     },
     "execution_count": 189,
     "metadata": {},
     "output_type": "execute_result"
    }
   ],
   "source": [
    "df_mrg3.head()"
   ]
  },
  {
   "cell_type": "code",
   "execution_count": 190,
   "id": "41dbd153",
   "metadata": {},
   "outputs": [
    {
     "name": "stdout",
     "output_type": "stream",
     "text": [
      "<class 'pandas.core.frame.DataFrame'>\n",
      "Int64Index: 7043 entries, 0 to 7042\n",
      "Data columns (total 21 columns):\n",
      " #   Column            Non-Null Count  Dtype  \n",
      "---  ------            --------------  -----  \n",
      " 0   customerID        7043 non-null   object \n",
      " 1   BeginDate         7043 non-null   object \n",
      " 2   Type              7043 non-null   object \n",
      " 3   PaperlessBilling  7043 non-null   object \n",
      " 4   PaymentMethod     7043 non-null   object \n",
      " 5   MonthlyCharges    7043 non-null   float64\n",
      " 6   TotalCharges      7043 non-null   float64\n",
      " 7   InternetService   7043 non-null   object \n",
      " 8   OnlineSecurity    7043 non-null   object \n",
      " 9   OnlineBackup      7043 non-null   object \n",
      " 10  DeviceProtection  7043 non-null   object \n",
      " 11  TechSupport       7043 non-null   object \n",
      " 12  StreamingTV       7043 non-null   object \n",
      " 13  StreamingMovies   7043 non-null   object \n",
      " 14  Gender            7043 non-null   object \n",
      " 15  SeniorCitizen     7043 non-null   int64  \n",
      " 16  Partner           7043 non-null   object \n",
      " 17  Dependents        7043 non-null   object \n",
      " 18  MultipleLines     7043 non-null   object \n",
      " 19  Churned           7043 non-null   bool   \n",
      " 20  Tenure            7043 non-null   int64  \n",
      "dtypes: bool(1), float64(2), int64(2), object(16)\n",
      "memory usage: 1.1+ MB\n"
     ]
    }
   ],
   "source": [
    "df_mrg3.info()"
   ]
  },
  {
   "cell_type": "code",
   "execution_count": 191,
   "id": "ddffd919",
   "metadata": {},
   "outputs": [],
   "source": [
    "df_mrg3['YearBegin'] = pd.to_datetime(df_mrg3['BeginDate']).dt.year #Extracting Year for model"
   ]
  },
  {
   "cell_type": "code",
   "execution_count": 192,
   "id": "61ef1011",
   "metadata": {},
   "outputs": [
    {
     "data": {
      "text/plain": [
       "array([2020, 2017, 2019, 2016, 2018, 2014, 2015, 2013])"
      ]
     },
     "execution_count": 192,
     "metadata": {},
     "output_type": "execute_result"
    }
   ],
   "source": [
    "df_mrg3['YearBegin'].unique() #From 2013 to 2020"
   ]
  },
  {
   "cell_type": "code",
   "execution_count": 193,
   "id": "b5376646",
   "metadata": {},
   "outputs": [
    {
     "data": {
      "text/plain": [
       "dtype('int64')"
      ]
     },
     "execution_count": 193,
     "metadata": {},
     "output_type": "execute_result"
    }
   ],
   "source": [
    "df_mrg3['YearBegin'].dtype"
   ]
  },
  {
   "cell_type": "code",
   "execution_count": 194,
   "id": "f1ecabb6",
   "metadata": {},
   "outputs": [],
   "source": [
    "df_mrg3.drop('BeginDate', axis=1, inplace=True)"
   ]
  },
  {
   "cell_type": "code",
   "execution_count": 195,
   "id": "b36f0762",
   "metadata": {},
   "outputs": [],
   "source": [
    "df_mrg3.drop('customerID', axis=1, inplace=True)"
   ]
  },
  {
   "cell_type": "code",
   "execution_count": 196,
   "id": "e462949e",
   "metadata": {},
   "outputs": [
    {
     "data": {
      "text/html": [
       "<div>\n",
       "<style scoped>\n",
       "    .dataframe tbody tr th:only-of-type {\n",
       "        vertical-align: middle;\n",
       "    }\n",
       "\n",
       "    .dataframe tbody tr th {\n",
       "        vertical-align: top;\n",
       "    }\n",
       "\n",
       "    .dataframe thead th {\n",
       "        text-align: right;\n",
       "    }\n",
       "</style>\n",
       "<table border=\"1\" class=\"dataframe\">\n",
       "  <thead>\n",
       "    <tr style=\"text-align: right;\">\n",
       "      <th></th>\n",
       "      <th>Type</th>\n",
       "      <th>PaperlessBilling</th>\n",
       "      <th>PaymentMethod</th>\n",
       "      <th>MonthlyCharges</th>\n",
       "      <th>TotalCharges</th>\n",
       "      <th>InternetService</th>\n",
       "      <th>OnlineSecurity</th>\n",
       "      <th>OnlineBackup</th>\n",
       "      <th>DeviceProtection</th>\n",
       "      <th>TechSupport</th>\n",
       "      <th>StreamingTV</th>\n",
       "      <th>StreamingMovies</th>\n",
       "      <th>Gender</th>\n",
       "      <th>SeniorCitizen</th>\n",
       "      <th>Partner</th>\n",
       "      <th>Dependents</th>\n",
       "      <th>MultipleLines</th>\n",
       "      <th>Churned</th>\n",
       "      <th>Tenure</th>\n",
       "      <th>YearBegin</th>\n",
       "    </tr>\n",
       "  </thead>\n",
       "  <tbody>\n",
       "    <tr>\n",
       "      <th>0</th>\n",
       "      <td>Month-to-month</td>\n",
       "      <td>Yes</td>\n",
       "      <td>Electronic check</td>\n",
       "      <td>29.85</td>\n",
       "      <td>29.85</td>\n",
       "      <td>DSL</td>\n",
       "      <td>No</td>\n",
       "      <td>Yes</td>\n",
       "      <td>No</td>\n",
       "      <td>No</td>\n",
       "      <td>No</td>\n",
       "      <td>No</td>\n",
       "      <td>Female</td>\n",
       "      <td>0</td>\n",
       "      <td>Yes</td>\n",
       "      <td>No</td>\n",
       "      <td>None</td>\n",
       "      <td>False</td>\n",
       "      <td>31</td>\n",
       "      <td>2020</td>\n",
       "    </tr>\n",
       "    <tr>\n",
       "      <th>1</th>\n",
       "      <td>One year</td>\n",
       "      <td>No</td>\n",
       "      <td>Mailed check</td>\n",
       "      <td>56.95</td>\n",
       "      <td>1889.50</td>\n",
       "      <td>DSL</td>\n",
       "      <td>Yes</td>\n",
       "      <td>No</td>\n",
       "      <td>Yes</td>\n",
       "      <td>No</td>\n",
       "      <td>No</td>\n",
       "      <td>No</td>\n",
       "      <td>Male</td>\n",
       "      <td>0</td>\n",
       "      <td>No</td>\n",
       "      <td>No</td>\n",
       "      <td>No</td>\n",
       "      <td>False</td>\n",
       "      <td>1036</td>\n",
       "      <td>2017</td>\n",
       "    </tr>\n",
       "    <tr>\n",
       "      <th>2</th>\n",
       "      <td>Month-to-month</td>\n",
       "      <td>Yes</td>\n",
       "      <td>Mailed check</td>\n",
       "      <td>53.85</td>\n",
       "      <td>108.15</td>\n",
       "      <td>DSL</td>\n",
       "      <td>Yes</td>\n",
       "      <td>Yes</td>\n",
       "      <td>No</td>\n",
       "      <td>No</td>\n",
       "      <td>No</td>\n",
       "      <td>No</td>\n",
       "      <td>Male</td>\n",
       "      <td>0</td>\n",
       "      <td>No</td>\n",
       "      <td>No</td>\n",
       "      <td>No</td>\n",
       "      <td>True</td>\n",
       "      <td>61</td>\n",
       "      <td>2019</td>\n",
       "    </tr>\n",
       "    <tr>\n",
       "      <th>3</th>\n",
       "      <td>One year</td>\n",
       "      <td>No</td>\n",
       "      <td>Bank transfer (automatic)</td>\n",
       "      <td>42.30</td>\n",
       "      <td>1840.75</td>\n",
       "      <td>DSL</td>\n",
       "      <td>Yes</td>\n",
       "      <td>No</td>\n",
       "      <td>Yes</td>\n",
       "      <td>Yes</td>\n",
       "      <td>No</td>\n",
       "      <td>No</td>\n",
       "      <td>Male</td>\n",
       "      <td>0</td>\n",
       "      <td>No</td>\n",
       "      <td>No</td>\n",
       "      <td>None</td>\n",
       "      <td>False</td>\n",
       "      <td>1371</td>\n",
       "      <td>2016</td>\n",
       "    </tr>\n",
       "    <tr>\n",
       "      <th>4</th>\n",
       "      <td>Month-to-month</td>\n",
       "      <td>Yes</td>\n",
       "      <td>Electronic check</td>\n",
       "      <td>70.70</td>\n",
       "      <td>151.65</td>\n",
       "      <td>Fiber optic</td>\n",
       "      <td>No</td>\n",
       "      <td>No</td>\n",
       "      <td>No</td>\n",
       "      <td>No</td>\n",
       "      <td>No</td>\n",
       "      <td>No</td>\n",
       "      <td>Female</td>\n",
       "      <td>0</td>\n",
       "      <td>No</td>\n",
       "      <td>No</td>\n",
       "      <td>No</td>\n",
       "      <td>True</td>\n",
       "      <td>61</td>\n",
       "      <td>2019</td>\n",
       "    </tr>\n",
       "  </tbody>\n",
       "</table>\n",
       "</div>"
      ],
      "text/plain": [
       "             Type PaperlessBilling              PaymentMethod  MonthlyCharges  \\\n",
       "0  Month-to-month              Yes           Electronic check           29.85   \n",
       "1        One year               No               Mailed check           56.95   \n",
       "2  Month-to-month              Yes               Mailed check           53.85   \n",
       "3        One year               No  Bank transfer (automatic)           42.30   \n",
       "4  Month-to-month              Yes           Electronic check           70.70   \n",
       "\n",
       "   TotalCharges InternetService OnlineSecurity OnlineBackup DeviceProtection  \\\n",
       "0         29.85             DSL             No          Yes               No   \n",
       "1       1889.50             DSL            Yes           No              Yes   \n",
       "2        108.15             DSL            Yes          Yes               No   \n",
       "3       1840.75             DSL            Yes           No              Yes   \n",
       "4        151.65     Fiber optic             No           No               No   \n",
       "\n",
       "  TechSupport StreamingTV StreamingMovies  Gender  SeniorCitizen Partner  \\\n",
       "0          No          No              No  Female              0     Yes   \n",
       "1          No          No              No    Male              0      No   \n",
       "2          No          No              No    Male              0      No   \n",
       "3         Yes          No              No    Male              0      No   \n",
       "4          No          No              No  Female              0      No   \n",
       "\n",
       "  Dependents MultipleLines  Churned  Tenure  YearBegin  \n",
       "0         No          None    False      31       2020  \n",
       "1         No            No    False    1036       2017  \n",
       "2         No            No     True      61       2019  \n",
       "3         No          None    False    1371       2016  \n",
       "4         No            No     True      61       2019  "
      ]
     },
     "execution_count": 196,
     "metadata": {},
     "output_type": "execute_result"
    }
   ],
   "source": [
    "df_mrg3.head()"
   ]
  },
  {
   "cell_type": "code",
   "execution_count": 197,
   "id": "9fc60aee",
   "metadata": {},
   "outputs": [
    {
     "data": {
      "text/plain": [
       "7043"
      ]
     },
     "execution_count": 197,
     "metadata": {},
     "output_type": "execute_result"
    }
   ],
   "source": [
    "len(df_mrg3['Churned'])"
   ]
  },
  {
   "cell_type": "code",
   "execution_count": 198,
   "id": "e6f7a366",
   "metadata": {},
   "outputs": [
    {
     "data": {
      "text/plain": [
       "5174"
      ]
     },
     "execution_count": 198,
     "metadata": {},
     "output_type": "execute_result"
    }
   ],
   "source": [
    "len(df_mrg3[df_mrg3['Churned'] == False]) "
   ]
  },
  {
   "cell_type": "code",
   "execution_count": 199,
   "id": "b4b3f539",
   "metadata": {},
   "outputs": [
    {
     "data": {
      "text/plain": [
       "0.2653698707936959"
      ]
     },
     "execution_count": 199,
     "metadata": {},
     "output_type": "execute_result"
    }
   ],
   "source": [
    "len(df_mrg3[df_mrg3['Churned'] == True])/len(df_mrg3['Churned'])#Checking Churn rate again."
   ]
  },
  {
   "cell_type": "code",
   "execution_count": 200,
   "id": "ae1936b0",
   "metadata": {},
   "outputs": [
    {
     "data": {
      "text/html": [
       "<div>\n",
       "<style scoped>\n",
       "    .dataframe tbody tr th:only-of-type {\n",
       "        vertical-align: middle;\n",
       "    }\n",
       "\n",
       "    .dataframe tbody tr th {\n",
       "        vertical-align: top;\n",
       "    }\n",
       "\n",
       "    .dataframe thead th {\n",
       "        text-align: right;\n",
       "    }\n",
       "</style>\n",
       "<table border=\"1\" class=\"dataframe\">\n",
       "  <thead>\n",
       "    <tr style=\"text-align: right;\">\n",
       "      <th></th>\n",
       "      <th>MonthlyCharges</th>\n",
       "      <th>TotalCharges</th>\n",
       "      <th>SeniorCitizen</th>\n",
       "      <th>Tenure</th>\n",
       "      <th>YearBegin</th>\n",
       "    </tr>\n",
       "  </thead>\n",
       "  <tbody>\n",
       "    <tr>\n",
       "      <th>count</th>\n",
       "      <td>7043.000000</td>\n",
       "      <td>7043.000000</td>\n",
       "      <td>7043.000000</td>\n",
       "      <td>7043.000000</td>\n",
       "      <td>7043.000000</td>\n",
       "    </tr>\n",
       "    <tr>\n",
       "      <th>mean</th>\n",
       "      <td>64.761692</td>\n",
       "      <td>2279.734304</td>\n",
       "      <td>0.162147</td>\n",
       "      <td>985.996166</td>\n",
       "      <td>2016.878603</td>\n",
       "    </tr>\n",
       "    <tr>\n",
       "      <th>std</th>\n",
       "      <td>30.090047</td>\n",
       "      <td>2266.794470</td>\n",
       "      <td>0.368612</td>\n",
       "      <td>747.587844</td>\n",
       "      <td>1.970573</td>\n",
       "    </tr>\n",
       "    <tr>\n",
       "      <th>min</th>\n",
       "      <td>18.250000</td>\n",
       "      <td>0.000000</td>\n",
       "      <td>0.000000</td>\n",
       "      <td>0.000000</td>\n",
       "      <td>2013.000000</td>\n",
       "    </tr>\n",
       "    <tr>\n",
       "      <th>25%</th>\n",
       "      <td>35.500000</td>\n",
       "      <td>398.550000</td>\n",
       "      <td>0.000000</td>\n",
       "      <td>273.000000</td>\n",
       "      <td>2015.000000</td>\n",
       "    </tr>\n",
       "    <tr>\n",
       "      <th>50%</th>\n",
       "      <td>70.350000</td>\n",
       "      <td>1394.550000</td>\n",
       "      <td>0.000000</td>\n",
       "      <td>883.000000</td>\n",
       "      <td>2017.000000</td>\n",
       "    </tr>\n",
       "    <tr>\n",
       "      <th>75%</th>\n",
       "      <td>89.850000</td>\n",
       "      <td>3786.600000</td>\n",
       "      <td>0.000000</td>\n",
       "      <td>1676.000000</td>\n",
       "      <td>2019.000000</td>\n",
       "    </tr>\n",
       "    <tr>\n",
       "      <th>max</th>\n",
       "      <td>118.750000</td>\n",
       "      <td>8684.800000</td>\n",
       "      <td>1.000000</td>\n",
       "      <td>2191.000000</td>\n",
       "      <td>2020.000000</td>\n",
       "    </tr>\n",
       "  </tbody>\n",
       "</table>\n",
       "</div>"
      ],
      "text/plain": [
       "       MonthlyCharges  TotalCharges  SeniorCitizen       Tenure    YearBegin\n",
       "count     7043.000000   7043.000000    7043.000000  7043.000000  7043.000000\n",
       "mean        64.761692   2279.734304       0.162147   985.996166  2016.878603\n",
       "std         30.090047   2266.794470       0.368612   747.587844     1.970573\n",
       "min         18.250000      0.000000       0.000000     0.000000  2013.000000\n",
       "25%         35.500000    398.550000       0.000000   273.000000  2015.000000\n",
       "50%         70.350000   1394.550000       0.000000   883.000000  2017.000000\n",
       "75%         89.850000   3786.600000       0.000000  1676.000000  2019.000000\n",
       "max        118.750000   8684.800000       1.000000  2191.000000  2020.000000"
      ]
     },
     "execution_count": 200,
     "metadata": {},
     "output_type": "execute_result"
    }
   ],
   "source": [
    "df_mrg3.describe()"
   ]
  },
  {
   "cell_type": "markdown",
   "id": "41102f74",
   "metadata": {},
   "source": [
    "MonthlyCharges and TotalCharges look like they have values that make sense and there are no maximum values that look completely out of reason and with more than like 5 standard deviations away from the mean."
   ]
  },
  {
   "cell_type": "code",
   "execution_count": 201,
   "id": "d599b74d",
   "metadata": {},
   "outputs": [
    {
     "data": {
      "text/plain": [
       "array([2020, 2017, 2019, 2016, 2018, 2014, 2015, 2013])"
      ]
     },
     "execution_count": 201,
     "metadata": {},
     "output_type": "execute_result"
    }
   ],
   "source": [
    "df_mrg3['YearBegin'].unique()"
   ]
  },
  {
   "cell_type": "code",
   "execution_count": 202,
   "id": "85d373bb",
   "metadata": {},
   "outputs": [
    {
     "data": {
      "text/html": [
       "<div>\n",
       "<style scoped>\n",
       "    .dataframe tbody tr th:only-of-type {\n",
       "        vertical-align: middle;\n",
       "    }\n",
       "\n",
       "    .dataframe tbody tr th {\n",
       "        vertical-align: top;\n",
       "    }\n",
       "\n",
       "    .dataframe thead th {\n",
       "        text-align: right;\n",
       "    }\n",
       "</style>\n",
       "<table border=\"1\" class=\"dataframe\">\n",
       "  <thead>\n",
       "    <tr style=\"text-align: right;\">\n",
       "      <th>Churned</th>\n",
       "      <th>False</th>\n",
       "      <th>True</th>\n",
       "    </tr>\n",
       "    <tr>\n",
       "      <th>YearBegin</th>\n",
       "      <th></th>\n",
       "      <th></th>\n",
       "    </tr>\n",
       "  </thead>\n",
       "  <tbody>\n",
       "    <tr>\n",
       "      <th>2013</th>\n",
       "      <td>NaN</td>\n",
       "      <td>7138.381250</td>\n",
       "    </tr>\n",
       "    <tr>\n",
       "      <th>2014</th>\n",
       "      <td>5122.333668</td>\n",
       "      <td>6316.828061</td>\n",
       "    </tr>\n",
       "    <tr>\n",
       "      <th>2015</th>\n",
       "      <td>3786.340329</td>\n",
       "      <td>4646.533740</td>\n",
       "    </tr>\n",
       "    <tr>\n",
       "      <th>2016</th>\n",
       "      <td>2746.657120</td>\n",
       "      <td>3442.294483</td>\n",
       "    </tr>\n",
       "    <tr>\n",
       "      <th>2017</th>\n",
       "      <td>1914.200000</td>\n",
       "      <td>2376.138442</td>\n",
       "    </tr>\n",
       "    <tr>\n",
       "      <th>2018</th>\n",
       "      <td>1074.894196</td>\n",
       "      <td>1255.280952</td>\n",
       "    </tr>\n",
       "    <tr>\n",
       "      <th>2019</th>\n",
       "      <td>347.523053</td>\n",
       "      <td>252.649643</td>\n",
       "    </tr>\n",
       "    <tr>\n",
       "      <th>2020</th>\n",
       "      <td>36.200000</td>\n",
       "      <td>NaN</td>\n",
       "    </tr>\n",
       "  </tbody>\n",
       "</table>\n",
       "</div>"
      ],
      "text/plain": [
       "Churned          False         True\n",
       "YearBegin                          \n",
       "2013               NaN  7138.381250\n",
       "2014       5122.333668  6316.828061\n",
       "2015       3786.340329  4646.533740\n",
       "2016       2746.657120  3442.294483\n",
       "2017       1914.200000  2376.138442\n",
       "2018       1074.894196  1255.280952\n",
       "2019        347.523053   252.649643\n",
       "2020         36.200000          NaN"
      ]
     },
     "execution_count": 202,
     "metadata": {},
     "output_type": "execute_result"
    }
   ],
   "source": [
    "df_mrg3.pivot_table(index='YearBegin', columns='Churned',values='TotalCharges', aggfunc='mean' )"
   ]
  },
  {
   "cell_type": "code",
   "execution_count": 203,
   "id": "d8cba035",
   "metadata": {},
   "outputs": [
    {
     "data": {
      "text/html": [
       "<div>\n",
       "<style scoped>\n",
       "    .dataframe tbody tr th:only-of-type {\n",
       "        vertical-align: middle;\n",
       "    }\n",
       "\n",
       "    .dataframe tbody tr th {\n",
       "        vertical-align: top;\n",
       "    }\n",
       "\n",
       "    .dataframe thead th {\n",
       "        text-align: right;\n",
       "    }\n",
       "</style>\n",
       "<table border=\"1\" class=\"dataframe\">\n",
       "  <thead>\n",
       "    <tr style=\"text-align: right;\">\n",
       "      <th>Churned</th>\n",
       "      <th>False</th>\n",
       "      <th>True</th>\n",
       "    </tr>\n",
       "    <tr>\n",
       "      <th>YearBegin</th>\n",
       "      <th></th>\n",
       "      <th></th>\n",
       "    </tr>\n",
       "  </thead>\n",
       "  <tbody>\n",
       "    <tr>\n",
       "      <th>2013</th>\n",
       "      <td>NaN</td>\n",
       "      <td>7611.050</td>\n",
       "    </tr>\n",
       "    <tr>\n",
       "      <th>2014</th>\n",
       "      <td>5714.200</td>\n",
       "      <td>6563.375</td>\n",
       "    </tr>\n",
       "    <tr>\n",
       "      <th>2015</th>\n",
       "      <td>4079.550</td>\n",
       "      <td>4941.800</td>\n",
       "    </tr>\n",
       "    <tr>\n",
       "      <th>2016</th>\n",
       "      <td>2878.475</td>\n",
       "      <td>3580.300</td>\n",
       "    </tr>\n",
       "    <tr>\n",
       "      <th>2017</th>\n",
       "      <td>1983.875</td>\n",
       "      <td>2440.150</td>\n",
       "    </tr>\n",
       "    <tr>\n",
       "      <th>2018</th>\n",
       "      <td>1074.650</td>\n",
       "      <td>1217.250</td>\n",
       "    </tr>\n",
       "    <tr>\n",
       "      <th>2019</th>\n",
       "      <td>251.625</td>\n",
       "      <td>146.900</td>\n",
       "    </tr>\n",
       "    <tr>\n",
       "      <th>2020</th>\n",
       "      <td>24.950</td>\n",
       "      <td>NaN</td>\n",
       "    </tr>\n",
       "  </tbody>\n",
       "</table>\n",
       "</div>"
      ],
      "text/plain": [
       "Churned       False      True\n",
       "YearBegin                    \n",
       "2013            NaN  7611.050\n",
       "2014       5714.200  6563.375\n",
       "2015       4079.550  4941.800\n",
       "2016       2878.475  3580.300\n",
       "2017       1983.875  2440.150\n",
       "2018       1074.650  1217.250\n",
       "2019        251.625   146.900\n",
       "2020         24.950       NaN"
      ]
     },
     "execution_count": 203,
     "metadata": {},
     "output_type": "execute_result"
    }
   ],
   "source": [
    "df_mrg3.pivot_table(index='YearBegin', columns='Churned',values='TotalCharges', aggfunc='median' )"
   ]
  },
  {
   "cell_type": "markdown",
   "id": "53c366cb",
   "metadata": {},
   "source": [
    "As we can see the total charges for customers that churned are consistently higher. So it could be that they are getting slapped with early cancelation fees if they left the telcom before their contract ended. It could also be that the have more services like internet or more add ons but this is supposed to work the opposite way. The more services a customer has with the same company the more \"sticky\" that customer should be meaning their chances of churning should be less than someone who only has basic services or few services with a company. Lets investigate further. "
   ]
  },
  {
   "cell_type": "code",
   "execution_count": null,
   "id": "9c76a9f4",
   "metadata": {},
   "outputs": [],
   "source": []
  },
  {
   "cell_type": "markdown",
   "id": "66e8e990",
   "metadata": {},
   "source": [
    "I am dropping TotalCharges since it could cause Data Leakage. If a customer churns before their contract has come to full term there could be penalty charges included in the TotalCharges column but this is only after the fact we know the customer churned and this information should not be available in the test set."
   ]
  },
  {
   "cell_type": "code",
   "execution_count": 204,
   "id": "3ee30b91",
   "metadata": {},
   "outputs": [],
   "source": [
    "df_mrg3.drop('TotalCharges', axis=1, inplace = True)"
   ]
  },
  {
   "cell_type": "markdown",
   "id": "478b5294",
   "metadata": {},
   "source": [
    "**Dropping TotalCharges caused my AUC_ROC to drop but I do believe it could cause data leakage.**"
   ]
  },
  {
   "cell_type": "code",
   "execution_count": 205,
   "id": "5fb1f081",
   "metadata": {},
   "outputs": [
    {
     "data": {
      "text/html": [
       "<div>\n",
       "<style scoped>\n",
       "    .dataframe tbody tr th:only-of-type {\n",
       "        vertical-align: middle;\n",
       "    }\n",
       "\n",
       "    .dataframe tbody tr th {\n",
       "        vertical-align: top;\n",
       "    }\n",
       "\n",
       "    .dataframe thead th {\n",
       "        text-align: right;\n",
       "    }\n",
       "</style>\n",
       "<table border=\"1\" class=\"dataframe\">\n",
       "  <thead>\n",
       "    <tr style=\"text-align: right;\">\n",
       "      <th>Churned</th>\n",
       "      <th>False</th>\n",
       "      <th>True</th>\n",
       "    </tr>\n",
       "    <tr>\n",
       "      <th>YearBegin</th>\n",
       "      <th></th>\n",
       "      <th></th>\n",
       "    </tr>\n",
       "  </thead>\n",
       "  <tbody>\n",
       "    <tr>\n",
       "      <th>2013</th>\n",
       "      <td>NaN</td>\n",
       "      <td>100.531250</td>\n",
       "    </tr>\n",
       "    <tr>\n",
       "      <th>2014</th>\n",
       "      <td>74.558266</td>\n",
       "      <td>96.164796</td>\n",
       "    </tr>\n",
       "    <tr>\n",
       "      <th>2015</th>\n",
       "      <td>67.974760</td>\n",
       "      <td>88.471138</td>\n",
       "    </tr>\n",
       "    <tr>\n",
       "      <th>2016</th>\n",
       "      <td>62.697006</td>\n",
       "      <td>84.333448</td>\n",
       "    </tr>\n",
       "    <tr>\n",
       "      <th>2017</th>\n",
       "      <td>61.193266</td>\n",
       "      <td>83.348492</td>\n",
       "    </tr>\n",
       "    <tr>\n",
       "      <th>2018</th>\n",
       "      <td>54.638531</td>\n",
       "      <td>78.790635</td>\n",
       "    </tr>\n",
       "    <tr>\n",
       "      <th>2019</th>\n",
       "      <td>49.077869</td>\n",
       "      <td>65.633792</td>\n",
       "    </tr>\n",
       "    <tr>\n",
       "      <th>2020</th>\n",
       "      <td>38.067213</td>\n",
       "      <td>NaN</td>\n",
       "    </tr>\n",
       "  </tbody>\n",
       "</table>\n",
       "</div>"
      ],
      "text/plain": [
       "Churned        False        True\n",
       "YearBegin                       \n",
       "2013             NaN  100.531250\n",
       "2014       74.558266   96.164796\n",
       "2015       67.974760   88.471138\n",
       "2016       62.697006   84.333448\n",
       "2017       61.193266   83.348492\n",
       "2018       54.638531   78.790635\n",
       "2019       49.077869   65.633792\n",
       "2020       38.067213         NaN"
      ]
     },
     "execution_count": 205,
     "metadata": {},
     "output_type": "execute_result"
    }
   ],
   "source": [
    "df_mrg3.pivot_table(index='YearBegin', columns='Churned',values='MonthlyCharges', aggfunc='mean' )"
   ]
  },
  {
   "cell_type": "code",
   "execution_count": 206,
   "id": "264a257e",
   "metadata": {},
   "outputs": [
    {
     "data": {
      "text/html": [
       "<div>\n",
       "<style scoped>\n",
       "    .dataframe tbody tr th:only-of-type {\n",
       "        vertical-align: middle;\n",
       "    }\n",
       "\n",
       "    .dataframe tbody tr th {\n",
       "        vertical-align: top;\n",
       "    }\n",
       "\n",
       "    .dataframe thead th {\n",
       "        text-align: right;\n",
       "    }\n",
       "</style>\n",
       "<table border=\"1\" class=\"dataframe\">\n",
       "  <thead>\n",
       "    <tr style=\"text-align: right;\">\n",
       "      <th>Churned</th>\n",
       "      <th>False</th>\n",
       "      <th>True</th>\n",
       "    </tr>\n",
       "    <tr>\n",
       "      <th>YearBegin</th>\n",
       "      <th></th>\n",
       "      <th></th>\n",
       "    </tr>\n",
       "  </thead>\n",
       "  <tbody>\n",
       "    <tr>\n",
       "      <th>2013</th>\n",
       "      <td>NaN</td>\n",
       "      <td>100.531250</td>\n",
       "    </tr>\n",
       "    <tr>\n",
       "      <th>2014</th>\n",
       "      <td>74.558266</td>\n",
       "      <td>96.164796</td>\n",
       "    </tr>\n",
       "    <tr>\n",
       "      <th>2015</th>\n",
       "      <td>67.974760</td>\n",
       "      <td>88.471138</td>\n",
       "    </tr>\n",
       "    <tr>\n",
       "      <th>2016</th>\n",
       "      <td>62.697006</td>\n",
       "      <td>84.333448</td>\n",
       "    </tr>\n",
       "    <tr>\n",
       "      <th>2017</th>\n",
       "      <td>61.193266</td>\n",
       "      <td>83.348492</td>\n",
       "    </tr>\n",
       "    <tr>\n",
       "      <th>2018</th>\n",
       "      <td>54.638531</td>\n",
       "      <td>78.790635</td>\n",
       "    </tr>\n",
       "    <tr>\n",
       "      <th>2019</th>\n",
       "      <td>49.077869</td>\n",
       "      <td>65.633792</td>\n",
       "    </tr>\n",
       "    <tr>\n",
       "      <th>2020</th>\n",
       "      <td>38.067213</td>\n",
       "      <td>NaN</td>\n",
       "    </tr>\n",
       "  </tbody>\n",
       "</table>\n",
       "</div>"
      ],
      "text/plain": [
       "Churned        False        True\n",
       "YearBegin                       \n",
       "2013             NaN  100.531250\n",
       "2014       74.558266   96.164796\n",
       "2015       67.974760   88.471138\n",
       "2016       62.697006   84.333448\n",
       "2017       61.193266   83.348492\n",
       "2018       54.638531   78.790635\n",
       "2019       49.077869   65.633792\n",
       "2020       38.067213         NaN"
      ]
     },
     "execution_count": 206,
     "metadata": {},
     "output_type": "execute_result"
    }
   ],
   "source": [
    "df_mrg3.pivot_table(index='YearBegin', columns='Churned',values='MonthlyCharges', aggfunc='mean' )"
   ]
  },
  {
   "cell_type": "markdown",
   "id": "f20e5579",
   "metadata": {},
   "source": [
    "It is surprising for me to see that the monthly bill is also higher for customers that churned on average. We look at the year they begin to get a sense of longevity but customers with more services should be sticker. Next I will look at customers with Internet service and extra landline services and see what the churn rate is for customers with those services and not with any added services and multiple or one landlines. "
   ]
  },
  {
   "cell_type": "code",
   "execution_count": 207,
   "id": "475e306a",
   "metadata": {},
   "outputs": [],
   "source": [
    "pivoted = df_mrg3.pivot_table(index='InternetService', columns='Churned',values='MonthlyCharges', aggfunc='count' )"
   ]
  },
  {
   "cell_type": "code",
   "execution_count": 208,
   "id": "be9140e3",
   "metadata": {},
   "outputs": [
    {
     "data": {
      "text/html": [
       "<div>\n",
       "<style scoped>\n",
       "    .dataframe tbody tr th:only-of-type {\n",
       "        vertical-align: middle;\n",
       "    }\n",
       "\n",
       "    .dataframe tbody tr th {\n",
       "        vertical-align: top;\n",
       "    }\n",
       "\n",
       "    .dataframe thead th {\n",
       "        text-align: right;\n",
       "    }\n",
       "</style>\n",
       "<table border=\"1\" class=\"dataframe\">\n",
       "  <thead>\n",
       "    <tr style=\"text-align: right;\">\n",
       "      <th>Churned</th>\n",
       "      <th>False</th>\n",
       "      <th>True</th>\n",
       "    </tr>\n",
       "    <tr>\n",
       "      <th>InternetService</th>\n",
       "      <th></th>\n",
       "      <th></th>\n",
       "    </tr>\n",
       "  </thead>\n",
       "  <tbody>\n",
       "    <tr>\n",
       "      <th>DSL</th>\n",
       "      <td>1962</td>\n",
       "      <td>459</td>\n",
       "    </tr>\n",
       "    <tr>\n",
       "      <th>Fiber optic</th>\n",
       "      <td>1799</td>\n",
       "      <td>1297</td>\n",
       "    </tr>\n",
       "    <tr>\n",
       "      <th>No</th>\n",
       "      <td>1413</td>\n",
       "      <td>113</td>\n",
       "    </tr>\n",
       "  </tbody>\n",
       "</table>\n",
       "</div>"
      ],
      "text/plain": [
       "Churned          False  True\n",
       "InternetService             \n",
       "DSL               1962   459\n",
       "Fiber optic       1799  1297\n",
       "No                1413   113"
      ]
     },
     "execution_count": 208,
     "metadata": {},
     "output_type": "execute_result"
    }
   ],
   "source": [
    "pivoted"
   ]
  },
  {
   "cell_type": "code",
   "execution_count": 209,
   "id": "7c26893c",
   "metadata": {
    "scrolled": true
   },
   "outputs": [
    {
     "data": {
      "text/plain": [
       "Index([False, True], dtype='object', name='Churned')"
      ]
     },
     "execution_count": 209,
     "metadata": {},
     "output_type": "execute_result"
    }
   ],
   "source": [
    "pivoted.columns"
   ]
  },
  {
   "cell_type": "code",
   "execution_count": 210,
   "id": "79bf295a",
   "metadata": {
    "scrolled": true
   },
   "outputs": [],
   "source": [
    "result = pivoted.loc[:, True] / (pivoted.loc[:, True] + pivoted.loc[:, False])"
   ]
  },
  {
   "cell_type": "code",
   "execution_count": 211,
   "id": "b0b9d6fb",
   "metadata": {},
   "outputs": [
    {
     "name": "stdout",
     "output_type": "stream",
     "text": [
      "InternetService\n",
      "DSL            0.189591\n",
      "Fiber optic    0.418928\n",
      "No             0.074050\n",
      "dtype: float64\n"
     ]
    }
   ],
   "source": [
    "print(result)"
   ]
  },
  {
   "cell_type": "markdown",
   "id": "c4817466",
   "metadata": {},
   "source": [
    "Something seems very strange here. Customers with Fiber Optic internet connection have a very high rate of churn! It could be that this service of fiber is the culprit of so many people leaving the company. Customers that don't have internet connection with Interconnect churn at the lowest rate of .074 and customers with Fiber churn at .41 that is 5.5 times higher rate of churn and majority of customers have either DSL or Fiber. Now lets look at landlines."
   ]
  },
  {
   "cell_type": "code",
   "execution_count": 212,
   "id": "2298bcd2",
   "metadata": {},
   "outputs": [
    {
     "data": {
      "image/png": "[encoded data removed]",
      "text/plain": [
       "<Figure size 720x576 with 1 Axes>"
      ]
     },
     "metadata": {
      "needs_background": "light"
     },
     "output_type": "display_data"
    }
   ],
   "source": [
    "result.plot(kind='bar', color=['#b3cde0', '#fbb4ae', '#ccebc5'], width=0.5, figsize=(10,8))\n",
    "\n",
    "plt.title('Churn Rate by Internet Service Type', fontsize=20)\n",
    "\n",
    "# Set x and y axis labels and their font sizes\n",
    "plt.xlabel('Internet Service', fontsize=14)\n",
    "plt.ylabel('Churn Rate', fontsize=14)\n",
    "\n",
    "# Set x and y axis label font sizes\n",
    "plt.xticks(fontsize=12)\n",
    "plt.yticks(fontsize=12)\n",
    "plt.show()"
   ]
  },
  {
   "cell_type": "markdown",
   "id": "dadf46f8",
   "metadata": {},
   "source": [
    "Customers with no Internet service have the lowest churn rate."
   ]
  },
  {
   "cell_type": "code",
   "execution_count": 213,
   "id": "4c354234",
   "metadata": {},
   "outputs": [],
   "source": [
    "pivoted1 = df_mrg3.pivot_table(index='MultipleLines', columns='Churned',values='MonthlyCharges', aggfunc='count' )"
   ]
  },
  {
   "cell_type": "code",
   "execution_count": 214,
   "id": "1181e71a",
   "metadata": {},
   "outputs": [],
   "source": [
    "result1 = pivoted.loc[:, True] / (pivoted.loc[:, True] + pivoted.loc[:, False])"
   ]
  },
  {
   "cell_type": "code",
   "execution_count": 215,
   "id": "1e89ec47",
   "metadata": {},
   "outputs": [
    {
     "name": "stdout",
     "output_type": "stream",
     "text": [
      "InternetService\n",
      "DSL            0.189591\n",
      "Fiber optic    0.418928\n",
      "No             0.074050\n",
      "dtype: float64\n"
     ]
    }
   ],
   "source": [
    "print(result1)"
   ]
  },
  {
   "cell_type": "markdown",
   "id": "35aef211",
   "metadata": {},
   "source": [
    "Customers with multiple lines churn at a higher rate than customers with only one line or with no lines. This is also counter intuitive since the more services a customer has with a company the stickier they should be. "
   ]
  },
  {
   "cell_type": "markdown",
   "id": "f626ebe6",
   "metadata": {},
   "source": [
    "Lets create a new column that is 1 if customer has all the added services that comes with internet service and zero if they don't have all of them."
   ]
  },
  {
   "cell_type": "code",
   "execution_count": 216,
   "id": "3fc94338",
   "metadata": {},
   "outputs": [],
   "source": [
    "cols = ['OnlineSecurity', 'OnlineBackup', 'DeviceProtection', 'TechSupport', 'StreamingTV', 'StreamingMovies']\n",
    "\n",
    "# create a new column 'NoServices' with value True if all the columns in cols have 'No' value, False otherwise\n",
    "df_mrg3['NoServices'] = df_mrg3[cols].apply(lambda x: all(val == 'No' for val in x), axis=1)"
   ]
  },
  {
   "cell_type": "code",
   "execution_count": 217,
   "id": "9a885e87",
   "metadata": {},
   "outputs": [
    {
     "data": {
      "text/html": [
       "<div>\n",
       "<style scoped>\n",
       "    .dataframe tbody tr th:only-of-type {\n",
       "        vertical-align: middle;\n",
       "    }\n",
       "\n",
       "    .dataframe tbody tr th {\n",
       "        vertical-align: top;\n",
       "    }\n",
       "\n",
       "    .dataframe thead th {\n",
       "        text-align: right;\n",
       "    }\n",
       "</style>\n",
       "<table border=\"1\" class=\"dataframe\">\n",
       "  <thead>\n",
       "    <tr style=\"text-align: right;\">\n",
       "      <th></th>\n",
       "      <th>Type</th>\n",
       "      <th>PaperlessBilling</th>\n",
       "      <th>PaymentMethod</th>\n",
       "      <th>MonthlyCharges</th>\n",
       "      <th>InternetService</th>\n",
       "      <th>OnlineSecurity</th>\n",
       "      <th>OnlineBackup</th>\n",
       "      <th>DeviceProtection</th>\n",
       "      <th>TechSupport</th>\n",
       "      <th>StreamingTV</th>\n",
       "      <th>StreamingMovies</th>\n",
       "      <th>Gender</th>\n",
       "      <th>SeniorCitizen</th>\n",
       "      <th>Partner</th>\n",
       "      <th>Dependents</th>\n",
       "      <th>MultipleLines</th>\n",
       "      <th>Churned</th>\n",
       "      <th>Tenure</th>\n",
       "      <th>YearBegin</th>\n",
       "      <th>NoServices</th>\n",
       "    </tr>\n",
       "  </thead>\n",
       "  <tbody>\n",
       "    <tr>\n",
       "      <th>0</th>\n",
       "      <td>Month-to-month</td>\n",
       "      <td>Yes</td>\n",
       "      <td>Electronic check</td>\n",
       "      <td>29.85</td>\n",
       "      <td>DSL</td>\n",
       "      <td>No</td>\n",
       "      <td>Yes</td>\n",
       "      <td>No</td>\n",
       "      <td>No</td>\n",
       "      <td>No</td>\n",
       "      <td>No</td>\n",
       "      <td>Female</td>\n",
       "      <td>0</td>\n",
       "      <td>Yes</td>\n",
       "      <td>No</td>\n",
       "      <td>None</td>\n",
       "      <td>False</td>\n",
       "      <td>31</td>\n",
       "      <td>2020</td>\n",
       "      <td>False</td>\n",
       "    </tr>\n",
       "    <tr>\n",
       "      <th>1</th>\n",
       "      <td>One year</td>\n",
       "      <td>No</td>\n",
       "      <td>Mailed check</td>\n",
       "      <td>56.95</td>\n",
       "      <td>DSL</td>\n",
       "      <td>Yes</td>\n",
       "      <td>No</td>\n",
       "      <td>Yes</td>\n",
       "      <td>No</td>\n",
       "      <td>No</td>\n",
       "      <td>No</td>\n",
       "      <td>Male</td>\n",
       "      <td>0</td>\n",
       "      <td>No</td>\n",
       "      <td>No</td>\n",
       "      <td>No</td>\n",
       "      <td>False</td>\n",
       "      <td>1036</td>\n",
       "      <td>2017</td>\n",
       "      <td>False</td>\n",
       "    </tr>\n",
       "    <tr>\n",
       "      <th>2</th>\n",
       "      <td>Month-to-month</td>\n",
       "      <td>Yes</td>\n",
       "      <td>Mailed check</td>\n",
       "      <td>53.85</td>\n",
       "      <td>DSL</td>\n",
       "      <td>Yes</td>\n",
       "      <td>Yes</td>\n",
       "      <td>No</td>\n",
       "      <td>No</td>\n",
       "      <td>No</td>\n",
       "      <td>No</td>\n",
       "      <td>Male</td>\n",
       "      <td>0</td>\n",
       "      <td>No</td>\n",
       "      <td>No</td>\n",
       "      <td>No</td>\n",
       "      <td>True</td>\n",
       "      <td>61</td>\n",
       "      <td>2019</td>\n",
       "      <td>False</td>\n",
       "    </tr>\n",
       "    <tr>\n",
       "      <th>3</th>\n",
       "      <td>One year</td>\n",
       "      <td>No</td>\n",
       "      <td>Bank transfer (automatic)</td>\n",
       "      <td>42.30</td>\n",
       "      <td>DSL</td>\n",
       "      <td>Yes</td>\n",
       "      <td>No</td>\n",
       "      <td>Yes</td>\n",
       "      <td>Yes</td>\n",
       "      <td>No</td>\n",
       "      <td>No</td>\n",
       "      <td>Male</td>\n",
       "      <td>0</td>\n",
       "      <td>No</td>\n",
       "      <td>No</td>\n",
       "      <td>None</td>\n",
       "      <td>False</td>\n",
       "      <td>1371</td>\n",
       "      <td>2016</td>\n",
       "      <td>False</td>\n",
       "    </tr>\n",
       "    <tr>\n",
       "      <th>4</th>\n",
       "      <td>Month-to-month</td>\n",
       "      <td>Yes</td>\n",
       "      <td>Electronic check</td>\n",
       "      <td>70.70</td>\n",
       "      <td>Fiber optic</td>\n",
       "      <td>No</td>\n",
       "      <td>No</td>\n",
       "      <td>No</td>\n",
       "      <td>No</td>\n",
       "      <td>No</td>\n",
       "      <td>No</td>\n",
       "      <td>Female</td>\n",
       "      <td>0</td>\n",
       "      <td>No</td>\n",
       "      <td>No</td>\n",
       "      <td>No</td>\n",
       "      <td>True</td>\n",
       "      <td>61</td>\n",
       "      <td>2019</td>\n",
       "      <td>True</td>\n",
       "    </tr>\n",
       "  </tbody>\n",
       "</table>\n",
       "</div>"
      ],
      "text/plain": [
       "             Type PaperlessBilling              PaymentMethod  MonthlyCharges  \\\n",
       "0  Month-to-month              Yes           Electronic check           29.85   \n",
       "1        One year               No               Mailed check           56.95   \n",
       "2  Month-to-month              Yes               Mailed check           53.85   \n",
       "3        One year               No  Bank transfer (automatic)           42.30   \n",
       "4  Month-to-month              Yes           Electronic check           70.70   \n",
       "\n",
       "  InternetService OnlineSecurity OnlineBackup DeviceProtection TechSupport  \\\n",
       "0             DSL             No          Yes               No          No   \n",
       "1             DSL            Yes           No              Yes          No   \n",
       "2             DSL            Yes          Yes               No          No   \n",
       "3             DSL            Yes           No              Yes         Yes   \n",
       "4     Fiber optic             No           No               No          No   \n",
       "\n",
       "  StreamingTV StreamingMovies  Gender  SeniorCitizen Partner Dependents  \\\n",
       "0          No              No  Female              0     Yes         No   \n",
       "1          No              No    Male              0      No         No   \n",
       "2          No              No    Male              0      No         No   \n",
       "3          No              No    Male              0      No         No   \n",
       "4          No              No  Female              0      No         No   \n",
       "\n",
       "  MultipleLines  Churned  Tenure  YearBegin  NoServices  \n",
       "0          None    False      31       2020       False  \n",
       "1            No    False    1036       2017       False  \n",
       "2            No     True      61       2019       False  \n",
       "3          None    False    1371       2016       False  \n",
       "4            No     True      61       2019        True  "
      ]
     },
     "execution_count": 217,
     "metadata": {},
     "output_type": "execute_result"
    }
   ],
   "source": [
    "df_mrg3.head()"
   ]
  },
  {
   "cell_type": "code",
   "execution_count": 218,
   "id": "6b0748e0",
   "metadata": {},
   "outputs": [],
   "source": [
    "churn_no_services = df_mrg3[df_mrg3['NoServices'] == True]['Churned'].mean()\n",
    "churn_with_services = df_mrg3[df_mrg3['NoServices'] == False]['Churned'].mean()"
   ]
  },
  {
   "cell_type": "code",
   "execution_count": 219,
   "id": "cb354230",
   "metadata": {},
   "outputs": [
    {
     "name": "stdout",
     "output_type": "stream",
     "text": [
      "Churn rate for customers with no extra services: 0.21\n",
      "Churn rate for customers with extra services: 0.29\n"
     ]
    }
   ],
   "source": [
    "print(f\"Churn rate for customers with no extra services: {churn_no_services:.2f}\")\n",
    "print(f\"Churn rate for customers with extra services: {churn_with_services:.2f}\")"
   ]
  },
  {
   "cell_type": "code",
   "execution_count": 220,
   "id": "204b28ee",
   "metadata": {},
   "outputs": [],
   "source": [
    "churn_services = pd.Series([0.21,  0.29],\n",
    "                   index=['No_Services', 'Extra_Services'])"
   ]
  },
  {
   "cell_type": "code",
   "execution_count": 221,
   "id": "174ba933",
   "metadata": {},
   "outputs": [
    {
     "data": {
      "image/png": "[encoded data removed]",
      "text/plain": [
       "<Figure size 720x576 with 1 Axes>"
      ]
     },
     "metadata": {
      "needs_background": "light"
     },
     "output_type": "display_data"
    }
   ],
   "source": [
    "churn_services.plot(kind='barh', color=['#b3cde0', '#fbb4ae'], width=0.5, figsize=(10,8))\n",
    "\n",
    "plt.title('Churn Rate by customers with or without extra services', fontsize=20)\n",
    "\n",
    "plt.xlabel('Churn Rate', fontsize=20)\n",
    "\n",
    "# Set x and y axis label font sizes\n",
    "plt.xticks(fontsize=12)\n",
    "plt.yticks(fontsize=12)\n",
    "plt.show()"
   ]
  },
  {
   "cell_type": "code",
   "execution_count": null,
   "id": "1b9cc213",
   "metadata": {},
   "outputs": [],
   "source": []
  },
  {
   "cell_type": "markdown",
   "id": "0f843ae0",
   "metadata": {},
   "source": [
    "Again customers with more extra services churn at a higher rate than those with less add ons. This is a very bad sign for Interconnect since these customers should have a lower rate of churn since it takes a lot more effort for a customer to migrate all those services over to another company. They are also customers with highest ARPU or revenue per user since they are paying a higher monthly bill (see chart below). One thing we do know for sure is that Interconnect should not try to \"save\" customers with high probability of leaving with extra add ons. That is likely just going to make them even more likely to churn/leave. It seems that there are deeper issues with the services themselves since the more services the customer has with Interconnect the more frustrated they seem to get and the more likely to churn. This points to a lack of quality in the services provided compared to competitors. "
   ]
  },
  {
   "cell_type": "code",
   "execution_count": 222,
   "id": "acdc2d8f",
   "metadata": {},
   "outputs": [],
   "source": [
    "monthlybill_no_services = df_mrg3[df_mrg3['NoServices'] == True]['MonthlyCharges'].mean()\n",
    "monthlybill_with_services = df_mrg3[df_mrg3['NoServices'] == False]['MonthlyCharges'].mean()"
   ]
  },
  {
   "cell_type": "code",
   "execution_count": 223,
   "id": "8cc7ff06",
   "metadata": {},
   "outputs": [
    {
     "name": "stdout",
     "output_type": "stream",
     "text": [
      "Monthly bill for customers with no extra services: 32.79\n",
      "Monthly bill for customers with extra services: 79.47\n"
     ]
    }
   ],
   "source": [
    "print(f\"Monthly bill for customers with no extra services: {monthlybill_no_services:.2f}\")\n",
    "print(f\"Monthly bill for customers with extra services: {monthlybill_with_services:.2f}\")"
   ]
  },
  {
   "cell_type": "markdown",
   "id": "d3651de4",
   "metadata": {},
   "source": [
    "Things not looking great for Interconnect not only do they have a very high churn rate but they are losing their highest paying customers with the most amount of services the fastest (highest churn rate). "
   ]
  },
  {
   "cell_type": "code",
   "execution_count": 224,
   "id": "5c1fc9e1",
   "metadata": {},
   "outputs": [],
   "source": [
    "ARPU_services = pd.Series([32.79, 79.47],\n",
    "                   index=['No_Services', 'Extra_Services'])"
   ]
  },
  {
   "cell_type": "code",
   "execution_count": 225,
   "id": "e441876c",
   "metadata": {},
   "outputs": [
    {
     "data": {
      "image/png": "[encoded data removed]",
      "text/plain": [
       "<Figure size 720x576 with 1 Axes>"
      ]
     },
     "metadata": {
      "needs_background": "light"
     },
     "output_type": "display_data"
    }
   ],
   "source": [
    "ARPU_services.plot(kind='barh', color=['#b3cde0', '#fbb4ae'], width=0.5, figsize=(10,8))\n",
    "\n",
    "plt.title('ARPU for customers with services and no extra services', fontsize=20)\n",
    "\n",
    "plt.xlabel('Monthly Bill Average', fontsize=20)\n",
    "\n",
    "\n",
    "# Set x and y axis label font sizes\n",
    "plt.xticks(fontsize=12)\n",
    "plt.yticks(fontsize=12)\n",
    "plt.show()"
   ]
  },
  {
   "cell_type": "code",
   "execution_count": 226,
   "id": "841cdc52",
   "metadata": {},
   "outputs": [],
   "source": [
    "pivoted3 = df_mrg3.pivot_table(index='Type', columns='Churned',values='MonthlyCharges', aggfunc='count' )"
   ]
  },
  {
   "cell_type": "code",
   "execution_count": 227,
   "id": "ac52935f",
   "metadata": {},
   "outputs": [
    {
     "data": {
      "text/html": [
       "<div>\n",
       "<style scoped>\n",
       "    .dataframe tbody tr th:only-of-type {\n",
       "        vertical-align: middle;\n",
       "    }\n",
       "\n",
       "    .dataframe tbody tr th {\n",
       "        vertical-align: top;\n",
       "    }\n",
       "\n",
       "    .dataframe thead th {\n",
       "        text-align: right;\n",
       "    }\n",
       "</style>\n",
       "<table border=\"1\" class=\"dataframe\">\n",
       "  <thead>\n",
       "    <tr style=\"text-align: right;\">\n",
       "      <th>Churned</th>\n",
       "      <th>False</th>\n",
       "      <th>True</th>\n",
       "    </tr>\n",
       "    <tr>\n",
       "      <th>Type</th>\n",
       "      <th></th>\n",
       "      <th></th>\n",
       "    </tr>\n",
       "  </thead>\n",
       "  <tbody>\n",
       "    <tr>\n",
       "      <th>Month-to-month</th>\n",
       "      <td>2220</td>\n",
       "      <td>1655</td>\n",
       "    </tr>\n",
       "    <tr>\n",
       "      <th>One year</th>\n",
       "      <td>1307</td>\n",
       "      <td>166</td>\n",
       "    </tr>\n",
       "    <tr>\n",
       "      <th>Two year</th>\n",
       "      <td>1647</td>\n",
       "      <td>48</td>\n",
       "    </tr>\n",
       "  </tbody>\n",
       "</table>\n",
       "</div>"
      ],
      "text/plain": [
       "Churned         False  True\n",
       "Type                       \n",
       "Month-to-month   2220  1655\n",
       "One year         1307   166\n",
       "Two year         1647    48"
      ]
     },
     "execution_count": 227,
     "metadata": {},
     "output_type": "execute_result"
    }
   ],
   "source": [
    "pivoted3"
   ]
  },
  {
   "cell_type": "code",
   "execution_count": 228,
   "id": "b49d9aa3",
   "metadata": {},
   "outputs": [],
   "source": [
    "result3 = pivoted3.loc[:, True] / (pivoted3.loc[:, True] + pivoted3.loc[:, False])"
   ]
  },
  {
   "cell_type": "code",
   "execution_count": 229,
   "id": "8b581654",
   "metadata": {},
   "outputs": [
    {
     "data": {
      "text/plain": [
       "Type\n",
       "Month-to-month    0.427097\n",
       "One year          0.112695\n",
       "Two year          0.028319\n",
       "dtype: float64"
      ]
     },
     "execution_count": 229,
     "metadata": {},
     "output_type": "execute_result"
    }
   ],
   "source": [
    "result3"
   ]
  },
  {
   "cell_type": "code",
   "execution_count": 230,
   "id": "776c630e",
   "metadata": {},
   "outputs": [
    {
     "data": {
      "image/png": "[encoded data removed]",
      "text/plain": [
       "<Figure size 720x576 with 1 Axes>"
      ]
     },
     "metadata": {
      "needs_background": "light"
     },
     "output_type": "display_data"
    }
   ],
   "source": [
    "result3.plot(kind='bar', color=['#b3cde0', '#fbb4ae', '#ccebc5'], width=0.5, figsize=(10,8))\n",
    "\n",
    "plt.title('Churn Rate by Type of Contract', fontsize=20)\n",
    "\n",
    "plt.xlabel('Contract_Type', fontsize=14)\n",
    "plt.ylabel('Churn Rate', fontsize=14)\n",
    "\n",
    "# Set x and y axis label font sizes\n",
    "plt.xticks(fontsize=12)\n",
    "plt.yticks(fontsize=12)\n",
    "plt.show()"
   ]
  },
  {
   "cell_type": "code",
   "execution_count": 231,
   "id": "0b3adcda",
   "metadata": {},
   "outputs": [],
   "source": [
    "percentage_customers = (pivoted3.loc[:, True] + pivoted3.loc[:, False])/len(df_mrg3) #Percentage"
   ]
  },
  {
   "cell_type": "code",
   "execution_count": 232,
   "id": "d662136b",
   "metadata": {},
   "outputs": [
    {
     "data": {
      "text/plain": [
       "Type\n",
       "Month-to-month    0.550192\n",
       "One year          0.209144\n",
       "Two year          0.240664\n",
       "dtype: float64"
      ]
     },
     "execution_count": 232,
     "metadata": {},
     "output_type": "execute_result"
    }
   ],
   "source": [
    "percentage_customers"
   ]
  },
  {
   "cell_type": "code",
   "execution_count": 233,
   "id": "4bc59890",
   "metadata": {},
   "outputs": [
    {
     "data": {
      "image/png": "[encoded data removed]",
      "text/plain": [
       "<Figure size 720x576 with 1 Axes>"
      ]
     },
     "metadata": {
      "needs_background": "light"
     },
     "output_type": "display_data"
    }
   ],
   "source": [
    "percentage_customers.plot(kind='bar', color=['#b3cde0', '#fbb4ae', '#ccebc5'], width=0.5, figsize=(10,8))\n",
    "\n",
    "plt.title('Percentage of customer base by Type of Contract', fontsize=20)\n",
    "\n",
    "plt.xlabel('Contract', fontsize=14)\n",
    "plt.ylabel('Percentage of Customer Base', fontsize=14)\n",
    "\n",
    "# Set x and y axis label font sizes\n",
    "plt.xticks(fontsize=12)\n",
    "plt.yticks(fontsize=12)\n",
    "plt.show()"
   ]
  },
  {
   "cell_type": "markdown",
   "id": "51e11f8b",
   "metadata": {},
   "source": [
    "The majority of the customer base is on a month-to-month contract or in other words no contract whatsoever. This is also a huge culprit of why the churn is so high. This segment of customers (month-to-month) has the highest churn rate at a super high 43% churn rate! It makes sense because they will suffer not penalty if they leave the company.  Interconnect has to find a way to incentivize their existing customers to sign at least a 1 year contract but preferably a 2 year contract. That would be the best way to reduce churn. They could offer some savings on the bill or add perks like free \"Online_Streaming\" to cause customers to want to sign a contract. Also all new customers should be pushed heavily to sign a contract. There is no point in getting adds (additional customers) on the the month-to-month contract basis when almost half of them will churn. It is a waste of money and resources for Interconnect. "
   ]
  },
  {
   "cell_type": "code",
   "execution_count": 234,
   "id": "bdbda5c0",
   "metadata": {},
   "outputs": [],
   "source": [
    "#PaymentMethod\n",
    "pivoted4 = df_mrg3.pivot_table(index='PaymentMethod', columns='Churned',values='MonthlyCharges', aggfunc='count' )\n"
   ]
  },
  {
   "cell_type": "code",
   "execution_count": 235,
   "id": "e19812bf",
   "metadata": {},
   "outputs": [],
   "source": [
    "result4 = pivoted4.loc[:, True] / (pivoted4.loc[:, True] + pivoted4.loc[:, False])"
   ]
  },
  {
   "cell_type": "code",
   "execution_count": 236,
   "id": "4530d6b9",
   "metadata": {},
   "outputs": [
    {
     "data": {
      "text/plain": [
       "PaymentMethod\n",
       "Bank transfer (automatic)    0.167098\n",
       "Credit card (automatic)      0.152431\n",
       "Electronic check             0.452854\n",
       "Mailed check                 0.191067\n",
       "dtype: float64"
      ]
     },
     "execution_count": 236,
     "metadata": {},
     "output_type": "execute_result"
    }
   ],
   "source": [
    "result4"
   ]
  },
  {
   "cell_type": "code",
   "execution_count": 237,
   "id": "40404d6d",
   "metadata": {},
   "outputs": [],
   "source": [
    "percentage_payment = (pivoted4.loc[:, True] + pivoted4.loc[:, False])/len(df_mrg3)"
   ]
  },
  {
   "cell_type": "code",
   "execution_count": 238,
   "id": "e16901cb",
   "metadata": {},
   "outputs": [
    {
     "data": {
      "text/plain": [
       "PaymentMethod\n",
       "Bank transfer (automatic)    0.219225\n",
       "Credit card (automatic)      0.216101\n",
       "Electronic check             0.335794\n",
       "Mailed check                 0.228880\n",
       "dtype: float64"
      ]
     },
     "execution_count": 238,
     "metadata": {},
     "output_type": "execute_result"
    }
   ],
   "source": [
    "percentage_payment"
   ]
  },
  {
   "cell_type": "markdown",
   "id": "b95be1a4",
   "metadata": {},
   "source": [
    "I won't do an extra graph for the findings on the payment method but it is important to get customers on automatic payments which are Bank transfer or Credit Card. Customers on E-check have the highest rate of churn and they are not automatic. Mailed in check also has lower churn but not as low as the automatic payment methods and it is slower cash-flow and overhead to receive them in the mail which also has added cost for processing a mailed check. "
   ]
  },
  {
   "cell_type": "markdown",
   "id": "4a6995d3",
   "metadata": {},
   "source": [
    "## Initial Conclusions after EDA:"
   ]
  },
  {
   "cell_type": "markdown",
   "id": "370d9993",
   "metadata": {},
   "source": [
    "The target data is binary and it is unbalanced the majority of the customers did not churn but still churn is quite high for a telecom and many customers are leaving. The company must act fast or they will be swallowed up by competition since these costumers are going to it's competitors. "
   ]
  },
  {
   "cell_type": "markdown",
   "id": "e4ef3533",
   "metadata": {},
   "source": [
    "We can see that customers having fiber internet are at the highest risk of churning. Also customers that have internet and then have any of the addition services like for example:  StreamingMovies or OnlineBackup also churn at a higher rate which is the opposite of what should be happening since these customers should be stickier. This could point to a lack of quality in the services provided compared to competitors."
   ]
  },
  {
   "cell_type": "markdown",
   "id": "0c8f01d2",
   "metadata": {},
   "source": [
    "The main reason why customers with more services are not \"stickier\" is probably because of the high percentage of month-to-month contact customers. The vast majority of customers need to be on a contract of 1 or 2 years if the company really wants to reduce churn. "
   ]
  },
  {
   "cell_type": "markdown",
   "id": "1c540cd4",
   "metadata": {},
   "source": [
    "The company also has to try to get customers on automatic payment methods since these tend to have a much better churn rate. But I think the main priority and focus needs to be on getting existing and new customers on contracts at all costs. "
   ]
  },
  {
   "cell_type": "markdown",
   "id": "177c01cb",
   "metadata": {},
   "source": [
    "### CatBoost Model"
   ]
  },
  {
   "cell_type": "markdown",
   "id": "847c695b",
   "metadata": {},
   "source": [
    "Distinguish which features are categorical."
   ]
  },
  {
   "cell_type": "code",
   "execution_count": 239,
   "id": "a0c71c8c",
   "metadata": {},
   "outputs": [
    {
     "name": "stdout",
     "output_type": "stream",
     "text": [
      "<class 'pandas.core.frame.DataFrame'>\n",
      "Int64Index: 7043 entries, 0 to 7042\n",
      "Data columns (total 20 columns):\n",
      " #   Column            Non-Null Count  Dtype  \n",
      "---  ------            --------------  -----  \n",
      " 0   Type              7043 non-null   object \n",
      " 1   PaperlessBilling  7043 non-null   object \n",
      " 2   PaymentMethod     7043 non-null   object \n",
      " 3   MonthlyCharges    7043 non-null   float64\n",
      " 4   InternetService   7043 non-null   object \n",
      " 5   OnlineSecurity    7043 non-null   object \n",
      " 6   OnlineBackup      7043 non-null   object \n",
      " 7   DeviceProtection  7043 non-null   object \n",
      " 8   TechSupport       7043 non-null   object \n",
      " 9   StreamingTV       7043 non-null   object \n",
      " 10  StreamingMovies   7043 non-null   object \n",
      " 11  Gender            7043 non-null   object \n",
      " 12  SeniorCitizen     7043 non-null   int64  \n",
      " 13  Partner           7043 non-null   object \n",
      " 14  Dependents        7043 non-null   object \n",
      " 15  MultipleLines     7043 non-null   object \n",
      " 16  Churned           7043 non-null   bool   \n",
      " 17  Tenure            7043 non-null   int64  \n",
      " 18  YearBegin         7043 non-null   int64  \n",
      " 19  NoServices        7043 non-null   bool   \n",
      "dtypes: bool(2), float64(1), int64(3), object(14)\n",
      "memory usage: 1.0+ MB\n"
     ]
    }
   ],
   "source": [
    "df_mrg3.info()"
   ]
  },
  {
   "cell_type": "code",
   "execution_count": 240,
   "id": "214a9f80",
   "metadata": {},
   "outputs": [],
   "source": [
    "df_mrg3.drop('YearBegin', axis=1, inplace=True) #Drop YearBegin since it could cause data leakage."
   ]
  },
  {
   "cell_type": "code",
   "execution_count": 241,
   "id": "1961b6f8",
   "metadata": {},
   "outputs": [],
   "source": [
    "cat_cols = list(df_mrg3.select_dtypes(include=['object']).columns)"
   ]
  },
  {
   "cell_type": "code",
   "execution_count": 242,
   "id": "5f7a3e88",
   "metadata": {},
   "outputs": [
    {
     "name": "stdout",
     "output_type": "stream",
     "text": [
      "['Type', 'PaperlessBilling', 'PaymentMethod', 'InternetService', 'OnlineSecurity', 'OnlineBackup', 'DeviceProtection', 'TechSupport', 'StreamingTV', 'StreamingMovies', 'Gender', 'Partner', 'Dependents', 'MultipleLines']\n"
     ]
    }
   ],
   "source": [
    "print(cat_cols)"
   ]
  },
  {
   "cell_type": "markdown",
   "id": "6c75c51d",
   "metadata": {},
   "source": [
    "Split the data into train, test and validation."
   ]
  },
  {
   "cell_type": "code",
   "execution_count": 243,
   "id": "1c21c254",
   "metadata": {},
   "outputs": [],
   "source": [
    "df_mrg3['NoServices'] = df_mrg3['NoServices'].astype('int')"
   ]
  },
  {
   "cell_type": "code",
   "execution_count": 244,
   "id": "150f6384",
   "metadata": {},
   "outputs": [],
   "source": [
    "X = df_mrg3.drop('Churned', axis=1)"
   ]
  },
  {
   "cell_type": "code",
   "execution_count": 245,
   "id": "8a387188",
   "metadata": {},
   "outputs": [
    {
     "data": {
      "text/plain": [
       "(7043, 18)"
      ]
     },
     "execution_count": 245,
     "metadata": {},
     "output_type": "execute_result"
    }
   ],
   "source": [
    "X.shape"
   ]
  },
  {
   "cell_type": "code",
   "execution_count": 246,
   "id": "cffe84d7",
   "metadata": {},
   "outputs": [
    {
     "data": {
      "text/html": [
       "<div>\n",
       "<style scoped>\n",
       "    .dataframe tbody tr th:only-of-type {\n",
       "        vertical-align: middle;\n",
       "    }\n",
       "\n",
       "    .dataframe tbody tr th {\n",
       "        vertical-align: top;\n",
       "    }\n",
       "\n",
       "    .dataframe thead th {\n",
       "        text-align: right;\n",
       "    }\n",
       "</style>\n",
       "<table border=\"1\" class=\"dataframe\">\n",
       "  <thead>\n",
       "    <tr style=\"text-align: right;\">\n",
       "      <th></th>\n",
       "      <th>Type</th>\n",
       "      <th>PaperlessBilling</th>\n",
       "      <th>PaymentMethod</th>\n",
       "      <th>MonthlyCharges</th>\n",
       "      <th>InternetService</th>\n",
       "      <th>OnlineSecurity</th>\n",
       "      <th>OnlineBackup</th>\n",
       "      <th>DeviceProtection</th>\n",
       "      <th>TechSupport</th>\n",
       "      <th>StreamingTV</th>\n",
       "      <th>StreamingMovies</th>\n",
       "      <th>Gender</th>\n",
       "      <th>SeniorCitizen</th>\n",
       "      <th>Partner</th>\n",
       "      <th>Dependents</th>\n",
       "      <th>MultipleLines</th>\n",
       "      <th>Tenure</th>\n",
       "      <th>NoServices</th>\n",
       "    </tr>\n",
       "  </thead>\n",
       "  <tbody>\n",
       "    <tr>\n",
       "      <th>0</th>\n",
       "      <td>Month-to-month</td>\n",
       "      <td>Yes</td>\n",
       "      <td>Electronic check</td>\n",
       "      <td>29.85</td>\n",
       "      <td>DSL</td>\n",
       "      <td>No</td>\n",
       "      <td>Yes</td>\n",
       "      <td>No</td>\n",
       "      <td>No</td>\n",
       "      <td>No</td>\n",
       "      <td>No</td>\n",
       "      <td>Female</td>\n",
       "      <td>0</td>\n",
       "      <td>Yes</td>\n",
       "      <td>No</td>\n",
       "      <td>None</td>\n",
       "      <td>31</td>\n",
       "      <td>0</td>\n",
       "    </tr>\n",
       "    <tr>\n",
       "      <th>1</th>\n",
       "      <td>One year</td>\n",
       "      <td>No</td>\n",
       "      <td>Mailed check</td>\n",
       "      <td>56.95</td>\n",
       "      <td>DSL</td>\n",
       "      <td>Yes</td>\n",
       "      <td>No</td>\n",
       "      <td>Yes</td>\n",
       "      <td>No</td>\n",
       "      <td>No</td>\n",
       "      <td>No</td>\n",
       "      <td>Male</td>\n",
       "      <td>0</td>\n",
       "      <td>No</td>\n",
       "      <td>No</td>\n",
       "      <td>No</td>\n",
       "      <td>1036</td>\n",
       "      <td>0</td>\n",
       "    </tr>\n",
       "    <tr>\n",
       "      <th>2</th>\n",
       "      <td>Month-to-month</td>\n",
       "      <td>Yes</td>\n",
       "      <td>Mailed check</td>\n",
       "      <td>53.85</td>\n",
       "      <td>DSL</td>\n",
       "      <td>Yes</td>\n",
       "      <td>Yes</td>\n",
       "      <td>No</td>\n",
       "      <td>No</td>\n",
       "      <td>No</td>\n",
       "      <td>No</td>\n",
       "      <td>Male</td>\n",
       "      <td>0</td>\n",
       "      <td>No</td>\n",
       "      <td>No</td>\n",
       "      <td>No</td>\n",
       "      <td>61</td>\n",
       "      <td>0</td>\n",
       "    </tr>\n",
       "    <tr>\n",
       "      <th>3</th>\n",
       "      <td>One year</td>\n",
       "      <td>No</td>\n",
       "      <td>Bank transfer (automatic)</td>\n",
       "      <td>42.30</td>\n",
       "      <td>DSL</td>\n",
       "      <td>Yes</td>\n",
       "      <td>No</td>\n",
       "      <td>Yes</td>\n",
       "      <td>Yes</td>\n",
       "      <td>No</td>\n",
       "      <td>No</td>\n",
       "      <td>Male</td>\n",
       "      <td>0</td>\n",
       "      <td>No</td>\n",
       "      <td>No</td>\n",
       "      <td>None</td>\n",
       "      <td>1371</td>\n",
       "      <td>0</td>\n",
       "    </tr>\n",
       "    <tr>\n",
       "      <th>4</th>\n",
       "      <td>Month-to-month</td>\n",
       "      <td>Yes</td>\n",
       "      <td>Electronic check</td>\n",
       "      <td>70.70</td>\n",
       "      <td>Fiber optic</td>\n",
       "      <td>No</td>\n",
       "      <td>No</td>\n",
       "      <td>No</td>\n",
       "      <td>No</td>\n",
       "      <td>No</td>\n",
       "      <td>No</td>\n",
       "      <td>Female</td>\n",
       "      <td>0</td>\n",
       "      <td>No</td>\n",
       "      <td>No</td>\n",
       "      <td>No</td>\n",
       "      <td>61</td>\n",
       "      <td>1</td>\n",
       "    </tr>\n",
       "  </tbody>\n",
       "</table>\n",
       "</div>"
      ],
      "text/plain": [
       "             Type PaperlessBilling              PaymentMethod  MonthlyCharges  \\\n",
       "0  Month-to-month              Yes           Electronic check           29.85   \n",
       "1        One year               No               Mailed check           56.95   \n",
       "2  Month-to-month              Yes               Mailed check           53.85   \n",
       "3        One year               No  Bank transfer (automatic)           42.30   \n",
       "4  Month-to-month              Yes           Electronic check           70.70   \n",
       "\n",
       "  InternetService OnlineSecurity OnlineBackup DeviceProtection TechSupport  \\\n",
       "0             DSL             No          Yes               No          No   \n",
       "1             DSL            Yes           No              Yes          No   \n",
       "2             DSL            Yes          Yes               No          No   \n",
       "3             DSL            Yes           No              Yes         Yes   \n",
       "4     Fiber optic             No           No               No          No   \n",
       "\n",
       "  StreamingTV StreamingMovies  Gender  SeniorCitizen Partner Dependents  \\\n",
       "0          No              No  Female              0     Yes         No   \n",
       "1          No              No    Male              0      No         No   \n",
       "2          No              No    Male              0      No         No   \n",
       "3          No              No    Male              0      No         No   \n",
       "4          No              No  Female              0      No         No   \n",
       "\n",
       "  MultipleLines  Tenure  NoServices  \n",
       "0          None      31           0  \n",
       "1            No    1036           0  \n",
       "2            No      61           0  \n",
       "3          None    1371           0  \n",
       "4            No      61           1  "
      ]
     },
     "execution_count": 246,
     "metadata": {},
     "output_type": "execute_result"
    }
   ],
   "source": [
    "X.head()"
   ]
  },
  {
   "cell_type": "code",
   "execution_count": 112,
   "id": "0f7c1b26",
   "metadata": {},
   "outputs": [
    {
     "name": "stdout",
     "output_type": "stream",
     "text": [
      "<class 'pandas.core.frame.DataFrame'>\n",
      "Int64Index: 7043 entries, 0 to 7042\n",
      "Data columns (total 18 columns):\n",
      " #   Column            Non-Null Count  Dtype  \n",
      "---  ------            --------------  -----  \n",
      " 0   Type              7043 non-null   object \n",
      " 1   PaperlessBilling  7043 non-null   object \n",
      " 2   PaymentMethod     7043 non-null   object \n",
      " 3   MonthlyCharges    7043 non-null   float64\n",
      " 4   InternetService   7043 non-null   object \n",
      " 5   OnlineSecurity    7043 non-null   object \n",
      " 6   OnlineBackup      7043 non-null   object \n",
      " 7   DeviceProtection  7043 non-null   object \n",
      " 8   TechSupport       7043 non-null   object \n",
      " 9   StreamingTV       7043 non-null   object \n",
      " 10  StreamingMovies   7043 non-null   object \n",
      " 11  Gender            7043 non-null   object \n",
      " 12  SeniorCitizen     7043 non-null   int64  \n",
      " 13  Partner           7043 non-null   object \n",
      " 14  Dependents        7043 non-null   object \n",
      " 15  MultipleLines     7043 non-null   object \n",
      " 16  Tenure            7043 non-null   int64  \n",
      " 17  NoServices        7043 non-null   int64  \n",
      "dtypes: float64(1), int64(3), object(14)\n",
      "memory usage: 1.0+ MB\n"
     ]
    }
   ],
   "source": [
    "X.info()"
   ]
  },
  {
   "cell_type": "code",
   "execution_count": 113,
   "id": "b587a769",
   "metadata": {},
   "outputs": [],
   "source": [
    "y = df_mrg3['Churned']"
   ]
  },
  {
   "cell_type": "code",
   "execution_count": 114,
   "id": "2ec32816",
   "metadata": {},
   "outputs": [],
   "source": [
    "le = LabelEncoder()\n",
    "y = le.fit_transform(y) #Convert the target from true or false to zero or 1."
   ]
  },
  {
   "cell_type": "code",
   "execution_count": 115,
   "id": "a0dce3b6",
   "metadata": {},
   "outputs": [
    {
     "data": {
      "text/plain": [
       "array([0, 0, 1, ..., 0, 1, 0])"
      ]
     },
     "execution_count": 115,
     "metadata": {},
     "output_type": "execute_result"
    }
   ],
   "source": [
    "y"
   ]
  },
  {
   "cell_type": "markdown",
   "id": "7d3f6238",
   "metadata": {},
   "source": [
    "*Note: I split the final merged dataframe in the fashion below to try to keep the True False proportions of 73% False and 27% True (customer churned). I will try to use the stratify parameter if need be.  "
   ]
  },
  {
   "cell_type": "code",
   "execution_count": 116,
   "id": "c352221a",
   "metadata": {},
   "outputs": [],
   "source": [
    "X_train, X_test, y_train, y_test = train_test_split(X, y, test_size=0.2, random_state=77, stratify=y)\n",
    "\n"
   ]
  },
  {
   "cell_type": "code",
   "execution_count": 117,
   "id": "72c7ee90",
   "metadata": {},
   "outputs": [],
   "source": [
    "X_train, X_val, y_train, y_val = train_test_split(X_train, y_train, test_size=0.2, random_state=77, stratify=y_train)\n",
    "    \n",
    "    \n",
    "    "
   ]
  },
  {
   "cell_type": "code",
   "execution_count": 118,
   "id": "8414f0ce",
   "metadata": {},
   "outputs": [
    {
     "data": {
      "text/plain": [
       "3311"
      ]
     },
     "execution_count": 118,
     "metadata": {},
     "output_type": "execute_result"
    }
   ],
   "source": [
    "(y_train==0).sum()"
   ]
  },
  {
   "cell_type": "code",
   "execution_count": 119,
   "id": "6e893aec",
   "metadata": {},
   "outputs": [
    {
     "data": {
      "text/plain": [
       "1196"
      ]
     },
     "execution_count": 119,
     "metadata": {},
     "output_type": "execute_result"
    }
   ],
   "source": [
    "(y_train==1).sum()"
   ]
  },
  {
   "cell_type": "code",
   "execution_count": 120,
   "id": "43680c10",
   "metadata": {},
   "outputs": [
    {
     "data": {
      "text/plain": [
       "0.2653649877967606"
      ]
     },
     "execution_count": 120,
     "metadata": {},
     "output_type": "execute_result"
    }
   ],
   "source": [
    "(y_train==1).sum()/len(y_train)# The train set maintains the -\n",
    "                             #correct churn proporting to match total churn rate"
   ]
  },
  {
   "cell_type": "markdown",
   "id": "9ebf05c1",
   "metadata": {},
   "source": [
    "Lets try to oversample the True or One in Churned target since they are only 26.5% of the target."
   ]
  },
  {
   "cell_type": "code",
   "execution_count": 121,
   "id": "bc6a3183",
   "metadata": {},
   "outputs": [],
   "source": [
    "# apply oversampling to the training set\n",
    "oversampler = RandomOverSampler(random_state=77)"
   ]
  },
  {
   "cell_type": "code",
   "execution_count": 122,
   "id": "934d1a91",
   "metadata": {},
   "outputs": [],
   "source": [
    "X_train_resampled, y_train_resampled = oversampler.fit_resample(X_train, y_train)"
   ]
  },
  {
   "cell_type": "code",
   "execution_count": 123,
   "id": "181e0a06",
   "metadata": {},
   "outputs": [
    {
     "data": {
      "text/plain": [
       "3311"
      ]
     },
     "execution_count": 123,
     "metadata": {},
     "output_type": "execute_result"
    }
   ],
   "source": [
    "(y_train_resampled==0).sum()"
   ]
  },
  {
   "cell_type": "code",
   "execution_count": 124,
   "id": "8890e7b3",
   "metadata": {},
   "outputs": [
    {
     "data": {
      "text/plain": [
       "3311"
      ]
     },
     "execution_count": 124,
     "metadata": {},
     "output_type": "execute_result"
    }
   ],
   "source": [
    "(y_train_resampled==1).sum() #After oversampling we have the same proportion of 1 and 0."
   ]
  },
  {
   "cell_type": "markdown",
   "id": "50f87925",
   "metadata": {},
   "source": [
    "*** CatBoost approach***"
   ]
  },
  {
   "cell_type": "markdown",
   "id": "d92688a2",
   "metadata": {},
   "source": [
    "My approach with CatBoost was to use a very small learning rate and use a very large number of iterations. This was viable since the data set was quite small with only about 7K rows. This would not be possible to use with a very large data frame because of the amount of time it would take to do this many iterations. CatBoost does cross validation under the hood."
   ]
  },
  {
   "cell_type": "code",
   "execution_count": 125,
   "id": "94a04c4a",
   "metadata": {},
   "outputs": [],
   "source": [
    "model_cat = CatBoostClassifier(\n",
    "                        iterations=190000, #I put this high since the df is small\n",
    "                        learning_rate=0.0001,  #I tried many different learning rates but smaller is good when dataset is small\n",
    "                        loss_function='Logloss',\n",
    "                        eval_metric='AUC',\n",
    "                        random_seed=77)"
   ]
  },
  {
   "cell_type": "code",
   "execution_count": 126,
   "id": "72cf6c86",
   "metadata": {
    "scrolled": false
   },
   "outputs": [
    {
     "name": "stdout",
     "output_type": "stream",
     "text": [
      "0:\ttest: 0.8242067\tbest: 0.8242067 (0)\ttotal: 68.9ms\tremaining: 3h 38m 19s\n",
      "10000:\ttest: 0.8565629\tbest: 0.8565791 (9985)\ttotal: 37s\tremaining: 11m 6s\n",
      "20000:\ttest: 0.8637932\tbest: 0.8638012 (19996)\ttotal: 1m 16s\tremaining: 10m 54s\n",
      "30000:\ttest: 0.8682727\tbest: 0.8682767 (29979)\ttotal: 1m 58s\tremaining: 10m 32s\n",
      "40000:\ttest: 0.8711163\tbest: 0.8711163 (39997)\ttotal: 2m 40s\tremaining: 10m\n",
      "50000:\ttest: 0.8729986\tbest: 0.8730107 (49829)\ttotal: 3m 20s\tremaining: 9m 21s\n",
      "60000:\ttest: 0.8739195\tbest: 0.8739276 (59995)\ttotal: 4m 10s\tremaining: 9m 1s\n",
      "70000:\ttest: 0.8749495\tbest: 0.8749697 (69953)\ttotal: 4m 54s\tremaining: 8m 24s\n",
      "80000:\ttest: 0.8760926\tbest: 0.8761047 (79900)\ttotal: 5m 37s\tremaining: 7m 44s\n",
      "90000:\ttest: 0.8774659\tbest: 0.8774659 (89998)\ttotal: 6m 24s\tremaining: 7m 6s\n",
      "100000:\ttest: 0.8795219\tbest: 0.8795260 (99995)\ttotal: 7m 10s\tremaining: 6m 27s\n",
      "110000:\ttest: 0.8813638\tbest: 0.8813719 (109950)\ttotal: 8m\tremaining: 5m 49s\n",
      "120000:\ttest: 0.8830845\tbest: 0.8830845 (119993)\ttotal: 8m 48s\tremaining: 5m 8s\n",
      "130000:\ttest: 0.8843609\tbest: 0.8843851 (129873)\ttotal: 9m 38s\tremaining: 4m 27s\n",
      "140000:\ttest: 0.8854475\tbest: 0.8854596 (139944)\ttotal: 10m 26s\tremaining: 3m 43s\n",
      "150000:\ttest: 0.8866310\tbest: 0.8866390 (149981)\ttotal: 11m 15s\tremaining: 3m\n",
      "160000:\ttest: 0.8880407\tbest: 0.8880447 (159932)\ttotal: 12m 5s\tremaining: 2m 15s\n",
      "170000:\ttest: 0.8890868\tbest: 0.8890909 (169825)\ttotal: 12m 55s\tremaining: 1m 31s\n",
      "180000:\ttest: 0.8901693\tbest: 0.8901693 (179984)\ttotal: 13m 46s\tremaining: 45.9s\n",
      "189999:\ttest: 0.8915871\tbest: 0.8915911 (189960)\ttotal: 14m 37s\tremaining: 0us\n",
      "\n",
      "bestTest = 0.8915911331\n",
      "bestIteration = 189960\n",
      "\n",
      "Shrink model to first 189961 iterations.\n"
     ]
    }
   ],
   "source": [
    "# train the model on the resampled training set\n",
    "model_cat.fit(\n",
    "    X_train_resampled, y_train_resampled, #using upsampling\n",
    "    eval_set=(X_val, y_val), #use validation sets\n",
    "    early_stopping_rounds=5000,\n",
    "    verbose=10000,\n",
    "    cat_features=cat_cols);"
   ]
  },
  {
   "cell_type": "markdown",
   "id": "ac5d5942",
   "metadata": {},
   "source": [
    "We can see CatBoost did very well and is already over .88 AUC-ROC for the metric on the validation and test sets. The CatBoost model does cross validation under the hood so we don't have to do that as a separate step. "
   ]
  },
  {
   "cell_type": "code",
   "execution_count": 127,
   "id": "9cf5d934",
   "metadata": {},
   "outputs": [],
   "source": [
    "# predict the probabilities for the testing set\n",
    "y_pred_proba = model_cat.predict_proba(X_test)[:, 1]\n"
   ]
  },
  {
   "cell_type": "markdown",
   "id": "07042c30",
   "metadata": {},
   "source": [
    "The AUC_ROC score needs to be passed probabilities and not ones and zeros. "
   ]
  },
  {
   "cell_type": "code",
   "execution_count": 128,
   "id": "292e6e3d",
   "metadata": {
    "scrolled": true
   },
   "outputs": [
    {
     "data": {
      "text/plain": [
       "array([0.2763926 , 0.95425311, 0.0561168 , ..., 0.13699032, 0.38362979,\n",
       "       0.54883795])"
      ]
     },
     "execution_count": 128,
     "metadata": {},
     "output_type": "execute_result"
    }
   ],
   "source": [
    "y_pred_proba"
   ]
  },
  {
   "cell_type": "code",
   "execution_count": 129,
   "id": "a1ee3d2b",
   "metadata": {},
   "outputs": [
    {
     "data": {
      "text/plain": [
       "array([0, 1, 0, ..., 0, 1, 1])"
      ]
     },
     "execution_count": 129,
     "metadata": {},
     "output_type": "execute_result"
    }
   ],
   "source": [
    "y_test"
   ]
  },
  {
   "cell_type": "code",
   "execution_count": 130,
   "id": "19768c4e",
   "metadata": {},
   "outputs": [
    {
     "name": "stdout",
     "output_type": "stream",
     "text": [
      "AUC-ROC score: 0.887\n"
     ]
    }
   ],
   "source": [
    "# calculate the AUC-ROC score for the testing set with actual probabilities not 1s and 0s\n",
    "auc_roc = roc_auc_score(y_test, y_pred_proba) #for the roc_auc_score we must use probabilities\n",
    "\n",
    "print(\"AUC-ROC score:\", auc_roc.round(3))"
   ]
  },
  {
   "cell_type": "code",
   "execution_count": 131,
   "id": "b14fa8fa",
   "metadata": {},
   "outputs": [],
   "source": [
    "#Convert the probabilities to binary so that we can calculate the F1 score\n",
    "threshold = 0.5\n",
    "y_cat_binary = np.where(y_pred_proba >= threshold, 1, 0)"
   ]
  },
  {
   "cell_type": "code",
   "execution_count": 132,
   "id": "f19259d8",
   "metadata": {},
   "outputs": [
    {
     "name": "stdout",
     "output_type": "stream",
     "text": [
      "F1 score: 0.69\n"
     ]
    }
   ],
   "source": [
    "# calculate F1 score\n",
    "f1 = f1_score(y_test, y_cat_binary)\n",
    "\n",
    "print('F1 score:', f1.round(2))"
   ]
  },
  {
   "cell_type": "markdown",
   "id": "ed9bef1b",
   "metadata": {},
   "source": [
    "The F1 score is much better than the accuracy score for this particular binary classification model with an unbalance target. F1 takes both recall and precision into consideration so it makes sure that both the zeros and ones are being predicted correctly with a high level of confidence. "
   ]
  },
  {
   "cell_type": "markdown",
   "id": "9ec23163",
   "metadata": {},
   "source": [
    "### Final Conclusions:"
   ]
  },
  {
   "cell_type": "markdown",
   "id": "9efd8afa",
   "metadata": {},
   "source": [
    "Conclusions:\n",
    "\n",
    "        1. Interconnect has a very high churn rate and must act quickly and decisively if they want to stay in business long term. \n",
    "        \n",
    "        2. Customers on a month-to-month represent the largest percentage of the customer base at 55% of the base and they have the highest churn rate at a staggering 43%. The company must use all it's resources and promotions to entice these customers to sign a one or two year contract. This is my mind will make the biggest improvement in their total churn. The price plans should also save the customer some money if they go from month-to-month to a 1 or 2 year contract or they will not be willing to change. At this high rate it would even make sense if Interconnect just said that month-to-month was no longer available and customers need to sign a contract or they can leave it might cause a short term spike in churn but should pay off longer term with every single customer on a contract. \n",
    "        \n",
    "        3. The company needs to see why customers that have fiber for internet connectivity have such a high churn rate and why even having extra services does not seem to make the customers any stickier. Again I believe the main culprit of the high churn is customers have no skin in the game whatsoever. If they don't like something even small and they are on a month-to-month contract they just wait for that month to be over and they leave for another company. Interconnect does have to see if there is a real problem with their fiber offerings and quality of service that are causing customers to leave. \n",
    "        \n",
    "        4. No new adds or new customers should be allowed to join on a month-to-month basis. The sales teams should be heavily incentivized to add only 1 or 2 year signed customers. In addition the company can offer discounts, promotions and perks to customers migrating to the 1 and 2 year contract plans with the 2 year contract plans having the best rates and bundles. It will be an investment on behalf of Interconnect but I believe it will be less costly than losing customers at these high rates and having to spend a lot of money trying to attract new customers from it's competitors. \n",
    "        \n",
    "        5. Interconnect can use the ML model but always focusing all their attention at the segment that is most at risk - the month-to-month segment. Once they are finished addressing all the potential churning customers in that segment that the ML model predicts then they can go to the 1 year contract customers and 2 years customers that are approaching the end of their contract and look at the models predictions for those with high probability of churning. \n",
    "        \n",
    "        6. After they can verify that churn is coming down significantly for a period of at least 3 consecutive months, and once they have at least 60 to 70% of customer base on a 1 or 2 year contract then they can try to push customers to automatic payment rails and paperless bills. This will also help cash flow and save the company money (less paper) as well as reduce churn since customers on automatic payments have a smaller churn rate.\n",
    "        \n",
    "        7. The model has a very good AUC_ROC score of .885 and a F1 score of .7 so Interconnect can be confident the model is giving it customers with a high likelihood of churning but again they should then focus firstly on customer on month-to-month or contract ending in the next 30 days first and try to get those customers on a 1 or 2 year contract by all means (preferably a 2 year contract). Once they go through all of those then they can look at other customers the model predicts will churn that are in the middle of a contract.\n",
    "        \n",
    "        8. I dropped the TotalCharges feature since I believe it could have potential data leakage. If a customer say ended their contract early they normally would get hit with early termination fees. These fees would be reflected in the TotalCharges column causing data leakage. If I had kept this column my AUC_ROC score would be even higher. I don't believe the \"Tenure\" feature I added causes data leakage since this is a piece of data any telco would have to show how many days the customer has been with the company. This would be available at any point for the test set and for any active customer.\n",
    "        \n",
    "        9. One other factor is that customers with any or all of these extra services ('OnlineSecurity', 'OnlineBackup', 'DeviceProtection', 'TechSupport', 'StreamingTV', 'StreamingMovies') churn at a higher rate than customers that don't have any of these extra services. This is probably also due in part to the large month-to-month sub base. These customers with extra services also have a higher monthly bill so Interconect in this case is losing it's highest paying customers with higher ARPU at a higher rate than lower paying subscribers. This of course is something Interconect must address since these customers are supposed to be more loyal since they have more services. They also are likely to give their business to their competitors when they leave Interconect which makes their competitors even stronger. "
   ]
  }
 ],
 "metadata": {
  "kernelspec": {
   "display_name": "Python 3 (ipykernel)",
   "language": "python",
   "name": "python3"
  },
  "language_info": {
   "codemirror_mode": {
    "name": "ipython",
    "version": 3
   },
   "file_extension": ".py",
   "mimetype": "text/x-python",
   "name": "python",
   "nbconvert_exporter": "python",
   "pygments_lexer": "ipython3",
   "version": "3.9.12"
  },
  "toc": {
   "base_numbering": 1,
   "nav_menu": {},
   "number_sections": true,
   "sideBar": true,
   "skip_h1_title": true,
   "title_cell": "Table of Contents",
   "title_sidebar": "Contents",
   "toc_cell": false,
   "toc_position": {},
   "toc_section_display": true,
   "toc_window_display": false
  }
 },
 "nbformat": 4,
 "nbformat_minor": 5
}
