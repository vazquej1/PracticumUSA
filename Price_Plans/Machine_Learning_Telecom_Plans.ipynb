{
 "cells": [
  {
   "cell_type": "markdown",
   "id": "0feb90e4",
   "metadata": {},
   "source": [
    "# Contents <a id='back'></a>\n",
    "\n",
    "* [Introduction](#intro)\n",
    "* [Stage 1. Data overview](#data_overview)\n",
    "    * [Conclusions](#data_overview_conclusions)\n",
    "* [Stage 2. Data preprocessing and testing and fitting ML models](#data_preprocessing)\n",
    "    * [2.6 Conclusions](#data_preprocessing_conclusions)\n",
    "* [Stage 3 Finding best machine learning model to suggest a plan.](#hypothesis)\n",
    "    \n",
    "   \n",
    "* [Findings and Conclusions](#end)"
   ]
  },
  {
   "cell_type": "markdown",
   "id": "861253e3",
   "metadata": {},
   "source": [
    "## Introduction: <a id='intro'></a>\n",
    "\n",
    "I work for Megaline which is a telecommunications company. We need to find out which plans would be the best fitted for customers on old legacy price plans. \n",
    "\n",
    "### Goal:\n",
    "We must determine which new plan to recommend to existing customers on older plans. The new plans are either Smart or Ultra. We will use different machine learning models to get the best fitted and most accurate recommendations based on customer behavior, usage and other features. We will test the results of each model against each other to determine the best model to use for recommendations of the new price plan.\n",
    "\n",
    "\n"
   ]
  },
  {
   "cell_type": "markdown",
   "id": "cb8d0a87",
   "metadata": {},
   "source": [
    "Brief description of data int he table:\n",
    "\n",
    "    сalls — number of calls,\n",
    "    minutes — total call duration in minutes,\n",
    "    messages — number of text messages,\n",
    "    mb_used — Internet traffic used in MB,\n",
    "    is_ultra — plan for the current month (Ultra - 1, Smart - 0)"
   ]
  },
  {
   "cell_type": "markdown",
   "id": "21d455f4",
   "metadata": {},
   "source": [
    "### Stage 1 Data import and overview  <a id='data_overview'></a>"
   ]
  },
  {
   "cell_type": "code",
   "execution_count": 1,
   "id": "a807c02d",
   "metadata": {},
   "outputs": [],
   "source": [
    "import pandas as pd\n",
    "import numpy as np\n",
    "from sklearn.tree import DecisionTreeRegressor\n",
    "from sklearn.model_selection import train_test_split\n",
    "from sklearn.tree import DecisionTreeClassifier\n",
    "from sklearn.metrics import mean_squared_error\n",
    "from sklearn.metrics import accuracy_score\n",
    "from sklearn.ensemble import RandomForestClassifier"
   ]
  },
  {
   "cell_type": "code",
   "execution_count": 2,
   "id": "f0377beb",
   "metadata": {},
   "outputs": [],
   "source": [
    "try:\n",
    "    user_data = pd.read_csv('datasets/users_behavior.csv') #read csv file stored locally on my laptop\n",
    "except:\n",
    "    user_data = pd.read_csv('/datasets/users_behavior.csv') #make an exception for when I upload the project to Practicum"
   ]
  },
  {
   "cell_type": "code",
   "execution_count": 3,
   "id": "bda2b2c6",
   "metadata": {},
   "outputs": [
    {
     "data": {
      "text/html": [
       "<div>\n",
       "<style scoped>\n",
       "    .dataframe tbody tr th:only-of-type {\n",
       "        vertical-align: middle;\n",
       "    }\n",
       "\n",
       "    .dataframe tbody tr th {\n",
       "        vertical-align: top;\n",
       "    }\n",
       "\n",
       "    .dataframe thead th {\n",
       "        text-align: right;\n",
       "    }\n",
       "</style>\n",
       "<table border=\"1\" class=\"dataframe\">\n",
       "  <thead>\n",
       "    <tr style=\"text-align: right;\">\n",
       "      <th></th>\n",
       "      <th>calls</th>\n",
       "      <th>minutes</th>\n",
       "      <th>messages</th>\n",
       "      <th>mb_used</th>\n",
       "      <th>is_ultra</th>\n",
       "    </tr>\n",
       "  </thead>\n",
       "  <tbody>\n",
       "    <tr>\n",
       "      <th>0</th>\n",
       "      <td>40.0</td>\n",
       "      <td>311.90</td>\n",
       "      <td>83.0</td>\n",
       "      <td>19915.42</td>\n",
       "      <td>0</td>\n",
       "    </tr>\n",
       "    <tr>\n",
       "      <th>1</th>\n",
       "      <td>85.0</td>\n",
       "      <td>516.75</td>\n",
       "      <td>56.0</td>\n",
       "      <td>22696.96</td>\n",
       "      <td>0</td>\n",
       "    </tr>\n",
       "    <tr>\n",
       "      <th>2</th>\n",
       "      <td>77.0</td>\n",
       "      <td>467.66</td>\n",
       "      <td>86.0</td>\n",
       "      <td>21060.45</td>\n",
       "      <td>0</td>\n",
       "    </tr>\n",
       "    <tr>\n",
       "      <th>3</th>\n",
       "      <td>106.0</td>\n",
       "      <td>745.53</td>\n",
       "      <td>81.0</td>\n",
       "      <td>8437.39</td>\n",
       "      <td>1</td>\n",
       "    </tr>\n",
       "    <tr>\n",
       "      <th>4</th>\n",
       "      <td>66.0</td>\n",
       "      <td>418.74</td>\n",
       "      <td>1.0</td>\n",
       "      <td>14502.75</td>\n",
       "      <td>0</td>\n",
       "    </tr>\n",
       "    <tr>\n",
       "      <th>5</th>\n",
       "      <td>58.0</td>\n",
       "      <td>344.56</td>\n",
       "      <td>21.0</td>\n",
       "      <td>15823.37</td>\n",
       "      <td>0</td>\n",
       "    </tr>\n",
       "    <tr>\n",
       "      <th>6</th>\n",
       "      <td>57.0</td>\n",
       "      <td>431.64</td>\n",
       "      <td>20.0</td>\n",
       "      <td>3738.90</td>\n",
       "      <td>1</td>\n",
       "    </tr>\n",
       "    <tr>\n",
       "      <th>7</th>\n",
       "      <td>15.0</td>\n",
       "      <td>132.40</td>\n",
       "      <td>6.0</td>\n",
       "      <td>21911.60</td>\n",
       "      <td>0</td>\n",
       "    </tr>\n",
       "    <tr>\n",
       "      <th>8</th>\n",
       "      <td>7.0</td>\n",
       "      <td>43.39</td>\n",
       "      <td>3.0</td>\n",
       "      <td>2538.67</td>\n",
       "      <td>1</td>\n",
       "    </tr>\n",
       "    <tr>\n",
       "      <th>9</th>\n",
       "      <td>90.0</td>\n",
       "      <td>665.41</td>\n",
       "      <td>38.0</td>\n",
       "      <td>17358.61</td>\n",
       "      <td>0</td>\n",
       "    </tr>\n",
       "  </tbody>\n",
       "</table>\n",
       "</div>"
      ],
      "text/plain": [
       "   calls  minutes  messages   mb_used  is_ultra\n",
       "0   40.0   311.90      83.0  19915.42         0\n",
       "1   85.0   516.75      56.0  22696.96         0\n",
       "2   77.0   467.66      86.0  21060.45         0\n",
       "3  106.0   745.53      81.0   8437.39         1\n",
       "4   66.0   418.74       1.0  14502.75         0\n",
       "5   58.0   344.56      21.0  15823.37         0\n",
       "6   57.0   431.64      20.0   3738.90         1\n",
       "7   15.0   132.40       6.0  21911.60         0\n",
       "8    7.0    43.39       3.0   2538.67         1\n",
       "9   90.0   665.41      38.0  17358.61         0"
      ]
     },
     "execution_count": 3,
     "metadata": {},
     "output_type": "execute_result"
    }
   ],
   "source": [
    "user_data.head(10) #Initial look at the data in the df"
   ]
  },
  {
   "cell_type": "code",
   "execution_count": 4,
   "id": "4308129d",
   "metadata": {},
   "outputs": [
    {
     "data": {
      "text/plain": [
       "(3214, 5)"
      ]
     },
     "execution_count": 4,
     "metadata": {},
     "output_type": "execute_result"
    }
   ],
   "source": [
    "user_data.shape"
   ]
  },
  {
   "cell_type": "code",
   "execution_count": 5,
   "id": "1ba33804",
   "metadata": {},
   "outputs": [
    {
     "name": "stdout",
     "output_type": "stream",
     "text": [
      "<class 'pandas.core.frame.DataFrame'>\n",
      "RangeIndex: 3214 entries, 0 to 3213\n",
      "Data columns (total 5 columns):\n",
      " #   Column    Non-Null Count  Dtype  \n",
      "---  ------    --------------  -----  \n",
      " 0   calls     3214 non-null   float64\n",
      " 1   minutes   3214 non-null   float64\n",
      " 2   messages  3214 non-null   float64\n",
      " 3   mb_used   3214 non-null   float64\n",
      " 4   is_ultra  3214 non-null   int64  \n",
      "dtypes: float64(4), int64(1)\n",
      "memory usage: 125.7 KB\n"
     ]
    }
   ],
   "source": [
    "user_data.info()"
   ]
  },
  {
   "cell_type": "markdown",
   "id": "5c2bd99f",
   "metadata": {},
   "source": [
    "I will first, split the source data into a training set, a validation set, and a test set. I will split is 60% to training, 20% for validation and 20% for test set."
   ]
  },
  {
   "cell_type": "code",
   "execution_count": 6,
   "id": "69257802",
   "metadata": {},
   "outputs": [],
   "source": [
    "df_train, df_valid = train_test_split(user_data, test_size=0.4, random_state=2022) #setting random state to our year 2022, \n",
    "#first I make a validation subset of 40% then I will split it 50-50 with test"
   ]
  },
  {
   "cell_type": "code",
   "execution_count": 7,
   "id": "9b7bdee5",
   "metadata": {},
   "outputs": [
    {
     "data": {
      "text/plain": [
       "(1928, 5)"
      ]
     },
     "execution_count": 7,
     "metadata": {},
     "output_type": "execute_result"
    }
   ],
   "source": [
    "df_train.shape # df_train has 60% of the rows and df_valid has the other 40% which we will split 50-50 with test"
   ]
  },
  {
   "cell_type": "code",
   "execution_count": 8,
   "id": "187bdc32",
   "metadata": {},
   "outputs": [],
   "source": [
    "df_test, df_valid = train_test_split(df_valid, test_size=0.5, random_state=2022) #spliting the 40% 50/50 to get 20% for test and valid\n"
   ]
  },
  {
   "cell_type": "code",
   "execution_count": 9,
   "id": "87bd27ef",
   "metadata": {},
   "outputs": [
    {
     "data": {
      "text/plain": [
       "(643, 5)"
      ]
     },
     "execution_count": 9,
     "metadata": {},
     "output_type": "execute_result"
    }
   ],
   "source": [
    "df_test.shape"
   ]
  },
  {
   "cell_type": "code",
   "execution_count": 10,
   "id": "7f170fd8",
   "metadata": {},
   "outputs": [
    {
     "data": {
      "text/plain": [
       "(643, 5)"
      ]
     },
     "execution_count": 10,
     "metadata": {},
     "output_type": "execute_result"
    }
   ],
   "source": [
    "df_valid.shape"
   ]
  },
  {
   "cell_type": "code",
   "execution_count": 11,
   "id": "72362997",
   "metadata": {},
   "outputs": [
    {
     "data": {
      "text/plain": [
       "(1928, 5)"
      ]
     },
     "execution_count": 11,
     "metadata": {},
     "output_type": "execute_result"
    }
   ],
   "source": [
    "df_train.shape"
   ]
  },
  {
   "cell_type": "markdown",
   "id": "78e309e8",
   "metadata": {},
   "source": [
    "We now have our sets but we need to separate the target from the features. In this case the target will be the pricing plan which is a binary classification - either Ultra or Smart. The values are booleans so it is 1 if it is Ultra and 0 for Smart. This is contained the the is_ultra column so we will exclude this column for the ML process since it is the target."
   ]
  },
  {
   "cell_type": "code",
   "execution_count": 12,
   "id": "c93e925c",
   "metadata": {},
   "outputs": [],
   "source": [
    "features_train = df_train.drop(['is_ultra'], axis=1) #drop the target from the features"
   ]
  },
  {
   "cell_type": "code",
   "execution_count": 13,
   "id": "b53399e8",
   "metadata": {},
   "outputs": [],
   "source": [
    "features_test = df_test.drop(['is_ultra'], axis=1) #drop the target for test rows"
   ]
  },
  {
   "cell_type": "code",
   "execution_count": 14,
   "id": "b98c59e9",
   "metadata": {},
   "outputs": [],
   "source": [
    "features_valid = df_valid.drop(['is_ultra'], axis=1)"
   ]
  },
  {
   "cell_type": "code",
   "execution_count": 15,
   "id": "d3afc9b1",
   "metadata": {},
   "outputs": [],
   "source": [
    "target_train = df_train['is_ultra'] #Make an array with just the target column"
   ]
  },
  {
   "cell_type": "code",
   "execution_count": 16,
   "id": "b8bbdb7d",
   "metadata": {},
   "outputs": [],
   "source": [
    "target_test = df_test['is_ultra'] #Same for test and valid"
   ]
  },
  {
   "cell_type": "code",
   "execution_count": 17,
   "id": "5b3c584c",
   "metadata": {},
   "outputs": [],
   "source": [
    "target_valid = df_valid['is_ultra'] "
   ]
  },
  {
   "cell_type": "markdown",
   "id": "a2d6adb1",
   "metadata": {},
   "source": [
    "We now have all our sets with the correct percentage of different rows. "
   ]
  },
  {
   "cell_type": "markdown",
   "id": "cc6c4fe9",
   "metadata": {},
   "source": [
    "The first model I will use is a Decision Tree although I believe is a tree is good a forest should be better."
   ]
  },
  {
   "cell_type": "code",
   "execution_count": 18,
   "id": "f200800a",
   "metadata": {},
   "outputs": [
    {
     "name": "stdout",
     "output_type": "stream",
     "text": [
      "max_depth = 1 : 0.7589424572317263\n",
      "max_depth = 2 : 0.7900466562986003\n",
      "max_depth = 3 : 0.8040435458786936\n",
      "max_depth = 4 : 0.7947122861586314\n",
      "max_depth = 5 : 0.7993779160186625\n",
      "max_depth = 6 : 0.8009331259720062\n",
      "max_depth = 7 : 0.7993779160186625\n",
      "max_depth = 8 : 0.8009331259720062\n",
      "max_depth = 9 : 0.7931570762052877\n",
      "max_depth = 10 : 0.7962674961119751\n",
      "max_depth = 11 : 0.7791601866251944\n"
     ]
    }
   ],
   "source": [
    "# < create a loop for max_depth from 1 to 5 >\n",
    "for depth in range(1, 12):\n",
    "        model = DecisionTreeClassifier(random_state=2022, max_depth=depth) # I will keep random state at 2022\n",
    "        model.fit(features_train, target_train)\n",
    "        # < train the model >\n",
    "        predictions_valid = model.predict(features_valid) # get the model's predictions\n",
    "        print(\"max_depth =\", depth, \": \", end='')\n",
    "        print(accuracy_score(target_valid, predictions_valid)) \n",
    "        "
   ]
  },
  {
   "cell_type": "markdown",
   "id": "0e3626e4",
   "metadata": {},
   "source": [
    "As we can see above then we train the model and feed it the validation subset the depth with the best accuracy is 3 when we compare it to the test subset the best depth is 5. They are both above the minimum accuracy requested in the project of .75 so we could stop here but lets check what the random forest gives us."
   ]
  },
  {
   "cell_type": "code",
   "execution_count": 19,
   "id": "1195bf75",
   "metadata": {},
   "outputs": [
    {
     "name": "stdout",
     "output_type": "stream",
     "text": [
      "Accuracy of the best model on the validation set (n_estimators = 10): 0.8102643856920684\n"
     ]
    }
   ],
   "source": [
    "best_score = 0\n",
    "best_est = 0\n",
    "for est in range(1, 12): # choose hyperparameter range\n",
    "    model = RandomForestClassifier(random_state=2022, n_estimators=est) # set number of trees from 1 to 10\n",
    "    model.fit(features_train, target_train) # train model on training set\n",
    "    score = model.score(features_valid, target_valid) # calculate accuracy score on validation set\n",
    "    if score > best_score:\n",
    "        best_score = score  # save best accuracy score on validation set\n",
    "        best_est = est   # save number of estimators corresponding to best accuracy score\n",
    "\n",
    "print(\"Accuracy of the best model on the validation set (n_estimators = {}): {}\".format(best_est, best_score))"
   ]
  },
  {
   "cell_type": "markdown",
   "id": "b4e515a2",
   "metadata": {},
   "source": [
    "So the best predictions we have obtained so far are using the RandomForestClassifier model with n_estimators = 9. So we will fit our final model with hyperparameter of n_estimators set to best_est. "
   ]
  },
  {
   "cell_type": "code",
   "execution_count": 20,
   "id": "df8a71f4",
   "metadata": {},
   "outputs": [
    {
     "name": "stdout",
     "output_type": "stream",
     "text": [
      "Accuracy of the best model on the validation set (n_estimators = 8): 0.8195956454121306\n"
     ]
    }
   ],
   "source": [
    "#When I set the max_depth to 5 I actually get higher accuracy so that we don't overfit the model. \n",
    "#We saw in the indivitual trees that a depth of 5 did the best and this also adjusted the \n",
    "best_score = 0\n",
    "best_est = 0\n",
    "for est in range(1, 10): # choose hyperparameter range\n",
    "    model = RandomForestClassifier(random_state=2022, n_estimators=est, max_depth = 10) # set number of trees from 1 to 10\n",
    "    model.fit(features_train, target_train) # train model on training set\n",
    "    score = model.score(features_valid, target_valid) # calculate accuracy score on validation set\n",
    "    if score > best_score:\n",
    "        best_score = score  # save best accuracy score on validation set\n",
    "        best_est = est   # save number of estimators corresponding to best accuracy score\n",
    "\n",
    "print(\"Accuracy of the best model on the validation set (n_estimators = {}): {}\".format(best_est, best_score))"
   ]
  },
  {
   "cell_type": "code",
   "execution_count": 21,
   "id": "ea57864b",
   "metadata": {},
   "outputs": [
    {
     "data": {
      "text/plain": [
       "RandomForestClassifier(max_depth=10, n_estimators=8, random_state=2022)"
      ]
     },
     "execution_count": 21,
     "metadata": {},
     "output_type": "execute_result"
    }
   ],
   "source": [
    "final_model = RandomForestClassifier(random_state=2022, n_estimators=best_est, max_depth = 10) # We use n_estimators = best_est. We first create an object of the class for the model\n",
    "final_model.fit(features_train, target_train)"
   ]
  },
  {
   "cell_type": "code",
   "execution_count": 22,
   "id": "c59a4d5f",
   "metadata": {},
   "outputs": [
    {
     "name": "stdout",
     "output_type": "stream",
     "text": [
      "0.8087091757387247\n"
     ]
    }
   ],
   "source": [
    "#using the RandomForestClassifier ML model with hyperparameters of n_estimator = best_est and max_debth = 10\n",
    "score = final_model.score(features_test, target_test)\n",
    "print(score)"
   ]
  },
  {
   "cell_type": "markdown",
   "id": "2de6ec29",
   "metadata": {},
   "source": [
    "## Conclusions:"
   ]
  },
  {
   "cell_type": "markdown",
   "id": "c26502ed",
   "metadata": {},
   "source": [
    "We found that the best classification model is the RandomForestClassifier() function. We tested different hyperparameters like max_depth and n_estimator for both individual trees using DecisionTreeClassifier() and the RandomForestClassifier(). We first found that the best depth for a tree was around 10. The best n_estimator for number of trees at max_depth of 10 was 8. After adjusting all these parameters we got a score of .808 on our test set so this is  significantly higher than the minimum required score of .75 that the project and will help migrate customers off of old legacy plans and into the new Ultra and Smart plans. We can now suggest to our customers a better and tailored plan to their needs and usage. "
   ]
  }
 ],
 "metadata": {
  "kernelspec": {
   "display_name": "Python 3 (ipykernel)",
   "language": "python",
   "name": "python3"
  },
  "language_info": {
   "codemirror_mode": {
    "name": "ipython",
    "version": 3
   },
   "file_extension": ".py",
   "mimetype": "text/x-python",
   "name": "python",
   "nbconvert_exporter": "python",
   "pygments_lexer": "ipython3",
   "version": "3.9.12"
  },
  "toc": {
   "base_numbering": 1,
   "nav_menu": {},
   "number_sections": true,
   "sideBar": true,
   "skip_h1_title": true,
   "title_cell": "Table of Contents",
   "title_sidebar": "Contents",
   "toc_cell": false,
   "toc_position": {},
   "toc_section_display": true,
   "toc_window_display": false
  }
 },
 "nbformat": 4,
 "nbformat_minor": 5
}
