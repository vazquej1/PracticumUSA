{
 "cells": [
  {
   "cell_type": "markdown",
   "id": "edb8569f",
   "metadata": {},
   "source": [
    "# Contents <a id='back'></a>\n",
    "\n",
    "* [Introduction](#intro)\n",
    "* [Stage 1. Data overview](#data_overview)\n",
    "    * [Conclusions](#data_overview_conclusions)\n",
    "* [Stage 2. Data preprocessing.](#data_preprocessing)\n",
    "    * [2.6 Conclusions](#data_preprocessing_conclusions)\n",
    "* [Stage 3 Boostraping and using Linear Regression.](#hypothesis)\n",
    "    \n",
    "   \n",
    "* [Findings and Conclusions](#end)"
   ]
  },
  {
   "cell_type": "markdown",
   "id": "1fa99eac",
   "metadata": {},
   "source": [
    "### Introduction: \n",
    "\n",
    "I work for the OilyGiant mining company. Your task is to find the best place for a new well.\n",
    "\n",
    "\n",
    "Steps to choose the location:\n",
    "\n",
    "    Collect the oil well parameters in the selected region: oil quality and volume of reserves;\n",
    "    Build a model for predicting the volume of reserves in the new wells;\n",
    "    Pick the oil wells with the highest estimated values;\n",
    "    Pick the region with the highest total profit for the selected oil wells.\n",
    "    You have data on oil samples from three regions. Parameters of each oil well in the region are already known.  Build a model that will help to pick the region with the highest profit margin. Analyze potential profit and risks using the Bootstrapping technique."
   ]
  },
  {
   "cell_type": "code",
   "execution_count": 1,
   "id": "a6342beb",
   "metadata": {},
   "outputs": [],
   "source": [
    "import pandas as pd\n",
    "import numpy as np\n",
    "import matplotlib.pyplot as plt\n",
    "from sklearn.model_selection import train_test_split\n",
    "from scipy import stats as st\n",
    "import seaborn as sb\n",
    "from sklearn.metrics import mean_squared_error\n",
    "from sklearn.linear_model import LinearRegression"
   ]
  },
  {
   "cell_type": "code",
   "execution_count": 2,
   "id": "52690a25",
   "metadata": {},
   "outputs": [],
   "source": [
    "#import the data\n",
    "try:\n",
    "    geo_0 = pd.read_csv('datasets/geo_data_0.csv') #read csv file stored locally on my laptop\n",
    "except:\n",
    "    geo_0 = pd.read_csv('/datasets/geo_data_0.csv') #make an exception for when I upload the project to Practicum\n",
    "try:\n",
    "    geo_1 = pd.read_csv('datasets/geo_data_1.csv') #read csv file stored locally on my laptop\n",
    "except:\n",
    "    geo_1 = pd.read_csv('/datasets/geo_data_1.csv')\n",
    "try:\n",
    "    geo_2 = pd.read_csv('datasets/geo_data_2.csv') #read csv file stored locally on my laptop\n",
    "except:\n",
    "    geo_2 = pd.read_csv('/datasets/geo_data_2.csv')\n"
   ]
  },
  {
   "cell_type": "markdown",
   "id": "b631a70d",
   "metadata": {},
   "source": [
    "Data in the tables:\n",
    "\n",
    "    id — unique oil well identifier\n",
    "    f0, f1, f2 — three features of points (their specific meaning is unimportant)\n",
    "    product — volume of reserves in the oil well (thousand barrels)."
   ]
  },
  {
   "cell_type": "code",
   "execution_count": 3,
   "id": "1ab5d2f8",
   "metadata": {},
   "outputs": [
    {
     "data": {
      "text/html": [
       "<div>\n",
       "<style scoped>\n",
       "    .dataframe tbody tr th:only-of-type {\n",
       "        vertical-align: middle;\n",
       "    }\n",
       "\n",
       "    .dataframe tbody tr th {\n",
       "        vertical-align: top;\n",
       "    }\n",
       "\n",
       "    .dataframe thead th {\n",
       "        text-align: right;\n",
       "    }\n",
       "</style>\n",
       "<table border=\"1\" class=\"dataframe\">\n",
       "  <thead>\n",
       "    <tr style=\"text-align: right;\">\n",
       "      <th></th>\n",
       "      <th>id</th>\n",
       "      <th>f0</th>\n",
       "      <th>f1</th>\n",
       "      <th>f2</th>\n",
       "      <th>product</th>\n",
       "    </tr>\n",
       "  </thead>\n",
       "  <tbody>\n",
       "    <tr>\n",
       "      <th>0</th>\n",
       "      <td>txEyH</td>\n",
       "      <td>0.705745</td>\n",
       "      <td>-0.497823</td>\n",
       "      <td>1.221170</td>\n",
       "      <td>105.280062</td>\n",
       "    </tr>\n",
       "    <tr>\n",
       "      <th>1</th>\n",
       "      <td>2acmU</td>\n",
       "      <td>1.334711</td>\n",
       "      <td>-0.340164</td>\n",
       "      <td>4.365080</td>\n",
       "      <td>73.037750</td>\n",
       "    </tr>\n",
       "    <tr>\n",
       "      <th>2</th>\n",
       "      <td>409Wp</td>\n",
       "      <td>1.022732</td>\n",
       "      <td>0.151990</td>\n",
       "      <td>1.419926</td>\n",
       "      <td>85.265647</td>\n",
       "    </tr>\n",
       "    <tr>\n",
       "      <th>3</th>\n",
       "      <td>iJLyR</td>\n",
       "      <td>-0.032172</td>\n",
       "      <td>0.139033</td>\n",
       "      <td>2.978566</td>\n",
       "      <td>168.620776</td>\n",
       "    </tr>\n",
       "    <tr>\n",
       "      <th>4</th>\n",
       "      <td>Xdl7t</td>\n",
       "      <td>1.988431</td>\n",
       "      <td>0.155413</td>\n",
       "      <td>4.751769</td>\n",
       "      <td>154.036647</td>\n",
       "    </tr>\n",
       "  </tbody>\n",
       "</table>\n",
       "</div>"
      ],
      "text/plain": [
       "      id        f0        f1        f2     product\n",
       "0  txEyH  0.705745 -0.497823  1.221170  105.280062\n",
       "1  2acmU  1.334711 -0.340164  4.365080   73.037750\n",
       "2  409Wp  1.022732  0.151990  1.419926   85.265647\n",
       "3  iJLyR -0.032172  0.139033  2.978566  168.620776\n",
       "4  Xdl7t  1.988431  0.155413  4.751769  154.036647"
      ]
     },
     "execution_count": 3,
     "metadata": {},
     "output_type": "execute_result"
    }
   ],
   "source": [
    "geo_0.head() #quick look at the data in each table"
   ]
  },
  {
   "cell_type": "code",
   "execution_count": 4,
   "id": "96cb8d92",
   "metadata": {},
   "outputs": [
    {
     "data": {
      "text/html": [
       "<div>\n",
       "<style scoped>\n",
       "    .dataframe tbody tr th:only-of-type {\n",
       "        vertical-align: middle;\n",
       "    }\n",
       "\n",
       "    .dataframe tbody tr th {\n",
       "        vertical-align: top;\n",
       "    }\n",
       "\n",
       "    .dataframe thead th {\n",
       "        text-align: right;\n",
       "    }\n",
       "</style>\n",
       "<table border=\"1\" class=\"dataframe\">\n",
       "  <thead>\n",
       "    <tr style=\"text-align: right;\">\n",
       "      <th></th>\n",
       "      <th>id</th>\n",
       "      <th>f0</th>\n",
       "      <th>f1</th>\n",
       "      <th>f2</th>\n",
       "      <th>product</th>\n",
       "    </tr>\n",
       "  </thead>\n",
       "  <tbody>\n",
       "    <tr>\n",
       "      <th>0</th>\n",
       "      <td>kBEdx</td>\n",
       "      <td>-15.001348</td>\n",
       "      <td>-8.276000</td>\n",
       "      <td>-0.005876</td>\n",
       "      <td>3.179103</td>\n",
       "    </tr>\n",
       "    <tr>\n",
       "      <th>1</th>\n",
       "      <td>62mP7</td>\n",
       "      <td>14.272088</td>\n",
       "      <td>-3.475083</td>\n",
       "      <td>0.999183</td>\n",
       "      <td>26.953261</td>\n",
       "    </tr>\n",
       "    <tr>\n",
       "      <th>2</th>\n",
       "      <td>vyE1P</td>\n",
       "      <td>6.263187</td>\n",
       "      <td>-5.948386</td>\n",
       "      <td>5.001160</td>\n",
       "      <td>134.766305</td>\n",
       "    </tr>\n",
       "    <tr>\n",
       "      <th>3</th>\n",
       "      <td>KcrkZ</td>\n",
       "      <td>-13.081196</td>\n",
       "      <td>-11.506057</td>\n",
       "      <td>4.999415</td>\n",
       "      <td>137.945408</td>\n",
       "    </tr>\n",
       "    <tr>\n",
       "      <th>4</th>\n",
       "      <td>AHL4O</td>\n",
       "      <td>12.702195</td>\n",
       "      <td>-8.147433</td>\n",
       "      <td>5.004363</td>\n",
       "      <td>134.766305</td>\n",
       "    </tr>\n",
       "  </tbody>\n",
       "</table>\n",
       "</div>"
      ],
      "text/plain": [
       "      id         f0         f1        f2     product\n",
       "0  kBEdx -15.001348  -8.276000 -0.005876    3.179103\n",
       "1  62mP7  14.272088  -3.475083  0.999183   26.953261\n",
       "2  vyE1P   6.263187  -5.948386  5.001160  134.766305\n",
       "3  KcrkZ -13.081196 -11.506057  4.999415  137.945408\n",
       "4  AHL4O  12.702195  -8.147433  5.004363  134.766305"
      ]
     },
     "execution_count": 4,
     "metadata": {},
     "output_type": "execute_result"
    }
   ],
   "source": [
    "geo_1.head()"
   ]
  },
  {
   "cell_type": "code",
   "execution_count": 5,
   "id": "4a022630",
   "metadata": {},
   "outputs": [
    {
     "data": {
      "text/html": [
       "<div>\n",
       "<style scoped>\n",
       "    .dataframe tbody tr th:only-of-type {\n",
       "        vertical-align: middle;\n",
       "    }\n",
       "\n",
       "    .dataframe tbody tr th {\n",
       "        vertical-align: top;\n",
       "    }\n",
       "\n",
       "    .dataframe thead th {\n",
       "        text-align: right;\n",
       "    }\n",
       "</style>\n",
       "<table border=\"1\" class=\"dataframe\">\n",
       "  <thead>\n",
       "    <tr style=\"text-align: right;\">\n",
       "      <th></th>\n",
       "      <th>id</th>\n",
       "      <th>f0</th>\n",
       "      <th>f1</th>\n",
       "      <th>f2</th>\n",
       "      <th>product</th>\n",
       "    </tr>\n",
       "  </thead>\n",
       "  <tbody>\n",
       "    <tr>\n",
       "      <th>0</th>\n",
       "      <td>fwXo0</td>\n",
       "      <td>-1.146987</td>\n",
       "      <td>0.963328</td>\n",
       "      <td>-0.828965</td>\n",
       "      <td>27.758673</td>\n",
       "    </tr>\n",
       "    <tr>\n",
       "      <th>1</th>\n",
       "      <td>WJtFt</td>\n",
       "      <td>0.262778</td>\n",
       "      <td>0.269839</td>\n",
       "      <td>-2.530187</td>\n",
       "      <td>56.069697</td>\n",
       "    </tr>\n",
       "    <tr>\n",
       "      <th>2</th>\n",
       "      <td>ovLUW</td>\n",
       "      <td>0.194587</td>\n",
       "      <td>0.289035</td>\n",
       "      <td>-5.586433</td>\n",
       "      <td>62.871910</td>\n",
       "    </tr>\n",
       "    <tr>\n",
       "      <th>3</th>\n",
       "      <td>q6cA6</td>\n",
       "      <td>2.236060</td>\n",
       "      <td>-0.553760</td>\n",
       "      <td>0.930038</td>\n",
       "      <td>114.572842</td>\n",
       "    </tr>\n",
       "    <tr>\n",
       "      <th>4</th>\n",
       "      <td>WPMUX</td>\n",
       "      <td>-0.515993</td>\n",
       "      <td>1.716266</td>\n",
       "      <td>5.899011</td>\n",
       "      <td>149.600746</td>\n",
       "    </tr>\n",
       "  </tbody>\n",
       "</table>\n",
       "</div>"
      ],
      "text/plain": [
       "      id        f0        f1        f2     product\n",
       "0  fwXo0 -1.146987  0.963328 -0.828965   27.758673\n",
       "1  WJtFt  0.262778  0.269839 -2.530187   56.069697\n",
       "2  ovLUW  0.194587  0.289035 -5.586433   62.871910\n",
       "3  q6cA6  2.236060 -0.553760  0.930038  114.572842\n",
       "4  WPMUX -0.515993  1.716266  5.899011  149.600746"
      ]
     },
     "execution_count": 5,
     "metadata": {},
     "output_type": "execute_result"
    }
   ],
   "source": [
    "geo_2.head()"
   ]
  },
  {
   "cell_type": "code",
   "execution_count": 6,
   "id": "46e2acb4",
   "metadata": {},
   "outputs": [
    {
     "name": "stdout",
     "output_type": "stream",
     "text": [
      "<class 'pandas.core.frame.DataFrame'>\n",
      "RangeIndex: 100000 entries, 0 to 99999\n",
      "Data columns (total 5 columns):\n",
      " #   Column   Non-Null Count   Dtype  \n",
      "---  ------   --------------   -----  \n",
      " 0   id       100000 non-null  object \n",
      " 1   f0       100000 non-null  float64\n",
      " 2   f1       100000 non-null  float64\n",
      " 3   f2       100000 non-null  float64\n",
      " 4   product  100000 non-null  float64\n",
      "dtypes: float64(4), object(1)\n",
      "memory usage: 3.8+ MB\n"
     ]
    }
   ],
   "source": [
    "geo_0.info() #Checking for null values and datatypes"
   ]
  },
  {
   "cell_type": "code",
   "execution_count": 7,
   "id": "65e03cad",
   "metadata": {},
   "outputs": [
    {
     "name": "stdout",
     "output_type": "stream",
     "text": [
      "<class 'pandas.core.frame.DataFrame'>\n",
      "RangeIndex: 100000 entries, 0 to 99999\n",
      "Data columns (total 5 columns):\n",
      " #   Column   Non-Null Count   Dtype  \n",
      "---  ------   --------------   -----  \n",
      " 0   id       100000 non-null  object \n",
      " 1   f0       100000 non-null  float64\n",
      " 2   f1       100000 non-null  float64\n",
      " 3   f2       100000 non-null  float64\n",
      " 4   product  100000 non-null  float64\n",
      "dtypes: float64(4), object(1)\n",
      "memory usage: 3.8+ MB\n"
     ]
    }
   ],
   "source": [
    "geo_1.info()"
   ]
  },
  {
   "cell_type": "code",
   "execution_count": 8,
   "id": "1dbd9312",
   "metadata": {},
   "outputs": [
    {
     "name": "stdout",
     "output_type": "stream",
     "text": [
      "<class 'pandas.core.frame.DataFrame'>\n",
      "RangeIndex: 100000 entries, 0 to 99999\n",
      "Data columns (total 5 columns):\n",
      " #   Column   Non-Null Count   Dtype  \n",
      "---  ------   --------------   -----  \n",
      " 0   id       100000 non-null  object \n",
      " 1   f0       100000 non-null  float64\n",
      " 2   f1       100000 non-null  float64\n",
      " 3   f2       100000 non-null  float64\n",
      " 4   product  100000 non-null  float64\n",
      "dtypes: float64(4), object(1)\n",
      "memory usage: 3.8+ MB\n"
     ]
    }
   ],
   "source": [
    "geo_2.info()"
   ]
  },
  {
   "cell_type": "markdown",
   "id": "6df9ab8b",
   "metadata": {},
   "source": [
    "Everything looks ok with the data in the tables for the 3 different regions. "
   ]
  },
  {
   "cell_type": "markdown",
   "id": "83411cbc",
   "metadata": {},
   "source": [
    "Lets look at the distribution of each of target data in each region."
   ]
  },
  {
   "cell_type": "code",
   "execution_count": 9,
   "id": "cefce52c",
   "metadata": {},
   "outputs": [
    {
     "data": {
      "text/html": [
       "<div>\n",
       "<style scoped>\n",
       "    .dataframe tbody tr th:only-of-type {\n",
       "        vertical-align: middle;\n",
       "    }\n",
       "\n",
       "    .dataframe tbody tr th {\n",
       "        vertical-align: top;\n",
       "    }\n",
       "\n",
       "    .dataframe thead th {\n",
       "        text-align: right;\n",
       "    }\n",
       "</style>\n",
       "<table border=\"1\" class=\"dataframe\">\n",
       "  <thead>\n",
       "    <tr style=\"text-align: right;\">\n",
       "      <th></th>\n",
       "      <th>f0</th>\n",
       "      <th>f1</th>\n",
       "      <th>f2</th>\n",
       "      <th>product</th>\n",
       "    </tr>\n",
       "  </thead>\n",
       "  <tbody>\n",
       "    <tr>\n",
       "      <th>count</th>\n",
       "      <td>100000.000000</td>\n",
       "      <td>100000.000000</td>\n",
       "      <td>100000.000000</td>\n",
       "      <td>100000.000000</td>\n",
       "    </tr>\n",
       "    <tr>\n",
       "      <th>mean</th>\n",
       "      <td>0.500419</td>\n",
       "      <td>0.250143</td>\n",
       "      <td>2.502647</td>\n",
       "      <td>92.500000</td>\n",
       "    </tr>\n",
       "    <tr>\n",
       "      <th>std</th>\n",
       "      <td>0.871832</td>\n",
       "      <td>0.504433</td>\n",
       "      <td>3.248248</td>\n",
       "      <td>44.288691</td>\n",
       "    </tr>\n",
       "    <tr>\n",
       "      <th>min</th>\n",
       "      <td>-1.408605</td>\n",
       "      <td>-0.848218</td>\n",
       "      <td>-12.088328</td>\n",
       "      <td>0.000000</td>\n",
       "    </tr>\n",
       "    <tr>\n",
       "      <th>25%</th>\n",
       "      <td>-0.072580</td>\n",
       "      <td>-0.200881</td>\n",
       "      <td>0.287748</td>\n",
       "      <td>56.497507</td>\n",
       "    </tr>\n",
       "    <tr>\n",
       "      <th>50%</th>\n",
       "      <td>0.502360</td>\n",
       "      <td>0.250252</td>\n",
       "      <td>2.515969</td>\n",
       "      <td>91.849972</td>\n",
       "    </tr>\n",
       "    <tr>\n",
       "      <th>75%</th>\n",
       "      <td>1.073581</td>\n",
       "      <td>0.700646</td>\n",
       "      <td>4.715088</td>\n",
       "      <td>128.564089</td>\n",
       "    </tr>\n",
       "    <tr>\n",
       "      <th>max</th>\n",
       "      <td>2.362331</td>\n",
       "      <td>1.343769</td>\n",
       "      <td>16.003790</td>\n",
       "      <td>185.364347</td>\n",
       "    </tr>\n",
       "  </tbody>\n",
       "</table>\n",
       "</div>"
      ],
      "text/plain": [
       "                  f0             f1             f2        product\n",
       "count  100000.000000  100000.000000  100000.000000  100000.000000\n",
       "mean        0.500419       0.250143       2.502647      92.500000\n",
       "std         0.871832       0.504433       3.248248      44.288691\n",
       "min        -1.408605      -0.848218     -12.088328       0.000000\n",
       "25%        -0.072580      -0.200881       0.287748      56.497507\n",
       "50%         0.502360       0.250252       2.515969      91.849972\n",
       "75%         1.073581       0.700646       4.715088     128.564089\n",
       "max         2.362331       1.343769      16.003790     185.364347"
      ]
     },
     "execution_count": 9,
     "metadata": {},
     "output_type": "execute_result"
    }
   ],
   "source": [
    "geo_0.describe()"
   ]
  },
  {
   "cell_type": "code",
   "execution_count": 10,
   "id": "5075b092",
   "metadata": {},
   "outputs": [
    {
     "data": {
      "text/html": [
       "<div>\n",
       "<style scoped>\n",
       "    .dataframe tbody tr th:only-of-type {\n",
       "        vertical-align: middle;\n",
       "    }\n",
       "\n",
       "    .dataframe tbody tr th {\n",
       "        vertical-align: top;\n",
       "    }\n",
       "\n",
       "    .dataframe thead th {\n",
       "        text-align: right;\n",
       "    }\n",
       "</style>\n",
       "<table border=\"1\" class=\"dataframe\">\n",
       "  <thead>\n",
       "    <tr style=\"text-align: right;\">\n",
       "      <th></th>\n",
       "      <th>f0</th>\n",
       "      <th>f1</th>\n",
       "      <th>f2</th>\n",
       "      <th>product</th>\n",
       "    </tr>\n",
       "  </thead>\n",
       "  <tbody>\n",
       "    <tr>\n",
       "      <th>count</th>\n",
       "      <td>100000.000000</td>\n",
       "      <td>100000.000000</td>\n",
       "      <td>100000.000000</td>\n",
       "      <td>100000.000000</td>\n",
       "    </tr>\n",
       "    <tr>\n",
       "      <th>mean</th>\n",
       "      <td>1.141296</td>\n",
       "      <td>-4.796579</td>\n",
       "      <td>2.494541</td>\n",
       "      <td>68.825000</td>\n",
       "    </tr>\n",
       "    <tr>\n",
       "      <th>std</th>\n",
       "      <td>8.965932</td>\n",
       "      <td>5.119872</td>\n",
       "      <td>1.703572</td>\n",
       "      <td>45.944423</td>\n",
       "    </tr>\n",
       "    <tr>\n",
       "      <th>min</th>\n",
       "      <td>-31.609576</td>\n",
       "      <td>-26.358598</td>\n",
       "      <td>-0.018144</td>\n",
       "      <td>0.000000</td>\n",
       "    </tr>\n",
       "    <tr>\n",
       "      <th>25%</th>\n",
       "      <td>-6.298551</td>\n",
       "      <td>-8.267985</td>\n",
       "      <td>1.000021</td>\n",
       "      <td>26.953261</td>\n",
       "    </tr>\n",
       "    <tr>\n",
       "      <th>50%</th>\n",
       "      <td>1.153055</td>\n",
       "      <td>-4.813172</td>\n",
       "      <td>2.011479</td>\n",
       "      <td>57.085625</td>\n",
       "    </tr>\n",
       "    <tr>\n",
       "      <th>75%</th>\n",
       "      <td>8.621015</td>\n",
       "      <td>-1.332816</td>\n",
       "      <td>3.999904</td>\n",
       "      <td>107.813044</td>\n",
       "    </tr>\n",
       "    <tr>\n",
       "      <th>max</th>\n",
       "      <td>29.421755</td>\n",
       "      <td>18.734063</td>\n",
       "      <td>5.019721</td>\n",
       "      <td>137.945408</td>\n",
       "    </tr>\n",
       "  </tbody>\n",
       "</table>\n",
       "</div>"
      ],
      "text/plain": [
       "                  f0             f1             f2        product\n",
       "count  100000.000000  100000.000000  100000.000000  100000.000000\n",
       "mean        1.141296      -4.796579       2.494541      68.825000\n",
       "std         8.965932       5.119872       1.703572      45.944423\n",
       "min       -31.609576     -26.358598      -0.018144       0.000000\n",
       "25%        -6.298551      -8.267985       1.000021      26.953261\n",
       "50%         1.153055      -4.813172       2.011479      57.085625\n",
       "75%         8.621015      -1.332816       3.999904     107.813044\n",
       "max        29.421755      18.734063       5.019721     137.945408"
      ]
     },
     "execution_count": 10,
     "metadata": {},
     "output_type": "execute_result"
    }
   ],
   "source": [
    "geo_1.describe()"
   ]
  },
  {
   "cell_type": "code",
   "execution_count": 11,
   "id": "b555f42a",
   "metadata": {},
   "outputs": [
    {
     "data": {
      "text/html": [
       "<div>\n",
       "<style scoped>\n",
       "    .dataframe tbody tr th:only-of-type {\n",
       "        vertical-align: middle;\n",
       "    }\n",
       "\n",
       "    .dataframe tbody tr th {\n",
       "        vertical-align: top;\n",
       "    }\n",
       "\n",
       "    .dataframe thead th {\n",
       "        text-align: right;\n",
       "    }\n",
       "</style>\n",
       "<table border=\"1\" class=\"dataframe\">\n",
       "  <thead>\n",
       "    <tr style=\"text-align: right;\">\n",
       "      <th></th>\n",
       "      <th>f0</th>\n",
       "      <th>f1</th>\n",
       "      <th>f2</th>\n",
       "      <th>product</th>\n",
       "    </tr>\n",
       "  </thead>\n",
       "  <tbody>\n",
       "    <tr>\n",
       "      <th>count</th>\n",
       "      <td>100000.000000</td>\n",
       "      <td>100000.000000</td>\n",
       "      <td>100000.000000</td>\n",
       "      <td>100000.000000</td>\n",
       "    </tr>\n",
       "    <tr>\n",
       "      <th>mean</th>\n",
       "      <td>0.002023</td>\n",
       "      <td>-0.002081</td>\n",
       "      <td>2.495128</td>\n",
       "      <td>95.000000</td>\n",
       "    </tr>\n",
       "    <tr>\n",
       "      <th>std</th>\n",
       "      <td>1.732045</td>\n",
       "      <td>1.730417</td>\n",
       "      <td>3.473445</td>\n",
       "      <td>44.749921</td>\n",
       "    </tr>\n",
       "    <tr>\n",
       "      <th>min</th>\n",
       "      <td>-8.760004</td>\n",
       "      <td>-7.084020</td>\n",
       "      <td>-11.970335</td>\n",
       "      <td>0.000000</td>\n",
       "    </tr>\n",
       "    <tr>\n",
       "      <th>25%</th>\n",
       "      <td>-1.162288</td>\n",
       "      <td>-1.174820</td>\n",
       "      <td>0.130359</td>\n",
       "      <td>59.450441</td>\n",
       "    </tr>\n",
       "    <tr>\n",
       "      <th>50%</th>\n",
       "      <td>0.009424</td>\n",
       "      <td>-0.009482</td>\n",
       "      <td>2.484236</td>\n",
       "      <td>94.925613</td>\n",
       "    </tr>\n",
       "    <tr>\n",
       "      <th>75%</th>\n",
       "      <td>1.158535</td>\n",
       "      <td>1.163678</td>\n",
       "      <td>4.858794</td>\n",
       "      <td>130.595027</td>\n",
       "    </tr>\n",
       "    <tr>\n",
       "      <th>max</th>\n",
       "      <td>7.238262</td>\n",
       "      <td>7.844801</td>\n",
       "      <td>16.739402</td>\n",
       "      <td>190.029838</td>\n",
       "    </tr>\n",
       "  </tbody>\n",
       "</table>\n",
       "</div>"
      ],
      "text/plain": [
       "                  f0             f1             f2        product\n",
       "count  100000.000000  100000.000000  100000.000000  100000.000000\n",
       "mean        0.002023      -0.002081       2.495128      95.000000\n",
       "std         1.732045       1.730417       3.473445      44.749921\n",
       "min        -8.760004      -7.084020     -11.970335       0.000000\n",
       "25%        -1.162288      -1.174820       0.130359      59.450441\n",
       "50%         0.009424      -0.009482       2.484236      94.925613\n",
       "75%         1.158535       1.163678       4.858794     130.595027\n",
       "max         7.238262       7.844801      16.739402     190.029838"
      ]
     },
     "execution_count": 11,
     "metadata": {},
     "output_type": "execute_result"
    }
   ],
   "source": [
    "geo_2.describe()"
   ]
  },
  {
   "cell_type": "markdown",
   "id": "9dd4059c",
   "metadata": {},
   "source": [
    "We can see that the mean and the median for product in first and last regions is very close together. The region labeled geo_1 has a median a bit smaller than the mean so the distribution might not be normal we will have to look at the histograms."
   ]
  },
  {
   "cell_type": "code",
   "execution_count": 12,
   "id": "8f83b6ed",
   "metadata": {},
   "outputs": [
    {
     "data": {
      "text/plain": [
       "<AxesSubplot:>"
      ]
     },
     "execution_count": 12,
     "metadata": {},
     "output_type": "execute_result"
    },
    {
     "data": {
      "image/png": "[encoded data removed]",
      "text/plain": [
       "<Figure size 432x288 with 1 Axes>"
      ]
     },
     "metadata": {
      "needs_background": "light"
     },
     "output_type": "display_data"
    }
   ],
   "source": [
    "geo_0['product'].hist(bins=20)"
   ]
  },
  {
   "cell_type": "code",
   "execution_count": 13,
   "id": "10bfaf15",
   "metadata": {},
   "outputs": [
    {
     "data": {
      "text/plain": [
       "<AxesSubplot:>"
      ]
     },
     "execution_count": 13,
     "metadata": {},
     "output_type": "execute_result"
    },
    {
     "data": {
      "image/png": "[encoded data removed]",
      "text/plain": [
       "<Figure size 432x288 with 1 Axes>"
      ]
     },
     "metadata": {
      "needs_background": "light"
     },
     "output_type": "display_data"
    }
   ],
   "source": [
    "geo_1['product'].hist(bins=10)"
   ]
  },
  {
   "cell_type": "code",
   "execution_count": 14,
   "id": "ccca381e",
   "metadata": {},
   "outputs": [
    {
     "data": {
      "text/plain": [
       "<AxesSubplot:>"
      ]
     },
     "execution_count": 14,
     "metadata": {},
     "output_type": "execute_result"
    },
    {
     "data": {
      "image/png": "[encoded data removed]",
      "text/plain": [
       "<Figure size 432x288 with 1 Axes>"
      ]
     },
     "metadata": {
      "needs_background": "light"
     },
     "output_type": "display_data"
    }
   ],
   "source": [
    "geo_2['product'].hist(bins=20)"
   ]
  },
  {
   "cell_type": "markdown",
   "id": "78aa1686",
   "metadata": {},
   "source": [
    "Something looks strange about geo_1 histogram the product data does not look normally distributed. Lets look at a boxplot for geo_1. The other 2 regions geo_0 and geo_2 do look normally distributed. "
   ]
  },
  {
   "cell_type": "code",
   "execution_count": 15,
   "id": "a05657c4",
   "metadata": {},
   "outputs": [
    {
     "data": {
      "text/plain": [
       "<AxesSubplot:>"
      ]
     },
     "execution_count": 15,
     "metadata": {},
     "output_type": "execute_result"
    },
    {
     "data": {
      "image/png": "[encoded data removed]",
      "text/plain": [
       "<Figure size 432x288 with 1 Axes>"
      ]
     },
     "metadata": {
      "needs_background": "light"
     },
     "output_type": "display_data"
    }
   ],
   "source": [
    "geo_1.boxplot(column = 'product')"
   ]
  },
  {
   "cell_type": "code",
   "execution_count": 16,
   "id": "0cba744e",
   "metadata": {},
   "outputs": [
    {
     "data": {
      "image/png": "[encoded data removed]",
      "text/plain": [
       "<Figure size 576x504 with 1 Axes>"
      ]
     },
     "metadata": {
      "needs_background": "light"
     },
     "output_type": "display_data"
    }
   ],
   "source": [
    "fig, ax =  plt.subplots(figsize=(8,7))\n",
    "ax = sb.boxplot( y='product',data = geo_1, palette=\"Set3\")"
   ]
  },
  {
   "cell_type": "code",
   "execution_count": 17,
   "id": "8888b6d8",
   "metadata": {},
   "outputs": [
    {
     "data": {
      "text/plain": [
       "137.94540774090564"
      ]
     },
     "execution_count": 17,
     "metadata": {},
     "output_type": "execute_result"
    }
   ],
   "source": [
    "geo_1['product'].max()"
   ]
  },
  {
   "cell_type": "markdown",
   "id": "bf2f695b",
   "metadata": {},
   "source": [
    "It actually appears that all data falls between the top and bottom whiskers so there are not true outliers in geo_1 for the product column. "
   ]
  },
  {
   "cell_type": "code",
   "execution_count": 18,
   "id": "8e6848b8",
   "metadata": {},
   "outputs": [
    {
     "data": {
      "text/plain": [
       "0.0"
      ]
     },
     "execution_count": 18,
     "metadata": {},
     "output_type": "execute_result"
    }
   ],
   "source": [
    "geo_1['product'].min()"
   ]
  },
  {
   "cell_type": "code",
   "execution_count": 19,
   "id": "4d59f3b3",
   "metadata": {},
   "outputs": [
    {
     "data": {
      "text/html": [
       "<div>\n",
       "<style scoped>\n",
       "    .dataframe tbody tr th:only-of-type {\n",
       "        vertical-align: middle;\n",
       "    }\n",
       "\n",
       "    .dataframe tbody tr th {\n",
       "        vertical-align: top;\n",
       "    }\n",
       "\n",
       "    .dataframe thead th {\n",
       "        text-align: right;\n",
       "    }\n",
       "</style>\n",
       "<table border=\"1\" class=\"dataframe\">\n",
       "  <thead>\n",
       "    <tr style=\"text-align: right;\">\n",
       "      <th></th>\n",
       "      <th>id</th>\n",
       "      <th>f0</th>\n",
       "      <th>f1</th>\n",
       "      <th>f2</th>\n",
       "      <th>product</th>\n",
       "    </tr>\n",
       "  </thead>\n",
       "  <tbody>\n",
       "    <tr>\n",
       "      <th>57263</th>\n",
       "      <td>zCM5W</td>\n",
       "      <td>-0.702064</td>\n",
       "      <td>0.375992</td>\n",
       "      <td>0.236572</td>\n",
       "      <td>0.0</td>\n",
       "    </tr>\n",
       "  </tbody>\n",
       "</table>\n",
       "</div>"
      ],
      "text/plain": [
       "          id        f0        f1        f2  product\n",
       "57263  zCM5W -0.702064  0.375992  0.236572      0.0"
      ]
     },
     "execution_count": 19,
     "metadata": {},
     "output_type": "execute_result"
    }
   ],
   "source": [
    "geo_0.query('product==0')"
   ]
  },
  {
   "cell_type": "code",
   "execution_count": 20,
   "id": "eb881cc8",
   "metadata": {},
   "outputs": [
    {
     "data": {
      "text/html": [
       "<div>\n",
       "<style scoped>\n",
       "    .dataframe tbody tr th:only-of-type {\n",
       "        vertical-align: middle;\n",
       "    }\n",
       "\n",
       "    .dataframe tbody tr th {\n",
       "        vertical-align: top;\n",
       "    }\n",
       "\n",
       "    .dataframe thead th {\n",
       "        text-align: right;\n",
       "    }\n",
       "</style>\n",
       "<table border=\"1\" class=\"dataframe\">\n",
       "  <thead>\n",
       "    <tr style=\"text-align: right;\">\n",
       "      <th></th>\n",
       "      <th>id</th>\n",
       "      <th>f0</th>\n",
       "      <th>f1</th>\n",
       "      <th>f2</th>\n",
       "      <th>product</th>\n",
       "    </tr>\n",
       "  </thead>\n",
       "  <tbody>\n",
       "    <tr>\n",
       "      <th>68149</th>\n",
       "      <td>qeefd</td>\n",
       "      <td>-0.865596</td>\n",
       "      <td>-1.615247</td>\n",
       "      <td>-4.126441</td>\n",
       "      <td>0.0</td>\n",
       "    </tr>\n",
       "  </tbody>\n",
       "</table>\n",
       "</div>"
      ],
      "text/plain": [
       "          id        f0        f1        f2  product\n",
       "68149  qeefd -0.865596 -1.615247 -4.126441      0.0"
      ]
     },
     "execution_count": 20,
     "metadata": {},
     "output_type": "execute_result"
    }
   ],
   "source": [
    "geo_2.query('product==0')"
   ]
  },
  {
   "cell_type": "code",
   "execution_count": 21,
   "id": "e23c63fe",
   "metadata": {},
   "outputs": [
    {
     "data": {
      "text/plain": [
       "id         8235\n",
       "f0         8235\n",
       "f1         8235\n",
       "f2         8235\n",
       "product    8235\n",
       "dtype: int64"
      ]
     },
     "execution_count": 21,
     "metadata": {},
     "output_type": "execute_result"
    }
   ],
   "source": [
    "geo_1.query('product==0').count()"
   ]
  },
  {
   "cell_type": "markdown",
   "id": "420e745f",
   "metadata": {},
   "source": [
    "geo_1 has 8235 rows and ids that have a product of zero. These are wells we really don't want to find or predict because we want wells that make a profit so I will drop these rows. As a comparison the other 2 regions only have one well id equal to zero. "
   ]
  },
  {
   "cell_type": "code",
   "execution_count": 22,
   "id": "d6b178a9",
   "metadata": {
    "scrolled": true
   },
   "outputs": [
    {
     "data": {
      "text/plain": [
       "id         16572\n",
       "f0         16572\n",
       "f1         16572\n",
       "f2         16572\n",
       "product    16572\n",
       "dtype: int64"
      ]
     },
     "execution_count": 22,
     "metadata": {},
     "output_type": "execute_result"
    }
   ],
   "source": [
    "geo_1.query('product<4 and product>=0 ' ).count()"
   ]
  },
  {
   "cell_type": "markdown",
   "id": "4e44c033",
   "metadata": {},
   "source": [
    "geo_1 region has  16572 of ids with less than 4,000 barrels of oil in reserves. These are not profitable to develop based on budget of 100 Million per 200 oil wells."
   ]
  },
  {
   "cell_type": "code",
   "execution_count": 23,
   "id": "727e4f6f",
   "metadata": {},
   "outputs": [
    {
     "data": {
      "text/plain": [
       "id         822\n",
       "f0         822\n",
       "f1         822\n",
       "f2         822\n",
       "product    822\n",
       "dtype: int64"
      ]
     },
     "execution_count": 23,
     "metadata": {},
     "output_type": "execute_result"
    }
   ],
   "source": [
    "geo_0.query('product<4 and product>=0 ' ).count()"
   ]
  },
  {
   "cell_type": "code",
   "execution_count": 24,
   "id": "b4a93bb2",
   "metadata": {},
   "outputs": [
    {
     "data": {
      "text/plain": [
       "id         763\n",
       "f0         763\n",
       "f1         763\n",
       "f2         763\n",
       "product    763\n",
       "dtype: int64"
      ]
     },
     "execution_count": 24,
     "metadata": {},
     "output_type": "execute_result"
    }
   ],
   "source": [
    "geo_2.query('product<4 and product>=0 ' ).count()"
   ]
  },
  {
   "cell_type": "code",
   "execution_count": 25,
   "id": "e1ebcbae",
   "metadata": {},
   "outputs": [
    {
     "data": {
      "text/html": [
       "<div>\n",
       "<style scoped>\n",
       "    .dataframe tbody tr th:only-of-type {\n",
       "        vertical-align: middle;\n",
       "    }\n",
       "\n",
       "    .dataframe tbody tr th {\n",
       "        vertical-align: top;\n",
       "    }\n",
       "\n",
       "    .dataframe thead th {\n",
       "        text-align: right;\n",
       "    }\n",
       "</style>\n",
       "<table border=\"1\" class=\"dataframe\">\n",
       "  <thead>\n",
       "    <tr style=\"text-align: right;\">\n",
       "      <th></th>\n",
       "      <th>id</th>\n",
       "      <th>f0</th>\n",
       "      <th>f1</th>\n",
       "      <th>f2</th>\n",
       "      <th>product</th>\n",
       "    </tr>\n",
       "  </thead>\n",
       "  <tbody>\n",
       "    <tr>\n",
       "      <th>53864</th>\n",
       "      <td>MzRzn</td>\n",
       "      <td>2.901352</td>\n",
       "      <td>-3.475398</td>\n",
       "      <td>5.001393</td>\n",
       "      <td>137.945408</td>\n",
       "    </tr>\n",
       "    <tr>\n",
       "      <th>97083</th>\n",
       "      <td>nW6eC</td>\n",
       "      <td>-4.030430</td>\n",
       "      <td>-14.020643</td>\n",
       "      <td>5.009571</td>\n",
       "      <td>137.945408</td>\n",
       "    </tr>\n",
       "    <tr>\n",
       "      <th>88340</th>\n",
       "      <td>xwJzQ</td>\n",
       "      <td>-3.373117</td>\n",
       "      <td>-9.227661</td>\n",
       "      <td>4.994369</td>\n",
       "      <td>137.945408</td>\n",
       "    </tr>\n",
       "    <tr>\n",
       "      <th>64879</th>\n",
       "      <td>Xd8DC</td>\n",
       "      <td>-5.360281</td>\n",
       "      <td>-2.388204</td>\n",
       "      <td>5.001439</td>\n",
       "      <td>137.945408</td>\n",
       "    </tr>\n",
       "    <tr>\n",
       "      <th>7288</th>\n",
       "      <td>Stdrb</td>\n",
       "      <td>-8.058661</td>\n",
       "      <td>-2.244840</td>\n",
       "      <td>5.000753</td>\n",
       "      <td>137.945408</td>\n",
       "    </tr>\n",
       "    <tr>\n",
       "      <th>...</th>\n",
       "      <td>...</td>\n",
       "      <td>...</td>\n",
       "      <td>...</td>\n",
       "      <td>...</td>\n",
       "      <td>...</td>\n",
       "    </tr>\n",
       "    <tr>\n",
       "      <th>27916</th>\n",
       "      <td>XMHOp</td>\n",
       "      <td>-2.431278</td>\n",
       "      <td>-0.696336</td>\n",
       "      <td>4.995988</td>\n",
       "      <td>137.945408</td>\n",
       "    </tr>\n",
       "    <tr>\n",
       "      <th>27920</th>\n",
       "      <td>G7Xyb</td>\n",
       "      <td>-6.418231</td>\n",
       "      <td>-5.094249</td>\n",
       "      <td>5.004449</td>\n",
       "      <td>137.945408</td>\n",
       "    </tr>\n",
       "    <tr>\n",
       "      <th>27928</th>\n",
       "      <td>KmcHn</td>\n",
       "      <td>-7.107418</td>\n",
       "      <td>-12.631927</td>\n",
       "      <td>5.002451</td>\n",
       "      <td>137.945408</td>\n",
       "    </tr>\n",
       "    <tr>\n",
       "      <th>2194</th>\n",
       "      <td>f0vwX</td>\n",
       "      <td>-3.256889</td>\n",
       "      <td>-10.452540</td>\n",
       "      <td>5.000511</td>\n",
       "      <td>137.945408</td>\n",
       "    </tr>\n",
       "    <tr>\n",
       "      <th>20754</th>\n",
       "      <td>dS7KF</td>\n",
       "      <td>-11.991342</td>\n",
       "      <td>-2.997868</td>\n",
       "      <td>4.990995</td>\n",
       "      <td>137.945408</td>\n",
       "    </tr>\n",
       "  </tbody>\n",
       "</table>\n",
       "<p>5000 rows × 5 columns</p>\n",
       "</div>"
      ],
      "text/plain": [
       "          id         f0         f1        f2     product\n",
       "53864  MzRzn   2.901352  -3.475398  5.001393  137.945408\n",
       "97083  nW6eC  -4.030430 -14.020643  5.009571  137.945408\n",
       "88340  xwJzQ  -3.373117  -9.227661  4.994369  137.945408\n",
       "64879  Xd8DC  -5.360281  -2.388204  5.001439  137.945408\n",
       "7288   Stdrb  -8.058661  -2.244840  5.000753  137.945408\n",
       "...      ...        ...        ...       ...         ...\n",
       "27916  XMHOp  -2.431278  -0.696336  4.995988  137.945408\n",
       "27920  G7Xyb  -6.418231  -5.094249  5.004449  137.945408\n",
       "27928  KmcHn  -7.107418 -12.631927  5.002451  137.945408\n",
       "2194   f0vwX  -3.256889 -10.452540  5.000511  137.945408\n",
       "20754  dS7KF -11.991342  -2.997868  4.990995  137.945408\n",
       "\n",
       "[5000 rows x 5 columns]"
      ]
     },
     "execution_count": 25,
     "metadata": {},
     "output_type": "execute_result"
    }
   ],
   "source": [
    "geo_1.sort_values('product',ascending=False ).head(5000)"
   ]
  },
  {
   "cell_type": "markdown",
   "id": "34ccf550",
   "metadata": {},
   "source": [
    "In geo_1 we also see a spike at exactly 137.945 barrels of product. The target data just seems strange for geo_1 with a spike less than 4000 barrels and a spike at 13 945 barrels on the other extreme of the histogram. "
   ]
  },
  {
   "cell_type": "markdown",
   "id": "96e2d424",
   "metadata": {},
   "source": [
    "### Lets build a regression model to try to predict product based on f0, f1, f2. "
   ]
  },
  {
   "cell_type": "code",
   "execution_count": 26,
   "id": "b1fe288e",
   "metadata": {},
   "outputs": [],
   "source": [
    "#First we split the data into validation and training sets."
   ]
  },
  {
   "cell_type": "code",
   "execution_count": 27,
   "id": "d991d3c0",
   "metadata": {},
   "outputs": [],
   "source": [
    "X_0 = geo_0.drop(['product','id'], axis = 1) #We drop the id since it is unique for eache row and this doesn't help the linear regression model\n",
    "y_0 = geo_0['product']"
   ]
  },
  {
   "cell_type": "code",
   "execution_count": 28,
   "id": "4a725141",
   "metadata": {},
   "outputs": [],
   "source": [
    "X_0_train, X_0_val, y_0_train, y_0_val = train_test_split(X_0, y_0 , test_size=0.25, random_state=77)"
   ]
  },
  {
   "cell_type": "code",
   "execution_count": 29,
   "id": "6d2fb74e",
   "metadata": {},
   "outputs": [],
   "source": [
    "X_1 = geo_1.drop(['product','id'], axis = 1)\n",
    "y_1 = geo_1['product']"
   ]
  },
  {
   "cell_type": "code",
   "execution_count": 30,
   "id": "4ef1b4af",
   "metadata": {},
   "outputs": [],
   "source": [
    "X_1_train, X_1_val, y_1_train, y_1_val = train_test_split(X_1, y_1 , test_size=0.25, random_state=77)"
   ]
  },
  {
   "cell_type": "code",
   "execution_count": 31,
   "id": "b2d6ee8f",
   "metadata": {},
   "outputs": [],
   "source": [
    "X_2 = geo_2.drop(['product','id'], axis = 1)\n",
    "y_2 = geo_2['product']"
   ]
  },
  {
   "cell_type": "code",
   "execution_count": 32,
   "id": "dd8de715",
   "metadata": {},
   "outputs": [],
   "source": [
    "X_2_train, X_2_val, y_2_train, y_2_val = train_test_split(X_2, y_2 , test_size=0.25, random_state=77)"
   ]
  },
  {
   "cell_type": "code",
   "execution_count": 33,
   "id": "703d0464",
   "metadata": {},
   "outputs": [
    {
     "data": {
      "text/plain": [
       "LinearRegression()"
      ]
     },
     "execution_count": 33,
     "metadata": {},
     "output_type": "execute_result"
    }
   ],
   "source": [
    "model_0 = LinearRegression() \n",
    "model_0.fit(X_0_train, y_0_train) #train the model for region 0"
   ]
  },
  {
   "cell_type": "code",
   "execution_count": 34,
   "id": "a5e309f6",
   "metadata": {},
   "outputs": [
    {
     "data": {
      "text/plain": [
       "LinearRegression()"
      ]
     },
     "execution_count": 34,
     "metadata": {},
     "output_type": "execute_result"
    }
   ],
   "source": [
    "model_1 = LinearRegression() \n",
    "model_1.fit(X_1_train, y_1_train) #train the model for region 1"
   ]
  },
  {
   "cell_type": "code",
   "execution_count": 35,
   "id": "289d02d0",
   "metadata": {},
   "outputs": [
    {
     "data": {
      "text/plain": [
       "LinearRegression()"
      ]
     },
     "execution_count": 35,
     "metadata": {},
     "output_type": "execute_result"
    }
   ],
   "source": [
    "model_2 = LinearRegression() \n",
    "model_2.fit(X_2_train, y_2_train) #train the model for region 1"
   ]
  },
  {
   "cell_type": "code",
   "execution_count": 36,
   "id": "19365232",
   "metadata": {
    "scrolled": true
   },
   "outputs": [
    {
     "data": {
      "text/plain": [
       "0.2740505603096741"
      ]
     },
     "execution_count": 36,
     "metadata": {},
     "output_type": "execute_result"
    }
   ],
   "source": [
    "model_0.score(X_0_val, y_0_val) # our model is not very good by this measure using coeficient of determination"
   ]
  },
  {
   "cell_type": "code",
   "execution_count": 37,
   "id": "b8360131",
   "metadata": {},
   "outputs": [
    {
     "data": {
      "text/plain": [
       "37.77299367518926"
      ]
     },
     "execution_count": 37,
     "metadata": {},
     "output_type": "execute_result"
    }
   ],
   "source": [
    "(model_0.predict(X_0_val)- y_0_val).std()"
   ]
  },
  {
   "cell_type": "code",
   "execution_count": 38,
   "id": "b93e435f",
   "metadata": {},
   "outputs": [
    {
     "data": {
      "text/plain": [
       "<AxesSubplot:>"
      ]
     },
     "execution_count": 38,
     "metadata": {},
     "output_type": "execute_result"
    },
    {
     "data": {
      "image/png": "[encoded data removed]",
      "text/plain": [
       "<Figure size 432x288 with 1 Axes>"
      ]
     },
     "metadata": {
      "needs_background": "light"
     },
     "output_type": "display_data"
    }
   ],
   "source": [
    "(model_0.predict(X_0_val)- y_0_val).hist(bins=100);"
   ]
  },
  {
   "cell_type": "code",
   "execution_count": 39,
   "id": "cba25aea",
   "metadata": {
    "scrolled": true
   },
   "outputs": [
    {
     "data": {
      "text/plain": [
       "0.8889883610061976"
      ]
     },
     "execution_count": 39,
     "metadata": {},
     "output_type": "execute_result"
    },
    {
     "data": {
      "image/png": "[encoded data removed]",
      "text/plain": [
       "<Figure size 432x288 with 1 Axes>"
      ]
     },
     "metadata": {
      "needs_background": "light"
     },
     "output_type": "display_data"
    }
   ],
   "source": [
    "(model_1.predict(X_1_val)- y_1_val).hist(bins=100)\n",
    "(model_1.predict(X_1_val)- y_1_val).std()"
   ]
  },
  {
   "cell_type": "code",
   "execution_count": 40,
   "id": "f021c191",
   "metadata": {},
   "outputs": [
    {
     "data": {
      "text/plain": [
       "39.93112389828492"
      ]
     },
     "execution_count": 40,
     "metadata": {},
     "output_type": "execute_result"
    },
    {
     "data": {
      "image/png": "[encoded data removed]",
      "text/plain": [
       "<Figure size 432x288 with 1 Axes>"
      ]
     },
     "metadata": {
      "needs_background": "light"
     },
     "output_type": "display_data"
    }
   ],
   "source": [
    "(model_2.predict(X_2_val)- y_2_val).hist(bins=100)\n",
    "(model_2.predict(X_2_val)- y_2_val).std()"
   ]
  },
  {
   "cell_type": "code",
   "execution_count": 41,
   "id": "6cfcd39e",
   "metadata": {},
   "outputs": [],
   "source": [
    "r0_vals = pd.DataFrame()\n",
    "r0_vals['predicted'] = model_0.predict(X_0_val) #changed the fit to the validation test set.\n",
    "r0_vals['actual'] = y_0_val.values"
   ]
  },
  {
   "cell_type": "code",
   "execution_count": 42,
   "id": "9445e076",
   "metadata": {},
   "outputs": [
    {
     "data": {
      "text/html": [
       "<div>\n",
       "<style scoped>\n",
       "    .dataframe tbody tr th:only-of-type {\n",
       "        vertical-align: middle;\n",
       "    }\n",
       "\n",
       "    .dataframe tbody tr th {\n",
       "        vertical-align: top;\n",
       "    }\n",
       "\n",
       "    .dataframe thead th {\n",
       "        text-align: right;\n",
       "    }\n",
       "</style>\n",
       "<table border=\"1\" class=\"dataframe\">\n",
       "  <thead>\n",
       "    <tr style=\"text-align: right;\">\n",
       "      <th></th>\n",
       "      <th>predicted</th>\n",
       "      <th>actual</th>\n",
       "    </tr>\n",
       "  </thead>\n",
       "  <tbody>\n",
       "    <tr>\n",
       "      <th>0</th>\n",
       "      <td>75.950843</td>\n",
       "      <td>78.457075</td>\n",
       "    </tr>\n",
       "    <tr>\n",
       "      <th>1</th>\n",
       "      <td>97.225399</td>\n",
       "      <td>81.490366</td>\n",
       "    </tr>\n",
       "    <tr>\n",
       "      <th>2</th>\n",
       "      <td>128.650402</td>\n",
       "      <td>155.905578</td>\n",
       "    </tr>\n",
       "    <tr>\n",
       "      <th>3</th>\n",
       "      <td>110.968969</td>\n",
       "      <td>140.785031</td>\n",
       "    </tr>\n",
       "    <tr>\n",
       "      <th>4</th>\n",
       "      <td>114.644157</td>\n",
       "      <td>177.124963</td>\n",
       "    </tr>\n",
       "  </tbody>\n",
       "</table>\n",
       "</div>"
      ],
      "text/plain": [
       "    predicted      actual\n",
       "0   75.950843   78.457075\n",
       "1   97.225399   81.490366\n",
       "2  128.650402  155.905578\n",
       "3  110.968969  140.785031\n",
       "4  114.644157  177.124963"
      ]
     },
     "execution_count": 42,
     "metadata": {},
     "output_type": "execute_result"
    }
   ],
   "source": [
    "r0_vals.head()"
   ]
  },
  {
   "cell_type": "code",
   "execution_count": 43,
   "id": "24b41ff4",
   "metadata": {},
   "outputs": [],
   "source": [
    "r1_vals = pd.DataFrame()\n",
    "r1_vals['predicted'] = model_1.predict(X_1_val)\n",
    "r1_vals['actual'] = y_1_val.values"
   ]
  },
  {
   "cell_type": "code",
   "execution_count": 44,
   "id": "b0553b98",
   "metadata": {},
   "outputs": [],
   "source": [
    "r2_vals = pd.DataFrame()\n",
    "r2_vals['predicted'] = model_2.predict(X_2_val)\n",
    "r2_vals['actual'] = y_2_val.values"
   ]
  },
  {
   "cell_type": "markdown",
   "id": "5fc0163a",
   "metadata": {},
   "source": [
    "### Calculate root mean squared error or RMSE. "
   ]
  },
  {
   "cell_type": "code",
   "execution_count": 45,
   "id": "356c866d",
   "metadata": {
    "scrolled": true
   },
   "outputs": [
    {
     "data": {
      "text/plain": [
       "37.772329071165224"
      ]
     },
     "execution_count": 45,
     "metadata": {},
     "output_type": "execute_result"
    }
   ],
   "source": [
    "np.sqrt(mean_squared_error(r0_vals['predicted'],r0_vals['actual']))"
   ]
  },
  {
   "cell_type": "code",
   "execution_count": 46,
   "id": "74000a71",
   "metadata": {},
   "outputs": [
    {
     "data": {
      "text/plain": [
       "0.8889724316375048"
      ]
     },
     "execution_count": 46,
     "metadata": {},
     "output_type": "execute_result"
    }
   ],
   "source": [
    "np.sqrt(mean_squared_error(r1_vals['predicted'],r1_vals['actual']))"
   ]
  },
  {
   "cell_type": "code",
   "execution_count": 47,
   "id": "127f1575",
   "metadata": {},
   "outputs": [
    {
     "data": {
      "text/plain": [
       "39.930553388010296"
      ]
     },
     "execution_count": 47,
     "metadata": {},
     "output_type": "execute_result"
    }
   ],
   "source": [
    "np.sqrt(mean_squared_error(r2_vals['predicted'],r2_vals['actual']))"
   ]
  },
  {
   "cell_type": "markdown",
   "id": "503932ea",
   "metadata": {},
   "source": [
    "### Take a sample of 500 then select the top 200 and check profitability."
   ]
  },
  {
   "cell_type": "code",
   "execution_count": 48,
   "id": "e0c65b49",
   "metadata": {},
   "outputs": [
    {
     "data": {
      "text/plain": [
       "predicted    4797.733867\n",
       "actual       6529.424067\n",
       "dtype: float64"
      ]
     },
     "execution_count": 48,
     "metadata": {},
     "output_type": "execute_result"
    }
   ],
   "source": [
    "((r0_vals.sample(500).sort_values('predicted', ascending=False).iloc[0:200].sum()*4.5))-100000 #Divided everything by 1000 for simplicity"
   ]
  },
  {
   "cell_type": "code",
   "execution_count": 49,
   "id": "4a2af985",
   "metadata": {},
   "outputs": [
    {
     "data": {
      "text/plain": [
       "predicted    3594.325739\n",
       "actual       3635.495999\n",
       "dtype: float64"
      ]
     },
     "execution_count": 49,
     "metadata": {},
     "output_type": "execute_result"
    }
   ],
   "source": [
    "((r1_vals.sample(500).sort_values('predicted', ascending=False).iloc[0:200].sum()*4.5))-100000"
   ]
  },
  {
   "cell_type": "code",
   "execution_count": 50,
   "id": "173bc94e",
   "metadata": {},
   "outputs": [
    {
     "data": {
      "text/plain": [
       "predicted    1349.285868\n",
       "actual        100.090901\n",
       "dtype: float64"
      ]
     },
     "execution_count": 50,
     "metadata": {},
     "output_type": "execute_result"
    }
   ],
   "source": [
    "((r2_vals.sample(500).sort_values('predicted', ascending=False).iloc[0:200].sum()*4.5))-100000"
   ]
  },
  {
   "cell_type": "markdown",
   "id": "dec4746f",
   "metadata": {},
   "source": [
    "If the budget to develop 200 wells is 100M then the budget to develop each well is 500,000 and that means for a well to be worth that investment it must have a product above 111 (since 111 X 4500) is about 500K."
   ]
  },
  {
   "cell_type": "markdown",
   "id": "06a47c13",
   "metadata": {},
   "source": [
    "## 3 Prepare for profit calculation:"
   ]
  },
  {
   "cell_type": "markdown",
   "id": "aad5c978",
   "metadata": {},
   "source": [
    "3.1. Store all key values for calculations in separate variables.\n",
    "3.2. Calculate the volume of reserves sufficient for developing a new well without losses. Compare the obtained value with the average volume of reserves in each region.\n",
    "3.3. Provide the findings about the preparation for profit calculation step."
   ]
  },
  {
   "cell_type": "markdown",
   "id": "24dfbd5a",
   "metadata": {},
   "source": [
    "If the budget to develop 200 wells is 100M then the budget to develop each well is 500,000 and that means for a well to be worth that investment it must have a product above 111 (since 111 X 4500) is about 500K."
   ]
  },
  {
   "cell_type": "markdown",
   "id": "773445c0",
   "metadata": {},
   "source": [
    "Minimum volume of reserves should be the equivalent 100,000,000/200 translated into barrels of oil. So 500,000/4500."
   ]
  },
  {
   "cell_type": "code",
   "execution_count": 51,
   "id": "49567c0d",
   "metadata": {},
   "outputs": [
    {
     "name": "stdout",
     "output_type": "stream",
     "text": [
      "111.11111111111111\n"
     ]
    }
   ],
   "source": [
    "min_volume = (100000000/200)/4500 #This is the minimum oil volume need to not incure a loss at OilGiant.\n",
    "print(min_volume) # This is just the break even point to make a profit there must be more than 111.111 in the product."
   ]
  },
  {
   "cell_type": "code",
   "execution_count": 52,
   "id": "f6bf8f53",
   "metadata": {},
   "outputs": [
    {
     "name": "stdout",
     "output_type": "stream",
     "text": [
      "geo_0: 92.50000000000001\n",
      "geo_1: 68.82500000000002\n",
      "geo_2: 95.00000000000004\n"
     ]
    }
   ],
   "source": [
    "print('geo_0:',geo_0['product'].mean())\n",
    "print('geo_1:',geo_1['product'].mean())\n",
    "print('geo_2:',geo_2['product'].mean())"
   ]
  },
  {
   "cell_type": "markdown",
   "id": "19d75bd1",
   "metadata": {},
   "source": [
    "We can see that the mean for all 3 regions is less than the break even needed for the development budget to be worth the investment. We had also found that geo_1 had over 8500 wells with zero volume. I don't think these wells should even be included in the analysis since it would not make sense to invest in a well that does not have any oil. "
   ]
  },
  {
   "cell_type": "markdown",
   "id": "c3a89a3b",
   "metadata": {},
   "source": [
    "## 4 Write a function to calculate profit from a set of selected oil wells and model predictions:\n",
    "4.1. Pick the wells with the highest values of predictions.\n",
    "4.2. Summarize the target volume of reserves in accordance with these predictions\n",
    "4.3. Provide findings: suggest a region for oil wells' development and justify the choice. Calculate the profit for the obtained volume of reserves.\n",
    "Calculate risks and profit for each region:"
   ]
  },
  {
   "cell_type": "code",
   "execution_count": 53,
   "id": "143a47a3",
   "metadata": {},
   "outputs": [],
   "source": [
    "def profit(df): #function to calculate profit by sorting by predicted values but looking at actuals to calculate 200 best wells by predictions.\n",
    "    top_200_pred = df.sort_values('predicted', ascending=False).head(200)\n",
    "    profit = top_200_pred['actual'].sum()*4500 - 100000000 # We need to subtract the 100M needed to develop 200 wells\n",
    "    ttl_predicted = sum(top_200_pred['predicted'])\n",
    "    ttl_actual = sum(top_200_pred['actual'])\n",
    "    mean_predicted = round(top_200_pred['predicted'].mean())\n",
    "    mean_actual = round(top_200_pred['actual'].mean())\n",
    "    return print('profit:', round(profit), 'ttl_predicted:', round(ttl_predicted), 'ttl_actual:', round(ttl_actual), 'mean_predicted:', mean_predicted, 'mean_actual:', mean_actual)"
   ]
  },
  {
   "cell_type": "code",
   "execution_count": 54,
   "id": "7668bc2a",
   "metadata": {
    "scrolled": true
   },
   "outputs": [
    {
     "name": "stdout",
     "output_type": "stream",
     "text": [
      "profit: 32617430 ttl_predicted: 30904 ttl_actual: 29471 mean_predicted: 155 mean_actual: 147\n"
     ]
    }
   ],
   "source": [
    "profit(r0_vals)"
   ]
  },
  {
   "cell_type": "code",
   "execution_count": 55,
   "id": "1f4159ef",
   "metadata": {},
   "outputs": [
    {
     "name": "stdout",
     "output_type": "stream",
     "text": [
      "profit: 24150867 ttl_predicted: 27749 ttl_actual: 27589 mean_predicted: 139 mean_actual: 138\n"
     ]
    }
   ],
   "source": [
    "profit(r1_vals)"
   ]
  },
  {
   "cell_type": "code",
   "execution_count": 56,
   "id": "761e5004",
   "metadata": {},
   "outputs": [
    {
     "name": "stdout",
     "output_type": "stream",
     "text": [
      "profit: 25258806 ttl_predicted: 29821 ttl_actual: 27835 mean_predicted: 149 mean_actual: 139\n"
     ]
    }
   ],
   "source": [
    "profit(r2_vals)"
   ]
  },
  {
   "cell_type": "markdown",
   "id": "41a0f974",
   "metadata": {},
   "source": [
    "Region with highest profit for top 200 predicted well volume is region zero or geo_0 with almost 35 million in profit (for actual volumes) after subtracting the 100 million needed to develop 200 wells. It seems like of the 3 geo_0 is a clear winner by all metrics for both predictions and actuals. However, geo_1 does not have a normal distribution and is much closer to profits seen in geo_2 (does have a normal distribution. To break the close tie lets use boostrapping to get a better idea of total profitability with a high confidence level. \n"
   ]
  },
  {
   "cell_type": "markdown",
   "id": "80df4f5f",
   "metadata": {},
   "source": [
    "## BOOSTRAPING"
   ]
  },
  {
   "cell_type": "markdown",
   "id": "df7e5b30",
   "metadata": {},
   "source": [
    "First we will look at region zero. We take 500 random samples than sort them and take top 200 by predicted volume for each. Then we calculate the profitability by subtracting the cost of developing 200 wells from the total profit. Once we have that we add that number to a list of 1000 profits from 1000 random subsamples with replacement. "
   ]
  },
  {
   "cell_type": "markdown",
   "id": "5cca2317",
   "metadata": {},
   "source": [
    "### Region 0 analysis of profitability"
   ]
  },
  {
   "cell_type": "code",
   "execution_count": 57,
   "id": "02658be8",
   "metadata": {},
   "outputs": [
    {
     "name": "stdout",
     "output_type": "stream",
     "text": [
      "With 95% confidence level profit will fall in this range:\n",
      "lower: -496905.97\n",
      "upper: 9440370.57\n",
      "mean_profit: 4484896.35\n",
      "negative_profit_chance: 4.2 %\n"
     ]
    }
   ],
   "source": [
    "state = np.random.RandomState(77)\n",
    "\n",
    "\n",
    "profit_values = []\n",
    "for i in range(1000):\n",
    "    profit = 0\n",
    "    subsample = r0_vals.sample(n=500, replace=True, random_state=state) #Boostraping for region zero\n",
    "    top_200_pred = subsample.sort_values('predicted', ascending=False).head(200)\n",
    "    profit = top_200_pred['actual'].sum()*4500 - 100000000 # We need to subtract the 100M needed to develop 200 wells\n",
    "    profit_values.append(profit)\n",
    "\n",
    "profit_values = pd.Series(profit_values)\n",
    "\n",
    "lower = profit_values.quantile(0.025).round(2) # We need 95% confidence\n",
    "upper = profit_values.quantile(0.975).round(2)\n",
    "print('With 95% confidence level profit will fall in this range:')\n",
    "print('lower:', lower)\n",
    "print('upper:', upper)\n",
    "\n",
    "mean_profit = profit_values.mean()\n",
    "negative_profit_chance = (profit_values < 0).mean()\n",
    "\n",
    "print('mean_profit:', round(mean_profit,2))\n",
    "\n",
    "print('negative_profit_chance:', negative_profit_chance*100, '%')"
   ]
  },
  {
   "cell_type": "markdown",
   "id": "760fb149",
   "metadata": {},
   "source": [
    "### Region 1 analysis of profitability"
   ]
  },
  {
   "cell_type": "code",
   "execution_count": 58,
   "id": "b29cb5bd",
   "metadata": {},
   "outputs": [
    {
     "name": "stdout",
     "output_type": "stream",
     "text": [
      "With 95% confidence level profit will fall in this range:\n",
      "lower: 1187652.67\n",
      "upper: 8679638.12\n",
      "mean_profit: 4881318.23\n",
      "negative_profit_chance: 0.6 %\n"
     ]
    }
   ],
   "source": [
    "state = np.random.RandomState(77)\n",
    "\n",
    "\n",
    "profit_values = []\n",
    "for i in range(1000):\n",
    "    profit = 0\n",
    "    subsample = r1_vals.sample(n=500, replace=True, random_state=state) #Boostraping for region one\n",
    "    top_200_pred = subsample.sort_values('predicted', ascending=False).head(200)\n",
    "    profit = top_200_pred['actual'].sum()*4500 - 100000000 # We need to subtract the 100M needed to develop 200 wells\n",
    "    profit_values.append(profit)\n",
    "\n",
    "profit_values = pd.Series(profit_values)\n",
    "\n",
    "lower = profit_values.quantile(0.025).round(2) # We need 95% confidence\n",
    "upper = profit_values.quantile(0.975).round(2)\n",
    "print('With 95% confidence level profit will fall in this range:')\n",
    "print('lower:', lower)\n",
    "print('upper:', upper)\n",
    "\n",
    "mean_profit = profit_values.mean()\n",
    "negative_profit_chance = (profit_values < 0).mean()\n",
    "\n",
    "print('mean_profit:', round(mean_profit,2))\n",
    "\n",
    "print('negative_profit_chance:', negative_profit_chance*100, '%')"
   ]
  },
  {
   "cell_type": "code",
   "execution_count": 59,
   "id": "604881cd",
   "metadata": {},
   "outputs": [
    {
     "name": "stdout",
     "output_type": "stream",
     "text": [
      "With 97.5% confidence level profit will fall in this range:\n",
      "lower: 637635.09\n",
      "upper: 9072251.24\n",
      "mean_profit: 4881318.23\n",
      "negative_profit_chance: 0.6 %\n"
     ]
    }
   ],
   "source": [
    "state = np.random.RandomState(77)\n",
    "\n",
    "\n",
    "profit_values = []\n",
    "for i in range(1000):\n",
    "    profit = 0\n",
    "    subsample = r1_vals.sample(n=500, replace=True, random_state=state) #Boostraping for region one\n",
    "    top_200_pred = subsample.sort_values('predicted', ascending=False).head(200)\n",
    "    profit = top_200_pred['actual'].sum()*4500 - 100000000 # We need to subtract the 100M needed to develop 200 wells\n",
    "    profit_values.append(profit)\n",
    "\n",
    "profit_values = pd.Series(profit_values)\n",
    "\n",
    "lower = profit_values.quantile(0.0125).round(2) # Increasd to 97.5% confidence\n",
    "upper = profit_values.quantile(0.9875).round(2)\n",
    "print('With 97.5% confidence level profit will fall in this range:')\n",
    "print('lower:', lower)\n",
    "print('upper:', upper)\n",
    "\n",
    "mean_profit = profit_values.mean()\n",
    "negative_profit_chance = (profit_values < 0).mean()\n",
    "\n",
    "print('mean_profit:', round(mean_profit,2))\n",
    "\n",
    "print('negative_profit_chance:', negative_profit_chance*100, '%')"
   ]
  },
  {
   "cell_type": "code",
   "execution_count": 60,
   "id": "063a8779",
   "metadata": {},
   "outputs": [
    {
     "name": "stdout",
     "output_type": "stream",
     "text": [
      "With 97.5% confidence level profit will fall in this range:\n",
      "lower: 16075011.68\n",
      "upper: 22360398.12\n",
      "mean_profit: 19028654.73\n",
      "negative_profit_chance: 0.0 %\n"
     ]
    }
   ],
   "source": [
    "state = np.random.RandomState(77)\n",
    "\n",
    "\n",
    "profit_values = []\n",
    "for i in range(1000):\n",
    "    profit = 0\n",
    "    subsample = r1_vals.sample(n=1000, replace=True, random_state=state) #Boostraping for region one with sample of 1000\n",
    "    top_200_pred = subsample.sort_values('predicted', ascending=False).head(200)\n",
    "    profit = top_200_pred['actual'].sum()*4500 - 100000000 # We need to subtract the 100M needed to develop 200 wells\n",
    "    profit_values.append(profit)\n",
    "\n",
    "profit_values = pd.Series(profit_values)\n",
    "\n",
    "lower = profit_values.quantile(0.0125).round(2) # Increasd to 97.5% confidence\n",
    "upper = profit_values.quantile(0.9875).round(2)\n",
    "print('With 97.5% confidence level profit will fall in this range:')\n",
    "print('lower:', lower)\n",
    "print('upper:', upper)\n",
    "\n",
    "mean_profit = profit_values.mean()\n",
    "negative_profit_chance = (profit_values < 0).mean()\n",
    "\n",
    "print('mean_profit:', round(mean_profit,2))\n",
    "\n",
    "print('negative_profit_chance:', negative_profit_chance*100, '%')"
   ]
  },
  {
   "cell_type": "markdown",
   "id": "e54bb6b4",
   "metadata": {},
   "source": [
    "### Region 2 analysis of profitability"
   ]
  },
  {
   "cell_type": "code",
   "execution_count": 61,
   "id": "c6dae718",
   "metadata": {},
   "outputs": [
    {
     "name": "stdout",
     "output_type": "stream",
     "text": [
      "With 95% confidence level profit will fall in this range:\n",
      "lower: -1512476.4\n",
      "upper: 8980593.79\n",
      "mean_profit: 3632383.3\n",
      "negative_profit_chance: 8.799999999999999 %\n"
     ]
    }
   ],
   "source": [
    "state = np.random.RandomState(77)\n",
    "\n",
    "\n",
    "profit_values = []\n",
    "for i in range(1000):\n",
    "    profit = 0\n",
    "    subsample = r2_vals.sample(n=500, replace=True, random_state=state) #Boostraping for region two\n",
    "    top_200_pred = subsample.sort_values('predicted', ascending=False).head(200)\n",
    "    profit = top_200_pred['actual'].sum()*4500 - 100000000 # We need to subtract the 100M needed to develop 200 wells\n",
    "    profit_values.append(profit)\n",
    "\n",
    "profit_values = pd.Series(profit_values)\n",
    "\n",
    "lower = profit_values.quantile(0.025).round(2) # We need 95% confidence\n",
    "upper = profit_values.quantile(0.975).round(2)\n",
    "print('With 95% confidence level profit will fall in this range:')\n",
    "print('lower:', lower)\n",
    "print('upper:', upper)\n",
    "\n",
    "mean_profit = profit_values.mean()\n",
    "negative_profit_chance = (profit_values < 0).mean()\n",
    "\n",
    "print('mean_profit:', round(mean_profit,2))\n",
    "\n",
    "print('negative_profit_chance:', round(negative_profit_chance, 3)*100, '%')"
   ]
  },
  {
   "cell_type": "markdown",
   "id": "46167660",
   "metadata": {},
   "source": [
    "### Conclusions: <a id='end'></a>"
   ]
  },
  {
   "cell_type": "markdown",
   "id": "00ce7352",
   "metadata": {},
   "source": [
    "<div class=\"alert alert-info\">\n",
    "  \n",
    "  \n",
    "1. After using boostraping to get random samples from all 3 regions and looking at the profitability of each of these 1000 random samples we can see that region 1 or geo_1 is the best region to develop 200 random new wells. This is because when we look at the bottom quantile of 2.5% or .025 quantile both region 0 and region 2 (geo_0 and geo_2) both show a loss on the lower range so with 95% confidence our profit would fall between a loss and a profit of x. Region 1 is the only region that guarantees that when building out 200 top wells out of a random sample of 500 wells we can say with 95% confidence that the worst that could happen is that you make a 1,187,653 USD profit. \n",
    "\n",
    "\n",
    "2. The probability of having a loss for region 1 is the lowest at .6% which makes sense considering that for the lower boundary it is the only region that does not show a loss. Since the probability of a loss is so small I increased the confidence level to 97.5% as an experiment (see above) and even with that higher degree of confidence level we still have all profits and no loses from the upper to the lower range. The mean profit is also the highest for region 1.  With those odds I also would also feel confident to recommend this region for development to the management team. \n",
    "\n",
    "3. As an added experiment, I ran the boostraping loop (still 1000 iterations see code above) but I changed the sample from 500 wells to 1000 wells then I picked the top 200 wells by volume. When you do this the profits get substantially better. Region 1 is still the best but we can say with 97.5 confidence level that our profits will be between 16 and 22 Million usd with zero probability of a loss. I know this might be a bigger expense for OilyGiant upfront but I think it would be well worth the investment to sample or survey 1000 random wells (to verify our predictions) and then pick the top 200 rather than only sample or survey 500 wells than pick the top 200 based on our predictions. I did the same for the other regions (didn't include the code for region zero and 2 since it was not part of the project) but Region 1 still is much more profitable than the other 2 regions. \n",
    "    \n",
    "</div>"
   ]
  },
  {
   "cell_type": "code",
   "execution_count": null,
   "id": "b43cd17f",
   "metadata": {},
   "outputs": [],
   "source": []
  }
 ],
 "metadata": {
  "kernelspec": {
   "display_name": "Python 3 (ipykernel)",
   "language": "python",
   "name": "python3"
  },
  "language_info": {
   "codemirror_mode": {
    "name": "ipython",
    "version": 3
   },
   "file_extension": ".py",
   "mimetype": "text/x-python",
   "name": "python",
   "nbconvert_exporter": "python",
   "pygments_lexer": "ipython3",
   "version": "3.9.12"
  },
  "toc": {
   "base_numbering": 1,
   "nav_menu": {},
   "number_sections": true,
   "sideBar": true,
   "skip_h1_title": true,
   "title_cell": "Table of Contents",
   "title_sidebar": "Contents",
   "toc_cell": false,
   "toc_position": {},
   "toc_section_display": true,
   "toc_window_display": false
  }
 },
 "nbformat": 4,
 "nbformat_minor": 5
}
